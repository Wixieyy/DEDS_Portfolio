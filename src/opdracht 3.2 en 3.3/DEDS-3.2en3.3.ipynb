{
 "cells": [
  {
   "cell_type": "markdown",
   "source": [
    "imports & connection"
   ],
   "metadata": {
    "collapsed": false
   },
   "id": "bc0c034118cd37a4"
  },
  {
   "cell_type": "code",
   "outputs": [],
   "source": [
    "from sqlalchemy import create_engine\n",
    "from sqlalchemy import text\n",
    "import pandas as pd\n",
    "import sqlite3\n",
    "\n",
    "DWengine = create_engine(\"mssql+pyodbc://LEGION\\\\SQLEXPRESS/Data Warehouse?driver=ODBC+Driver+17+for+SQL+Server&trusted_connection=yes\")"
   ],
   "metadata": {
    "collapsed": false,
    "ExecuteTime": {
     "end_time": "2025-03-06T10:00:29.469719Z",
     "start_time": "2025-03-06T10:00:29.465694Z"
    }
   },
   "id": "91dd565e5ccb16a9",
   "execution_count": 5
  },
  {
   "cell_type": "markdown",
   "source": [
    "Create dataframes from DB tables"
   ],
   "metadata": {
    "collapsed": false
   },
   "id": "791e21cc9be5b757"
  },
  {
   "cell_type": "code",
   "outputs": [],
   "source": [
    "course_df = pd.read_sql_query('SELECT * FROM course', DWengine)\n",
    "order_df = pd.read_sql_query('SELECT * FROM [order]', DWengine)\n",
    "order_details_df = pd.read_sql_query('SELECT * FROM order_details', DWengine)\n",
    "order_method_df = pd.read_sql_query('SELECT * FROM order_method', DWengine)\n",
    "retailer_site_df = pd.read_sql_query('SELECT * FROM retailer_site', DWengine)\n",
    "return_reason_df = pd.read_sql_query('SELECT * FROM return_reason', DWengine)\n",
    "returned_item_df = pd.read_sql_query('SELECT * FROM returned_item', DWengine)\n",
    "sales_staff_df = pd.read_sql_query('SELECT * FROM sales_Staff', DWengine)\n",
    "training_df = pd.read_sql_query('SELECT * FROM training', DWengine)"
   ],
   "metadata": {
    "collapsed": false,
    "ExecuteTime": {
     "end_time": "2025-03-06T10:00:57.559715Z",
     "start_time": "2025-03-06T10:00:57.506285Z"
    }
   },
   "id": "e8be54b9f107d1e",
   "execution_count": 8
  },
  {
   "cell_type": "markdown",
   "source": [
    "Source Data Model connection"
   ],
   "metadata": {
    "collapsed": false
   },
   "id": "39d45a4738593458"
  },
  {
   "cell_type": "code",
   "outputs": [],
   "source": [
    "SDMengine = create_engine(\"mssql+pyodbc://LEGION\\\\SQLEXPRESS/sdm?driver=ODBC+Driver+17+for+SQL+Server&trusted_connection=yes\")"
   ],
   "metadata": {
    "collapsed": false
   },
   "id": "3f489dbb55db86c3"
  },
  {
   "cell_type": "markdown",
   "source": [],
   "metadata": {
    "collapsed": false
   },
   "id": "dc66841db39fbb37"
  },
  {
   "cell_type": "code",
   "outputs": [
    {
     "data": {
      "text/plain": "Empty DataFrame\nColumns: [ORDER_NUMBER, RETAILER_NAME, RETAILER_SITE_CODE, RETAILER_CONTACT_CODE, SALES_STAFF_CODE, SALES_BRANCH_CODE, ORDER_DATE, ORDER_METHOD_CODE]\nIndex: []",
      "text/html": "<div>\n<style scoped>\n    .dataframe tbody tr th:only-of-type {\n        vertical-align: middle;\n    }\n\n    .dataframe tbody tr th {\n        vertical-align: top;\n    }\n\n    .dataframe thead th {\n        text-align: right;\n    }\n</style>\n<table border=\"1\" class=\"dataframe\">\n  <thead>\n    <tr style=\"text-align: right;\">\n      <th></th>\n      <th>ORDER_NUMBER</th>\n      <th>RETAILER_NAME</th>\n      <th>RETAILER_SITE_CODE</th>\n      <th>RETAILER_CONTACT_CODE</th>\n      <th>SALES_STAFF_CODE</th>\n      <th>SALES_BRANCH_CODE</th>\n      <th>ORDER_DATE</th>\n      <th>ORDER_METHOD_CODE</th>\n    </tr>\n  </thead>\n  <tbody>\n  </tbody>\n</table>\n</div>"
     },
     "execution_count": 10,
     "metadata": {},
     "output_type": "execute_result"
    }
   ],
   "source": [],
   "metadata": {
    "collapsed": false,
    "ExecuteTime": {
     "end_time": "2025-03-06T10:01:03.747930Z",
     "start_time": "2025-03-06T10:01:03.741501Z"
    }
   },
   "id": "52585b633a82930c",
   "execution_count": 10
  }
 ],
 "metadata": {
  "kernelspec": {
   "display_name": "Python 3",
   "language": "python",
   "name": "python3"
  },
  "language_info": {
   "codemirror_mode": {
    "name": "ipython",
    "version": 2
   },
   "file_extension": ".py",
   "mimetype": "text/x-python",
   "name": "python",
   "nbconvert_exporter": "python",
   "pygments_lexer": "ipython2",
   "version": "2.7.6"
  }
 },
 "nbformat": 4,
 "nbformat_minor": 5
}
