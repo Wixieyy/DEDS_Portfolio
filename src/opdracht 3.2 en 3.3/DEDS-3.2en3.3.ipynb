{
 "cells": [
  {
   "cell_type": "markdown",
   "source": [
    "imports & connection"
   ],
   "metadata": {
    "collapsed": false
   },
   "id": "bc0c034118cd37a4"
  },
  {
   "cell_type": "code",
   "outputs": [],
   "source": [
    "from sqlalchemy import create_engine\n",
    "from sqlalchemy import text\n",
    "import pandas as pd\n",
    "import sqlite3\n",
    "\n",
    "DWengine = create_engine(\"mssql+pyodbc://LEGION\\\\SQLEXPRESS/Data Warehouse?driver=ODBC+Driver+17+for+SQL+Server&trusted_connection=yes\")"
   ],
   "metadata": {
    "collapsed": false
   },
   "id": "91dd565e5ccb16a9",
   "execution_count": null
  },
  {
   "cell_type": "markdown",
   "source": [
    "Create dataframes from DB tables"
   ],
   "metadata": {
    "collapsed": false
   },
   "id": "791e21cc9be5b757"
  },
  {
   "cell_type": "code",
   "outputs": [],
   "source": [
    "course_df = pd.read_sql_query('SELECT * FROM course', DWengine)\n",
    "order_df = pd.read_sql_query('SELECT * FROM [order]', DWengine)\n",
    "order_details_df = pd.read_sql_query('SELECT * FROM order_details', DWengine)\n",
    "order_method_df = pd.read_sql_query('SELECT * FROM order_method', DWengine)\n",
    "retailer_site_df = pd.read_sql_query('SELECT * FROM retailer_site', DWengine)\n",
    "return_reason_df = pd.read_sql_query('SELECT * FROM return_reason', DWengine)\n",
    "returned_item_df = pd.read_sql_query('SELECT * FROM returned_item', DWengine)\n",
    "sales_staff_df = pd.read_sql_query('SELECT * FROM sales_Staff', DWengine)\n",
    "training_df = pd.read_sql_query('SELECT * FROM training', DWengine)"
   ],
   "metadata": {
    "collapsed": false,
    "ExecuteTime": {
     "end_time": "2025-03-06T10:35:34.203684Z",
     "start_time": "2025-03-06T10:35:34.174688Z"
    }
   },
   "id": "e8be54b9f107d1e",
   "execution_count": 23
  },
  {
   "cell_type": "markdown",
   "source": [
    "Source Data Model connection"
   ],
   "metadata": {
    "collapsed": false
   },
   "id": "39d45a4738593458"
  },
  {
   "cell_type": "code",
   "outputs": [],
   "source": [
    "SDMengine = create_engine(\"mssql+pyodbc://LEGION\\\\SQLEXPRESS/sdm?driver=ODBC+Driver+17+for+SQL+Server&trusted_connection=yes\")"
   ],
   "metadata": {
    "collapsed": false
   },
   "id": "3f489dbb55db86c3",
   "execution_count": null
  },
  {
   "cell_type": "markdown",
   "source": [
    "course table data insert"
   ],
   "metadata": {
    "collapsed": false
   },
   "id": "dc66841db39fbb37"
  },
  {
   "cell_type": "code",
   "outputs": [],
   "source": [
    "course_sdm_df = pd.read_sql_query('SELECT * FROM course', SDMengine)\n",
    "\n",
    "course_sdm_df.to_sql('course', con=DWengine, if_exists='append', index=False) "
   ],
   "metadata": {
    "collapsed": false
   },
   "id": "52585b633a82930c",
   "execution_count": null
  },
  {
   "cell_type": "markdown",
   "source": [
    "return_reason table data insert"
   ],
   "metadata": {
    "collapsed": false
   },
   "id": "2759ffcad6b03158"
  },
  {
   "cell_type": "code",
   "outputs": [],
   "source": [
    "return_reason_sdm_df = pd.read_sql_query('SELECT * FROM return_reason', SDMengine)\n",
    "\n",
    "return_reason_sdm_df.to_sql('return_reason', con=DWengine, if_exists='append', index=False)"
   ],
   "metadata": {
    "collapsed": false
   },
   "id": "59e7331b76948c65",
   "execution_count": null
  },
  {
   "cell_type": "markdown",
   "source": [
    "order_method table data insert"
   ],
   "metadata": {
    "collapsed": false
   },
   "id": "a6b7a45c9ec0a1ec"
  },
  {
   "cell_type": "code",
   "outputs": [],
   "source": [
    "order_method_sdm_df = pd.read_sql_query('SELECT * FROM order_method', SDMengine)\n",
    "\n",
    "order_method_sdm_df.to_sql('order_method', con=DWengine, if_exists='append', index=False)"
   ],
   "metadata": {
    "collapsed": false
   },
   "id": "65f6a434d1ebbb77",
   "execution_count": null
  },
  {
   "cell_type": "markdown",
   "source": [
    "retailer_site table data insert"
   ],
   "metadata": {
    "collapsed": false
   },
   "id": "81258176b38b1646"
  },
  {
   "cell_type": "code",
   "outputs": [
    {
     "data": {
      "text/plain": "     RETAILER_SITE_CODE  RETAILER_CODE            ADDRESS1 ADDRESS2  \\\n0                     1             89  1117 Franklin Blvd     None   \n1                     2             89     45, rue Atwater     None   \n2                     3             89    328 Hodgson Road     None   \n3                     4             90      2425, rue Peel     None   \n4                     5             90       34 8th Avenue     None   \n..                  ...            ...                 ...      ...   \n386                 439            209     Hüttenstraße 87     None   \n387                 440            209      Hauptstraße 85     None   \n388                 441            209          Amselweg 8     None   \n389                 442            209       Hasengasse 38     None   \n390                 443            210     Hammerstraße 26     None   \n\n               CITY         REGION  COUNTRY_CODE  ACTIVE_INDICATOR COUNTRY_EN  \\\n0          Winnipeg       Manitoba             4                 1     Canada   \n1          Montréal         Québec             4                 1     Canada   \n2       Fredericton  New Brunswick             4                 1     Canada   \n3          Montréal         Québec             4                 1     Canada   \n4           Sudbury        Ontario             4                 1     Canada   \n..              ...            ...           ...               ...        ...   \n386  Klosterneuburg           None             5                 1    Austria   \n387            Linz           None             5                 1    Austria   \n388       Innsbruck           None             5                 1    Austria   \n389          Ischgl           None             5                 1    Austria   \n390       Innsbruck           None             5                 1    Austria   \n\n    LANGUAGE CURRENCY_NAME FLAG_IMAGE  SALES_TERRITORY_CODE  \n0         EN       dollars        F04                     1  \n1         EN       dollars        F04                     1  \n2         EN       dollars        F04                     1  \n3         EN       dollars        F04                     1  \n4         EN       dollars        F04                     1  \n..       ...           ...        ...                   ...  \n386       EN    schillings        F05                     7  \n387       EN    schillings        F05                     7  \n388       EN    schillings        F05                     7  \n389       EN    schillings        F05                     7  \n390       EN    schillings        F05                     7  \n\n[391 rows x 13 columns]",
      "text/html": "<div>\n<style scoped>\n    .dataframe tbody tr th:only-of-type {\n        vertical-align: middle;\n    }\n\n    .dataframe tbody tr th {\n        vertical-align: top;\n    }\n\n    .dataframe thead th {\n        text-align: right;\n    }\n</style>\n<table border=\"1\" class=\"dataframe\">\n  <thead>\n    <tr style=\"text-align: right;\">\n      <th></th>\n      <th>RETAILER_SITE_CODE</th>\n      <th>RETAILER_CODE</th>\n      <th>ADDRESS1</th>\n      <th>ADDRESS2</th>\n      <th>CITY</th>\n      <th>REGION</th>\n      <th>COUNTRY_CODE</th>\n      <th>ACTIVE_INDICATOR</th>\n      <th>COUNTRY_EN</th>\n      <th>LANGUAGE</th>\n      <th>CURRENCY_NAME</th>\n      <th>FLAG_IMAGE</th>\n      <th>SALES_TERRITORY_CODE</th>\n    </tr>\n  </thead>\n  <tbody>\n    <tr>\n      <th>0</th>\n      <td>1</td>\n      <td>89</td>\n      <td>1117 Franklin Blvd</td>\n      <td>None</td>\n      <td>Winnipeg</td>\n      <td>Manitoba</td>\n      <td>4</td>\n      <td>1</td>\n      <td>Canada</td>\n      <td>EN</td>\n      <td>dollars</td>\n      <td>F04</td>\n      <td>1</td>\n    </tr>\n    <tr>\n      <th>1</th>\n      <td>2</td>\n      <td>89</td>\n      <td>45, rue Atwater</td>\n      <td>None</td>\n      <td>Montréal</td>\n      <td>Québec</td>\n      <td>4</td>\n      <td>1</td>\n      <td>Canada</td>\n      <td>EN</td>\n      <td>dollars</td>\n      <td>F04</td>\n      <td>1</td>\n    </tr>\n    <tr>\n      <th>2</th>\n      <td>3</td>\n      <td>89</td>\n      <td>328 Hodgson Road</td>\n      <td>None</td>\n      <td>Fredericton</td>\n      <td>New Brunswick</td>\n      <td>4</td>\n      <td>1</td>\n      <td>Canada</td>\n      <td>EN</td>\n      <td>dollars</td>\n      <td>F04</td>\n      <td>1</td>\n    </tr>\n    <tr>\n      <th>3</th>\n      <td>4</td>\n      <td>90</td>\n      <td>2425, rue Peel</td>\n      <td>None</td>\n      <td>Montréal</td>\n      <td>Québec</td>\n      <td>4</td>\n      <td>1</td>\n      <td>Canada</td>\n      <td>EN</td>\n      <td>dollars</td>\n      <td>F04</td>\n      <td>1</td>\n    </tr>\n    <tr>\n      <th>4</th>\n      <td>5</td>\n      <td>90</td>\n      <td>34 8th Avenue</td>\n      <td>None</td>\n      <td>Sudbury</td>\n      <td>Ontario</td>\n      <td>4</td>\n      <td>1</td>\n      <td>Canada</td>\n      <td>EN</td>\n      <td>dollars</td>\n      <td>F04</td>\n      <td>1</td>\n    </tr>\n    <tr>\n      <th>...</th>\n      <td>...</td>\n      <td>...</td>\n      <td>...</td>\n      <td>...</td>\n      <td>...</td>\n      <td>...</td>\n      <td>...</td>\n      <td>...</td>\n      <td>...</td>\n      <td>...</td>\n      <td>...</td>\n      <td>...</td>\n      <td>...</td>\n    </tr>\n    <tr>\n      <th>386</th>\n      <td>439</td>\n      <td>209</td>\n      <td>Hüttenstraße 87</td>\n      <td>None</td>\n      <td>Klosterneuburg</td>\n      <td>None</td>\n      <td>5</td>\n      <td>1</td>\n      <td>Austria</td>\n      <td>EN</td>\n      <td>schillings</td>\n      <td>F05</td>\n      <td>7</td>\n    </tr>\n    <tr>\n      <th>387</th>\n      <td>440</td>\n      <td>209</td>\n      <td>Hauptstraße 85</td>\n      <td>None</td>\n      <td>Linz</td>\n      <td>None</td>\n      <td>5</td>\n      <td>1</td>\n      <td>Austria</td>\n      <td>EN</td>\n      <td>schillings</td>\n      <td>F05</td>\n      <td>7</td>\n    </tr>\n    <tr>\n      <th>388</th>\n      <td>441</td>\n      <td>209</td>\n      <td>Amselweg 8</td>\n      <td>None</td>\n      <td>Innsbruck</td>\n      <td>None</td>\n      <td>5</td>\n      <td>1</td>\n      <td>Austria</td>\n      <td>EN</td>\n      <td>schillings</td>\n      <td>F05</td>\n      <td>7</td>\n    </tr>\n    <tr>\n      <th>389</th>\n      <td>442</td>\n      <td>209</td>\n      <td>Hasengasse 38</td>\n      <td>None</td>\n      <td>Ischgl</td>\n      <td>None</td>\n      <td>5</td>\n      <td>1</td>\n      <td>Austria</td>\n      <td>EN</td>\n      <td>schillings</td>\n      <td>F05</td>\n      <td>7</td>\n    </tr>\n    <tr>\n      <th>390</th>\n      <td>443</td>\n      <td>210</td>\n      <td>Hammerstraße 26</td>\n      <td>None</td>\n      <td>Innsbruck</td>\n      <td>None</td>\n      <td>5</td>\n      <td>1</td>\n      <td>Austria</td>\n      <td>EN</td>\n      <td>schillings</td>\n      <td>F05</td>\n      <td>7</td>\n    </tr>\n  </tbody>\n</table>\n<p>391 rows × 13 columns</p>\n</div>"
     },
     "execution_count": 27,
     "metadata": {},
     "output_type": "execute_result"
    }
   ],
   "source": [
    "retailer_site_sdm_df = pd.read_sql_query('SELECT * from retailer_site', SDMengine)\n",
    "country_sdm_df = pd.read_sql_query('SELECT * FROM country', SDMengine)\n",
    "\n",
    "merged_retailer_site_df = retailer_site_sdm_df.merge(country_sdm_df, on=['COUNTRY_CODE','COUNTRY_CODE'])\n"
   ],
   "metadata": {
    "collapsed": false,
    "ExecuteTime": {
     "end_time": "2025-03-06T10:38:16.770908Z",
     "start_time": "2025-03-06T10:38:16.745690Z"
    }
   },
   "id": "99b135aad48528b2",
   "execution_count": 27
  }
 ],
 "metadata": {
  "kernelspec": {
   "display_name": "Python 3",
   "language": "python",
   "name": "python3"
  },
  "language_info": {
   "codemirror_mode": {
    "name": "ipython",
    "version": 2
   },
   "file_extension": ".py",
   "mimetype": "text/x-python",
   "name": "python",
   "nbconvert_exporter": "python",
   "pygments_lexer": "ipython2",
   "version": "2.7.6"
  }
 },
 "nbformat": 4,
 "nbformat_minor": 5
}
