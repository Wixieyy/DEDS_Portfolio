{
 "cells": [
  {
   "cell_type": "markdown",
   "source": [
    "imports & connection"
   ],
   "metadata": {
    "collapsed": false
   },
   "id": "bc0c034118cd37a4"
  },
  {
   "cell_type": "code",
   "outputs": [],
   "source": [
    "from sqlalchemy import create_engine\n",
    "from sqlalchemy import text\n",
    "import pandas as pd\n",
    "import sqlite3\n",
    "\n",
    "DWengine = create_engine(\"mssql+pyodbc://LEGION\\\\SQLEXPRESS/Data Warehouse?driver=ODBC+Driver+17+for+SQL+Server&trusted_connection=yes\")"
   ],
   "metadata": {
    "collapsed": false
   },
   "id": "91dd565e5ccb16a9",
   "execution_count": null
  },
  {
   "cell_type": "markdown",
   "source": [
    "Create dataframes from DB tables"
   ],
   "metadata": {
    "collapsed": false
   },
   "id": "791e21cc9be5b757"
  },
  {
   "cell_type": "code",
   "outputs": [],
   "source": [
    "course_df = pd.read_sql_query('SELECT * FROM course', DWengine)\n",
    "order_df = pd.read_sql_query('SELECT * FROM [order]', DWengine)\n",
    "order_details_df = pd.read_sql_query('SELECT * FROM order_details', DWengine)\n",
    "order_method_df = pd.read_sql_query('SELECT * FROM order_method', DWengine)\n",
    "retailer_site_df = pd.read_sql_query('SELECT * FROM retailer_site', DWengine)\n",
    "return_reason_df = pd.read_sql_query('SELECT * FROM return_reason', DWengine)\n",
    "returned_item_df = pd.read_sql_query('SELECT * FROM returned_item', DWengine)\n",
    "sales_staff_df = pd.read_sql_query('SELECT * FROM sales_Staff', DWengine)\n",
    "training_df = pd.read_sql_query('SELECT * FROM training', DWengine)"
   ],
   "metadata": {
    "collapsed": false
   },
   "id": "e8be54b9f107d1e",
   "execution_count": null
  },
  {
   "cell_type": "markdown",
   "source": [
    "Source Data Model connection"
   ],
   "metadata": {
    "collapsed": false
   },
   "id": "39d45a4738593458"
  },
  {
   "cell_type": "code",
   "outputs": [],
   "source": [
    "SDMengine = create_engine(\"mssql+pyodbc://LEGION\\\\SQLEXPRESS/sdm?driver=ODBC+Driver+17+for+SQL+Server&trusted_connection=yes\")"
   ],
   "metadata": {
    "collapsed": false
   },
   "id": "3f489dbb55db86c3",
   "execution_count": null
  },
  {
   "cell_type": "markdown",
   "source": [
    "course table data insert"
   ],
   "metadata": {
    "collapsed": false
   },
   "id": "dc66841db39fbb37"
  },
  {
   "cell_type": "code",
   "outputs": [],
   "source": [
    "course_sdm_df = pd.read_sql_query('SELECT * FROM course', SDMengine)\n",
    "\n",
    "course_sdm_df.to_sql('course', con=DWengine, if_exists='append', index=False) "
   ],
   "metadata": {
    "collapsed": false
   },
   "id": "52585b633a82930c",
   "execution_count": null
  },
  {
   "cell_type": "markdown",
   "source": [
    "return_reason table data insert"
   ],
   "metadata": {
    "collapsed": false
   },
   "id": "2759ffcad6b03158"
  },
  {
   "cell_type": "code",
   "outputs": [],
   "source": [
    "return_reason_sdm_df = pd.read_sql_query('SELECT * FROM return_reason', SDMengine)\n",
    "\n",
    "return_reason_sdm_df.to_sql('return_reason', con=DWengine, if_exists='append', index=False)"
   ],
   "metadata": {
    "collapsed": false
   },
   "id": "59e7331b76948c65",
   "execution_count": null
  },
  {
   "cell_type": "markdown",
   "source": [
    "order_method table data insert"
   ],
   "metadata": {
    "collapsed": false
   },
   "id": "a6b7a45c9ec0a1ec"
  },
  {
   "cell_type": "code",
   "outputs": [],
   "source": [
    "order_method_sdm_df = pd.read_sql_query('SELECT * FROM order_method', SDMengine)\n",
    "\n",
    "order_method_sdm_df.to_sql('order_method', con=DWengine, if_exists='append', index=False)"
   ],
   "metadata": {
    "collapsed": false
   },
   "id": "65f6a434d1ebbb77",
   "execution_count": null
  },
  {
   "cell_type": "markdown",
   "source": [
    "retailer_site table data insert"
   ],
   "metadata": {
    "collapsed": false
   },
   "id": "81258176b38b1646"
  },
  {
   "cell_type": "code",
   "outputs": [],
   "source": [
    "retailer_site_sdm_df = pd.read_sql_query('SELECT * from retailer_site', SDMengine)\n",
    "country_sdm_df = pd.read_sql_query('SELECT * FROM country', SDMengine)\n",
    "\n",
    "merged_retailer_site_df = retailer_site_sdm_df.merge(country_sdm_df, on=['COUNTRY_CODE','COUNTRY_CODE'])\n",
    "\n",
    "retailerSiteCounter = 0\n",
    "while retailerSiteCounter < len(merged_retailer_site_df):\n",
    "    retailer_site_temp_df = pd.DataFrame({'RETAILER_SITE_CODE': [merged_retailer_site_df.iloc[retailerSiteCounter]['RETAILER_SITE_CODE']], 'RETAILER_CODE': [merged_retailer_site_df.iloc[retailerSiteCounter]['RETAILER_CODE']], 'ADDRESS1': [merged_retailer_site_df.iloc[retailerSiteCounter]['ADDRESS1']], 'ADDRESS2': [merged_retailer_site_df.iloc[retailerSiteCounter]['ADDRESS2']], 'CITY': [merged_retailer_site_df.iloc[retailerSiteCounter]['CITY']], 'REGION': [merged_retailer_site_df.iloc[retailerSiteCounter]['REGION']], 'COUNTRY_CODE': [merged_retailer_site_df.iloc[retailerSiteCounter]['COUNTRY_CODE']], 'COUNTRY': [merged_retailer_site_df.iloc[retailerSiteCounter]['COUNTRY_EN']]}) \n",
    "    \n",
    "    retailer_site_temp_df.to_sql('retailer_site', con=DWengine, if_exists='append', index=False)\n",
    "    retailerSiteCounter += 1"
   ],
   "metadata": {
    "collapsed": false
   },
   "id": "99b135aad48528b2",
   "execution_count": null
  },
  {
   "cell_type": "markdown",
   "source": [
    "sales_staff table data insert"
   ],
   "metadata": {
    "collapsed": false
   },
   "id": "2749aea7d3a0ddfb"
  },
  {
   "cell_type": "code",
   "outputs": [],
   "source": [
    "sales_staff_sdm_df = pd.read_sql_query('SELECT * FROM sales_staff', SDMengine)\n",
    "sales_branch_sdm_df = pd.read_sql_query('SELECT * FROM sales_branch', SDMengine)\n",
    "sales_territory_sdm_Df = pd.read_sql_query('SELECT * FROM sales_territory', SDMengine)\n",
    "\n",
    "merged_sales_staff_df = country_sdm_df.merge(sales_territory_sdm_Df, on=['SALES_TERRITORY_CODE', 'SALES_TERRITORY_CODE'])\n",
    "merged_sales_staff_df = merged_sales_staff_df.merge(sales_branch_sdm_df, on=['COUNTRY_CODE','COUNTRY_CODE'])\n",
    "merged_sales_staff_df = merged_sales_staff_df.merge(sales_staff_sdm_df, on=['SALES_BRANCH_CODE', 'SALES_BRANCH_CODE'])\n",
    "\n",
    "salesStaffCounter = 0\n",
    "while salesStaffCounter < len(merged_sales_staff_df):\n",
    "    sales_staff_temp_df = pd.DataFrame({\n",
    "        'SALES_STAFF_CODE': [merged_sales_staff_df.iloc[salesStaffCounter]['SALES_STAFF_CODE']], \n",
    "        'FIRST_NAME': [merged_sales_staff_df.iloc[salesStaffCounter]['FIRST_NAME']], \n",
    "        'LAST_NAME': [merged_sales_staff_df.iloc[salesStaffCounter]['LAST_NAME']],\n",
    "        'POSITION_EN': [merged_sales_staff_df.iloc[salesStaffCounter]['POSITION_EN']],\n",
    "        'WORK_PHONE': [merged_sales_staff_df.iloc[salesStaffCounter]['WORK_PHONE']],\n",
    "        'EXTENSION': [merged_sales_staff_df.iloc[salesStaffCounter]['EXTENSION']],\n",
    "        'EMAIL': [merged_sales_staff_df.iloc[salesStaffCounter]['EMAIL']],\n",
    "        'DATE_HIRED': [merged_sales_staff_df.iloc[salesStaffCounter]['DATE_HIRED']],\n",
    "        'SALES_BRANCH_CODE': [merged_sales_staff_df.iloc[salesStaffCounter]['SALES_BRANCH_CODE']],\n",
    "        'ADDRESS1': [merged_sales_staff_df.iloc[salesStaffCounter]['ADDRESS1']],\n",
    "        'ADDRESS2': [merged_sales_staff_df.iloc[salesStaffCounter]['ADDRESS2']],\n",
    "        'CITY': [merged_sales_staff_df.iloc[salesStaffCounter]['CITY']],\n",
    "        'REGION': [merged_sales_staff_df.iloc[salesStaffCounter]['REGION']],\n",
    "        'COUNTRY_CODE': [merged_sales_staff_df.iloc[salesStaffCounter]['COUNTRY_CODE']],\n",
    "        'COUNTRY': [merged_sales_staff_df.iloc[salesStaffCounter]['COUNTRY_EN']],\n",
    "        'LANGUAGE': [merged_sales_staff_df.iloc[salesStaffCounter]['LANGUAGE']],\n",
    "        'TERRITORY_CODE': [merged_sales_staff_df.iloc[salesStaffCounter]['SALES_TERRITORY_CODE']],\n",
    "        'TERRITORY_NAME': [merged_sales_staff_df.iloc[salesStaffCounter]['TERRITORY_NAME_EN']]})\n",
    "    \n",
    "    sales_staff_temp_df.to_sql('sales_staff', con=DWengine, if_exists='append', index=False)\n",
    "    salesStaffCounter += 1"
   ],
   "metadata": {
    "collapsed": false
   },
   "id": "def40c465bb78fee",
   "execution_count": null
  },
  {
   "cell_type": "markdown",
   "source": [
    "order table data insert"
   ],
   "metadata": {
    "collapsed": false
   },
   "id": "1caf52ee270f4f89"
  },
  {
   "cell_type": "code",
   "outputs": [],
   "source": [
    "order_sdm_df = pd.read_sql_query('SELECT * FROM order_header', SDMengine)\n",
    "\n",
    "orderCounter = 0\n",
    "while orderCounter < len(order_sdm_df):\n",
    "    order_temp_df = pd.DataFrame({\n",
    "        'ORDER_NUMBER': [order_sdm_df.iloc[orderCounter]['ORDER_NUMBER']], \n",
    "        'RETAILER_NAME': [order_sdm_df.iloc[orderCounter]['RETAILER_NAME']],\n",
    "        'RETAILER_SITE_CODE': [order_sdm_df.iloc[orderCounter]['RETAILER_SITE_CODE']],\n",
    "        'RETAILER_CONTACT_CODE': [order_sdm_df.iloc[orderCounter]['RETAILER_CONTACT_CODE']],\n",
    "        'SALES_STAFF_CODE': [order_sdm_df.iloc[orderCounter]['SALES_STAFF_CODE']],\n",
    "        'SALES_BRANCH_CODE': [order_sdm_df.iloc[orderCounter]['SALES_BRANCH_CODE']],\n",
    "        'ORDER_DATE': [order_sdm_df.iloc[orderCounter]['ORDER_DATE']],\n",
    "        'ORDER_METHOD_CODE': [order_sdm_df.iloc[orderCounter]['ORDER_METHOD_CODE']]})\n",
    "    \n",
    "    order_temp_df.to_sql('order', con=DWengine, if_exists='append', index=False)\n",
    "    orderCounter += 1"
   ],
   "metadata": {
    "collapsed": false
   },
   "id": "d20ff3ae35ad2035",
   "execution_count": null
  },
  {
   "cell_type": "markdown",
   "source": [
    "order_details table data insert"
   ],
   "metadata": {
    "collapsed": false
   },
   "id": "445a73e34b05f078"
  },
  {
   "cell_type": "code",
   "outputs": [],
   "source": [
    "order_details_sdm_df = pd.read_sql_query('SELECT * FROM order_details', SDMengine)\n",
    "product_sdm_df = pd.read_sql_query('SELECT * FROM product', SDMengine)\n",
    "product_type_sdm_df = pd.read_sql_query('SELECT * FROM product_type', SDMengine)\n",
    "product_line_sdm_df = pd.read_sql_query('SELECT * FROM product_line', SDMengine)\n",
    "\n",
    "merged_order_details_df = product_type_sdm_df.merge(product_line_sdm_df, on=['PRODUCT_LINE_CODE', 'PRODUCT_LINE_CODE'])\n",
    "merged_order_details_df = merged_order_details_df.merge(product_sdm_df, on=['PRODUCT_TYPE_CODE', 'PRODUCT_TYPE_CODE'])\n",
    "merged_order_details_df = merged_order_details_df.merge(order_details_sdm_df, on=['PRODUCT_NUMBER', 'PRODUCT_NUMBER'])\n",
    "merged_order_details_df = merged_order_details_df.merge(order_sdm_df, on=['ORDER_NUMBER', 'ORDER_NUMBER'])\n",
    "\n",
    "orderDetailsCount = 0\n",
    "while orderDetailsCount < len(merged_order_details_df):\n",
    "    order_details_temp_df = pd.DataFrame({\n",
    "        'ORDER_DETAIL_CODE': [merged_order_details_df.iloc[orderDetailsCount]['ORDER_DETAIL_CODE']],\n",
    "        'ORDER_NUMBER': [merged_order_details_df.iloc[orderDetailsCount]['ORDER_NUMBER']],\n",
    "        'PRODUCT_NUMBER': [merged_order_details_df.iloc[orderDetailsCount]['PRODUCT_NUMBER']],\n",
    "        'QUANTITY': [merged_order_details_df.iloc[orderDetailsCount]['QUANTITY']],\n",
    "        'UNIT_COST': [merged_order_details_df.iloc[orderDetailsCount]['UNIT_COST']],\n",
    "        'UNIT_PRICE': [merged_order_details_df.iloc[orderDetailsCount]['UNIT_PRICE']],\n",
    "        'UNIT_SALE_PRICE': [merged_order_details_df.iloc[orderDetailsCount]['UNIT_SALE_PRICE']],\n",
    "        'PRODUCT_IMAGE': [merged_order_details_df.iloc[orderDetailsCount]['PRODUCT_IMAGE']],\n",
    "        'PRODUCT_NAME': [merged_order_details_df.iloc[orderDetailsCount]['PRODUCT_NAME']],\n",
    "        'DESCRIPTION': [merged_order_details_df.iloc[orderDetailsCount]['DESCRIPTION']],\n",
    "        'PRODUCT_TYPE_CODE': [merged_order_details_df.iloc[orderDetailsCount]['PRODUCT_TYPE_CODE']],\n",
    "        'PRODUCT_TYPE_EN': [merged_order_details_df.iloc[orderDetailsCount]['PRODUCT_TYPE_EN']],\n",
    "        'PRODUCT_LINE_CODE': [merged_order_details_df.iloc[orderDetailsCount]['PRODUCT_LINE_CODE']],\n",
    "        'PRODUCT_LINE_EN': [merged_order_details_df.iloc[orderDetailsCount]['PRODUCT_LINE_EN']],\n",
    "        'RETAILER_NAME': [merged_order_details_df.iloc[orderDetailsCount]['RETAILER_NAME']],\n",
    "        'ORDER_DATE': [merged_order_details_df.iloc[orderDetailsCount]['ORDER_DATE']],\n",
    "    })\n",
    "\n",
    "    order_details_temp_df.to_sql('order_details', con=DWengine, if_exists='append', index=False)\n",
    "    orderDetailsCount += 1"
   ],
   "metadata": {
    "collapsed": false
   },
   "id": "e837157a2e23eb18",
   "execution_count": null
  },
  {
   "cell_type": "markdown",
   "source": [
    "returned_item table data insert"
   ],
   "metadata": {
    "collapsed": false
   },
   "id": "825d94f94397e86c"
  },
  {
   "cell_type": "code",
   "outputs": [],
   "source": [
    "returned_item_sdm_df = pd.read_sql_query('SELECT * FROM returned_item', SDMengine)\n",
    "\n",
    "returnedItemCounter = 0\n",
    "while returnedItemCounter < len(returned_item_sdm_df):\n",
    "    returned_item_temp_df = pd.DataFrame({\n",
    "        'RETURN_CODE': [returned_item_sdm_df.iloc[returnedItemCounter]['RETURN_CODE']],\n",
    "        'RETURN_DATE': [returned_item_sdm_df.iloc[returnedItemCounter]['RETURN_DATE']],\n",
    "        'ORDER_DETAIL_CODE': [returned_item_sdm_df.iloc[returnedItemCounter]['ORDER_DETAIL_CODE']],\n",
    "        'RETURN_REASON_CODE': [returned_item_sdm_df.iloc[returnedItemCounter]['RETURN_REASON_CODE']],\n",
    "        'RETURN_QUANTITY': [returned_item_sdm_df.iloc[returnedItemCounter]['RETURN_QUANTITY']],\n",
    "    })\n",
    "\n",
    "    returned_item_temp_df.to_sql('returned_item', con=DWengine, if_exists='append', index=False)\n",
    "    returnedItemCounter += 1"
   ],
   "metadata": {
    "collapsed": false,
    "ExecuteTime": {
     "end_time": "2025-03-08T19:48:39.814665Z",
     "start_time": "2025-03-08T19:48:37.881843Z"
    }
   },
   "id": "e44d40611a55aeb3",
   "execution_count": 46
  },
  {
   "cell_type": "markdown",
   "source": [
    "training table data insert"
   ],
   "metadata": {
    "collapsed": false
   },
   "id": "effb112bcf82d00e"
  },
  {
   "cell_type": "code",
   "outputs": [],
   "source": [
    "training_sdm_df = pd.read_sql_query('SELECT * FROM training', SDMengine)\n",
    "\n",
    "trainingCounter = 0\n",
    "while trainingCounter < len(training_sdm_df):\n",
    "    training_temp_df = pd.DataFrame({\n",
    "        'YEAR': [training_sdm_df.iloc[trainingCounter]['YEAR']],\n",
    "        'SALES_STAFF_CODE': [training_sdm_df.iloc[trainingCounter]['SALES_STAFF_CODE']],\n",
    "        'COURSE_CODE': [training_sdm_df.iloc[trainingCounter]['COURSE_CODE']],\n",
    "    })\n",
    "\n",
    "    training_temp_df.to_sql('training', con=DWengine, if_exists='append', index=False)\n",
    "    trainingCounter += 1"
   ],
   "metadata": {
    "collapsed": false,
    "ExecuteTime": {
     "end_time": "2025-03-08T20:02:48.700588Z",
     "start_time": "2025-03-08T20:02:47.904618Z"
    }
   },
   "id": "4258b8d9c7541718",
   "execution_count": 49
  }
 ],
 "metadata": {
  "kernelspec": {
   "display_name": "Python 3",
   "language": "python",
   "name": "python3"
  },
  "language_info": {
   "codemirror_mode": {
    "name": "ipython",
    "version": 2
   },
   "file_extension": ".py",
   "mimetype": "text/x-python",
   "name": "python",
   "nbconvert_exporter": "python",
   "pygments_lexer": "ipython2",
   "version": "2.7.6"
  }
 },
 "nbformat": 4,
 "nbformat_minor": 5
}
