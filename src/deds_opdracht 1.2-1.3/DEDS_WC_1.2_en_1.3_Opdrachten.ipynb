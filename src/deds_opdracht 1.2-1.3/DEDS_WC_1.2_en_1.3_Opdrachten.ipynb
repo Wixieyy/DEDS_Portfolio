{
 "cells": [
  {
   "cell_type": "markdown",
   "metadata": {},
   "source": [
    "# Werkcollege-opdrachten Week 1.3"
   ]
  },
  {
   "cell_type": "markdown",
   "metadata": {},
   "source": [
    "## Dependencies importeren"
   ]
  },
  {
   "cell_type": "markdown",
   "metadata": {},
   "source": [
    "Kopieer in het codeblok hieronder van het vorige practicum de import-code voor de dependencies die het vaakst worden gebruikt om data in te lezen. Geef er ook de gebruikelijke aliassen aan.<br>\n",
    "Zet eventuele warnings uit."
   ]
  },
  {
   "cell_type": "code",
   "execution_count": 9,
   "metadata": {},
   "outputs": [],
   "source": [
    "import warnings\n",
    "import pandas as pd\n",
    "warnings.simplefilter('ignore')\n"
   ]
  },
  {
   "cell_type": "markdown",
   "metadata": {},
   "source": [
    "Zet het bestand go_sales_train.sqlite in een makkelijk te vinden map"
   ]
  },
  {
   "cell_type": "markdown",
   "metadata": {},
   "source": [
    "## Databasetabellen inlezen"
   ]
  },
  {
   "cell_type": "markdown",
   "metadata": {},
   "source": [
    "Kopieer in het codeblok hieronder van het vorige practicum de code om een connectie met het bestand go_sales_train.sqlite te maken."
   ]
  },
  {
   "cell_type": "code",
   "execution_count": 2,
   "metadata": {},
   "outputs": [],
   "source": [
    "import sqlite3 as sql\n",
    "\n",
    "\n",
    "con = sql.connect(\"../../data/raw/go_sales_train.sqlite\")"
   ]
  },
  {
   "cell_type": "markdown",
   "metadata": {},
   "source": [
    "Lees van de ingelezen go_sales_train-database te volgende tabellen in met behulp van \"SELECT * FROM *tabel*\".\n",
    "- product\n",
    "- product_type\n",
    "- product_line\n",
    "- sales_staff\n",
    "- sales_branch\n",
    "- retailer_site\n",
    "- country\n",
    "- order_header\n",
    "- order_details\n",
    "- returned_item\n",
    "- return_reason"
   ]
  },
  {
   "cell_type": "code",
   "execution_count": 11,
   "metadata": {},
   "outputs": [
    {
     "name": "stdout",
     "output_type": "stream",
     "text": [
      "     type           name       tbl_name  rootpage  \\\n",
      "0   table        country        country       480   \n",
      "1   table  order_details  order_details        11   \n",
      "2   table   order_header   order_header        24   \n",
      "3   table   order_method   order_method        27   \n",
      "4   table        product        product        28   \n",
      "5   table   product_line   product_line        17   \n",
      "6   table   product_type   product_type        10   \n",
      "7   table  retailer_site  retailer_site        18   \n",
      "8   table  return_reason  return_reason        30   \n",
      "9   table  returned_item  returned_item        31   \n",
      "10  table   sales_branch   sales_branch         2   \n",
      "11  table    sales_staff    sales_staff         3   \n",
      "\n",
      "                                                  sql  \n",
      "0   CREATE TABLE \"country\" (\\n\\t\"COUNTRY_CODE\"\\tIN...  \n",
      "1   CREATE TABLE \"order_details\" (\\n\\t\"ORDER_DETAI...  \n",
      "2   CREATE TABLE \"order_header\" (\\n\\t\"ORDER_NUMBER...  \n",
      "3   CREATE TABLE \"order_method\" (\\n\\t\"ORDER_METHOD...  \n",
      "4   CREATE TABLE \"product\" (\\n\\t\"PRODUCT_NUMBER\"\\t...  \n",
      "5   CREATE TABLE \"product_line\" (\\n\\t\"PRODUCT_LINE...  \n",
      "6   CREATE TABLE \"product_type\" (\\n\\t\"PRODUCT_TYPE...  \n",
      "7   CREATE TABLE \"retailer_site\" (\\n\\t\"RETAILER_SI...  \n",
      "8   CREATE TABLE \"return_reason\" (\\n\\t\"RETURN_REAS...  \n",
      "9   CREATE TABLE \"returned_item\" (\\n\\t\"RETURN_CODE...  \n",
      "10  CREATE TABLE \"sales_branch\" (\\n\\t\"SALES_BRANCH...  \n",
      "11  CREATE TABLE \"sales_staff\" (\\n\\t\"SALES_STAFF_C...  \n"
     ]
    }
   ],
   "source": [
    "selectAll = \"SELECT * FROM sqlite_master\"\n",
    "\n",
    "con_cursor = con.cursor()\n",
    "\n",
    "con_cursor.execute(selectAll)\n",
    "column_names = [desc[0] for desc in con_cursor.description]\n",
    "\n",
    "response = con_cursor.fetchall()\n",
    "\n",
    "print(pd.DataFrame(response, columns= column_names))\n",
    "\n"
   ]
  },
  {
   "cell_type": "markdown",
   "metadata": {},
   "source": [
    "Krijg je een \"no such table\" error? Dan heb je misschien met .connect() per ongeluk een leeg  databasebestand (.sqlite) aangemaakt. <u>Let op:</u> lees eventueel de informatie uit het Notebook van werkcollege 1.1b nog eens goed door."
   ]
  },
  {
   "cell_type": "markdown",
   "metadata": {},
   "source": [
    "Als je tijdens onderstaande opdrachten uit het oog verliest welke tabellen er allemaal zijn, kan je deze Pythoncode uitvoeren:"
   ]
  },
  {
   "cell_type": "code",
   "execution_count": null,
   "metadata": {},
   "outputs": [],
   "source": [
    "sql_query = \"SELECT name FROM sqlite_master WHERE type='table';\"\n",
    "#Vul dit codeblok verder in\n",
    "pd.read_sql(sql_query, ...)\n",
    "#Op de puntjes hoort de connectie naar go_sales_train óf go_staff_train óf go_crm_train te staan."
   ]
  },
  {
   "cell_type": "markdown",
   "metadata": {},
   "source": [
    "erachter "
   ]
  },
  {
   "cell_type": "markdown",
   "metadata": {},
   "source": [
    "Let op! Voor alle onderstaande opdrachten mag je <u>alleen Python</u> gebruiken, <u>geen SQL!</u>"
   ]
  },
  {
   "cell_type": "markdown",
   "metadata": {},
   "source": [
    "## Selecties op één tabel zonder functies"
   ]
  },
  {
   "cell_type": "markdown",
   "metadata": {},
   "source": [
    "Geef een overzicht met daarin de producten en hun productiekosten waarvan de productiekosten lager dan 100 dollar en hoger dan 50 dollar ligt. (2 kolommen, 23 rijen)"
   ]
  },
  {
   "cell_type": "code",
   "execution_count": 27,
   "metadata": {},
   "outputs": [
    {
     "name": "stdout",
     "output_type": "stream",
     "text": [
      "                        PRODUCT_NAME  PRODUCTION_COST\n",
      "5          TrailChef Deluxe Cook Set            85.11\n",
      "7             TrailChef Double Flame            75.00\n",
      "16                   Hibernator Lite            60.00\n",
      "17                        Hibernator            86.00\n",
      "19   Hibernator Self - Inflating Mat            78.55\n",
      "22               Hibernator Camp Cot            65.33\n",
      "23      Canyon Mule Climber Backpack            62.50\n",
      "45           Granite Climbing Helmet            52.86\n",
      "47             Husky Harness Extreme            55.00\n",
      "57                    Granite Hammer            57.13\n",
      "68                         Polar Ice            73.33\n",
      "69                      Polar Sports            80.00\n",
      "70                        Polar Wave            60.00\n",
      "71                     Polar Extreme            72.50\n",
      "74                      Edge Extreme            80.00\n",
      "77                         Seeker 35            79.19\n",
      "78                         Seeker 50            92.58\n",
      "79                    Seeker Extreme            94.12\n",
      "82                    Glacier Deluxe            56.25\n",
      "83                       Glacier GPS            78.55\n",
      "109                Blue Steel Putter            60.00\n",
      "110            Blue Steel Max Putter            81.80\n",
      "113              Course Pro Golf Bag            80.00\n"
     ]
    }
   ],
   "source": [
    "response1 = pd.read_sql(\"SELECT PRODUCT_NAME, PRODUCTION_COST FROM product\", con)\n",
    "\n",
    "\n",
    "filteredDf = response1.query(\"PRODUCTION_COST > 50 and PRODUCTION_COST < 100\")\n",
    "\n",
    "print(filteredDf)\n",
    "\n"
   ]
  },
  {
   "cell_type": "markdown",
   "metadata": {},
   "source": [
    "Geef een overzicht met daarin de producten en hun marge waarvan de marge lager dan 20 % of hoger dan 60 % ligt. (2 kolommen, 7 rijen) "
   ]
  },
  {
   "cell_type": "code",
   "execution_count": 33,
   "metadata": {},
   "outputs": [
    {
     "name": "stdout",
     "output_type": "stream",
     "text": [
      "                    PRODUCT_NAME  MARGIN\n",
      "20                Hibernator Pad    0.17\n",
      "23  Canyon Mule Climber Backpack    0.17\n",
      "85             BugShield Natural    0.67\n",
      "86               BugShield Spray    0.67\n",
      "87         BugShield Lotion Lite    0.70\n",
      "88              BugShield Lotion    0.63\n",
      "89             BugShield Extreme    0.63\n"
     ]
    }
   ],
   "source": [
    "response3 = pd.read_sql(\"SELECT PRODUCT_NAME, MARGIN FROM product\", con)\n",
    "\n",
    "filteredMarge = response3.query(\"MARGIN < 0.20 or MARGIN > 0.60\")\n",
    "\n",
    "print(filteredMarge)"
   ]
  },
  {
   "cell_type": "markdown",
   "metadata": {},
   "source": [
    "Geef een overzicht met daarin de landen waar met francs wordt betaald. Sorteer de uitkomst op land.  (1 kolom, 3 rijen)"
   ]
  },
  {
   "cell_type": "code",
   "execution_count": 22,
   "metadata": {},
   "outputs": [
    {
     "name": "stdout",
     "output_type": "stream",
     "text": [
      "0          France\n",
      "7     Switzerland\n",
      "15        Belgium\n",
      "Name: COUNTRY, dtype: object\n"
     ]
    }
   ],
   "source": [
    "response2 = pd.read_sql(\"SELECT COUNTRY, CURRENCY_NAME FROM country\", con)\n",
    "\n",
    "filteredCurrency = response2[response2[\"CURRENCY_NAME\"] == 'francs']\n",
    "\n",
    "print(filteredCurrency['COUNTRY'])\n"
   ]
  },
  {
   "cell_type": "markdown",
   "metadata": {},
   "source": [
    "Geef een overzicht met daarin de verschillende introductiedatums waarop producten met meer dan 50% marge worden geïntroduceerd (1 kolom, 7 rijen) "
   ]
  },
  {
   "cell_type": "code",
   "execution_count": 46,
   "metadata": {},
   "outputs": [
    {
     "name": "stdout",
     "output_type": "stream",
     "text": [
      "['2000-10-26' '1995-02-15' '2003-12-10' '2003-12-18' '2003-12-27'\n",
      " '2004-01-13' '2003-12-15']\n"
     ]
    }
   ],
   "source": [
    "response5 = pd.read_sql(\"SELECT * FROM product\", con)\n",
    "\n",
    "filteredIntroductiondates = response5.query(\"MARGIN > 0.50\")\n",
    "\n",
    "print(filteredIntroductiondates[\"INTRODUCTION_DATE\"].unique())"
   ]
  },
  {
   "cell_type": "markdown",
   "metadata": {},
   "source": [
    "Geef een overzicht met daarin het eerste adres en de stad van verkoopafdelingen waarvan zowel het tweede adres als de regio bekend is (2 kolommen, 7 rijen)"
   ]
  },
  {
   "cell_type": "code",
   "execution_count": 36,
   "metadata": {},
   "outputs": [
    {
     "name": "stdout",
     "output_type": "stream",
     "text": [
      "                            ADDRESS1              CITY\n",
      "2                Singelgravenplein 4         Amsterdam\n",
      "13  Prol. Paseo de la Reforma No. 51  Distrito Federal\n",
      "14               202-2-3 Hyakunincho             Tokyo\n",
      "15                     543-225 Asahi        Osaka City\n",
      "16                  2315 Queen's Ave         Melbourne\n",
      "18             Avenida Paulista, 333         São Paulo\n",
      "24                    3 Albany Court        Birmingham\n"
     ]
    }
   ],
   "source": [
    "response4 = pd.read_sql(\"SELECT * FROM sales_branch\",con)\n",
    "\n",
    "filteredVerk = response4[response4[\"ADDRESS2\"].notnull() & response4[\"REGION\"].notnull()]\n",
    "\n",
    "print(filteredVerk[[\"ADDRESS1\", \"CITY\"]])"
   ]
  },
  {
   "cell_type": "markdown",
   "metadata": {},
   "source": [
    "Geef een overzicht met daarin de landen waar met dollars (dollars of new dollar) wordt betaald. Sorteer de uitkomst op land. (1 kolom, 4 rijen) "
   ]
  },
  {
   "cell_type": "code",
   "execution_count": 52,
   "metadata": {},
   "outputs": [
    {
     "name": "stdout",
     "output_type": "stream",
     "text": [
      "2     United States\n",
      "3            Canada\n",
      "11           Taiwan\n",
      "14        Australia\n",
      "Name: COUNTRY, dtype: object\n"
     ]
    }
   ],
   "source": [
    "response6 = pd.read_sql(\"SELECT * from country\", con)\n",
    "\n",
    "filteredDollar = response6[response6[\"CURRENCY_NAME\"].str.contains('dollar')]\n",
    "\n",
    "print(filteredDollar[\"COUNTRY\"])"
   ]
  },
  {
   "cell_type": "markdown",
   "metadata": {},
   "source": [
    "Geef een overzicht met daarin beide adressen en de stad van vestigingen van klanten waarvan de postcode begint met een ‘D’ (van duitsland). Filter op vestigingen die een tweede adres hebben. (3 kolommen, 2 rijen) "
   ]
  },
  {
   "cell_type": "code",
   "execution_count": 54,
   "metadata": {},
   "outputs": [
    {
     "name": "stdout",
     "output_type": "stream",
     "text": [
      "                      ADDRESS1              ADDRESS2              CITY\n",
      "194       Oriente 233, No. 341    Industrial Vallejo  Distrito Federal\n",
      "195  Avda. Chapultepec 246-303              Virreyes  Distrito Federal\n",
      "199        Río Rhin 56, Piso 6            Cuauhtemoc  Distrito Federal\n",
      "200    Tuxpan No. 54, Int. 509              Roma Sur  Distrito Federal\n",
      "201   Cerro de La Libertad 158  Campestre Churubusco  Distrito Federal\n"
     ]
    }
   ],
   "source": [
    "response7 = pd.read_sql(\"SELECT ADDRESS1, ADDRESS2, CITY FROM retailer_site\",con)\n",
    "\n",
    "filteredDf1 = response7[response7['CITY'].str.startswith('D') & response7['ADDRESS2'].notnull()]\n",
    "\n",
    "print(filteredDf1)\n"
   ]
  },
  {
   "cell_type": "markdown",
   "metadata": {},
   "source": [
    "## Selecties op één tabel met functies"
   ]
  },
  {
   "cell_type": "markdown",
   "metadata": {},
   "source": [
    "Geef het totaal aantal producten dat is teruggebracht (1 waarde) "
   ]
  },
  {
   "cell_type": "code",
   "execution_count": 56,
   "metadata": {},
   "outputs": [
    {
     "name": "stdout",
     "output_type": "stream",
     "text": [
      "   COUNT(*)\n",
      "0       619\n"
     ]
    }
   ],
   "source": [
    "response8 = pd.read_sql(\"SELECT COUNT(*) FROM returned_item\",con)\n",
    "\n",
    "print(response8)"
   ]
  },
  {
   "cell_type": "markdown",
   "metadata": {},
   "source": [
    "Geef het aantal regio’s waarin verkoopafdelingen gevestigd zijn. (1 waarde)"
   ]
  },
  {
   "cell_type": "code",
   "execution_count": 57,
   "metadata": {},
   "outputs": [
    {
     "name": "stdout",
     "output_type": "stream",
     "text": [
      "   COUNT(*)\n",
      "0        28\n"
     ]
    }
   ],
   "source": [
    "response9 = pd.read_sql(\"SELECT COUNT(*) FROM sales_branch\",con)\n",
    "\n",
    "print(response9)"
   ]
  },
  {
   "cell_type": "markdown",
   "metadata": {},
   "source": [
    "Maak 3 variabelen:\n",
    "- Een met de laagste\n",
    "- Een met de hoogste\n",
    "- Een met de gemiddelde (afgerond op 2 decimalen)\n",
    "\n",
    "marge van producten (3 kolommen, 1 rij) "
   ]
  },
  {
   "cell_type": "code",
   "execution_count": 65,
   "metadata": {},
   "outputs": [
    {
     "name": "stdout",
     "output_type": "stream",
     "text": [
      "      0    1    2\n",
      "0  0.17  0.7  0.4\n"
     ]
    }
   ],
   "source": [
    "response10 = pd.read_sql(\"SELECT MARGIN from product\",con)\n",
    "\n",
    "laagsteMargin = pd.Series(response10[\"MARGIN\"].min())\n",
    "hoogsteMargin = pd.Series(response10[\"MARGIN\"].max())\n",
    "gemiddeldeMargin = pd.Series(response10[\"MARGIN\"].mean().round(2))\n",
    "\n",
    "filteredMargins = pd.concat([laagsteMargin, hoogsteMargin, gemiddeldeMargin], axis = 1)\n",
    "\n",
    "print(filteredMargins)"
   ]
  },
  {
   "cell_type": "markdown",
   "metadata": {},
   "source": [
    "Geef het aantal vestigingen van klanten waarvan het 2e adres niet bekend is (1 waarde)"
   ]
  },
  {
   "cell_type": "code",
   "execution_count": 73,
   "metadata": {},
   "outputs": [
    {
     "name": "stdout",
     "output_type": "stream",
     "text": [
      "19\n"
     ]
    }
   ],
   "source": [
    "response11 = pd.read_sql(\"SELECT ADDRESS1, ADDRESS2, CITY, POSTAL_ZONE FROM sales_branch\",con)\n",
    "\n",
    "filteredDf1 = response11['ADDRESS2'].isnull().sum()\n",
    "\n",
    "print(filteredDf1)"
   ]
  },
  {
   "cell_type": "markdown",
   "metadata": {},
   "source": [
    "Geef de gemiddelde kostprijs van de verkochte producten waarop korting (unit_sale_price < unit_price) is verleend (1 waarde) "
   ]
  },
  {
   "cell_type": "code",
   "execution_count": null,
   "metadata": {},
   "outputs": [],
   "source": [
    "response12 = pd.read_sql(\"SELECT \")"
   ]
  },
  {
   "cell_type": "markdown",
   "metadata": {},
   "source": [
    "Geef een overzicht met daarin het aantal medewerkers per medewerkersfunctie (2 kolommen, 7 rijen) "
   ]
  },
  {
   "cell_type": "code",
   "execution_count": null,
   "metadata": {},
   "outputs": [],
   "source": []
  },
  {
   "cell_type": "markdown",
   "metadata": {},
   "source": [
    "Geef een overzicht met daarin per telefoonnummer het aantal medewerkers dat op dat telefoonnummer bereikbaar is. Toon alleen de telefoonnummer waarop meer dan 4 medewerkers bereikbaar zijn. (2 kolommen, 10 rijen) "
   ]
  },
  {
   "cell_type": "code",
   "execution_count": null,
   "metadata": {},
   "outputs": [],
   "source": []
  },
  {
   "cell_type": "markdown",
   "metadata": {},
   "source": [
    "## Selecties op meerdere tabellen zonder functies"
   ]
  },
  {
   "cell_type": "markdown",
   "metadata": {},
   "source": [
    "Geef een overzicht met daarin het eerste adres en de stad van vestigingen van klanten uit ‘Netherlands’ (2 kolommen, 20 rijen) "
   ]
  },
  {
   "cell_type": "code",
   "execution_count": null,
   "metadata": {},
   "outputs": [],
   "source": []
  },
  {
   "cell_type": "markdown",
   "metadata": {},
   "source": [
    "Geef een overzicht met daarin de productnamen die tot het producttype ‘Eyewear’ behoren. (1 kolom, 5 rijen) "
   ]
  },
  {
   "cell_type": "code",
   "execution_count": null,
   "metadata": {},
   "outputs": [],
   "source": []
  },
  {
   "cell_type": "markdown",
   "metadata": {},
   "source": [
    "Geef een overzicht met daarin alle unieke eerste adressen van klantvestigingen en de voornaam en achternaam van de verkopers die ‘Branch Manager’ zijn en aan deze vestigingen hebben verkocht (3 kolommen, 1 rij) "
   ]
  },
  {
   "cell_type": "code",
   "execution_count": null,
   "metadata": {},
   "outputs": [],
   "source": []
  },
  {
   "cell_type": "markdown",
   "metadata": {},
   "source": [
    "Geef een overzicht met daarin van de verkopers hun functie en indien zij iets hebben verkocht de datum waarop de verkoop heeft plaatsgevonden. Laat alleen de verschillende namen van de posities zien van de verkopers die het woord ‘Manager’ in hun positienaam hebben staan. (2 kolommen, 7 rijen) "
   ]
  },
  {
   "cell_type": "code",
   "execution_count": null,
   "metadata": {},
   "outputs": [],
   "source": []
  },
  {
   "cell_type": "markdown",
   "metadata": {},
   "source": [
    "Geef een overzicht met daarin de verschillende namen van producten en bijbehorende namen van producttypen van de producten waarvoor ooit meer dan 750 stuks tegelijk verkocht zijn. (2 kolommen, 9 rijen) "
   ]
  },
  {
   "cell_type": "code",
   "execution_count": null,
   "metadata": {},
   "outputs": [],
   "source": []
  },
  {
   "cell_type": "markdown",
   "metadata": {},
   "source": [
    "Geef een overzicht met daarin de productnamen waarvan ooit meer dan 40% korting is verleend. De formule voor korting is: (unit_price - unit_sale_price) / unit_price (1 kolom, 8 rijen) "
   ]
  },
  {
   "cell_type": "code",
   "execution_count": null,
   "metadata": {},
   "outputs": [],
   "source": []
  },
  {
   "cell_type": "markdown",
   "metadata": {},
   "source": [
    "Geef een overzicht met daarin de retourreden van producten waarvan ooit meer dan 90% van de aangeschafte hoeveelheid is teruggebracht (return_quantity/quantity). (1 kolom, 3 rijen) "
   ]
  },
  {
   "cell_type": "code",
   "execution_count": null,
   "metadata": {},
   "outputs": [],
   "source": []
  },
  {
   "cell_type": "markdown",
   "metadata": {},
   "source": [
    "## Selecties op meerdere tabellen met functies"
   ]
  },
  {
   "cell_type": "markdown",
   "metadata": {},
   "source": [
    "Geef een overzicht met daarin per producttype het aantal producten die tot dat producttype behoren. (2 kolommen, 21 rijen) "
   ]
  },
  {
   "cell_type": "code",
   "execution_count": null,
   "metadata": {},
   "outputs": [],
   "source": []
  },
  {
   "cell_type": "markdown",
   "metadata": {},
   "source": [
    "Geef een overzicht met daarin per land het aantal vestigingen van klanten die zich in dat land bevinden. (2 kolommen, 21 rijen) "
   ]
  },
  {
   "cell_type": "code",
   "execution_count": null,
   "metadata": {},
   "outputs": [],
   "source": []
  },
  {
   "cell_type": "markdown",
   "metadata": {},
   "source": [
    "Geef een overzicht met daarin van de producten behorend tot het producttype ‘Cooking Gear’ per productnaam de totaal verkochte hoeveelheid en de gemiddelde verkoopprijs. Sorteer de uitkomst op totaal verkochte hoeveelheid. (4 kolommen, 10 rijen) "
   ]
  },
  {
   "cell_type": "code",
   "execution_count": null,
   "metadata": {},
   "outputs": [],
   "source": []
  },
  {
   "cell_type": "markdown",
   "metadata": {},
   "source": [
    "Geef een overzicht met daarin per land de naam van het land, de naam van de stad waar de verkoopafdeling is gevestigd (noem de kolomnaam in het overzicht ‘verkoper’) en het aantal steden waar zich klanten bevinden in dat land (noem de kolomnaam in het overzicht ‘klanten’) (3 kolommen, 29 rijen) "
   ]
  },
  {
   "cell_type": "code",
   "execution_count": null,
   "metadata": {},
   "outputs": [],
   "source": []
  },
  {
   "cell_type": "markdown",
   "metadata": {},
   "source": [
    "## Pythonvertalingen van SUBSELECT en UNION met o.a. for-loops"
   ]
  },
  {
   "cell_type": "markdown",
   "metadata": {},
   "source": [
    "Geef een overzicht met daarin de voornaam en de achternaam van de medewerkers die nog nooit wat hebben verkocht (2 kolommen, 25 rijen) "
   ]
  },
  {
   "cell_type": "code",
   "execution_count": null,
   "metadata": {},
   "outputs": [],
   "source": []
  },
  {
   "cell_type": "markdown",
   "metadata": {},
   "source": [
    "Geef een overzicht met daarin het aantal producten waarvan de marge lager is dan de gemiddelde marge van alle producten samen. Geef in het overzicht tevens aan wat de gemiddelde marge is van dit aantal producten waarvan de marge lager dan de gemiddelde marge van alle producten samen is. (1 kolom, 2 rijen) "
   ]
  },
  {
   "cell_type": "code",
   "execution_count": null,
   "metadata": {},
   "outputs": [],
   "source": []
  },
  {
   "cell_type": "markdown",
   "metadata": {},
   "source": [
    "Geef een overzicht met daarin de namen van de producten die voor meer dan 500 (verkoopprijs) zijn verkocht maar nooit zijn teruggebracht. (1 kolom, 13 rijen) "
   ]
  },
  {
   "cell_type": "code",
   "execution_count": null,
   "metadata": {},
   "outputs": [],
   "source": []
  },
  {
   "cell_type": "markdown",
   "metadata": {},
   "source": [
    "Geef een overzicht met daarin per (achternaam van) medewerker of hij/zij manager is of niet, door deze informatie toe te voegen als extra 'Ja/Nee'-kolom.<br>\n",
    "Hint: gebruik een for-loop waarin je o.a. bepaalt of het woord 'Manager' in de functie (position_en) staat. (2 kolommen, 102 rijen)."
   ]
  },
  {
   "cell_type": "code",
   "execution_count": null,
   "metadata": {},
   "outputs": [],
   "source": []
  },
  {
   "cell_type": "markdown",
   "metadata": {},
   "source": [
    "Met de onderstaande code laat je Python het huidige jaar uitrekenen."
   ]
  },
  {
   "cell_type": "code",
   "execution_count": 1,
   "metadata": {},
   "outputs": [
    {
     "data": {
      "text/plain": [
       "2024"
      ]
     },
     "execution_count": 1,
     "metadata": {},
     "output_type": "execute_result"
    }
   ],
   "source": [
    "from datetime import date\n",
    "date.today().year"
   ]
  },
  {
   "cell_type": "markdown",
   "metadata": {},
   "source": [
    "Met de onderstaande code selecteer je op een bepaald jaartal uit een datum."
   ]
  },
  {
   "cell_type": "code",
   "execution_count": 2,
   "metadata": {},
   "outputs": [
    {
     "data": {
      "text/plain": [
       "2013"
      ]
     },
     "execution_count": 2,
     "metadata": {},
     "output_type": "execute_result"
    }
   ],
   "source": [
    "from datetime import datetime\n",
    "\n",
    "date_str = '16-8-2013'\n",
    "date_format = '%d-%m-%Y'\n",
    "date_obj = datetime.strptime(date_str, date_format)\n",
    "\n",
    "date_obj.year"
   ]
  },
  {
   "cell_type": "markdown",
   "metadata": {},
   "source": [
    "Geef met behulp van bovenstaande hulpcode een overzicht met daarin op basis van het aantal jaar dat iemand in dienst is of een medewerker ‘kort in dienst’ (minder dan 25 jaar in dienst) of een ‘lang in dienst’ (groter gelijk dan 12 jaar in dienst) is. Geef daarbij per medewerker in een aparte kolom zowel ‘kort in dienst’ als ‘lang in dienst’ aan. Gebruik (wederom) een for-loop.<br>\n",
    "(2 kolommen, 102 rijen) "
   ]
  },
  {
   "cell_type": "code",
   "execution_count": null,
   "metadata": {},
   "outputs": [],
   "source": []
  },
  {
   "cell_type": "markdown",
   "metadata": {},
   "source": [
    "## Van Jupyter Notebook naar Pythonproject"
   ]
  },
  {
   "cell_type": "markdown",
   "metadata": {},
   "source": [
    "1. Richt de map waarin jullie tot nu toe hebben gewerkt in volgens de mappenstructuur uit de slides.\n",
    "2. Maak van de ontstane mappenstructuur een Pythonproject dat uitvoerbaar is vanuit de terminal. Maak daarin een .py-bestand dat minstens 5 antwoorden uit dit notebook (in de vorm van een DataFrame) exporteert naar Excelbestanden. Alle notebooks mogen als notebook blijven bestaan.\n",
    "3. Zorg ervoor dat dit Pythonproject zijn eigen repo heeft op Github. Let op: je virtual environment moet <b><u>niet</u></b> meegaan naar Github.\n",
    "\n",
    "Je mag tijdens dit proces je uit stap 1 ontstane mappenstructuur aanpassen, zolang je bij het beoordelingsmoment kan verantwoorden wat de motivatie hierachter is. De slides verplichten je dus nergens toe."
   ]
  }
 ],
 "metadata": {
  "kernelspec": {
   "display_name": ".venv",
   "language": "python",
   "name": "python3"
  },
  "language_info": {
   "codemirror_mode": {
    "name": "ipython",
    "version": 3
   },
   "file_extension": ".py",
   "mimetype": "text/x-python",
   "name": "python",
   "nbconvert_exporter": "python",
   "pygments_lexer": "ipython3",
   "version": "3.13.2"
  }
 },
 "nbformat": 4,
 "nbformat_minor": 2
}
