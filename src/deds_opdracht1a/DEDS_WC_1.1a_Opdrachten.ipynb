{
 "cells": [
  {
   "cell_type": "markdown",
   "metadata": {},
   "source": [
    "# Werkcollege-opdrachten Week 1.1"
   ]
  },
  {
   "cell_type": "markdown",
   "metadata": {},
   "source": [
    "## Maak een virtual environment"
   ]
  },
  {
   "cell_type": "markdown",
   "metadata": {},
   "source": [
    "Zorg dat je met behulp van de handleiding *Bouw en gebruik van virtual environments - Handleiding* een virtual environment hebt gemaakt, dat jou en je duopartner garandeert altijd dezelfde versie van geïmporteerde dependencies te gebruiken.<br>\n",
    "Voeg hier vervolgens met *poetry add pandas* de pandas-dependency aan toe.<br>\n",
    "Als je dit allemaal goed hebt gedaan moet de onderstaande code bij jullie allebei succesvol runnen:"
   ]
  },
  {
   "cell_type": "code",
   "execution_count": null,
   "metadata": {},
   "outputs": [],
   "source": [
    "import pandas as pd"
   ]
  },
  {
   "cell_type": "markdown",
   "metadata": {},
   "source": [
    "Zorg er daarnaast voor dat je...\n",
    "- Het bestand Waarheidstabel.png in dezelfde map als dit notebook hebt staan.\n",
    "- Het bestand Prinstabel.png in dezelfde map als dit notebook hebt staan.\n",
    "- Alle informatie onder het kopje *Basisoperaties* van de cheatsheet *Van Java naar Python - Cheatsheet* (zie Brightspace) bij de hand hebt."
   ]
  },
  {
   "cell_type": "markdown",
   "metadata": {},
   "source": [
    "## 1.1: Output, variabelen en input"
   ]
  },
  {
   "cell_type": "markdown",
   "metadata": {},
   "source": [
    "Geef code waarmee het volgende op het scherm komt te staan:<br>\n",
    "geef me je geld <br>\n",
    "of ik gebruik geweld, <br>\n",
    "toen kwam de controle aangesneld"
   ]
  },
  {
   "cell_type": "code",
   "execution_count": null,
   "metadata": {},
   "outputs": [],
   "source": [
    "print(\"geef me je geld\")\n",
    "print(\"of ik gebruik geweld,\")\n",
    "print(\"toen kwan de controle aangesneld\")"
   ]
  },
  {
   "cell_type": "markdown",
   "metadata": {},
   "source": [
    "Declareer 2 variabelen zodat de volgende tekst geprint wordt:<br>\n",
    "Apenhoofd<br>\n",
    "Paardenstaart"
   ]
  },
  {
   "cell_type": "code",
   "execution_count": null,
   "metadata": {},
   "outputs": [],
   "source": [
    "text1 = \"Apenhoofd\"\n",
    "text2 = \"Paardenstaart\"\n",
    "\n",
    "print(text1)\n",
    "print(text2)"
   ]
  },
  {
   "cell_type": "markdown",
   "metadata": {},
   "source": [
    "Voeg code toe zodat het programma het volgende doet:<br>\n",
    "1): Op het scherm komt A, B, C, D, ..., F, G te staan<br>\n",
    "2): De gebruiker voert een letter in<br>\n",
    "3): Op het scherm komt te staan:<br>\n",
    "Het is inderdaad:<br>\n",
    "*ingevoerde letter*"
   ]
  },
  {
   "cell_type": "code",
   "execution_count": null,
   "metadata": {},
   "outputs": [],
   "source": [
    "print(\"A, B, C, D, ..., F, G\")\n",
    "print(\"Voer een letter in:\")\n",
    "inputLetter = input()\n",
    "\n",
    "if (inputLetter.upper() == \"E\"):\n",
    "    print(f'Het is inderdaad:\\n{inputLetter}')"
   ]
  },
  {
   "cell_type": "markdown",
   "metadata": {},
   "source": [
    "## 1.2: Stringconcatenatie en Rekenen"
   ]
  },
  {
   "cell_type": "markdown",
   "metadata": {},
   "source": [
    "Schrijf code dat een inkomen inleest en het volgende uitprint:<br>\n",
    "Uw inkomen (*ingelezen inkomen*) is zeer acceptabel."
   ]
  },
  {
   "cell_type": "code",
   "execution_count": null,
   "metadata": {},
   "outputs": [],
   "source": [
    "inkomen = int(input())\n",
    "print(f'Uw inkomen: {inkomen} is zeer acceptabel')"
   ]
  },
  {
   "cell_type": "markdown",
   "metadata": {},
   "source": [
    "De oppervlakte van een driehoek is 1/2 * hoogte * basis<br>\n",
    "Schrijf code zodat het programma het volgende doet:<br>\n",
    "1): Op het scherm komt Wat is de basis? te staan<br>\n",
    "2): De gebruiker voert een basis in<br>\n",
    "3): Op het scherm komt Wat is de hoogte? te staan<br>\n",
    "4): De gebruiker voert een hoogte in<br>\n",
    "5): Op het scherm komt: De oppervlakte van de driehoek is *berekende oppervlakte* te staan"
   ]
  },
  {
   "cell_type": "code",
   "execution_count": null,
   "metadata": {},
   "outputs": [],
   "source": [
    "print(\"Wat is de basis?\")\n",
    "basis = int(input())\n",
    "print(\"Wat is de hoogte?\")\n",
    "hoogte = int(input())\n",
    "print(f'De oppervlakte van de driehoek is {1/2 * hoogte * basis}')"
   ]
  },
  {
   "cell_type": "markdown",
   "metadata": {},
   "source": [
    "## 1.3: if() en booleans"
   ]
  },
  {
   "cell_type": "markdown",
   "metadata": {},
   "source": [
    "Schrijf code dat het volgende doet:<br>\n",
    "1): De gebruiker voert in hoe oud iemand is<br>\n",
    "2): De gebruiker voert in of de ouders meegekomen zijn (input is J of N)<br><br>\n",
    "\n",
    "Als...\n",
    "- Jonger dan 6, wel ouders: op het scherm staat Je mag het zwembad in\n",
    "- Jonger dan 6, geen ouders: op het scherm staat Je mag het niet zwembad in\n",
    "- Leeftijd vanaf 6, geen ouders: op het scherm staat Je mag het zwembad in als je een diploma hebt\n",
    "- Leeftijd vanaf 6, wel ouders: op het scherm staat Waarom neem je nog je ouders mee?"
   ]
  },
  {
   "cell_type": "code",
   "execution_count": null,
   "metadata": {},
   "outputs": [],
   "source": [
    "leeftijd = int(input())\n",
    "ouders = input()\n",
    "\n",
    "if(leeftijd < 6):\n",
    "    if(ouders.upper() == \"J\"):\n",
    "        print(\"Je mag het zwembad in\")\n",
    "    else:\n",
    "        print(\"Je mag het zwembad niet in\")\n",
    "    \n",
    "if(leeftijd >= 6):\n",
    "    if(ouders.upper() == \"N\"):\n",
    "        print(\"Je mag het zwembad in als je een diploma hebt\")\n",
    "    else:\n",
    "        print(\"Waarom neem je nog je ouders mee?\")\n",
    "\n",
    "    "
   ]
  },
  {
   "cell_type": "markdown",
   "metadata": {},
   "source": [
    "Schrijf code zodat de boolean-variabelen een en twee aangemaakt worden en waarmee de juiste waarde in de boolean-variabele uitkomst komt te staan. In de waarheidstabel hieronder staat wat de waarde van uitkomst is bij de verschillende mogelijke combinaties van een en twee.<br><br>\n",
    "<img src=\"Waarheidstabel.png\">"
   ]
  },
  {
   "cell_type": "code",
   "execution_count": null,
   "metadata": {},
   "outputs": [],
   "source": [
    "\n",
    "een = bool(False)\n",
    "twee = bool(True)\n",
    "\n",
    "if(een & twee):\n",
    "    print(\"Uitkomst is waar\")\n",
    "    \n",
    "if(een & ~twee):\n",
    "    print(\"Uitkomst is onwaar\")\n",
    "\n",
    "if(~een & twee):\n",
    "    print(\"Uitkomst is waar\")\n",
    "\n",
    "if(~een & ~twee):\n",
    "    print(\"Uitkomst is waar\")\n"
   ]
  },
  {
   "cell_type": "markdown",
   "metadata": {},
   "source": [
    "## 1.4: Methoden"
   ]
  },
  {
   "cell_type": "markdown",
   "metadata": {},
   "source": [
    "Schrijf een methode wachtwoord die als parameters twee woorden meekrijgt en het volgende controleert:\n",
    "- Als de woorden gelijk zijn, print het programma gelijk.\n",
    "- Als de woorden ongelijk zijn print het programma ongelijk.\n",
    "\n",
    "Vergeet niet dat je de methode niet alleen aan moet maken, maar ook aan moet roepen om output te krijgen."
   ]
  },
  {
   "cell_type": "code",
   "execution_count": 23,
   "metadata": {},
   "outputs": [
    {
     "name": "stdout",
     "output_type": "stream",
     "text": [
      "gelijk\n"
     ]
    }
   ],
   "source": [
    "w1 = input()\n",
    "w2 = input()\n",
    "\n",
    "def wachtwoord(w1, w2):\n",
    "    if (w1 == w2):\n",
    "        print(\"gelijk\")\n",
    "    else:\n",
    "        print(\"ongelijk\")   \n",
    "        \n",
    "wachtwoord(w1,w2)"
   ]
  },
  {
   "cell_type": "markdown",
   "metadata": {},
   "source": [
    "Schrijf de methode zoekPrins die als parameter een prinses meekrijgt en vervolgens de bijbehorende prins teruggeeft, volgens de volgende tabel:<br><br>\n",
    "<img src=\"Prinstabel.png\"><br>\n",
    "Als de naam van de prinses niet in de tabel staat wordt het volgende door de methode teruggegeven: naamloos.<br>\n",
    "Roep ten slotte de gemaakte methode ook daadwerkelijk aan met een zelfgekozen prinsessennaam."
   ]
  },
  {
   "cell_type": "code",
   "execution_count": 33,
   "metadata": {},
   "outputs": [
    {
     "name": "stdout",
     "output_type": "stream",
     "text": [
      "Shang\n"
     ]
    }
   ],
   "source": [
    "princess = input()\n",
    "\n",
    "def zoekPrins(princess):\n",
    "    match princess:\n",
    "        case \"Aurora\":\n",
    "            print(\"Philip\")\n",
    "        case \"Ariël\":\n",
    "            print(\"Eric\")\n",
    "        case \"Jasmine\":\n",
    "            print(\"Aladdin\")\n",
    "        case \"Pocahontas\":\n",
    "            print(\"John\")\n",
    "        case \"Belle\":\n",
    "            print(\"Beast\")\n",
    "        case \"Tiana\": \n",
    "            print(\"Naveen\")\n",
    "        case \"Mulan\":\n",
    "            print(\"Shang\")\n",
    "            \n",
    "            \n",
    "zoekPrins(princess)"
   ]
  },
  {
   "cell_type": "markdown",
   "metadata": {},
   "source": [
    "## 1.5: While"
   ]
  },
  {
   "cell_type": "markdown",
   "metadata": {},
   "source": [
    "Schrijf de inhoud van de methode wachtwoord. Deze heeft geen parameters en laat de gebruiker twee wachtwoorden invoeren, waarna hij bekijkt of deze gelijk zijn. Zolang dat niet het geval is wordt er eerst Fout, probeer het opnieuw! uitgeprint en moet de gebruiker het opnieuw proberen.<br>Als de gebruiker het goed doet, komt er Succes! op het scherm te staan."
   ]
  },
  {
   "cell_type": "code",
   "execution_count": 38,
   "metadata": {},
   "outputs": [
    {
     "name": "stdout",
     "output_type": "stream",
     "text": [
      "Wachtwoorden moeten overeenkomen!\n",
      "Wachtwoorden moeten overeenkomen!\n",
      "Succes!\n"
     ]
    }
   ],
   "source": [
    "wachtwoord1 = input()\n",
    "wachtwoord2 = input()\n",
    "\n",
    "while(wachtwoord1 != wachtwoord2):\n",
    "    print(\"Wachtwoorden moeten overeenkomen!\")  \n",
    "    wachtwoord1 = input()\n",
    "    wachtwoord2 = input()\n",
    "    \n",
    "    \n",
    "print(\"Succes!\")"
   ]
  },
  {
   "cell_type": "markdown",
   "metadata": {},
   "source": [
    "Schrijf de inhoud van de methode tafels. De methode print alle tafels vanaf 1 (dus inclusief de tafel van 1) tot en met de tafel van het meegekregen getal (dus inclusief de tafel van getal).  Zet een witregel tussen alle tafels in. <br>\n",
    "Let op:\n",
    "- Gebruik een while-loop\n",
    "- Gebruik de reeds geschreven methode tafel om een tafel uit te printen"
   ]
  },
  {
   "cell_type": "code",
   "execution_count": 12,
   "metadata": {},
   "outputs": [
    {
     "name": "stdout",
     "output_type": "stream",
     "text": [
      "1 x 1 = 1\n",
      "1 x 2 = 2\n",
      "1 x 3 = 3\n",
      "1 x 4 = 4\n",
      "1 x 5 = 5\n",
      "1 x 6 = 6\n",
      "1 x 7 = 7\n",
      "1 x 8 = 8\n",
      "1 x 9 = 9\n",
      "1 x 10 = 10\n",
      "2 x 1 = 2\n",
      "2 x 2 = 4\n",
      "2 x 3 = 6\n",
      "2 x 4 = 8\n",
      "2 x 5 = 10\n",
      "2 x 6 = 12\n",
      "2 x 7 = 14\n",
      "2 x 8 = 16\n",
      "2 x 9 = 18\n",
      "2 x 10 = 20\n",
      "3 x 1 = 3\n",
      "3 x 2 = 6\n",
      "3 x 3 = 9\n",
      "3 x 4 = 12\n",
      "3 x 5 = 15\n",
      "3 x 6 = 18\n",
      "3 x 7 = 21\n",
      "3 x 8 = 24\n",
      "3 x 9 = 27\n",
      "3 x 10 = 30\n",
      "4 x 1 = 4\n",
      "4 x 2 = 8\n",
      "4 x 3 = 12\n",
      "4 x 4 = 16\n",
      "4 x 5 = 20\n",
      "4 x 6 = 24\n",
      "4 x 7 = 28\n",
      "4 x 8 = 32\n",
      "4 x 9 = 36\n",
      "4 x 10 = 40\n",
      "5 x 1 = 5\n",
      "5 x 2 = 10\n",
      "5 x 3 = 15\n",
      "5 x 4 = 20\n",
      "5 x 5 = 25\n",
      "5 x 6 = 30\n",
      "5 x 7 = 35\n",
      "5 x 8 = 40\n",
      "5 x 9 = 45\n",
      "5 x 10 = 50\n"
     ]
    }
   ],
   "source": [
    "def tafel(getal: int):\n",
    "    teller: int = 1\n",
    "    tafel: int = 1\n",
    "    while(teller <= 10):\n",
    "        print(f'{teller} x {getal} = {teller * getal}')\n",
    "        teller += 1\n",
    "\n",
    "def tafels(getal: int):\n",
    "    teller: int = 1\n",
    "    \n",
    "    while (teller <= getal):\n",
    "        print(f'{teller} x {1} = {1 * teller}')\n",
    "        print(f'{teller} x {2} = {2 * teller}')\n",
    "        print(f'{teller} x {3} = {3 * teller}')\n",
    "        print(f'{teller} x {4} = {4 * teller}')\n",
    "        print(f'{teller} x {5} = {5 * teller}')\n",
    "        print(f'{teller} x {6} = {6 * teller}')\n",
    "        print(f'{teller} x {7} = {7 * teller}')\n",
    "        print(f'{teller} x {8} = {8 * teller}')\n",
    "        print(f'{teller} x {9} = {9 * teller}')\n",
    "        print(f'{teller} x {10} = {10 * teller}')\n",
    "        \n",
    "        teller += 1\n",
    "        \n",
    "        # if(teller == 10):\n",
    "            \n",
    "x: int = int(input())\n",
    "tafels(x)"
   ]
  },
  {
   "cell_type": "markdown",
   "metadata": {},
   "source": [
    "## For-loop"
   ]
  },
  {
   "cell_type": "markdown",
   "metadata": {},
   "source": [
    "Vervang de while-loop door een werkende for-loop. De uitkomst van het programma mag daarbij niet veranderen."
   ]
  },
  {
   "cell_type": "code",
   "execution_count": 17,
   "metadata": {},
   "outputs": [
    {
     "name": "stdout",
     "output_type": "stream",
     "text": [
      "huidige getal: 0\n",
      "huidige getal: 1\n",
      "huidige getal: 2\n",
      "huidige getal: 3\n",
      "huidige getal: 4\n",
      "huidige getal: 5\n",
      "huidige getal: 6\n",
      "huidige getal: 7\n",
      "huidige getal: 8\n",
      "huidige getal: 9\n",
      "huidige getal: 10\n"
     ]
    }
   ],
   "source": [
    "def loopje():\n",
    "  \n",
    "    # while(aantal <= 10):\n",
    "    aantal: int = 10 \n",
    "    for i in range(aantal + 1): \n",
    "        print(f\"huidige getal: {i}\")  \n",
    "\n",
    "\n",
    "loopje()"
   ]
  },
  {
   "cell_type": "markdown",
   "metadata": {},
   "source": [
    "Schrijf de methode checkEven die achtereenvolgens 12 getallen inleest en afdrukt hoe vaak het ingevoerde getal even was."
   ]
  },
  {
   "cell_type": "code",
   "execution_count": null,
   "metadata": {},
   "outputs": [
    {
     "name": "stdout",
     "output_type": "stream",
     "text": [
      "Voer 12 getallen in\n",
      "er zijn 6 even getallen\n"
     ]
    }
   ],
   "source": [
    "\n",
    "getal : int = 0\n",
    "\n",
    "def checkEven(getal: int):\n",
    "    count : int = 0\n",
    "    aantalEvenGetallen: int = 0\n",
    "    print(\"Voer 12 getallen in:\")\n",
    "    while(count != 12):\n",
    "        getal = int(input())\n",
    "        count += 1\n",
    "        if(getal % 2 == 0):\n",
    "            aantalEvenGetallen += 1\n",
    "\n",
    "    print(f'er zijn {aantalEvenGetallen} even getallen')\n",
    "checkEven(getal)"
   ]
  },
  {
   "cell_type": "markdown",
   "metadata": {},
   "source": [
    "## Objectoriëntatie"
   ]
  },
  {
   "cell_type": "markdown",
   "metadata": {},
   "source": [
    "Maak een minisysteem voor een kledingwinkel. Maak verschillende klassen voor verschillende soorten kledingstukken, waarbij sommige klassen geërfd worden van andere klassen.\n",
    "- Maak een klasse Kledingstuk aan, waarin door de constructor een merk, een maat en een prijs geïnitialiseerd worden.\n",
    "- Maak een klasse Broek en een klasse Shirt, beide erven van de klasse Kledingstuk. Voeg aan Broek een broek_type, en aan Shirt een shirt_type toe (d.m.v. constructorgebruik).\n",
    "- Maak een klasse Spijkerbroek die erft van broek en een klasse Poloshirt die erft van shirt. Voeg aan Spijkerbroek een blauwtint toe, en aan Poloshirt een kraagsoort (d.m.v. constructorgebruik).\n",
    "- Implementeer in elke klasse een beschrijf-methode, waarmee alle informatie over het betreffende kledingstuk wordt afgedrukt.\n",
    "- Maak van elke klasse een object aan en roep de beschrijfmethode aan. Controleer nauwkeurig of alles naar behoren werkt."
   ]
  },
  {
   "cell_type": "code",
   "execution_count": 2,
   "metadata": {},
   "outputs": [
    {
     "name": "stdout",
     "output_type": "stream",
     "text": [
      "Merk: Levi's, Maat: M, Prijs: €50, Broektype: Skinny\n",
      "Merk: H&M, Maat: S, Prijs: €20, Shirttype: T-shirt\n",
      "Merk: Levi's, Maat: M, Prijs: €60, Broektype: Straight, Blauwtint: Donkerblauw\n",
      "Merk: Ralph Lauren, Maat: L, Prijs: €80, Shirttype: Polo, Kraagsoort: Klassiek\n"
     ]
    }
   ],
   "source": [
    "class Kledingstuk:\n",
    "    def __init__(self, merk, maat, prijs):\n",
    "        self.merk = merk\n",
    "        self.maat = maat\n",
    "        self.prijs = prijs\n",
    "\n",
    "    def beschrijf(self):\n",
    "        return f\"Merk: {self.merk}, Maat: {self.maat}, Prijs: €{self.prijs}\"\n",
    "\n",
    "\n",
    "class Broek(Kledingstuk):\n",
    "    def __init__(self, merk, maat, prijs, broek_type):\n",
    "        super().__init__(merk, maat, prijs)\n",
    "        self.broek_type = broek_type\n",
    "\n",
    "    def beschrijf(self):\n",
    "        return f\"{super().beschrijf()}, Broektype: {self.broek_type}\"\n",
    "\n",
    "\n",
    "class Shirt(Kledingstuk):\n",
    "    def __init__(self, merk, maat, prijs, shirt_type):\n",
    "        super().__init__(merk, maat, prijs)\n",
    "        self.shirt_type = shirt_type\n",
    "\n",
    "    def beschrijf(self):\n",
    "        return f\"{super().beschrijf()}, Shirttype: {self.shirt_type}\"\n",
    "\n",
    "\n",
    "class Spijkerbroek(Broek):\n",
    "    def __init__(self, merk, maat, prijs, broek_type, blauwtint):\n",
    "        super().__init__(merk, maat, prijs, broek_type)\n",
    "        self.blauwtint = blauwtint\n",
    "\n",
    "    def beschrijf(self):\n",
    "        return f\"{super().beschrijf()}, Blauwtint: {self.blauwtint}\"\n",
    "\n",
    "\n",
    "class Poloshirt(Shirt):\n",
    "    def __init__(self, merk, maat, prijs, shirt_type, kraagsoort):\n",
    "        super().__init__(merk, maat, prijs, shirt_type)\n",
    "        self.kraagsoort = kraagsoort\n",
    "\n",
    "    def beschrijf(self):\n",
    "        return f\"{super().beschrijf()}, Kraagsoort: {self.kraagsoort}\"\n",
    "\n",
    "broek = Broek(\"Levi's\", \"M\", 50, \"Skinny\")\n",
    "print(broek.beschrijf())\n",
    "\n",
    "shirt = Shirt(\"H&M\", \"S\", 20, \"T-shirt\")\n",
    "print(shirt.beschrijf())\n",
    "\n",
    "spijkerbroek = Spijkerbroek(\"Levi's\", \"M\", 60, \"Straight\", \"Donkerblauw\")\n",
    "print(spijkerbroek.beschrijf())\n",
    "\n",
    "poloshirt = Poloshirt(\"Ralph Lauren\", \"L\", 80, \"Polo\", \"Klassiek\")\n",
    "print(poloshirt.beschrijf())"
   ]
  },
  {
   "cell_type": "markdown",
   "metadata": {},
   "source": [
    "Opmerking: in themaweken 2 t/m 8 ga je objectoriëntatie waarschijnlijk veel minder vaak gebruiken dan de andere boven- en ondergenoemde programmeertechnieken.<br>\n",
    "Maar let op: in themaweken 9 en 10 komt objectoriëntatie <b><u>uitvoerig</u></b> aan de orde. Zorg dus dat je deze kennis niet vergeet!"
   ]
  },
  {
   "cell_type": "markdown",
   "metadata": {},
   "source": [
    "## Verzamelingen"
   ]
  },
  {
   "cell_type": "markdown",
   "metadata": {},
   "source": [
    "Kijk nu naar alle info onder het kopje *Verzamelingen* van de cheatsheet *Van Java naar Python - Cheatsheet*."
   ]
  },
  {
   "cell_type": "markdown",
   "metadata": {},
   "source": [
    "Initialiseer een lijst met de naam mijn_lijst met de volgende waarden:<br>\n",
    "Jelle, Marleen, Henk, Fatima, Jelle, Henk"
   ]
  },
  {
   "cell_type": "code",
   "execution_count": null,
   "metadata": {},
   "outputs": [
    {
     "name": "stdout",
     "output_type": "stream",
     "text": [
      "['Jelle', 'Marleen', 'Henk', 'Fatima', 'Jelle', 'Henk']\n"
     ]
    }
   ],
   "source": [
    "mijn_lijst =['Jelle', 'Marleen', 'Henk', 'Fatima', 'Jelle', 'Henk']\n",
    "print(mijn_lijst)"
   ]
  },
  {
   "cell_type": "markdown",
   "metadata": {},
   "source": [
    "Probeer nu de eerste waarde uit te lijst te veranderen in een naam naar keuze. Lukt dat?"
   ]
  },
  {
   "cell_type": "code",
   "execution_count": null,
   "metadata": {},
   "outputs": [
    {
     "name": "stdout",
     "output_type": "stream",
     "text": [
      "['impostor', 'Marleen', 'Henk', 'Fatima', 'Jelle', 'Henk']\n"
     ]
    }
   ],
   "source": [
    "mijn_lijst =['Jelle', 'Marleen', 'Henk', 'Fatima', 'Jelle', 'Henk']\n",
    "list[0] = 'impostor'\n",
    "\n",
    "print(mijn_lijst)\n",
    "# Ja want python lists zijn mutable"
   ]
  },
  {
   "cell_type": "markdown",
   "metadata": {},
   "source": [
    "Maak van bovengenoemde lijst nu een tupel, genaamd: mijn_tupel."
   ]
  },
  {
   "cell_type": "code",
   "execution_count": null,
   "metadata": {},
   "outputs": [
    {
     "name": "stdout",
     "output_type": "stream",
     "text": [
      "('Jelle', 'Marleen', 'Henk', 'Fatima', 'Jelle', 'Henk')\n"
     ]
    }
   ],
   "source": [
    "mijn_tupel = ('Jelle','Marleen','Henk','Fatima','Jelle','Henk')\n",
    "print(mijn_tupel)\n"
   ]
  },
  {
   "cell_type": "markdown",
   "metadata": {},
   "source": [
    "Probeer nu de eerste waarde uit te tupel te veranderen in een naam naar keuze. Lukt dat?"
   ]
  },
  {
   "cell_type": "code",
   "execution_count": null,
   "metadata": {},
   "outputs": [
    {
     "ename": "TypeError",
     "evalue": "'tuple' object does not support item assignment",
     "output_type": "error",
     "traceback": [
      "\u001b[1;31m---------------------------------------------------------------------------\u001b[0m",
      "\u001b[1;31mTypeError\u001b[0m                                 Traceback (most recent call last)",
      "Cell \u001b[1;32mIn[6], line 2\u001b[0m\n\u001b[0;32m      1\u001b[0m mijn_tupel \u001b[38;5;241m=\u001b[39m (\u001b[38;5;124m'\u001b[39m\u001b[38;5;124mJelle\u001b[39m\u001b[38;5;124m'\u001b[39m,\u001b[38;5;124m'\u001b[39m\u001b[38;5;124mMarleen\u001b[39m\u001b[38;5;124m'\u001b[39m,\u001b[38;5;124m'\u001b[39m\u001b[38;5;124mHenk\u001b[39m\u001b[38;5;124m'\u001b[39m,\u001b[38;5;124m'\u001b[39m\u001b[38;5;124mFatima\u001b[39m\u001b[38;5;124m'\u001b[39m,\u001b[38;5;124m'\u001b[39m\u001b[38;5;124mJelle\u001b[39m\u001b[38;5;124m'\u001b[39m,\u001b[38;5;124m'\u001b[39m\u001b[38;5;124mHenk\u001b[39m\u001b[38;5;124m'\u001b[39m)\n\u001b[1;32m----> 2\u001b[0m \u001b[43mmijn_tupel\u001b[49m\u001b[43m[\u001b[49m\u001b[38;5;241;43m0\u001b[39;49m\u001b[43m]\u001b[49m \u001b[38;5;241m=\u001b[39m \u001b[38;5;124m'\u001b[39m\u001b[38;5;124mimposter\u001b[39m\u001b[38;5;124m'\u001b[39m\n\u001b[0;32m      3\u001b[0m \u001b[38;5;28mprint\u001b[39m(mijn_tupel)\n",
      "\u001b[1;31mTypeError\u001b[0m: 'tuple' object does not support item assignment"
     ]
    }
   ],
   "source": [
    "mijn_tupel = ('Jelle','Marleen','Henk','Fatima','Jelle','Henk')\n",
    "mijn_tupel[0] = 'imposter'\n",
    "print(mijn_tupel)\n",
    "# nee want tupels zijn immutable"
   ]
  },
  {
   "cell_type": "markdown",
   "metadata": {},
   "source": [
    "Initialiseer een dictionary met de volgende key-value-combinaties:\n",
    "- naam: \"Jelle\"\n",
    "- leeftijd: 28\n",
    "- beroep: \"Docent\"\n",
    "- hobby: \"Volleybal\""
   ]
  },
  {
   "cell_type": "code",
   "execution_count": 7,
   "metadata": {},
   "outputs": [
    {
     "name": "stdout",
     "output_type": "stream",
     "text": [
      "{'naam': 'Jelle', 'leeftijd': 28, 'beroep': 'Docent', 'hobby': 'Volleybal'}\n"
     ]
    }
   ],
   "source": [
    "medewerker = {\n",
    "    'naam': \"Jelle\",\n",
    "    'leeftijd': 28,\n",
    "    'beroep': \"Docent\",\n",
    "    'hobby': \"Volleybal\"\n",
    "    \n",
    "}\n",
    "print(medewerker)"
   ]
  },
  {
   "cell_type": "markdown",
   "metadata": {},
   "source": [
    "Probeer nu de naam te veranderen naar een naam naar keuze. Lukt dat?"
   ]
  },
  {
   "cell_type": "code",
   "execution_count": null,
   "metadata": {},
   "outputs": [
    {
     "name": "stdout",
     "output_type": "stream",
     "text": [
      "{'naam': 'Ye', 'leeftijd': 28, 'beroep': 'Docent', 'hobby': 'Volleybal'}\n"
     ]
    }
   ],
   "source": [
    "medewerker = {\n",
    "    'naam': \"Jelle\",\n",
    "    'leeftijd': 28,\n",
    "    'beroep': \"Docent\",\n",
    "    'hobby': \"Volleybal\"\n",
    "    \n",
    "}\n",
    "\n",
    "medewerker['naam'] = \"Ye\"\n",
    "print(medewerker)\n",
    "# Python dictionaries zijn mutable"
   ]
  }
 ],
 "metadata": {
  "kernelspec": {
   "display_name": ".venv",
   "language": "python",
   "name": "python3"
  },
  "language_info": {
   "codemirror_mode": {
    "name": "ipython",
    "version": 3
   },
   "file_extension": ".py",
   "mimetype": "text/x-python",
   "name": "python",
   "nbconvert_exporter": "python",
   "pygments_lexer": "ipython3",
   "version": "3.13.2"
  }
 },
 "nbformat": 4,
 "nbformat_minor": 2
}
