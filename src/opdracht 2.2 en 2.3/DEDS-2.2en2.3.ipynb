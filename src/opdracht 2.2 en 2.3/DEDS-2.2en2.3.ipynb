{
 "cells": [
  {
   "cell_type": "markdown",
   "source": [
    "Imports and initial connection"
   ],
   "metadata": {
    "collapsed": false
   },
   "id": "a41ca8b26f077df8"
  },
  {
   "cell_type": "code",
   "execution_count": null,
   "id": "initial_id",
   "metadata": {
    "collapsed": true
   },
   "outputs": [],
   "source": [
    "from sqlalchemy import create_engine\n",
    "from sqlalchemy import text\n",
    "import pandas as pd\n",
    "import sqlite3\n",
    "\n",
    "engine = create_engine(\"mssql+pyodbc://LEGION\\\\SQLEXPRESS/sdm?driver=ODBC+Driver+17+for+SQL+Server&trusted_connection=yes\")\n"
   ]
  },
  {
   "cell_type": "markdown",
   "source": [
    "Create DataFrames from db"
   ],
   "metadata": {
    "collapsed": false
   },
   "id": "42d0375a7eaa1664"
  },
  {
   "cell_type": "code",
   "outputs": [],
   "source": [
    "age_group_df = pd.read_sql_query('SELECT * FROM age_group', engine)\n",
    "country_df = pd.read_sql_query('SELECT * FROM country', engine)\n",
    "course_df = pd.read_sql_query('SELECT * FROM course', engine)\n",
    "inventory_levels_df = pd.read_sql_query('SELECT * FROM inventory_levels', engine)\n",
    "order_details_df = pd.read_sql_query('SELECT * FROM order_details', engine)\n",
    "order_header_df = pd.read_sql_query('SELECT * FROM order_header', engine)\n",
    "order_method_df = pd.read_sql_query('SELECT * FROM order_method', engine)\n",
    "product_df = pd.read_sql_query('SELECT * FROM product', engine)\n",
    "product_forecast_df = pd.read_sql_query('SELECT * FROM product_forecast', engine)\n",
    "product_line_df = pd.read_sql_query('SELECT * FROM product_line', engine)\n",
    "product_type_df = pd.read_sql_query('SELECT * FROM product_type', engine)\n",
    "retailer_df = pd.read_sql_query('SELECT * FROM retailer', engine)\n",
    "retailer_headquarters_df = pd.read_sql_query('SELECT * FROM retailer_headquarters', engine)\n",
    "retailer_segment_df = pd.read_sql_query('SELECT * FROM retailer_segment', engine)\n",
    "retailer_site_df = pd.read_sql_query('SELECT * FROM retailer_site', engine)\n",
    "retailer_type_df = pd.read_sql_query('SELECT * FROM retailer_type', engine)\n",
    "return_reason_df = pd.read_sql_query('SELECT * FROM return_reason', engine)\n",
    "returned_item_df = pd.read_sql_query('SELECT * FROM returned_item', engine)\n",
    "sales_branch_df = pd.read_sql_query('SELECT * FROM sales_branch', engine)\n",
    "sales_staff_df = pd.read_sql_query('SELECT * FROM sales_staff', engine)\n",
    "sales_demographic_df = pd.read_sql_query('SELECT * FROM sales_demographic', engine)\n",
    "sales_territory_df = pd.read_sql_query('SELECT * FROM sales_territory', engine)\n",
    "satisfaction_df = pd.read_sql_query('SELECT * FROM satisfaction', engine)\n",
    "satisfaction_type_df = pd.read_sql_query('SELECT * FROM satisfaction_type', engine)\n",
    "training_df = pd.read_sql_query('SELECT * FROM training', engine)\n"
   ],
   "metadata": {
    "collapsed": false
   },
   "id": "85286cfbe567fdf2",
   "execution_count": null
  },
  {
   "cell_type": "markdown",
   "source": [
    "Loc for one-liner inserts into DataFrame & insert into SQL DB"
   ],
   "metadata": {
    "collapsed": false
   },
   "id": "43a970c668008232"
  },
  {
   "cell_type": "code",
   "outputs": [],
   "source": [
    "# course_df.loc[len(course_df)] = [2, 'course test info2']\n",
    "# training_df.loc[len(training_df)] = [2026, 7, 2]\n",
    "\n",
    "# course_df\n",
    "# course_df = course_df.drop(course_df[course_df['COURSE_CODE'] == 2].index)\n",
    "\n",
    "# course_df.to_sql('course', con=engine, if_exists='replace', index=False)\n",
    "# training_df.to_sql('training', con=engine, if_exists='append', index=False)\n",
    "\n",
    "\n",
    "new_data1 = pd.DataFrame({'COURSE_CODE' : [6],'COURSE_DESCRIPTION' : ['course test info6']})\n",
    "\n",
    "filtered_data1 = new_data1[~new_data1['COURSE_CODE'].isin(course_df['COURSE_CODE'])]\n",
    "\n",
    "filtered_data1.to_sql('course', con=engine, if_exists='append', index=False)"
   ],
   "metadata": {
    "collapsed": false
   },
   "id": "d6830a4c530381c4",
   "execution_count": null
  },
  {
   "cell_type": "markdown",
   "source": [
    "Insert where there are foreign keys test\n",
    "Start from outside (tables with no foreign keys required) and go within\n",
    "\n",
    "insert into sales_demographic required FK from age_group and retailer_headquarters, insert into retailer_headquarters requires FK from retailer_segment"
   ],
   "metadata": {
    "collapsed": false
   },
   "id": "b949476050bd6238"
  },
  {
   "cell_type": "markdown",
   "source": [
    "retailer_segment DF and DB insert"
   ],
   "metadata": {
    "collapsed": false
   },
   "id": "1d959a14a36c5cdd"
  },
  {
   "cell_type": "code",
   "outputs": [],
   "source": [
    "# retailer_segment_df.loc[len(retailer_segment_df)] = [2, 'english2', 'seg name test2', 'seg desc test2']\n",
    "# retailer_segment_df.to_sql('retailer_segment', con=engine, if_exists='replace', index=False)\n",
    "\n",
    "# retailer_segment_df = retailer_segment_df.drop(retailer_segment_df[retailer_segment_df['SEGMENT_CODE'] == 1].index)\n",
    "# retailer_segment_df\n",
    "\n",
    "new_data2 = pd.DataFrame({'SEGMENT_CODE': [3], 'SEGMENT_NAME': ['english3'], 'SEGMENT_DESC': ['seg name test3'], 'SEGMENT_DESC_NON_ENG': ['seg desc test3']})\n",
    "\n",
    "filtered_data2 = new_data2[~new_data2['SEGMENT_CODE'].isin(retailer_segment_df['SEGMENT_CODE'])]\n",
    "\n",
    "filtered_data2.to_sql('retailer_segment', con=engine, if_exists='append', index=False)"
   ],
   "metadata": {
    "collapsed": false
   },
   "id": "578c0049acbd135a",
   "execution_count": null
  },
  {
   "cell_type": "markdown",
   "source": [
    "territory_code DF and DB insert"
   ],
   "metadata": {
    "collapsed": false
   },
   "id": "1e46f423fcf7e47b"
  },
  {
   "cell_type": "code",
   "outputs": [],
   "source": [
    "# sales_territory_df.loc[len(sales_territory_df)] = [3, 'kingdom of the netherlands']\n",
    "# sales_territory_df.to_sql('sales_territory', con=engine, if_exists='append', index=False)\n",
    "\n",
    "new_data3 = pd.DataFrame({'SALES_TERRITORY_CODE': [4], 'TERRITORY_NAME_EN': ['kingdom of the netherlands']})\n",
    "\n",
    "filtered_data3 = new_data3[~new_data3['SALES_TERRITORY_CODE'].isin(sales_territory_df['SALES_TERRITORY_CODE'])]\n",
    "\n",
    "filtered_data3.to_sql('sales_territory', con=engine, if_exists='append', index=False)"
   ],
   "metadata": {
    "collapsed": false
   },
   "id": "ce33e3b2403449c6",
   "execution_count": null
  },
  {
   "cell_type": "markdown",
   "source": [
    "country DF and DB insert"
   ],
   "metadata": {
    "collapsed": false
   },
   "id": "1386071004037975"
  },
  {
   "cell_type": "code",
   "outputs": [],
   "source": [
    "# country_df.loc[len(country_df)] = [1, 'netherlands', 'dutch', 'euro', 'flag of the netherlands', 3]\n",
    "# country_df.to_sql('country', con=engine, if_exists='append', index=False)\n",
    "\n",
    "new_data4 = pd.DataFrame({'COUNTRY_CODE': [2], 'COUNTRY_EN': ['belgium'], 'LANGUAGE': ['french'], 'CURRENCY_NAME': ['euro'], 'FLAG_IMAGE': ['flag of belgium'], 'SALES_TERRITORY_CODE': [4]})\n",
    "\n",
    "filtered_data4 = new_data4[~new_data4['COUNTRY_CODE'].isin(country_df['COUNTRY_CODE'])]\n",
    "\n",
    "filtered_data4.to_sql('country', con=engine, if_exists='append', index=False)"
   ],
   "metadata": {
    "collapsed": false
   },
   "id": "678f10dfb1db4030",
   "execution_count": null
  },
  {
   "cell_type": "markdown",
   "source": [
    "retailer_headquarters DF and DB insert"
   ],
   "metadata": {
    "collapsed": false
   },
   "id": "a03629f488afc57a"
  },
  {
   "cell_type": "code",
   "outputs": [],
   "source": [
    "# retailer_headquarters_df.loc[len(retailer_headquarters_df)] = [8, 'google', 'address1test', 'address2test', 'amsterdam', 'north holland', 1, '1234567890', '1234567890', 1]\n",
    "# retailer_headquarters_df.to_sql('retailer_headquarters', con=engine, if_exists='append', index=False)\n",
    "\n",
    "new_data5 = pd.DataFrame({'RETAILER_CODEMR': [9], 'RETAILER_NAME': ['google'], 'ADDRESS1': ['address1test'], 'ADDRESS2': ['address2test'], 'CITY': ['amsterdam'], 'REGION': ['north holland'], 'COUNTRY_CODE': [2], 'PHONE': ['1234567890'], 'FAX': ['1234567890'], 'SEGMENT_CODE': [3]})\n",
    "\n",
    "filtered_data5 = new_data5[~new_data5['RETAILER_CODEMR'].isin(retailer_headquarters_df['RETAILER_CODEMR'])]\n",
    "\n",
    "filtered_data5.to_sql('retailer_headquarters', con=engine, if_exists='append', index=False)"
   ],
   "metadata": {
    "collapsed": false
   },
   "id": "417d3f3849825121",
   "execution_count": null
  },
  {
   "cell_type": "markdown",
   "source": [
    "age_group DF and DB insert"
   ],
   "metadata": {
    "collapsed": false
   },
   "id": "aaeb08dff27749ff"
  },
  {
   "cell_type": "code",
   "outputs": [],
   "source": [
    "# age_group_df.loc[len(age_group_df)] = [5, 66, 21]\n",
    "# age_group_df.to_sql('age_group', con=engine, if_exists='append', index=False)\n",
    "\n",
    "# age_group_df\n",
    "# age_group_df = age_group_df.drop(age_group_df[age_group_df['AGE_GROUP_CODE'] == 4].index)\n",
    "\n",
    "\n",
    "new_data6 = pd.DataFrame({'AGE_GROUP_CODE': [7], 'UPPER_AGE': [68], 'LOWER_AGE': [23]})\n",
    "\n",
    "filtered_data6 = new_data6[~new_data6['AGE_GROUP_CODE'].isin(age_group_df['AGE_GROUP_CODE'])]\n",
    "\n",
    "filtered_data6.to_sql('age_group', con=engine, if_exists='append', index=False)"
   ],
   "metadata": {
    "collapsed": false
   },
   "id": "537ccf838579ca68",
   "execution_count": null
  },
  {
   "cell_type": "markdown",
   "source": [
    "sales_demographic DF and DB insert"
   ],
   "metadata": {
    "collapsed": false
   },
   "id": "58198ccad50dea7f"
  },
  {
   "cell_type": "code",
   "outputs": [],
   "source": [
    "# sales_demographic_df.loc[len(sales_demographic_df)] = [12, 8, 4, 20]\n",
    "# sales_demographic_df.to_sql('sales_demographic', con=engine, if_exists='append', index=False)\n",
    "\n",
    "new_data7 = pd.DataFrame({'DEMOGRAPHIC_CODE': [13], 'RETAILER_CODEMR': [9], 'AGE_GROUP_CODE': [5], 'PERCENT': [20]})\n",
    "\n",
    "filtered_data7 = new_data7[~new_data7['DEMOGRAPHIC_CODE'].isin(sales_demographic_df['DEMOGRAPHIC_CODE'])]\n",
    "\n",
    "filtered_data7.to_sql('sales_demographic', con=engine, if_exists='append', index=False)"
   ],
   "metadata": {
    "collapsed": false
   },
   "id": "51946525c1399b12",
   "execution_count": null
  },
  {
   "cell_type": "markdown",
   "source": [
    "import read data from go_crm_train file"
   ],
   "metadata": {
    "collapsed": false
   },
   "id": "7a8010c94e4538da"
  },
  {
   "cell_type": "code",
   "outputs": [],
   "source": [
    "conn = sqlite3.connect('../data/raw/go_crm_train.sqlite')\n",
    "result = conn.cursor().execute('SELECT * from age_group').fetchall()\n",
    "\n",
    "result_df = pd.DataFrame(result, columns=['AGE_GROUP_ID', 'UPPER_AGE', 'LOWER_AGE'])\n",
    "result_df"
   ],
   "metadata": {
    "collapsed": false
   },
   "id": "695c70df5d188177",
   "execution_count": null
  },
  {
   "cell_type": "markdown",
   "source": [
    "delete all records from DB table"
   ],
   "metadata": {
    "collapsed": false
   },
   "id": "423bc5e2e2a4816a"
  },
  {
   "cell_type": "code",
   "outputs": [],
   "source": [
    "with engine.connect() as conn:\n",
    "    # conn.execute(text(\"DELETE FROM retailer_headquarters WHERE SEGMENT_CODE IS NOT NULL\"))\n",
    "    # conn.commit()\n",
    "\n",
    "    conn.execute(text(\"DELETE FROM sales_territory\"))\n",
    "    conn.commit()"
   ],
   "metadata": {
    "collapsed": false
   },
   "id": "241de90cc4e7aded",
   "execution_count": null
  },
  {
   "cell_type": "markdown",
   "source": [
    "make all connections"
   ],
   "metadata": {
    "collapsed": false
   },
   "id": "aa4b7946ff93c963"
  },
  {
   "cell_type": "code",
   "outputs": [],
   "source": [
    "prod_fore_csv = pd.read_csv('../data/raw/product_forecast_train.csv')\n",
    "prod_fore_df = pd.DataFrame(prod_fore_csv)\n",
    "\n",
    "inv_levels_csv = pd.read_csv('../data/raw/inventory_levels_train.csv')\n",
    "inv_levels_df = pd.DataFrame(inv_levels_csv)\n",
    "\n",
    "crm_train_conn = sqlite3.connect('../data/raw/go_crm_train.sqlite')\n",
    "sales_train_conn = sqlite3.connect('../data/raw/go_sales_train.sqlite')\n",
    "staff_train_conn = sqlite3.connect('../data/raw/go_staff_train.sqlite')"
   ],
   "metadata": {
    "collapsed": false,
    "ExecuteTime": {
     "end_time": "2025-02-28T18:23:23.667473Z",
     "start_time": "2025-02-28T18:23:23.657475Z"
    }
   },
   "id": "1edf04890f2c76cc",
   "execution_count": 195
  },
  {
   "cell_type": "markdown",
   "source": [],
   "metadata": {
    "collapsed": false
   },
   "id": "c18191b8bd69a234"
  },
  {
   "cell_type": "markdown",
   "source": [
    "insert product_line data into DB table"
   ],
   "metadata": {
    "collapsed": false
   },
   "id": "f32df42983b25e35"
  },
  {
   "cell_type": "code",
   "outputs": [],
   "source": [
    "product_line_fetch = sales_train_conn.cursor().execute('SELECT * from product_line').fetchall()\n",
    "product_line_fetch = pd.DataFrame(product_line_fetch, columns=['PRODUCT_LINE_CODE', 'PRODUCT_LINE_EN'])\n",
    "\n",
    "a = 0\n",
    "while a < len(product_line_fetch):\n",
    "    product_line_temp_df = pd.DataFrame({'PRODUCT_LINE_CODE': [product_line_fetch.iloc[a]['PRODUCT_LINE_CODE']], 'PRODUCT_LINE_EN': [product_line_fetch.iloc[a]['PRODUCT_LINE_EN']]})\n",
    "    \n",
    "    product_line_temp_df.to_sql('product_line', con=engine, if_exists='append', index=False)\n",
    "    a += 1\n"
   ],
   "metadata": {
    "collapsed": false
   },
   "id": "faa078f3505f6298",
   "execution_count": null
  },
  {
   "cell_type": "markdown",
   "source": [
    "insert product_type data into DB table"
   ],
   "metadata": {
    "collapsed": false
   },
   "id": "1ddfcf2cb2c7b30d"
  },
  {
   "cell_type": "code",
   "outputs": [],
   "source": [
    "product_type_fetch = sales_train_conn.cursor().execute('SELECT * FROM product_type').fetchall()\n",
    "product_type_fetch = pd.DataFrame(product_type_fetch, columns=['PRODUCT_TYPE_CODE', 'PRODUCT_LINE_CODE', 'PRODUCT_TYPE_EN'])\n",
    "\n",
    "b = 0\n",
    "while b < len(product_type_fetch):\n",
    "    product_type_temp_df = pd.DataFrame({'PRODUCT_TYPE_CODE': [product_type_fetch.iloc[b]['PRODUCT_TYPE_CODE']], 'PRODUCT_LINE_CODE': [product_type_fetch.iloc[b]['PRODUCT_LINE_CODE']], 'PRODUCT_TYPE_EN': [product_type_fetch.iloc[b]['PRODUCT_TYPE_EN']]})\n",
    "\n",
    "    product_type_temp_df.to_sql('product_type', con=engine, if_exists='append', index=False)\n",
    "    b += 1"
   ],
   "metadata": {
    "collapsed": false,
    "ExecuteTime": {
     "end_time": "2025-02-28T17:45:59.504645Z",
     "start_time": "2025-02-28T17:45:59.319129Z"
    }
   },
   "id": "f379c60f112a1adf",
   "execution_count": 178
  },
  {
   "cell_type": "markdown",
   "source": [
    "insert product data into DB table"
   ],
   "metadata": {
    "collapsed": false
   },
   "id": "2d19a5b8004a1b5"
  },
  {
   "cell_type": "code",
   "outputs": [],
   "source": [
    "product_fetch = sales_train_conn.cursor().execute('SELECT * FROM product').fetchall()\n",
    "product_fetch = pd.DataFrame(product_fetch, columns=['PRODUCT_NUMBER', 'INTRODUCTION_DATE', 'PRODUCT_TYPE_CODE', 'PRODUCTION_COST', 'MARGIN', 'PRODUCT_IMAGE', 'LANGUAGE', 'PRODUCT_NAME', 'DESCRIPTION'])\n",
    "\n",
    "c = 0\n",
    "while c < len(product_fetch):\n",
    "    product_temp_df = pd.DataFrame({'PRODUCT_NUMBER': [product_fetch.iloc[c]['PRODUCT_NUMBER']], 'INTRODUCTION_DATE': [product_fetch.iloc[c]['INTRODUCTION_DATE']], 'PRODUCT_TYPE_CODE': [product_fetch.iloc[c]['PRODUCT_TYPE_CODE']], 'PRODUCTION_COST': [product_fetch.iloc[c]['PRODUCTION_COST']], 'MARGIN': [product_fetch.iloc[c]['MARGIN']], 'PRODUCT_IMAGE': [product_fetch.iloc[c]['PRODUCT_IMAGE']], 'PRODUCT_NAME': [product_fetch.iloc[c]['PRODUCT_NAME']], 'DESCRIPTION': [product_fetch.iloc[c]['DESCRIPTION']]})\n",
    "\n",
    "    product_temp_df.to_sql('product', con=engine, if_exists='append', index=False)\n",
    "    c += 1"
   ],
   "metadata": {
    "collapsed": false,
    "ExecuteTime": {
     "end_time": "2025-02-28T18:08:37.431455Z",
     "start_time": "2025-02-28T18:08:36.716890Z"
    }
   },
   "id": "f0bee1ae4d9effd7",
   "execution_count": 183
  },
  {
   "cell_type": "markdown",
   "source": [
    "insert product_forecast data into DB"
   ],
   "metadata": {
    "collapsed": false
   },
   "id": "436cf4a3cef9c56e"
  },
  {
   "cell_type": "code",
   "outputs": [],
   "source": [
    "d = 0\n",
    "\n",
    "while d < len(prod_fore_csv):\n",
    "    prod_fore_new_df = pd.DataFrame({'PRODUCT_NUMBER': [prod_fore_df.iloc[d]['PRODUCT_NUMBER']], 'YEAR': [prod_fore_df.iloc[d]['YEAR']], 'MONTH':[prod_fore_df.iloc[d]['MONTH']], 'EXPECTED_VOLUME': [prod_fore_df.iloc[d]['EXPECTED_VOLUME']]})\n",
    "\n",
    "    prod_fore_new_df.to_sql('product_forecast', con=engine, if_exists='append', index=False)\n",
    "    d += 1"
   ],
   "metadata": {
    "collapsed": false,
    "ExecuteTime": {
     "end_time": "2025-02-28T18:13:24.600713Z",
     "start_time": "2025-02-28T18:13:13.448122Z"
    }
   },
   "id": "e11c177fdfdaaceb",
   "execution_count": 187
  },
  {
   "cell_type": "markdown",
   "source": [
    "insert inventory_levels data into DB"
   ],
   "metadata": {
    "collapsed": false
   },
   "id": "6038183956dc64cf"
  },
  {
   "cell_type": "code",
   "outputs": [],
   "source": [
    "e = 0\n",
    "\n",
    "while e < len(inv_levels_csv):\n",
    "    inv_levels_temp_df = pd.DataFrame({'INVENTORY_YEAR': [inv_levels_df.iloc[e]['INVENTORY_YEAR']], 'INVENTORY_MONTH': [inv_levels_df.iloc[e]['INVENTORY_MONTH']], 'PRODUCT_NUMBER': [inv_levels_df.iloc[e]['PRODUCT_NUMBER']], 'INVENTORY_COUNT': [inv_levels_df.iloc[e]['INVENTORY_COUNT']]})\n",
    "    \n",
    "    inv_levels_temp_df.to_sql('inventory_levels', con=engine, if_exists='append', index=False)\n",
    "    e += 1"
   ],
   "metadata": {
    "collapsed": false,
    "ExecuteTime": {
     "end_time": "2025-02-28T18:24:15.979248Z",
     "start_time": "2025-02-28T18:24:04.191220Z"
    }
   },
   "id": "33c66fc89e585ede",
   "execution_count": 199
  },
  {
   "cell_type": "markdown",
   "source": [
    "insert return_reason data into DB"
   ],
   "metadata": {
    "collapsed": false
   },
   "id": "23b52afaad013db8"
  },
  {
   "cell_type": "code",
   "outputs": [],
   "source": [
    "return_reason_fetch = sales_train_conn.cursor().execute('SELECT * FROM return_reason').fetchall()\n",
    "return_reason_fetch = pd.DataFrame(return_reason_fetch, columns=['RETURN_REASON_CODE', 'RETURN_DESCRIPTION_EN'])\n",
    "\n",
    "f = 0\n",
    "while f < len(return_reason_fetch):\n",
    "    return_reason_temp_df = pd.DataFrame({'RETURN_REASON_CODE': [return_reason_fetch.iloc[f]['RETURN_REASON_CODE']], 'RETURN_DESCRIPTION_EN': [return_reason_fetch.iloc[f]['RETURN_DESCRIPTION_EN']]})\n",
    "    \n",
    "    return_reason_temp_df.to_sql('return_reason', con=engine, if_exists='append', index=False)\n",
    "    f += 1"
   ],
   "metadata": {
    "collapsed": false,
    "ExecuteTime": {
     "end_time": "2025-02-28T18:36:27.518316Z",
     "start_time": "2025-02-28T18:36:27.475941Z"
    }
   },
   "id": "15f197dada0374e2",
   "execution_count": 200
  },
  {
   "cell_type": "markdown",
   "source": [
    "insert sales_territory data into DB"
   ],
   "metadata": {
    "collapsed": false
   },
   "id": "a4afbe7791c5e69f"
  },
  {
   "cell_type": "code",
   "outputs": [],
   "source": [
    "sales_territory_fetch = crm_train_conn.cursor().execute('SELECT * FROM sales_territory').fetchall()\n",
    "sales_territory_fetch = pd.DataFrame(sales_territory_fetch, columns=['SALES_TERRITORY_CODE', 'TERRITORY_NAME_EN'])\n",
    "\n",
    "g = 0\n",
    "while g < len(sales_territory_fetch):\n",
    "    sales_territory_temp_df = pd.DataFrame({'SALES_TERRITORY_CODE': [sales_territory_fetch.iloc[g]['SALES_TERRITORY_CODE']], 'TERRITORY_NAME_EN': [sales_territory_fetch.iloc[g]['TERRITORY_NAME_EN']]})\n",
    "    \n",
    "    sales_territory_temp_df.to_sql('sales_territory', con=engine, if_exists='append', index=False)\n",
    "    g += 1"
   ],
   "metadata": {
    "collapsed": false,
    "ExecuteTime": {
     "end_time": "2025-02-28T18:49:20.809841Z",
     "start_time": "2025-02-28T18:49:20.764017Z"
    }
   },
   "id": "d73cea5caa28cd16",
   "execution_count": 203
  },
  {
   "cell_type": "markdown",
   "source": [
    "insert country data into DB"
   ],
   "metadata": {
    "collapsed": false
   },
   "id": "bdabaf11cf0fd5d3"
  },
  {
   "cell_type": "code",
   "outputs": [],
   "source": [
    "country_fetch_crm = pd.DataFrame(crm_train_conn.cursor().execute('SELECT * FROM country').fetchall(), columns=['COUNTRY_CODE', 'COUNTRY_EN', 'FLAG_IMAGE', 'SALES_TERRITORY_CODE'])\n",
    "country_fetch_sales = pd.DataFrame(sales_train_conn.cursor().execute('SELECT * FROM country').fetchall(), columns=['COUNTRY_CODE', 'COUNTRY_EN', 'LANGUAGE', 'CURRENCY_NAME'])\n",
    "merge_country_fetch = country_fetch_crm.merge(country_fetch_sales, on=['COUNTRY_CODE', 'COUNTRY_EN'], how='outer')\n",
    "\n",
    "h = 0\n",
    "while h < len(merge_country_fetch):\n",
    "    country_temp_df = pd.DataFrame({'COUNTRY_CODE': [merge_country_fetch.iloc[h]['COUNTRY_CODE']], 'COUNTRY_EN': [merge_country_fetch.iloc[h]['COUNTRY_EN']], 'FLAG_IMAGE': [merge_country_fetch.iloc[h]['FLAG_IMAGE']], 'SALES_TERRITORY_CODE': [merge_country_fetch.iloc[h]['SALES_TERRITORY_CODE']], 'LANGUAGE': [merge_country_fetch.iloc[h]['LANGUAGE']], 'CURRENCY_NAME': [merge_country_fetch.iloc[h]['CURRENCY_NAME']]})\n",
    "    \n",
    "    country_temp_df.to_sql('country', con=engine, if_exists='append', index=False)\n",
    "    h += 1"
   ],
   "metadata": {
    "collapsed": false,
    "ExecuteTime": {
     "end_time": "2025-02-28T19:34:38.093822Z",
     "start_time": "2025-02-28T19:34:37.767766Z"
    }
   },
   "id": "a0b453a88410bc7",
   "execution_count": 208
  },
  {
   "cell_type": "markdown",
   "source": [
    "insert sales_branch data into DB"
   ],
   "metadata": {
    "collapsed": false
   },
   "id": "f44019051b7ee8"
  },
  {
   "cell_type": "code",
   "outputs": [],
   "source": [
    "sales_branch_fetch_sales = pd.DataFrame(sales_train_conn.cursor().execute('SELECT * FROM sales_branch').fetchall(), columns=['SALES_BRANCH_CODE', 'ADDRESS1', 'ADDRESS2', 'CITY', 'REGION', 'COUNTRY_CODE'])\n",
    "sales_branch_fetch_staff = pd.DataFrame(staff_train_conn.cursor().execute('SELECT * FROM sales_branch').fetchall(), columns=['SALES_BRANCH_CODE', 'ADDRESS1', 'ADDRESS2', 'CITY', 'REGION', 'COUNTRY_CODE'])\n",
    "\n",
    "merge_sales_branch = sales_branch_fetch_sales.merge(sales_branch_fetch_staff, on=['SALES_BRANCH_CODE', 'ADDRESS1', 'ADDRESS2', 'CITY', 'REGION', 'COUNTRY_CODE'], how='outer')\n",
    "\n",
    "i = 0\n",
    "while i < len(merge_sales_branch):\n",
    "    sales_branch_temp_df = pd.DataFrame({'SALES_BRANCH_CODE': [merge_sales_branch.iloc[i]['SALES_BRANCH_CODE']], 'ADDRESS1': [merge_sales_branch.iloc[i]['ADDRESS1']], 'ADDRESS2': [merge_sales_branch.iloc[i]['ADDRESS2']], 'CITY': [merge_sales_branch.iloc[i]['CITY']], 'REGION': [merge_sales_branch.iloc[i]['REGION']], 'COUNTRY_CODE': [merge_sales_branch.iloc[i]['COUNTRY_CODE']]})\n",
    "    \n",
    "    sales_branch_temp_df.to_sql('sales_branch', con=engine, if_exists='append', index=False)\n",
    "    i += 1"
   ],
   "metadata": {
    "collapsed": false,
    "ExecuteTime": {
     "end_time": "2025-02-28T19:50:06.480823Z",
     "start_time": "2025-02-28T19:50:06.081600Z"
    }
   },
   "id": "8487052f2783c1b1",
   "execution_count": 212
  },
  {
   "cell_type": "markdown",
   "source": [
    "insert sales_staff data into DB"
   ],
   "metadata": {
    "collapsed": false
   },
   "id": "e24cb4b8091930aa"
  },
  {
   "cell_type": "code",
   "outputs": [],
   "source": [
    "sales_staff_fetch_sales = pd.DataFrame(sales_train_conn.cursor().execute('SELECT * FROM sales_staff').fetchall(), columns=['SALES_STAFF_CODE', 'FIRST_NAME', 'LAST_NAME', 'POSITION_EN', 'WORK_PHONE', 'EXTENSION', 'FAX', 'EMAIL', 'DATE_HIRED', 'SALES_BRANCH_CODE'])\n",
    "\n",
    "sales_staff_fetch_staff = pd.DataFrame(staff_train_conn.cursor().execute('SELECT * FROM sales_staff').fetchall(), columns=['SALES_STAFF_CODE', 'FIRST_NAME', 'LAST_NAME', 'POSITION_EN', 'WORK_PHONE', 'EXTENSION', 'FAX', 'EMAIL', 'DATE_HIRED', 'SALES_BRANCH_CODE', 'MANAGER_CODE'])\n",
    "\n",
    "merge_sales_staff = sales_staff_fetch_sales.merge(sales_staff_fetch_staff, on=['SALES_STAFF_CODE', 'FIRST_NAME', 'LAST_NAME', 'POSITION_EN', 'WORK_PHONE', 'EXTENSION', 'FAX', 'EMAIL', 'DATE_HIRED', 'SALES_BRANCH_CODE'], how='outer')\n",
    "\n",
    "j = 0\n",
    "while j < len(merge_sales_staff):\n",
    "    sales_staff_temp_df = pd.DataFrame({'SALES_STAFF_CODE': [merge_sales_staff.iloc[j]['SALES_STAFF_CODE']], 'FIRST_NAME': [merge_sales_staff.iloc[j]['FIRST_NAME']], 'LAST_NAME': [merge_sales_staff.iloc[j]['LAST_NAME']], 'POSITION_EN': [merge_sales_staff.iloc[j]['POSITION_EN']], 'WORK_PHONE': [merge_sales_staff.iloc[j]['WORK_PHONE']], 'EXTENSION': [merge_sales_staff.iloc[j]['EXTENSION']], 'FAX': [merge_sales_staff.iloc[j]['FAX']], 'EMAIL': [merge_sales_staff.iloc[j]['EMAIL']], 'DATE_HIRED': [merge_sales_staff.iloc[j]['DATE_HIRED']], 'SALES_BRANCH_CODE': [merge_sales_staff.iloc[j]['SALES_BRANCH_CODE']], 'MANAGER_CODE': [merge_sales_staff.iloc[j]['MANAGER_CODE']]})\n",
    "    \n",
    "    sales_staff_temp_df.to_sql('sales_staff', con=engine, if_exists='append', index=False)\n",
    "    j += 1"
   ],
   "metadata": {
    "collapsed": false,
    "ExecuteTime": {
     "end_time": "2025-02-28T20:01:23.623140Z",
     "start_time": "2025-02-28T20:01:22.668087Z"
    }
   },
   "id": "c3846cb49a99aaf",
   "execution_count": 219
  },
  {
   "cell_type": "markdown",
   "source": [
    "insert satisfaction_type data into DB"
   ],
   "metadata": {
    "collapsed": false
   },
   "id": "8e6f4f114047a496"
  },
  {
   "cell_type": "code",
   "outputs": [],
   "source": [
    "satis_type_fetch = staff_train_conn.cursor().execute('SELECT * FROM satisfaction_type').fetchall()\n",
    "satis_type_fetch = pd.DataFrame(satis_type_fetch, columns=['SATISFACTION_TYPE_CODE', 'SATISFACTION_TYPE_DESCRIPTION'])\n",
    "\n",
    "k = 0\n",
    "while k < len(satis_type_fetch):\n",
    "    satis_type_temp_df = pd.DataFrame({'SATISFACTION_TYPE_CODE': [satis_type_fetch.iloc[k]['SATISFACTION_TYPE_CODE']], 'SATISFACTION_TYPE_DESCRIPTION': [satis_type_fetch.iloc[k]['SATISFACTION_TYPE_DESCRIPTION']]})\n",
    "    \n",
    "    satis_type_temp_df.to_sql('satisfaction_type', con=engine, if_exists='append', index=False)\n",
    "    k += 1"
   ],
   "metadata": {
    "collapsed": false,
    "ExecuteTime": {
     "end_time": "2025-02-28T20:10:43.302446Z",
     "start_time": "2025-02-28T20:10:43.271092Z"
    }
   },
   "id": "be6d545d73e099c1",
   "execution_count": 221
  },
  {
   "cell_type": "markdown",
   "source": [
    "insert course data into DB"
   ],
   "metadata": {
    "collapsed": false
   },
   "id": "33ed538e052b27e3"
  },
  {
   "cell_type": "code",
   "outputs": [],
   "source": [
    "course_fetch = staff_train_conn.cursor().execute('SELECT * FROM course').fetchall()\n",
    "course_fetch = pd.DataFrame(course_fetch, columns=['COURSE_CODE', 'COURSE_DESCRIPTION'])\n",
    "\n",
    "l = 0\n",
    "while l < len(course_fetch):\n",
    "    course_temp_df = pd.DataFrame({'COURSE_CODE': [course_fetch.iloc[l]['COURSE_CODE']], 'COURSE_DESCRIPTION': [course_fetch.iloc[l]['COURSE_DESCRIPTION']]})\n",
    "    \n",
    "    course_temp_df.to_sql('course', con=engine, if_exists='append', index=False)\n",
    "    l += 1"
   ],
   "metadata": {
    "collapsed": false,
    "ExecuteTime": {
     "end_time": "2025-02-28T20:17:40.103529Z",
     "start_time": "2025-02-28T20:17:40.056128Z"
    }
   },
   "id": "5aaea02c7a44b41e",
   "execution_count": 223
  },
  {
   "cell_type": "markdown",
   "source": [
    "insert satisfaction data into DB"
   ],
   "metadata": {
    "collapsed": false
   },
   "id": "c4c74777212d81cb"
  },
  {
   "cell_type": "code",
   "outputs": [],
   "source": [
    "satisfaction_fetch = staff_train_conn.cursor().execute('SELECT * FROM satisfaction').fetchall()\n",
    "satisfaction_fetch = pd.DataFrame(satisfaction_fetch, columns=['YEAR', 'SALES_STAFF_CODE', 'SATISFACTION_TYPE_CODE'])\n",
    "\n",
    "m = 0\n",
    "while m < len(satisfaction_fetch):\n",
    "    satisfaction_temp_df = pd.DataFrame({'YEAR': [satisfaction_fetch.iloc[m]['YEAR']], 'SALES_STAFF_CODE': [satisfaction_fetch.iloc[m]['SALES_STAFF_CODE']], 'SATISFACTION_TYPE_CODE': [satisfaction_fetch.iloc[m]['SATISFACTION_TYPE_CODE']]})\n",
    "    \n",
    "    satisfaction_temp_df.to_sql('satisfaction', con=engine, if_exists='append', index=False)\n",
    "    m += 1"
   ],
   "metadata": {
    "collapsed": false,
    "ExecuteTime": {
     "end_time": "2025-02-28T20:29:15.405907Z",
     "start_time": "2025-02-28T20:29:14.633617Z"
    }
   },
   "id": "3e403f1e843053fb",
   "execution_count": 224
  },
  {
   "cell_type": "markdown",
   "source": [
    "insert training data into DB"
   ],
   "metadata": {
    "collapsed": false
   },
   "id": "a05e5bce7c5b0d92"
  },
  {
   "cell_type": "code",
   "outputs": [],
   "source": [
    "training_fetch = staff_train_conn.cursor().execute('SELECT * FROM training').fetchall()\n",
    "training_fetch = pd.DataFrame(training_fetch, columns=['YEAR', 'SALES_STAFF_CODE', 'COURSE_CODE'])\n",
    "\n",
    "o = 0\n",
    "while o < len(training_fetch):\n",
    "    training_temp_df = pd.DataFrame({'YEAR': [training_fetch.iloc[o]['YEAR']], 'SALES_STAFF_CODE': [training_fetch.iloc[o]['SALES_STAFF_CODE']], 'COURSE_CODE': [training_fetch.iloc[o]['COURSE_CODE']]})\n",
    "    \n",
    "    training_temp_df.to_sql('training', con=engine, if_exists='append', index=False)\n",
    "    o += 1"
   ],
   "metadata": {
    "collapsed": false,
    "ExecuteTime": {
     "end_time": "2025-02-28T20:31:31.925109Z",
     "start_time": "2025-02-28T20:31:30.025008Z"
    }
   },
   "id": "c6a8203567425e50",
   "execution_count": 225
  },
  {
   "cell_type": "code",
   "outputs": [],
   "source": [
    "order_method_fetch = sales_train_conn.cursor().execute('SELECT * FROM order_method').fetchall()\n",
    "order_method_fetch = pd.DataFrame(order_method_fetch, columns=['ORDER_METHOD_CODE', 'ORDER_METHOD_EN'])\n",
    "\n",
    "p = 0\n",
    "while p < len(order_method_fetch):\n",
    "    order_method_temp_df = pd.DataFrame({'ORDER_METHOD_CODE': [order_method_fetch.iloc[p]['ORDER_METHOD_CODE']], 'ORDER_METHOD_EN': [order_method_fetch.iloc[p]['ORDER_METHOD_EN']]})\n",
    "    \n",
    "    order_method_temp_df.to_sql('order_method', con=engine, if_exists='append', index=False)\n",
    "    p += 1"
   ],
   "metadata": {
    "collapsed": false,
    "ExecuteTime": {
     "end_time": "2025-02-28T20:36:24.546030Z",
     "start_time": "2025-02-28T20:36:24.499539Z"
    }
   },
   "id": "1dffa160ebb9acbb",
   "execution_count": 226
  },
  {
   "cell_type": "markdown",
   "source": [
    "insert order_method data into DB"
   ],
   "metadata": {
    "collapsed": false
   },
   "id": "d0caa87b3657e1d3"
  },
  {
   "cell_type": "markdown",
   "source": [
    "insert returned_item data into DB"
   ],
   "metadata": {
    "collapsed": false
   },
   "id": "d248434da23b8495"
  },
  {
   "cell_type": "code",
   "outputs": [
    {
     "ename": "IntegrityError",
     "evalue": "(pyodbc.IntegrityError) ('23000', '[23000] [Microsoft][ODBC Driver 17 for SQL Server][SQL Server]The INSERT statement conflicted with the FOREIGN KEY constraint \"FK__returned___ORDER__4E53A1AA\". The conflict occurred in database \"sdm\", table \"dbo.order_details\", column \\'ORDER_DETAIL_CODE\\'. (547) (SQLExecDirectW); [23000] [Microsoft][ODBC Driver 17 for SQL Server][SQL Server]The statement has been terminated. (3621)')\n[SQL: INSERT INTO returned_item ([RETURN_CODE], [RETURN_DATE], [ORDER_DETAIL_CODE], [RETURN_REASON_CODE], [RETURN_QUANTITY]) VALUES (?, ?, ?, ?, ?)]\n[parameters: (1491, 'Aug  1 2023  4:10AM', 84858, 5, 8)]\n(Background on this error at: https://sqlalche.me/e/20/gkpj)",
     "output_type": "error",
     "traceback": [
      "\u001B[1;31m---------------------------------------------------------------------------\u001B[0m",
      "\u001B[1;31mIntegrityError\u001B[0m                            Traceback (most recent call last)",
      "File \u001B[1;32m~\\PycharmProjects\\DEDS\\.venv\\Lib\\site-packages\\sqlalchemy\\engine\\base.py:1964\u001B[0m, in \u001B[0;36mConnection._exec_single_context\u001B[1;34m(self, dialect, context, statement, parameters)\u001B[0m\n\u001B[0;32m   1963\u001B[0m     \u001B[38;5;28;01mif\u001B[39;00m \u001B[38;5;129;01mnot\u001B[39;00m evt_handled:\n\u001B[1;32m-> 1964\u001B[0m         \u001B[38;5;28;43mself\u001B[39;49m\u001B[38;5;241;43m.\u001B[39;49m\u001B[43mdialect\u001B[49m\u001B[38;5;241;43m.\u001B[39;49m\u001B[43mdo_execute\u001B[49m\u001B[43m(\u001B[49m\n\u001B[0;32m   1965\u001B[0m \u001B[43m            \u001B[49m\u001B[43mcursor\u001B[49m\u001B[43m,\u001B[49m\u001B[43m \u001B[49m\u001B[43mstr_statement\u001B[49m\u001B[43m,\u001B[49m\u001B[43m \u001B[49m\u001B[43meffective_parameters\u001B[49m\u001B[43m,\u001B[49m\u001B[43m \u001B[49m\u001B[43mcontext\u001B[49m\n\u001B[0;32m   1966\u001B[0m \u001B[43m        \u001B[49m\u001B[43m)\u001B[49m\n\u001B[0;32m   1968\u001B[0m \u001B[38;5;28;01mif\u001B[39;00m \u001B[38;5;28mself\u001B[39m\u001B[38;5;241m.\u001B[39m_has_events \u001B[38;5;129;01mor\u001B[39;00m \u001B[38;5;28mself\u001B[39m\u001B[38;5;241m.\u001B[39mengine\u001B[38;5;241m.\u001B[39m_has_events:\n",
      "File \u001B[1;32m~\\PycharmProjects\\DEDS\\.venv\\Lib\\site-packages\\sqlalchemy\\engine\\default.py:942\u001B[0m, in \u001B[0;36mDefaultDialect.do_execute\u001B[1;34m(self, cursor, statement, parameters, context)\u001B[0m\n\u001B[0;32m    941\u001B[0m \u001B[38;5;28;01mdef\u001B[39;00m\u001B[38;5;250m \u001B[39m\u001B[38;5;21mdo_execute\u001B[39m(\u001B[38;5;28mself\u001B[39m, cursor, statement, parameters, context\u001B[38;5;241m=\u001B[39m\u001B[38;5;28;01mNone\u001B[39;00m):\n\u001B[1;32m--> 942\u001B[0m     \u001B[43mcursor\u001B[49m\u001B[38;5;241;43m.\u001B[39;49m\u001B[43mexecute\u001B[49m\u001B[43m(\u001B[49m\u001B[43mstatement\u001B[49m\u001B[43m,\u001B[49m\u001B[43m \u001B[49m\u001B[43mparameters\u001B[49m\u001B[43m)\u001B[49m\n",
      "\u001B[1;31mIntegrityError\u001B[0m: ('23000', '[23000] [Microsoft][ODBC Driver 17 for SQL Server][SQL Server]The INSERT statement conflicted with the FOREIGN KEY constraint \"FK__returned___ORDER__4E53A1AA\". The conflict occurred in database \"sdm\", table \"dbo.order_details\", column \\'ORDER_DETAIL_CODE\\'. (547) (SQLExecDirectW); [23000] [Microsoft][ODBC Driver 17 for SQL Server][SQL Server]The statement has been terminated. (3621)')",
      "\nThe above exception was the direct cause of the following exception:\n",
      "\u001B[1;31mIntegrityError\u001B[0m                            Traceback (most recent call last)",
      "Cell \u001B[1;32mIn[201], line 8\u001B[0m\n\u001B[0;32m      5\u001B[0m \u001B[38;5;28;01mwhile\u001B[39;00m g \u001B[38;5;241m<\u001B[39m \u001B[38;5;28mlen\u001B[39m(returned_item_fetch):\n\u001B[0;32m      6\u001B[0m     returned_item_temp_df \u001B[38;5;241m=\u001B[39m pd\u001B[38;5;241m.\u001B[39mDataFrame({\u001B[38;5;124m'\u001B[39m\u001B[38;5;124mRETURN_CODE\u001B[39m\u001B[38;5;124m'\u001B[39m: [returned_item_fetch\u001B[38;5;241m.\u001B[39miloc[g][\u001B[38;5;124m'\u001B[39m\u001B[38;5;124mRETURN_CODE\u001B[39m\u001B[38;5;124m'\u001B[39m]], \u001B[38;5;124m'\u001B[39m\u001B[38;5;124mRETURN_DATE\u001B[39m\u001B[38;5;124m'\u001B[39m: [returned_item_fetch\u001B[38;5;241m.\u001B[39miloc[g][\u001B[38;5;124m'\u001B[39m\u001B[38;5;124mRETURN_DATE\u001B[39m\u001B[38;5;124m'\u001B[39m]], \u001B[38;5;124m'\u001B[39m\u001B[38;5;124mORDER_DETAIL_CODE\u001B[39m\u001B[38;5;124m'\u001B[39m: [returned_item_fetch\u001B[38;5;241m.\u001B[39miloc[g][\u001B[38;5;124m'\u001B[39m\u001B[38;5;124mORDER_DETAIL_CODE\u001B[39m\u001B[38;5;124m'\u001B[39m]], \u001B[38;5;124m'\u001B[39m\u001B[38;5;124mRETURN_REASON_CODE\u001B[39m\u001B[38;5;124m'\u001B[39m: [returned_item_fetch\u001B[38;5;241m.\u001B[39miloc[g][\u001B[38;5;124m'\u001B[39m\u001B[38;5;124mRETURN_REASON_CODE\u001B[39m\u001B[38;5;124m'\u001B[39m]], \u001B[38;5;124m'\u001B[39m\u001B[38;5;124mRETURN_QUANTITY\u001B[39m\u001B[38;5;124m'\u001B[39m: [returned_item_fetch\u001B[38;5;241m.\u001B[39miloc[g][\u001B[38;5;124m'\u001B[39m\u001B[38;5;124mRETURN_QUANTITY\u001B[39m\u001B[38;5;124m'\u001B[39m]]})\n\u001B[1;32m----> 8\u001B[0m     \u001B[43mreturned_item_temp_df\u001B[49m\u001B[38;5;241;43m.\u001B[39;49m\u001B[43mto_sql\u001B[49m\u001B[43m(\u001B[49m\u001B[38;5;124;43m'\u001B[39;49m\u001B[38;5;124;43mreturned_item\u001B[39;49m\u001B[38;5;124;43m'\u001B[39;49m\u001B[43m,\u001B[49m\u001B[43m \u001B[49m\u001B[43mcon\u001B[49m\u001B[38;5;241;43m=\u001B[39;49m\u001B[43mengine\u001B[49m\u001B[43m,\u001B[49m\u001B[43m \u001B[49m\u001B[43mif_exists\u001B[49m\u001B[38;5;241;43m=\u001B[39;49m\u001B[38;5;124;43m'\u001B[39;49m\u001B[38;5;124;43mappend\u001B[39;49m\u001B[38;5;124;43m'\u001B[39;49m\u001B[43m,\u001B[49m\u001B[43m \u001B[49m\u001B[43mindex\u001B[49m\u001B[38;5;241;43m=\u001B[39;49m\u001B[38;5;28;43;01mFalse\u001B[39;49;00m\u001B[43m)\u001B[49m\n\u001B[0;32m      9\u001B[0m     g \u001B[38;5;241m+\u001B[39m\u001B[38;5;241m=\u001B[39m \u001B[38;5;241m1\u001B[39m\n",
      "File \u001B[1;32m~\\PycharmProjects\\DEDS\\.venv\\Lib\\site-packages\\pandas\\util\\_decorators.py:333\u001B[0m, in \u001B[0;36mdeprecate_nonkeyword_arguments.<locals>.decorate.<locals>.wrapper\u001B[1;34m(*args, **kwargs)\u001B[0m\n\u001B[0;32m    327\u001B[0m \u001B[38;5;28;01mif\u001B[39;00m \u001B[38;5;28mlen\u001B[39m(args) \u001B[38;5;241m>\u001B[39m num_allow_args:\n\u001B[0;32m    328\u001B[0m     warnings\u001B[38;5;241m.\u001B[39mwarn(\n\u001B[0;32m    329\u001B[0m         msg\u001B[38;5;241m.\u001B[39mformat(arguments\u001B[38;5;241m=\u001B[39m_format_argument_list(allow_args)),\n\u001B[0;32m    330\u001B[0m         \u001B[38;5;167;01mFutureWarning\u001B[39;00m,\n\u001B[0;32m    331\u001B[0m         stacklevel\u001B[38;5;241m=\u001B[39mfind_stack_level(),\n\u001B[0;32m    332\u001B[0m     )\n\u001B[1;32m--> 333\u001B[0m \u001B[38;5;28;01mreturn\u001B[39;00m \u001B[43mfunc\u001B[49m\u001B[43m(\u001B[49m\u001B[38;5;241;43m*\u001B[39;49m\u001B[43margs\u001B[49m\u001B[43m,\u001B[49m\u001B[43m \u001B[49m\u001B[38;5;241;43m*\u001B[39;49m\u001B[38;5;241;43m*\u001B[39;49m\u001B[43mkwargs\u001B[49m\u001B[43m)\u001B[49m\n",
      "File \u001B[1;32m~\\PycharmProjects\\DEDS\\.venv\\Lib\\site-packages\\pandas\\core\\generic.py:3087\u001B[0m, in \u001B[0;36mNDFrame.to_sql\u001B[1;34m(self, name, con, schema, if_exists, index, index_label, chunksize, dtype, method)\u001B[0m\n\u001B[0;32m   2889\u001B[0m \u001B[38;5;250m\u001B[39m\u001B[38;5;124;03m\"\"\"\u001B[39;00m\n\u001B[0;32m   2890\u001B[0m \u001B[38;5;124;03mWrite records stored in a DataFrame to a SQL database.\u001B[39;00m\n\u001B[0;32m   2891\u001B[0m \n\u001B[1;32m   (...)\u001B[0m\n\u001B[0;32m   3083\u001B[0m \u001B[38;5;124;03m[(1,), (None,), (2,)]\u001B[39;00m\n\u001B[0;32m   3084\u001B[0m \u001B[38;5;124;03m\"\"\"\u001B[39;00m  \u001B[38;5;66;03m# noqa: E501\u001B[39;00m\n\u001B[0;32m   3085\u001B[0m \u001B[38;5;28;01mfrom\u001B[39;00m\u001B[38;5;250m \u001B[39m\u001B[38;5;21;01mpandas\u001B[39;00m\u001B[38;5;21;01m.\u001B[39;00m\u001B[38;5;21;01mio\u001B[39;00m\u001B[38;5;250m \u001B[39m\u001B[38;5;28;01mimport\u001B[39;00m sql\n\u001B[1;32m-> 3087\u001B[0m \u001B[38;5;28;01mreturn\u001B[39;00m \u001B[43msql\u001B[49m\u001B[38;5;241;43m.\u001B[39;49m\u001B[43mto_sql\u001B[49m\u001B[43m(\u001B[49m\n\u001B[0;32m   3088\u001B[0m \u001B[43m    \u001B[49m\u001B[38;5;28;43mself\u001B[39;49m\u001B[43m,\u001B[49m\n\u001B[0;32m   3089\u001B[0m \u001B[43m    \u001B[49m\u001B[43mname\u001B[49m\u001B[43m,\u001B[49m\n\u001B[0;32m   3090\u001B[0m \u001B[43m    \u001B[49m\u001B[43mcon\u001B[49m\u001B[43m,\u001B[49m\n\u001B[0;32m   3091\u001B[0m \u001B[43m    \u001B[49m\u001B[43mschema\u001B[49m\u001B[38;5;241;43m=\u001B[39;49m\u001B[43mschema\u001B[49m\u001B[43m,\u001B[49m\n\u001B[0;32m   3092\u001B[0m \u001B[43m    \u001B[49m\u001B[43mif_exists\u001B[49m\u001B[38;5;241;43m=\u001B[39;49m\u001B[43mif_exists\u001B[49m\u001B[43m,\u001B[49m\n\u001B[0;32m   3093\u001B[0m \u001B[43m    \u001B[49m\u001B[43mindex\u001B[49m\u001B[38;5;241;43m=\u001B[39;49m\u001B[43mindex\u001B[49m\u001B[43m,\u001B[49m\n\u001B[0;32m   3094\u001B[0m \u001B[43m    \u001B[49m\u001B[43mindex_label\u001B[49m\u001B[38;5;241;43m=\u001B[39;49m\u001B[43mindex_label\u001B[49m\u001B[43m,\u001B[49m\n\u001B[0;32m   3095\u001B[0m \u001B[43m    \u001B[49m\u001B[43mchunksize\u001B[49m\u001B[38;5;241;43m=\u001B[39;49m\u001B[43mchunksize\u001B[49m\u001B[43m,\u001B[49m\n\u001B[0;32m   3096\u001B[0m \u001B[43m    \u001B[49m\u001B[43mdtype\u001B[49m\u001B[38;5;241;43m=\u001B[39;49m\u001B[43mdtype\u001B[49m\u001B[43m,\u001B[49m\n\u001B[0;32m   3097\u001B[0m \u001B[43m    \u001B[49m\u001B[43mmethod\u001B[49m\u001B[38;5;241;43m=\u001B[39;49m\u001B[43mmethod\u001B[49m\u001B[43m,\u001B[49m\n\u001B[0;32m   3098\u001B[0m \u001B[43m\u001B[49m\u001B[43m)\u001B[49m\n",
      "File \u001B[1;32m~\\PycharmProjects\\DEDS\\.venv\\Lib\\site-packages\\pandas\\io\\sql.py:842\u001B[0m, in \u001B[0;36mto_sql\u001B[1;34m(frame, name, con, schema, if_exists, index, index_label, chunksize, dtype, method, engine, **engine_kwargs)\u001B[0m\n\u001B[0;32m    837\u001B[0m     \u001B[38;5;28;01mraise\u001B[39;00m \u001B[38;5;167;01mNotImplementedError\u001B[39;00m(\n\u001B[0;32m    838\u001B[0m         \u001B[38;5;124m\"\u001B[39m\u001B[38;5;124m'\u001B[39m\u001B[38;5;124mframe\u001B[39m\u001B[38;5;124m'\u001B[39m\u001B[38;5;124m argument should be either a Series or a DataFrame\u001B[39m\u001B[38;5;124m\"\u001B[39m\n\u001B[0;32m    839\u001B[0m     )\n\u001B[0;32m    841\u001B[0m \u001B[38;5;28;01mwith\u001B[39;00m pandasSQL_builder(con, schema\u001B[38;5;241m=\u001B[39mschema, need_transaction\u001B[38;5;241m=\u001B[39m\u001B[38;5;28;01mTrue\u001B[39;00m) \u001B[38;5;28;01mas\u001B[39;00m pandas_sql:\n\u001B[1;32m--> 842\u001B[0m     \u001B[38;5;28;01mreturn\u001B[39;00m \u001B[43mpandas_sql\u001B[49m\u001B[38;5;241;43m.\u001B[39;49m\u001B[43mto_sql\u001B[49m\u001B[43m(\u001B[49m\n\u001B[0;32m    843\u001B[0m \u001B[43m        \u001B[49m\u001B[43mframe\u001B[49m\u001B[43m,\u001B[49m\n\u001B[0;32m    844\u001B[0m \u001B[43m        \u001B[49m\u001B[43mname\u001B[49m\u001B[43m,\u001B[49m\n\u001B[0;32m    845\u001B[0m \u001B[43m        \u001B[49m\u001B[43mif_exists\u001B[49m\u001B[38;5;241;43m=\u001B[39;49m\u001B[43mif_exists\u001B[49m\u001B[43m,\u001B[49m\n\u001B[0;32m    846\u001B[0m \u001B[43m        \u001B[49m\u001B[43mindex\u001B[49m\u001B[38;5;241;43m=\u001B[39;49m\u001B[43mindex\u001B[49m\u001B[43m,\u001B[49m\n\u001B[0;32m    847\u001B[0m \u001B[43m        \u001B[49m\u001B[43mindex_label\u001B[49m\u001B[38;5;241;43m=\u001B[39;49m\u001B[43mindex_label\u001B[49m\u001B[43m,\u001B[49m\n\u001B[0;32m    848\u001B[0m \u001B[43m        \u001B[49m\u001B[43mschema\u001B[49m\u001B[38;5;241;43m=\u001B[39;49m\u001B[43mschema\u001B[49m\u001B[43m,\u001B[49m\n\u001B[0;32m    849\u001B[0m \u001B[43m        \u001B[49m\u001B[43mchunksize\u001B[49m\u001B[38;5;241;43m=\u001B[39;49m\u001B[43mchunksize\u001B[49m\u001B[43m,\u001B[49m\n\u001B[0;32m    850\u001B[0m \u001B[43m        \u001B[49m\u001B[43mdtype\u001B[49m\u001B[38;5;241;43m=\u001B[39;49m\u001B[43mdtype\u001B[49m\u001B[43m,\u001B[49m\n\u001B[0;32m    851\u001B[0m \u001B[43m        \u001B[49m\u001B[43mmethod\u001B[49m\u001B[38;5;241;43m=\u001B[39;49m\u001B[43mmethod\u001B[49m\u001B[43m,\u001B[49m\n\u001B[0;32m    852\u001B[0m \u001B[43m        \u001B[49m\u001B[43mengine\u001B[49m\u001B[38;5;241;43m=\u001B[39;49m\u001B[43mengine\u001B[49m\u001B[43m,\u001B[49m\n\u001B[0;32m    853\u001B[0m \u001B[43m        \u001B[49m\u001B[38;5;241;43m*\u001B[39;49m\u001B[38;5;241;43m*\u001B[39;49m\u001B[43mengine_kwargs\u001B[49m\u001B[43m,\u001B[49m\n\u001B[0;32m    854\u001B[0m \u001B[43m    \u001B[49m\u001B[43m)\u001B[49m\n",
      "File \u001B[1;32m~\\PycharmProjects\\DEDS\\.venv\\Lib\\site-packages\\pandas\\io\\sql.py:2018\u001B[0m, in \u001B[0;36mSQLDatabase.to_sql\u001B[1;34m(self, frame, name, if_exists, index, index_label, schema, chunksize, dtype, method, engine, **engine_kwargs)\u001B[0m\n\u001B[0;32m   2006\u001B[0m sql_engine \u001B[38;5;241m=\u001B[39m get_engine(engine)\n\u001B[0;32m   2008\u001B[0m table \u001B[38;5;241m=\u001B[39m \u001B[38;5;28mself\u001B[39m\u001B[38;5;241m.\u001B[39mprep_table(\n\u001B[0;32m   2009\u001B[0m     frame\u001B[38;5;241m=\u001B[39mframe,\n\u001B[0;32m   2010\u001B[0m     name\u001B[38;5;241m=\u001B[39mname,\n\u001B[1;32m   (...)\u001B[0m\n\u001B[0;32m   2015\u001B[0m     dtype\u001B[38;5;241m=\u001B[39mdtype,\n\u001B[0;32m   2016\u001B[0m )\n\u001B[1;32m-> 2018\u001B[0m total_inserted \u001B[38;5;241m=\u001B[39m \u001B[43msql_engine\u001B[49m\u001B[38;5;241;43m.\u001B[39;49m\u001B[43minsert_records\u001B[49m\u001B[43m(\u001B[49m\n\u001B[0;32m   2019\u001B[0m \u001B[43m    \u001B[49m\u001B[43mtable\u001B[49m\u001B[38;5;241;43m=\u001B[39;49m\u001B[43mtable\u001B[49m\u001B[43m,\u001B[49m\n\u001B[0;32m   2020\u001B[0m \u001B[43m    \u001B[49m\u001B[43mcon\u001B[49m\u001B[38;5;241;43m=\u001B[39;49m\u001B[38;5;28;43mself\u001B[39;49m\u001B[38;5;241;43m.\u001B[39;49m\u001B[43mcon\u001B[49m\u001B[43m,\u001B[49m\n\u001B[0;32m   2021\u001B[0m \u001B[43m    \u001B[49m\u001B[43mframe\u001B[49m\u001B[38;5;241;43m=\u001B[39;49m\u001B[43mframe\u001B[49m\u001B[43m,\u001B[49m\n\u001B[0;32m   2022\u001B[0m \u001B[43m    \u001B[49m\u001B[43mname\u001B[49m\u001B[38;5;241;43m=\u001B[39;49m\u001B[43mname\u001B[49m\u001B[43m,\u001B[49m\n\u001B[0;32m   2023\u001B[0m \u001B[43m    \u001B[49m\u001B[43mindex\u001B[49m\u001B[38;5;241;43m=\u001B[39;49m\u001B[43mindex\u001B[49m\u001B[43m,\u001B[49m\n\u001B[0;32m   2024\u001B[0m \u001B[43m    \u001B[49m\u001B[43mschema\u001B[49m\u001B[38;5;241;43m=\u001B[39;49m\u001B[43mschema\u001B[49m\u001B[43m,\u001B[49m\n\u001B[0;32m   2025\u001B[0m \u001B[43m    \u001B[49m\u001B[43mchunksize\u001B[49m\u001B[38;5;241;43m=\u001B[39;49m\u001B[43mchunksize\u001B[49m\u001B[43m,\u001B[49m\n\u001B[0;32m   2026\u001B[0m \u001B[43m    \u001B[49m\u001B[43mmethod\u001B[49m\u001B[38;5;241;43m=\u001B[39;49m\u001B[43mmethod\u001B[49m\u001B[43m,\u001B[49m\n\u001B[0;32m   2027\u001B[0m \u001B[43m    \u001B[49m\u001B[38;5;241;43m*\u001B[39;49m\u001B[38;5;241;43m*\u001B[39;49m\u001B[43mengine_kwargs\u001B[49m\u001B[43m,\u001B[49m\n\u001B[0;32m   2028\u001B[0m \u001B[43m\u001B[49m\u001B[43m)\u001B[49m\n\u001B[0;32m   2030\u001B[0m \u001B[38;5;28mself\u001B[39m\u001B[38;5;241m.\u001B[39mcheck_case_sensitive(name\u001B[38;5;241m=\u001B[39mname, schema\u001B[38;5;241m=\u001B[39mschema)\n\u001B[0;32m   2031\u001B[0m \u001B[38;5;28;01mreturn\u001B[39;00m total_inserted\n",
      "File \u001B[1;32m~\\PycharmProjects\\DEDS\\.venv\\Lib\\site-packages\\pandas\\io\\sql.py:1567\u001B[0m, in \u001B[0;36mSQLAlchemyEngine.insert_records\u001B[1;34m(self, table, con, frame, name, index, schema, chunksize, method, **engine_kwargs)\u001B[0m\n\u001B[0;32m   1565\u001B[0m \u001B[38;5;28;01mif\u001B[39;00m re\u001B[38;5;241m.\u001B[39msearch(msg, err_text):\n\u001B[0;32m   1566\u001B[0m     \u001B[38;5;28;01mraise\u001B[39;00m \u001B[38;5;167;01mValueError\u001B[39;00m(\u001B[38;5;124m\"\u001B[39m\u001B[38;5;124minf cannot be used with MySQL\u001B[39m\u001B[38;5;124m\"\u001B[39m) \u001B[38;5;28;01mfrom\u001B[39;00m\u001B[38;5;250m \u001B[39m\u001B[38;5;21;01merr\u001B[39;00m\n\u001B[1;32m-> 1567\u001B[0m \u001B[38;5;28;01mraise\u001B[39;00m err\n",
      "File \u001B[1;32m~\\PycharmProjects\\DEDS\\.venv\\Lib\\site-packages\\pandas\\io\\sql.py:1558\u001B[0m, in \u001B[0;36mSQLAlchemyEngine.insert_records\u001B[1;34m(self, table, con, frame, name, index, schema, chunksize, method, **engine_kwargs)\u001B[0m\n\u001B[0;32m   1555\u001B[0m \u001B[38;5;28;01mfrom\u001B[39;00m\u001B[38;5;250m \u001B[39m\u001B[38;5;21;01msqlalchemy\u001B[39;00m\u001B[38;5;250m \u001B[39m\u001B[38;5;28;01mimport\u001B[39;00m exc\n\u001B[0;32m   1557\u001B[0m \u001B[38;5;28;01mtry\u001B[39;00m:\n\u001B[1;32m-> 1558\u001B[0m     \u001B[38;5;28;01mreturn\u001B[39;00m \u001B[43mtable\u001B[49m\u001B[38;5;241;43m.\u001B[39;49m\u001B[43minsert\u001B[49m\u001B[43m(\u001B[49m\u001B[43mchunksize\u001B[49m\u001B[38;5;241;43m=\u001B[39;49m\u001B[43mchunksize\u001B[49m\u001B[43m,\u001B[49m\u001B[43m \u001B[49m\u001B[43mmethod\u001B[49m\u001B[38;5;241;43m=\u001B[39;49m\u001B[43mmethod\u001B[49m\u001B[43m)\u001B[49m\n\u001B[0;32m   1559\u001B[0m \u001B[38;5;28;01mexcept\u001B[39;00m exc\u001B[38;5;241m.\u001B[39mStatementError \u001B[38;5;28;01mas\u001B[39;00m err:\n\u001B[0;32m   1560\u001B[0m     \u001B[38;5;66;03m# GH34431\u001B[39;00m\n\u001B[0;32m   1561\u001B[0m     \u001B[38;5;66;03m# https://stackoverflow.com/a/67358288/6067848\u001B[39;00m\n\u001B[0;32m   1562\u001B[0m     msg \u001B[38;5;241m=\u001B[39m \u001B[38;5;124mr\u001B[39m\u001B[38;5;124m\"\"\"\u001B[39m\u001B[38;5;124m(\u001B[39m\u001B[38;5;124m\\\u001B[39m\u001B[38;5;124m(1054, \u001B[39m\u001B[38;5;124m\"\u001B[39m\u001B[38;5;124mUnknown column \u001B[39m\u001B[38;5;124m'\u001B[39m\u001B[38;5;124minf(e0)?\u001B[39m\u001B[38;5;124m'\u001B[39m\u001B[38;5;124m in \u001B[39m\u001B[38;5;124m'\u001B[39m\u001B[38;5;124mfield list\u001B[39m\u001B[38;5;124m'\u001B[39m\u001B[38;5;124m\"\u001B[39m\u001B[38;5;124m\\\u001B[39m\u001B[38;5;124m))(?#\u001B[39m\n\u001B[0;32m   1563\u001B[0m \u001B[38;5;124m    )|inf can not be used with MySQL\u001B[39m\u001B[38;5;124m\"\"\"\u001B[39m\n",
      "File \u001B[1;32m~\\PycharmProjects\\DEDS\\.venv\\Lib\\site-packages\\pandas\\io\\sql.py:1119\u001B[0m, in \u001B[0;36mSQLTable.insert\u001B[1;34m(self, chunksize, method)\u001B[0m\n\u001B[0;32m   1116\u001B[0m     \u001B[38;5;28;01mbreak\u001B[39;00m\n\u001B[0;32m   1118\u001B[0m chunk_iter \u001B[38;5;241m=\u001B[39m \u001B[38;5;28mzip\u001B[39m(\u001B[38;5;241m*\u001B[39m(arr[start_i:end_i] \u001B[38;5;28;01mfor\u001B[39;00m arr \u001B[38;5;129;01min\u001B[39;00m data_list))\n\u001B[1;32m-> 1119\u001B[0m num_inserted \u001B[38;5;241m=\u001B[39m \u001B[43mexec_insert\u001B[49m\u001B[43m(\u001B[49m\u001B[43mconn\u001B[49m\u001B[43m,\u001B[49m\u001B[43m \u001B[49m\u001B[43mkeys\u001B[49m\u001B[43m,\u001B[49m\u001B[43m \u001B[49m\u001B[43mchunk_iter\u001B[49m\u001B[43m)\u001B[49m\n\u001B[0;32m   1120\u001B[0m \u001B[38;5;66;03m# GH 46891\u001B[39;00m\n\u001B[0;32m   1121\u001B[0m \u001B[38;5;28;01mif\u001B[39;00m num_inserted \u001B[38;5;129;01mis\u001B[39;00m \u001B[38;5;129;01mnot\u001B[39;00m \u001B[38;5;28;01mNone\u001B[39;00m:\n",
      "File \u001B[1;32m~\\PycharmProjects\\DEDS\\.venv\\Lib\\site-packages\\pandas\\io\\sql.py:1010\u001B[0m, in \u001B[0;36mSQLTable._execute_insert\u001B[1;34m(self, conn, keys, data_iter)\u001B[0m\n\u001B[0;32m    998\u001B[0m \u001B[38;5;250m\u001B[39m\u001B[38;5;124;03m\"\"\"\u001B[39;00m\n\u001B[0;32m    999\u001B[0m \u001B[38;5;124;03mExecute SQL statement inserting data\u001B[39;00m\n\u001B[0;32m   1000\u001B[0m \n\u001B[1;32m   (...)\u001B[0m\n\u001B[0;32m   1007\u001B[0m \u001B[38;5;124;03m   Each item contains a list of values to be inserted\u001B[39;00m\n\u001B[0;32m   1008\u001B[0m \u001B[38;5;124;03m\"\"\"\u001B[39;00m\n\u001B[0;32m   1009\u001B[0m data \u001B[38;5;241m=\u001B[39m [\u001B[38;5;28mdict\u001B[39m(\u001B[38;5;28mzip\u001B[39m(keys, row)) \u001B[38;5;28;01mfor\u001B[39;00m row \u001B[38;5;129;01min\u001B[39;00m data_iter]\n\u001B[1;32m-> 1010\u001B[0m result \u001B[38;5;241m=\u001B[39m \u001B[43mconn\u001B[49m\u001B[38;5;241;43m.\u001B[39;49m\u001B[43mexecute\u001B[49m\u001B[43m(\u001B[49m\u001B[38;5;28;43mself\u001B[39;49m\u001B[38;5;241;43m.\u001B[39;49m\u001B[43mtable\u001B[49m\u001B[38;5;241;43m.\u001B[39;49m\u001B[43minsert\u001B[49m\u001B[43m(\u001B[49m\u001B[43m)\u001B[49m\u001B[43m,\u001B[49m\u001B[43m \u001B[49m\u001B[43mdata\u001B[49m\u001B[43m)\u001B[49m\n\u001B[0;32m   1011\u001B[0m \u001B[38;5;28;01mreturn\u001B[39;00m result\u001B[38;5;241m.\u001B[39mrowcount\n",
      "File \u001B[1;32m~\\PycharmProjects\\DEDS\\.venv\\Lib\\site-packages\\sqlalchemy\\engine\\base.py:1416\u001B[0m, in \u001B[0;36mConnection.execute\u001B[1;34m(self, statement, parameters, execution_options)\u001B[0m\n\u001B[0;32m   1414\u001B[0m     \u001B[38;5;28;01mraise\u001B[39;00m exc\u001B[38;5;241m.\u001B[39mObjectNotExecutableError(statement) \u001B[38;5;28;01mfrom\u001B[39;00m\u001B[38;5;250m \u001B[39m\u001B[38;5;21;01merr\u001B[39;00m\n\u001B[0;32m   1415\u001B[0m \u001B[38;5;28;01melse\u001B[39;00m:\n\u001B[1;32m-> 1416\u001B[0m     \u001B[38;5;28;01mreturn\u001B[39;00m \u001B[43mmeth\u001B[49m\u001B[43m(\u001B[49m\n\u001B[0;32m   1417\u001B[0m \u001B[43m        \u001B[49m\u001B[38;5;28;43mself\u001B[39;49m\u001B[43m,\u001B[49m\n\u001B[0;32m   1418\u001B[0m \u001B[43m        \u001B[49m\u001B[43mdistilled_parameters\u001B[49m\u001B[43m,\u001B[49m\n\u001B[0;32m   1419\u001B[0m \u001B[43m        \u001B[49m\u001B[43mexecution_options\u001B[49m\u001B[43m \u001B[49m\u001B[38;5;129;43;01mor\u001B[39;49;00m\u001B[43m \u001B[49m\u001B[43mNO_OPTIONS\u001B[49m\u001B[43m,\u001B[49m\n\u001B[0;32m   1420\u001B[0m \u001B[43m    \u001B[49m\u001B[43m)\u001B[49m\n",
      "File \u001B[1;32m~\\PycharmProjects\\DEDS\\.venv\\Lib\\site-packages\\sqlalchemy\\sql\\elements.py:516\u001B[0m, in \u001B[0;36mClauseElement._execute_on_connection\u001B[1;34m(self, connection, distilled_params, execution_options)\u001B[0m\n\u001B[0;32m    514\u001B[0m     \u001B[38;5;28;01mif\u001B[39;00m TYPE_CHECKING:\n\u001B[0;32m    515\u001B[0m         \u001B[38;5;28;01massert\u001B[39;00m \u001B[38;5;28misinstance\u001B[39m(\u001B[38;5;28mself\u001B[39m, Executable)\n\u001B[1;32m--> 516\u001B[0m     \u001B[38;5;28;01mreturn\u001B[39;00m \u001B[43mconnection\u001B[49m\u001B[38;5;241;43m.\u001B[39;49m\u001B[43m_execute_clauseelement\u001B[49m\u001B[43m(\u001B[49m\n\u001B[0;32m    517\u001B[0m \u001B[43m        \u001B[49m\u001B[38;5;28;43mself\u001B[39;49m\u001B[43m,\u001B[49m\u001B[43m \u001B[49m\u001B[43mdistilled_params\u001B[49m\u001B[43m,\u001B[49m\u001B[43m \u001B[49m\u001B[43mexecution_options\u001B[49m\n\u001B[0;32m    518\u001B[0m \u001B[43m    \u001B[49m\u001B[43m)\u001B[49m\n\u001B[0;32m    519\u001B[0m \u001B[38;5;28;01melse\u001B[39;00m:\n\u001B[0;32m    520\u001B[0m     \u001B[38;5;28;01mraise\u001B[39;00m exc\u001B[38;5;241m.\u001B[39mObjectNotExecutableError(\u001B[38;5;28mself\u001B[39m)\n",
      "File \u001B[1;32m~\\PycharmProjects\\DEDS\\.venv\\Lib\\site-packages\\sqlalchemy\\engine\\base.py:1638\u001B[0m, in \u001B[0;36mConnection._execute_clauseelement\u001B[1;34m(self, elem, distilled_parameters, execution_options)\u001B[0m\n\u001B[0;32m   1626\u001B[0m compiled_cache: Optional[CompiledCacheType] \u001B[38;5;241m=\u001B[39m execution_options\u001B[38;5;241m.\u001B[39mget(\n\u001B[0;32m   1627\u001B[0m     \u001B[38;5;124m\"\u001B[39m\u001B[38;5;124mcompiled_cache\u001B[39m\u001B[38;5;124m\"\u001B[39m, \u001B[38;5;28mself\u001B[39m\u001B[38;5;241m.\u001B[39mengine\u001B[38;5;241m.\u001B[39m_compiled_cache\n\u001B[0;32m   1628\u001B[0m )\n\u001B[0;32m   1630\u001B[0m compiled_sql, extracted_params, cache_hit \u001B[38;5;241m=\u001B[39m elem\u001B[38;5;241m.\u001B[39m_compile_w_cache(\n\u001B[0;32m   1631\u001B[0m     dialect\u001B[38;5;241m=\u001B[39mdialect,\n\u001B[0;32m   1632\u001B[0m     compiled_cache\u001B[38;5;241m=\u001B[39mcompiled_cache,\n\u001B[1;32m   (...)\u001B[0m\n\u001B[0;32m   1636\u001B[0m     linting\u001B[38;5;241m=\u001B[39m\u001B[38;5;28mself\u001B[39m\u001B[38;5;241m.\u001B[39mdialect\u001B[38;5;241m.\u001B[39mcompiler_linting \u001B[38;5;241m|\u001B[39m compiler\u001B[38;5;241m.\u001B[39mWARN_LINTING,\n\u001B[0;32m   1637\u001B[0m )\n\u001B[1;32m-> 1638\u001B[0m ret \u001B[38;5;241m=\u001B[39m \u001B[38;5;28;43mself\u001B[39;49m\u001B[38;5;241;43m.\u001B[39;49m\u001B[43m_execute_context\u001B[49m\u001B[43m(\u001B[49m\n\u001B[0;32m   1639\u001B[0m \u001B[43m    \u001B[49m\u001B[43mdialect\u001B[49m\u001B[43m,\u001B[49m\n\u001B[0;32m   1640\u001B[0m \u001B[43m    \u001B[49m\u001B[43mdialect\u001B[49m\u001B[38;5;241;43m.\u001B[39;49m\u001B[43mexecution_ctx_cls\u001B[49m\u001B[38;5;241;43m.\u001B[39;49m\u001B[43m_init_compiled\u001B[49m\u001B[43m,\u001B[49m\n\u001B[0;32m   1641\u001B[0m \u001B[43m    \u001B[49m\u001B[43mcompiled_sql\u001B[49m\u001B[43m,\u001B[49m\n\u001B[0;32m   1642\u001B[0m \u001B[43m    \u001B[49m\u001B[43mdistilled_parameters\u001B[49m\u001B[43m,\u001B[49m\n\u001B[0;32m   1643\u001B[0m \u001B[43m    \u001B[49m\u001B[43mexecution_options\u001B[49m\u001B[43m,\u001B[49m\n\u001B[0;32m   1644\u001B[0m \u001B[43m    \u001B[49m\u001B[43mcompiled_sql\u001B[49m\u001B[43m,\u001B[49m\n\u001B[0;32m   1645\u001B[0m \u001B[43m    \u001B[49m\u001B[43mdistilled_parameters\u001B[49m\u001B[43m,\u001B[49m\n\u001B[0;32m   1646\u001B[0m \u001B[43m    \u001B[49m\u001B[43melem\u001B[49m\u001B[43m,\u001B[49m\n\u001B[0;32m   1647\u001B[0m \u001B[43m    \u001B[49m\u001B[43mextracted_params\u001B[49m\u001B[43m,\u001B[49m\n\u001B[0;32m   1648\u001B[0m \u001B[43m    \u001B[49m\u001B[43mcache_hit\u001B[49m\u001B[38;5;241;43m=\u001B[39;49m\u001B[43mcache_hit\u001B[49m\u001B[43m,\u001B[49m\n\u001B[0;32m   1649\u001B[0m \u001B[43m\u001B[49m\u001B[43m)\u001B[49m\n\u001B[0;32m   1650\u001B[0m \u001B[38;5;28;01mif\u001B[39;00m has_events:\n\u001B[0;32m   1651\u001B[0m     \u001B[38;5;28mself\u001B[39m\u001B[38;5;241m.\u001B[39mdispatch\u001B[38;5;241m.\u001B[39mafter_execute(\n\u001B[0;32m   1652\u001B[0m         \u001B[38;5;28mself\u001B[39m,\n\u001B[0;32m   1653\u001B[0m         elem,\n\u001B[1;32m   (...)\u001B[0m\n\u001B[0;32m   1657\u001B[0m         ret,\n\u001B[0;32m   1658\u001B[0m     )\n",
      "File \u001B[1;32m~\\PycharmProjects\\DEDS\\.venv\\Lib\\site-packages\\sqlalchemy\\engine\\base.py:1843\u001B[0m, in \u001B[0;36mConnection._execute_context\u001B[1;34m(self, dialect, constructor, statement, parameters, execution_options, *args, **kw)\u001B[0m\n\u001B[0;32m   1841\u001B[0m     \u001B[38;5;28;01mreturn\u001B[39;00m \u001B[38;5;28mself\u001B[39m\u001B[38;5;241m.\u001B[39m_exec_insertmany_context(dialect, context)\n\u001B[0;32m   1842\u001B[0m \u001B[38;5;28;01melse\u001B[39;00m:\n\u001B[1;32m-> 1843\u001B[0m     \u001B[38;5;28;01mreturn\u001B[39;00m \u001B[38;5;28;43mself\u001B[39;49m\u001B[38;5;241;43m.\u001B[39;49m\u001B[43m_exec_single_context\u001B[49m\u001B[43m(\u001B[49m\n\u001B[0;32m   1844\u001B[0m \u001B[43m        \u001B[49m\u001B[43mdialect\u001B[49m\u001B[43m,\u001B[49m\u001B[43m \u001B[49m\u001B[43mcontext\u001B[49m\u001B[43m,\u001B[49m\u001B[43m \u001B[49m\u001B[43mstatement\u001B[49m\u001B[43m,\u001B[49m\u001B[43m \u001B[49m\u001B[43mparameters\u001B[49m\n\u001B[0;32m   1845\u001B[0m \u001B[43m    \u001B[49m\u001B[43m)\u001B[49m\n",
      "File \u001B[1;32m~\\PycharmProjects\\DEDS\\.venv\\Lib\\site-packages\\sqlalchemy\\engine\\base.py:1983\u001B[0m, in \u001B[0;36mConnection._exec_single_context\u001B[1;34m(self, dialect, context, statement, parameters)\u001B[0m\n\u001B[0;32m   1980\u001B[0m     result \u001B[38;5;241m=\u001B[39m context\u001B[38;5;241m.\u001B[39m_setup_result_proxy()\n\u001B[0;32m   1982\u001B[0m \u001B[38;5;28;01mexcept\u001B[39;00m \u001B[38;5;167;01mBaseException\u001B[39;00m \u001B[38;5;28;01mas\u001B[39;00m e:\n\u001B[1;32m-> 1983\u001B[0m     \u001B[38;5;28;43mself\u001B[39;49m\u001B[38;5;241;43m.\u001B[39;49m\u001B[43m_handle_dbapi_exception\u001B[49m\u001B[43m(\u001B[49m\n\u001B[0;32m   1984\u001B[0m \u001B[43m        \u001B[49m\u001B[43me\u001B[49m\u001B[43m,\u001B[49m\u001B[43m \u001B[49m\u001B[43mstr_statement\u001B[49m\u001B[43m,\u001B[49m\u001B[43m \u001B[49m\u001B[43meffective_parameters\u001B[49m\u001B[43m,\u001B[49m\u001B[43m \u001B[49m\u001B[43mcursor\u001B[49m\u001B[43m,\u001B[49m\u001B[43m \u001B[49m\u001B[43mcontext\u001B[49m\n\u001B[0;32m   1985\u001B[0m \u001B[43m    \u001B[49m\u001B[43m)\u001B[49m\n\u001B[0;32m   1987\u001B[0m \u001B[38;5;28;01mreturn\u001B[39;00m result\n",
      "File \u001B[1;32m~\\PycharmProjects\\DEDS\\.venv\\Lib\\site-packages\\sqlalchemy\\engine\\base.py:2352\u001B[0m, in \u001B[0;36mConnection._handle_dbapi_exception\u001B[1;34m(self, e, statement, parameters, cursor, context, is_sub_exec)\u001B[0m\n\u001B[0;32m   2350\u001B[0m \u001B[38;5;28;01melif\u001B[39;00m should_wrap:\n\u001B[0;32m   2351\u001B[0m     \u001B[38;5;28;01massert\u001B[39;00m sqlalchemy_exception \u001B[38;5;129;01mis\u001B[39;00m \u001B[38;5;129;01mnot\u001B[39;00m \u001B[38;5;28;01mNone\u001B[39;00m\n\u001B[1;32m-> 2352\u001B[0m     \u001B[38;5;28;01mraise\u001B[39;00m sqlalchemy_exception\u001B[38;5;241m.\u001B[39mwith_traceback(exc_info[\u001B[38;5;241m2\u001B[39m]) \u001B[38;5;28;01mfrom\u001B[39;00m\u001B[38;5;250m \u001B[39m\u001B[38;5;21;01me\u001B[39;00m\n\u001B[0;32m   2353\u001B[0m \u001B[38;5;28;01melse\u001B[39;00m:\n\u001B[0;32m   2354\u001B[0m     \u001B[38;5;28;01massert\u001B[39;00m exc_info[\u001B[38;5;241m1\u001B[39m] \u001B[38;5;129;01mis\u001B[39;00m \u001B[38;5;129;01mnot\u001B[39;00m \u001B[38;5;28;01mNone\u001B[39;00m\n",
      "File \u001B[1;32m~\\PycharmProjects\\DEDS\\.venv\\Lib\\site-packages\\sqlalchemy\\engine\\base.py:1964\u001B[0m, in \u001B[0;36mConnection._exec_single_context\u001B[1;34m(self, dialect, context, statement, parameters)\u001B[0m\n\u001B[0;32m   1962\u001B[0m                 \u001B[38;5;28;01mbreak\u001B[39;00m\n\u001B[0;32m   1963\u001B[0m     \u001B[38;5;28;01mif\u001B[39;00m \u001B[38;5;129;01mnot\u001B[39;00m evt_handled:\n\u001B[1;32m-> 1964\u001B[0m         \u001B[38;5;28;43mself\u001B[39;49m\u001B[38;5;241;43m.\u001B[39;49m\u001B[43mdialect\u001B[49m\u001B[38;5;241;43m.\u001B[39;49m\u001B[43mdo_execute\u001B[49m\u001B[43m(\u001B[49m\n\u001B[0;32m   1965\u001B[0m \u001B[43m            \u001B[49m\u001B[43mcursor\u001B[49m\u001B[43m,\u001B[49m\u001B[43m \u001B[49m\u001B[43mstr_statement\u001B[49m\u001B[43m,\u001B[49m\u001B[43m \u001B[49m\u001B[43meffective_parameters\u001B[49m\u001B[43m,\u001B[49m\u001B[43m \u001B[49m\u001B[43mcontext\u001B[49m\n\u001B[0;32m   1966\u001B[0m \u001B[43m        \u001B[49m\u001B[43m)\u001B[49m\n\u001B[0;32m   1968\u001B[0m \u001B[38;5;28;01mif\u001B[39;00m \u001B[38;5;28mself\u001B[39m\u001B[38;5;241m.\u001B[39m_has_events \u001B[38;5;129;01mor\u001B[39;00m \u001B[38;5;28mself\u001B[39m\u001B[38;5;241m.\u001B[39mengine\u001B[38;5;241m.\u001B[39m_has_events:\n\u001B[0;32m   1969\u001B[0m     \u001B[38;5;28mself\u001B[39m\u001B[38;5;241m.\u001B[39mdispatch\u001B[38;5;241m.\u001B[39mafter_cursor_execute(\n\u001B[0;32m   1970\u001B[0m         \u001B[38;5;28mself\u001B[39m,\n\u001B[0;32m   1971\u001B[0m         cursor,\n\u001B[1;32m   (...)\u001B[0m\n\u001B[0;32m   1975\u001B[0m         context\u001B[38;5;241m.\u001B[39mexecutemany,\n\u001B[0;32m   1976\u001B[0m     )\n",
      "File \u001B[1;32m~\\PycharmProjects\\DEDS\\.venv\\Lib\\site-packages\\sqlalchemy\\engine\\default.py:942\u001B[0m, in \u001B[0;36mDefaultDialect.do_execute\u001B[1;34m(self, cursor, statement, parameters, context)\u001B[0m\n\u001B[0;32m    941\u001B[0m \u001B[38;5;28;01mdef\u001B[39;00m\u001B[38;5;250m \u001B[39m\u001B[38;5;21mdo_execute\u001B[39m(\u001B[38;5;28mself\u001B[39m, cursor, statement, parameters, context\u001B[38;5;241m=\u001B[39m\u001B[38;5;28;01mNone\u001B[39;00m):\n\u001B[1;32m--> 942\u001B[0m     \u001B[43mcursor\u001B[49m\u001B[38;5;241;43m.\u001B[39;49m\u001B[43mexecute\u001B[49m\u001B[43m(\u001B[49m\u001B[43mstatement\u001B[49m\u001B[43m,\u001B[49m\u001B[43m \u001B[49m\u001B[43mparameters\u001B[49m\u001B[43m)\u001B[49m\n",
      "\u001B[1;31mIntegrityError\u001B[0m: (pyodbc.IntegrityError) ('23000', '[23000] [Microsoft][ODBC Driver 17 for SQL Server][SQL Server]The INSERT statement conflicted with the FOREIGN KEY constraint \"FK__returned___ORDER__4E53A1AA\". The conflict occurred in database \"sdm\", table \"dbo.order_details\", column \\'ORDER_DETAIL_CODE\\'. (547) (SQLExecDirectW); [23000] [Microsoft][ODBC Driver 17 for SQL Server][SQL Server]The statement has been terminated. (3621)')\n[SQL: INSERT INTO returned_item ([RETURN_CODE], [RETURN_DATE], [ORDER_DETAIL_CODE], [RETURN_REASON_CODE], [RETURN_QUANTITY]) VALUES (?, ?, ?, ?, ?)]\n[parameters: (1491, 'Aug  1 2023  4:10AM', 84858, 5, 8)]\n(Background on this error at: https://sqlalche.me/e/20/gkpj)"
     ]
    }
   ],
   "source": [
    "# returned_item_fetch = sales_train_conn.cursor().execute('SELECT * FROM returned_item').fetchall()\n",
    "# returned_item_fetch = pd.DataFrame(returned_item_fetch, columns=['RETURN_CODE', 'RETURN_DATE', 'ORDER_DETAIL_CODE', 'RETURN_REASON_CODE', 'RETURN_QUANTITY'])\n",
    "# \n",
    "# g = 0\n",
    "# while g < len(returned_item_fetch):\n",
    "#     returned_item_temp_df = pd.DataFrame({'RETURN_CODE': [returned_item_fetch.iloc[g]['RETURN_CODE']], 'RETURN_DATE': [returned_item_fetch.iloc[g]['RETURN_DATE']], 'ORDER_DETAIL_CODE': [returned_item_fetch.iloc[g]['ORDER_DETAIL_CODE']], 'RETURN_REASON_CODE': [returned_item_fetch.iloc[g]['RETURN_REASON_CODE']], 'RETURN_QUANTITY': [returned_item_fetch.iloc[g]['RETURN_QUANTITY']]})\n",
    "#     \n",
    "#     returned_item_temp_df.to_sql('returned_item', con=engine, if_exists='append', index=False)\n",
    "#     g += 1"
   ],
   "metadata": {
    "collapsed": false,
    "ExecuteTime": {
     "end_time": "2025-02-28T18:42:13.270334Z",
     "start_time": "2025-02-28T18:42:12.923543Z"
    }
   },
   "id": "ece734fcf8cd5369",
   "execution_count": 201
  }
 ],
 "metadata": {
  "kernelspec": {
   "display_name": "Python 3",
   "language": "python",
   "name": "python3"
  },
  "language_info": {
   "codemirror_mode": {
    "name": "ipython",
    "version": 2
   },
   "file_extension": ".py",
   "mimetype": "text/x-python",
   "name": "python",
   "nbconvert_exporter": "python",
   "pygments_lexer": "ipython2",
   "version": "2.7.6"
  }
 },
 "nbformat": 4,
 "nbformat_minor": 5
}
