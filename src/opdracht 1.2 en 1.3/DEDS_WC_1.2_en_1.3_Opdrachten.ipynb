{
 "cells": [
  {
   "cell_type": "markdown",
   "metadata": {},
   "source": [
    "# Werkcollege-opdrachten Week 1.3"
   ]
  },
  {
   "cell_type": "markdown",
   "metadata": {},
   "source": [
    "## Dependencies importeren"
   ]
  },
  {
   "cell_type": "markdown",
   "metadata": {},
   "source": [
    "Kopieer in het codeblok hieronder van het vorige practicum de import-code voor de dependencies die het vaakst worden gebruikt om data in te lezen. Geef er ook de gebruikelijke aliassen aan.<br>\n",
    "Zet eventuele warnings uit."
   ]
  },
  {
   "cell_type": "code",
   "execution_count": null,
   "metadata": {},
   "outputs": [],
   "source": [
    "import pandas as pd\n",
    "import warnings\n",
    "warnings.simplefilter('ignore')"
   ]
  },
  {
   "cell_type": "markdown",
   "metadata": {},
   "source": [
    "Zet het bestand go_sales_train.sqlite in een makkelijk te vinden map"
   ]
  },
  {
   "cell_type": "markdown",
   "metadata": {},
   "source": [
    "## Databasetabellen inlezen"
   ]
  },
  {
   "cell_type": "markdown",
   "metadata": {},
   "source": [
    "Kopieer in het codeblok hieronder van het vorige practicum de code om een connectie met het bestand go_sales_train.sqlite te maken."
   ]
  },
  {
   "cell_type": "code",
   "execution_count": null,
   "metadata": {},
   "outputs": [],
   "source": [
    "import sqlite3 as sql\n",
    "conn = sql.connect('../data/raw/go_sales_train.sqlite')"
   ]
  },
  {
   "cell_type": "markdown",
   "metadata": {},
   "source": [
    "Lees van de ingelezen go_sales_train-database te volgende tabellen in met behulp van \"SELECT * FROM *tabel*\".\n",
    "- product\n",
    "- product_type\n",
    "- product_line\n",
    "- sales_staff\n",
    "- sales_branch\n",
    "- retailer_site\n",
    "- country\n",
    "- order_header\n",
    "- order_details\n",
    "- returned_item\n",
    "- return_reason"
   ]
  },
  {
   "cell_type": "code",
   "execution_count": null,
   "metadata": {},
   "outputs": [],
   "source": [
    "sql_string = \"SELECT * FROM sqlite_master;\"\n",
    "cursor = conn.cursor()\n",
    "\n",
    "response = cursor.execute(sql_string).fetchall()\n",
    "column_names = [desc[0] for desc in cursor.description]\n",
    "\n",
    "goSalesDf = pd.DataFrame(response, columns=column_names)\n",
    "print(goSalesDf)"
   ]
  },
  {
   "cell_type": "markdown",
   "metadata": {},
   "source": [
    "Krijg je een \"no such table\" error? Dan heb je misschien met .connect() per ongeluk een leeg  databasebestand (.sqlite) aangemaakt. <u>Let op:</u> lees eventueel de informatie uit het Notebook van werkcollege 1.1b nog eens goed door."
   ]
  },
  {
   "cell_type": "markdown",
   "metadata": {},
   "source": [
    "Als je tijdens onderstaande opdrachten uit het oog verliest welke tabellen er allemaal zijn, kan je deze Pythoncode uitvoeren:"
   ]
  },
  {
   "cell_type": "code",
   "execution_count": null,
   "metadata": {},
   "outputs": [],
   "source": [
    "sql_query = \"SELECT name FROM sqlite_master WHERE type='table';\"\n",
    "#Vul dit codeblok verder in\n",
    "pd.read_sql(sql_query, conn)\n",
    "#Op de puntjes hoort de connectie naar go_sales_train óf go_staff_train óf go_crm_train te staan."
   ]
  },
  {
   "cell_type": "markdown",
   "metadata": {},
   "source": [
    "erachter "
   ]
  },
  {
   "cell_type": "code",
   "outputs": [],
   "source": [],
   "metadata": {
    "collapsed": false
   }
  },
  {
   "cell_type": "markdown",
   "metadata": {},
   "source": [
    "Let op! Voor alle onderstaande opdrachten mag je <u>alleen Python</u> gebruiken, <u>geen SQL!</u>"
   ]
  },
  {
   "cell_type": "markdown",
   "metadata": {},
   "source": [
    "## Selecties op één tabel zonder functies"
   ]
  },
  {
   "cell_type": "markdown",
   "metadata": {},
   "source": [
    "Geef een overzicht met daarin de producten en hun productiekosten waarvan de productiekosten lager dan 100 dollar en hoger dan 50 dollar ligt. (2 kolommen, 23 rijen)"
   ]
  },
  {
   "cell_type": "code",
   "execution_count": null,
   "metadata": {},
   "outputs": [],
   "source": [
    "response1 = pd.read_sql(\"SELECT PRODUCT_NAME, PRODUCTION_COST FROM product\", conn)\n",
    "filteredDf1 = response1.query('PRODUCTION_COST > 50 and PRODUCTION_COST < 100')\n",
    "\n",
    "print(filteredDf1)"
   ]
  },
  {
   "cell_type": "markdown",
   "metadata": {},
   "source": [
    "Geef een overzicht met daarin de producten en hun marge waarvan de marge lager dan 20 % of hoger dan 60 % ligt. (2 kolommen, 7 rijen) "
   ]
  },
  {
   "cell_type": "code",
   "execution_count": null,
   "metadata": {},
   "outputs": [],
   "source": [
    "response2 = pd.read_sql(\"SELECT PRODUCT_NAME, MARGIN from product\", conn)\n",
    "filteredDf2 = response2.query('MARGIN > 0.60 or MARGIN < 0.20')\n",
    "\n",
    "print(filteredDf2)"
   ]
  },
  {
   "cell_type": "markdown",
   "metadata": {},
   "source": [
    "Geef een overzicht met daarin de landen waar met francs wordt betaald. Sorteer de uitkomst op land.  (1 kolom, 3 rijen)"
   ]
  },
  {
   "cell_type": "code",
   "execution_count": null,
   "metadata": {},
   "outputs": [],
   "source": [
    "response3 = pd.read_sql(\"SELECT COUNTRY, CURRENCY_NAME from country\", conn)\n",
    "filteredDf3 = response3[response3['CURRENCY_NAME'] == 'francs']\n",
    "\n",
    "print(filteredDf3['COUNTRY'])"
   ]
  },
  {
   "cell_type": "markdown",
   "metadata": {},
   "source": [
    "Geef een overzicht met daarin de verschillende introductiedatums waarop producten met meer dan 50% marge worden geïntroduceerd (1 kolom, 7 rijen) "
   ]
  },
  {
   "cell_type": "code",
   "execution_count": null,
   "metadata": {},
   "outputs": [],
   "source": [
    "response4 = pd.read_sql(\"SELECT * from product\", conn)\n",
    "filteredDf4 = response4[response4['MARGIN'] > 0.50]\n",
    "\n",
    "print(pd.DataFrame(filteredDf4['INTRODUCTION_DATE'].unique()))"
   ]
  },
  {
   "cell_type": "markdown",
   "metadata": {},
   "source": [
    "Geef een overzicht met daarin het eerste adres en de stad van verkoopafdelingen waarvan zowel het tweede adres als de regio bekend is (2 kolommen, 7 rijen)"
   ]
  },
  {
   "cell_type": "code",
   "execution_count": null,
   "metadata": {},
   "outputs": [],
   "source": [
    "response5 = pd.read_sql(\"SELECT ADDRESS1, ADDRESS2, CITY, REGION from sales_branch\", conn)\n",
    "filteredDf5 = response5[response5['ADDRESS2'].notnull() & response5['REGION'].notnull()]\n",
    "\n",
    "print(filteredDf5[['ADDRESS1', 'CITY']])"
   ]
  },
  {
   "cell_type": "markdown",
   "metadata": {},
   "source": [
    "Geef een overzicht met daarin de landen waar met dollars (dollars of new dollar) wordt betaald. Sorteer de uitkomst op land. (1 kolom, 4 rijen) "
   ]
  },
  {
   "cell_type": "code",
   "execution_count": null,
   "metadata": {},
   "outputs": [],
   "source": [
    "response6 = pd.read_sql(\"SELECT COUNTRY, CURRENCY_NAME from country\", conn)\n",
    "filteredDf6 = response6[response6['CURRENCY_NAME'].str.contains('dollar')]\n",
    "\n",
    "print(filteredDf6)"
   ]
  },
  {
   "cell_type": "markdown",
   "metadata": {},
   "source": [
    "Geef een overzicht met daarin beide adressen en de stad van vestigingen van klanten waarvan de postcode begint met een ‘D’ (van duitsland). Filter op vestigingen die een tweede adres hebben. (3 kolommen, 2 rijen) "
   ]
  },
  {
   "cell_type": "code",
   "execution_count": null,
   "metadata": {},
   "outputs": [],
   "source": [
    "response7 = pd.read_sql(\"SELECT ADDRESS1, ADDRESS2, CITY, POSTAL_ZONE from retailer_site\", conn)\n",
    "filteredDf7 = response7[response7['POSTAL_ZONE'].str.startswith('D') & response7['ADDRESS2'].notnull()]\n",
    "\n",
    "print(filteredDf7[['ADDRESS1', 'ADDRESS2', 'CITY']])"
   ]
  },
  {
   "cell_type": "markdown",
   "metadata": {},
   "source": [
    "## Selecties op één tabel met functies"
   ]
  },
  {
   "cell_type": "markdown",
   "metadata": {},
   "source": [
    "Geef het totaal aantal producten dat is teruggebracht (1 waarde) "
   ]
  },
  {
   "cell_type": "code",
   "execution_count": null,
   "metadata": {},
   "outputs": [],
   "source": [
    "response8 = pd.read_sql('SELECT COUNT(*) as RESPONSES FROM returned_item', conn)\n",
    "\n",
    "print(response8)"
   ]
  },
  {
   "cell_type": "markdown",
   "metadata": {},
   "source": [
    "Geef het aantal regio’s waarin verkoopafdelingen gevestigd zijn. (1 waarde)"
   ]
  },
  {
   "cell_type": "code",
   "execution_count": null,
   "metadata": {},
   "outputs": [],
   "source": [
    "response9 = pd.read_sql('SELECT REGION FROM sales_branch', conn)\n",
    "filteredDf9 = response9.count()\n",
    "\n",
    "print(filteredDf9)"
   ]
  },
  {
   "cell_type": "markdown",
   "metadata": {},
   "source": [
    "Maak 3 variabelen:\n",
    "- Een met de laagste\n",
    "- Een met de hoogste\n",
    "- Een met de gemiddelde (afgerond op 2 decimalen)\n",
    "\n",
    "marge van producten (3 kolommen, 1 rij) "
   ]
  },
  {
   "cell_type": "code",
   "execution_count": null,
   "metadata": {},
   "outputs": [],
   "source": [
    "response9 = pd.read_sql('SELECT MARGIN FROM product', conn)\n",
    "laagste = pd.Series(response9['MARGIN'].min())\n",
    "hoogste = pd.Series(response9['MARGIN'].max())\n",
    "gemiddelde = pd.Series(response9['MARGIN'].mean().round(2))\n",
    "\n",
    "filteredDf10 = pd.concat([laagste, hoogste, gemiddelde], axis=1)\n",
    "print(filteredDf10)"
   ]
  },
  {
   "cell_type": "markdown",
   "metadata": {},
   "source": [
    "Geef het aantal vestigingen van klanten waarvan het 2e adres niet bekend is (1 waarde)"
   ]
  },
  {
   "cell_type": "code",
   "execution_count": null,
   "metadata": {},
   "outputs": [],
   "source": [
    "response11 = pd.read_sql(\"SELECT ADDRESS2 from sales_branch\", conn)\n",
    "filteredDf11 = response11['ADDRESS2'].isnull().sum()\n",
    "\n",
    "print(filteredDf11)"
   ]
  },
  {
   "cell_type": "markdown",
   "metadata": {},
   "source": [
    "Geef de gemiddelde kostprijs van de verkochte producten waarop korting (unit_sale_price < unit_price) is verleend (1 waarde) "
   ]
  },
  {
   "cell_type": "code",
   "execution_count": null,
   "metadata": {},
   "outputs": [],
   "source": [
    "response12 = pd.read_sql(\"SELECT UNIT_PRICE, UNIT_SALE_PRICE from order_details\", conn)\n",
    "filteredDf12 = response12[response12['UNIT_SALE_PRICE'] < response12['UNIT_PRICE']]\n",
    "filteredDf12 = filteredDf12['UNIT_PRICE'].mean().round(2)\n",
    "\n",
    "print(filteredDf12)"
   ]
  },
  {
   "cell_type": "markdown",
   "metadata": {},
   "source": [
    "Geef een overzicht met daarin het aantal medewerkers per medewerkersfunctie (2 kolommen, 7 rijen) "
   ]
  },
  {
   "cell_type": "code",
   "execution_count": null,
   "metadata": {},
   "outputs": [],
   "source": [
    "response13 = pd.read_sql(\"SELECT POSITION_EN from sales_staff\", conn)\n",
    "filteredDf13 = response13['POSITION_EN'].value_counts()\n",
    "\n",
    "print(filteredDf13)"
   ]
  },
  {
   "cell_type": "markdown",
   "metadata": {},
   "source": [
    "Geef een overzicht met daarin per telefoonnummer het aantal medewerkers dat op dat telefoonnummer bereikbaar is. Toon alleen de telefoonnummer waarop meer dan 4 medewerkers bereikbaar zijn. (2 kolommen, 10 rijen) "
   ]
  },
  {
   "cell_type": "code",
   "execution_count": null,
   "metadata": {},
   "outputs": [],
   "source": [
    "response14 = pd.read_sql(\"SELECT WORK_PHONE from sales_staff\", conn)\n",
    "filteredDf14 = response14['WORK_PHONE'].value_counts()\n",
    "filteredDf14 = response14 = filteredDf14[filteredDf14 > 4]\n",
    "\n",
    "print(filteredDf14)"
   ]
  },
  {
   "cell_type": "markdown",
   "metadata": {},
   "source": [
    "## Selecties op meerdere tabellen zonder functies"
   ]
  },
  {
   "cell_type": "markdown",
   "metadata": {},
   "source": [
    "Geef een overzicht met daarin het eerste adres en de stad van vestigingen van klanten uit ‘Netherlands’ (2 kolommen, 20 rijen) "
   ]
  },
  {
   "cell_type": "code",
   "execution_count": null,
   "metadata": {},
   "outputs": [],
   "source": [
    "retailer_df = pd.read_sql(\"SELECT * from retailer_site\", conn)\n",
    "country_df = pd.read_sql(\"SELECT * from country\", conn)\n",
    "\n",
    "merge_df = retailer_df.merge(country_df, on=\"COUNTRY_CODE\")\n",
    "\n",
    "response15 = merge_df[merge_df[\"COUNTRY\"] == \"Netherlands\"]\n",
    "\n",
    "print(response15[['ADDRESS1', 'CITY']])"
   ]
  },
  {
   "cell_type": "markdown",
   "metadata": {},
   "source": [
    "Geef een overzicht met daarin de productnamen die tot het producttype ‘Eyewear’ behoren. (1 kolom, 5 rijen) "
   ]
  },
  {
   "cell_type": "code",
   "execution_count": null,
   "metadata": {},
   "outputs": [],
   "source": [
    "product_df = pd.read_sql(\"SELECT * FROM product\", conn)\n",
    "product_type_df = pd.read_sql(\"SELECT * FROM product_type\", conn)\n",
    "\n",
    "merge_df2 = product_df.merge(product_type_df, on=\"PRODUCT_TYPE_CODE\")\n",
    "\n",
    "response16 = merge_df2[merge_df2['PRODUCT_TYPE_EN'] == \"Eyewear\"]\n",
    "\n",
    "print(response16['PRODUCT_NAME'])"
   ]
  },
  {
   "cell_type": "markdown",
   "metadata": {},
   "source": [
    "Geef een overzicht met daarin alle unieke eerste adressen van klantvestigingen en de voornaam en achternaam van de verkopers die ‘Branch Manager’ zijn en aan deze vestigingen hebben verkocht (3 kolommen, 1 rij) "
   ]
  },
  {
   "cell_type": "code",
   "execution_count": null,
   "metadata": {},
   "outputs": [],
   "source": [
    "header_df = pd.read_sql(\"SELECT * FROM order_header\", conn)\n",
    "details_df = pd.read_sql(\"SELECT * FROM order_details\", conn)\n",
    "staff_df = pd.read_sql(\"SELECT * FROM sales_staff\", conn)\n",
    "site_df = pd.read_sql(\"SELECT * FROM retailer_site\", conn)\n",
    "\n",
    "merge_df3 = details_df.merge(header_df, on=\"ORDER_NUMBER\")\n",
    "merge_df3 = merge_df3.merge(staff_df, on=\"SALES_STAFF_CODE\")\n",
    "merge_df3 = merge_df3.merge(site_df, on=\"RETAILER_SITE_CODE\")\n",
    "\n",
    "response17 = merge_df3[merge_df3['POSITION_EN'] == \"Branch Manager\"]\n",
    "response17_unique = response17[['ADDRESS1', 'FIRST_NAME', 'LAST_NAME']].drop_duplicates()\n",
    "\n",
    "\n",
    "print(response17_unique)"
   ]
  },
  {
   "cell_type": "markdown",
   "metadata": {},
   "source": [
    "Geef een overzicht met daarin van de verkopers hun functie en indien zij iets hebben verkocht de datum waarop de verkoop heeft plaatsgevonden. Laat alleen de verschillende namen van de posities zien van de verkopers die het woord ‘Manager’ in hun positienaam hebben staan. (2 kolommen, 7 rijen) "
   ]
  },
  {
   "cell_type": "code",
   "execution_count": null,
   "metadata": {},
   "outputs": [],
   "source": [
    "staff_df = pd.read_sql(\"SELECT * FROM sales_staff\", conn) # POSITION_EN\n",
    "header_df = pd.read_sql(\"SELECT * FROM order_header\", conn) # ORDER_DATE\n",
    "site_df = pd.read_sql(\"SELECT * FROM retailer_site\", conn)\n",
    "\n",
    "merge_df4 = staff_df.merge(header_df, on='SALES_STAFF_CODE')\n",
    "merge_df4 = merge_df4.merge(site_df, on='RETAILER_SITE_CODE')\n",
    "\n",
    "response18 = merge_df4[merge_df4['POSITION_EN'].str.contains('Manager')]\n",
    "response18_unique = response18[['POSITION_EN', 'ORDER_DATE']].drop_duplicates()\n",
    "\n",
    "print(response18_unique)"
   ]
  },
  {
   "cell_type": "markdown",
   "metadata": {},
   "source": [
    "Geef een overzicht met daarin de verschillende namen van producten en bijbehorende namen van producttypen van de producten waarvoor ooit meer dan 750 stuks tegelijk verkocht zijn. (2 kolommen, 9 rijen) "
   ]
  },
  {
   "cell_type": "code",
   "execution_count": null,
   "metadata": {},
   "outputs": [],
   "source": [
    "details_df = pd.read_sql(\"SELECT * FROM order_details\", conn)\n",
    "product_df = pd.read_sql(\"SELECT * FROM product\", conn)\n",
    "product_type_df = pd.read_sql(\"SELECT * FROM product_type\", conn)\n",
    "\n",
    "merge_df5 = details_df.merge(product_df, on='PRODUCT_NUMBER')\n",
    "merge_df5 = merge_df5.merge(product_type_df, on='PRODUCT_TYPE_CODE')\n",
    "\n",
    "response19 = merge_df5[merge_df5['QUANTITY'] > 750]\n",
    "response19_unique = response19[['PRODUCT_NAME','PRODUCT_TYPE_EN']].drop_duplicates()\n",
    "\n",
    "print(response19_unique)"
   ]
  },
  {
   "cell_type": "markdown",
   "metadata": {},
   "source": [
    "Geef een overzicht met daarin de productnamen waarvan ooit meer dan 40% korting is verleend. De formule voor korting is: (unit_price - unit_sale_price) / unit_price (1 kolom, 8 rijen) "
   ]
  },
  {
   "cell_type": "code",
   "execution_count": null,
   "metadata": {},
   "outputs": [],
   "source": [
    "product_df = pd.read_sql(\"SELECT * FROM product\", conn)\n",
    "\n",
    "merge_df6 = product_df.merge(details_df, on='PRODUCT_NUMBER')\n",
    "\n",
    "response20 = merge_df6[(merge_df6['UNIT_PRICE'] - merge_df6['UNIT_SALE_PRICE']) / merge_df6['UNIT_PRICE'] > 0.40]\n",
    "\n",
    "print(response20['PRODUCT_NAME'].drop_duplicates())"
   ]
  },
  {
   "cell_type": "markdown",
   "metadata": {},
   "source": [
    "Geef een overzicht met daarin de retour reden van producten waarvan ooit meer dan 90% van de aangeschafte hoeveelheid is teruggebracht (return_quantity/quantity). (1 kolom, 3 rijen) "
   ]
  },
  {
   "cell_type": "code",
   "execution_count": null,
   "metadata": {},
   "outputs": [],
   "source": [
    "details_df = pd.read_sql(\"SELECT * FROM order_details\", conn)\n",
    "returned_item_df = pd.read_sql(\"SELECT * FROM returned_item\", conn)\n",
    "reason_df = pd.read_sql(\"SELECT * FROM return_reason\", conn)\n",
    "\n",
    "merge_df7 = details_df.merge(returned_item_df, on='ORDER_DETAIL_CODE')\n",
    "merge_df7 = merge_df7.merge(reason_df, on='RETURN_REASON_CODE')\n",
    "\n",
    "response21 = merge_df7[merge_df7['RETURN_QUANTITY'] / merge_df7['QUANTITY'] > 0.90]\n",
    "\n",
    "print(response21['RETURN_DESCRIPTION_EN'].drop_duplicates())"
   ]
  },
  {
   "cell_type": "markdown",
   "metadata": {},
   "source": [
    "## Selecties op meerdere tabellen met functies"
   ]
  },
  {
   "cell_type": "markdown",
   "metadata": {},
   "source": [
    "Geef een overzicht met daarin per producttype het aantal producten die tot dat producttype behoren. (2 kolommen, 21 rijen) "
   ]
  },
  {
   "cell_type": "code",
   "execution_count": null,
   "metadata": {},
   "outputs": [],
   "source": [
    "product_df = pd.read_sql(\"SELECT * FROM product\", conn)\n",
    "product_type_df = pd.read_sql(\"SELECT * FROM product_type\", conn)\n",
    "\n",
    "merge_df8 = product_df.merge(product_type_df, on='PRODUCT_TYPE_CODE')\n",
    "\n",
    "product_count_series = pd.Series(merge_df8['PRODUCT_TYPE_EN'].value_counts())\n",
    "\n",
    "response22 = pd.DataFrame(product_count_series).reset_index()\n",
    "response22.rename(columns={'PRODUCT_TYPE_EN': 'PRODUCT_NAME', 'count' : 'COUNT'}, inplace=True)\n",
    "\n",
    "print(response22)"
   ]
  },
  {
   "cell_type": "markdown",
   "metadata": {},
   "source": [
    "Geef een overzicht met daarin per land het aantal vestigingen van klanten die zich in dat land bevinden. (2 kolommen, 21 rijen) "
   ]
  },
  {
   "cell_type": "code",
   "execution_count": null,
   "metadata": {},
   "outputs": [],
   "source": [
    "country_df = pd.read_sql(\"SELECT * FROM country\", conn)\n",
    "retailer_df = pd.read_sql(\"SELECT * from retailer_site\", conn)\n",
    "\n",
    "merge_df9 = country_df.merge(retailer_df, on='COUNTRY_CODE')\n",
    "\n",
    "vestigingen_count_series = pd.Series(merge_df9['COUNTRY_CODE'].value_counts())\n",
    "\n",
    "response23 = pd.DataFrame(vestigingen_count_series).reset_index()\n",
    "response23.insert(0, 'COUNTRY', country_df['COUNTRY'])\n",
    "response23.drop('COUNTRY_CODE', axis=1, inplace=True)\n",
    "\n",
    "print(response23)"
   ]
  },
  {
   "cell_type": "markdown",
   "metadata": {},
   "source": [
    "Geef een overzicht met daarin van de producten behorend tot het producttype ‘Cooking Gear’ per productnaam de totaal verkochte hoeveelheid en de gemiddelde verkoopprijs. Sorteer de uitkomst op totaal verkochte hoeveelheid. (4 kolommen, 10 rijen) "
   ]
  },
  {
   "cell_type": "code",
   "outputs": [],
   "source": [
    "product_df = pd.read_sql(\"SELECT * FROM product\", conn)\n",
    "product_type_df = pd.read_sql(\"SELECT * FROM product_type\", conn)\n",
    "details_df = pd.read_sql(\"SELECT * FROM order_details\", conn)\n",
    "\n",
    "\n",
    "merge_df10 = product_df.merge(product_type_df, on='PRODUCT_TYPE_CODE')\n",
    "merge_df10 = merge_df10.merge(details_df, on='PRODUCT_NUMBER')\n",
    "\n",
    "merge_df10 = merge_df10[merge_df10['PRODUCT_TYPE_EN'] == 'Cooking Gear']\n",
    "\n",
    "summary_df = merge_df10.groupby('PRODUCT_NAME').agg({\n",
    "    'QUANTITY': 'sum',\n",
    "    'UNIT_SALE_PRICE': 'mean'\n",
    "}).reset_index()\n",
    "\n",
    "summary_df.rename(columns={'PRODUCT_TYPE_EN': 'PRODUCT_TYPE', 'QUANTITY': 'TOTAL_SOLD', 'UNIT_SALE_PRICE': 'AVERAGE_COST'}, inplace=True)\n",
    "\n",
    "summary_df.insert(0, 'PRODUCT_TYPE', merge_df10['PRODUCT_TYPE_EN'])\n",
    "\n",
    "summary_df = summary_df.sort_values(by='TOTAL_SOLD', ascending=False)\n",
    "\n",
    "print(summary_df)"
   ],
   "metadata": {
    "collapsed": false
   },
   "execution_count": null
  },
  {
   "cell_type": "markdown",
   "metadata": {},
   "source": [
    "Geef een overzicht met daarin per land de naam van het land, de naam van de stad waar de verkoopafdeling is gevestigd (noem de kolomnaam in het overzicht ‘verkoper’) en het aantal steden waar zich klanten bevinden in dat land (noem de kolomnaam in het overzicht ‘klanten’) (3 kolommen, 29 rijen) "
   ]
  },
  {
   "cell_type": "code",
   "execution_count": null,
   "metadata": {},
   "outputs": [],
   "source": [
    "country_df = pd.read_sql(\"SELECT * FROM country\", conn)\n",
    "sales_branch_df = pd.read_sql(\"SELECT * FROM sales_branch\", conn)\n",
    "header_df = pd.read_sql(\"SELECT * FROM order_header\", conn)\n",
    "\n",
    "merge_df11 = country_df.merge(sales_branch_df, on=\"COUNTRY_CODE\")\n",
    "merge_df11 = merge_df11.merge(header_df, on=\"SALES_BRANCH_CODE\")\n",
    "\n",
    "city_count_series = pd.Series(merge_df11['CITY'].value_counts(), name=\"klanten\")\n",
    "\n",
    "response24 = pd.DataFrame(city_count_series).reset_index()\n",
    "# response24.rename(columns={'CITY': 'CITY', 'count' : 'COUNT'}, inplace=True)\n",
    "\n",
    "response24 = response24.merge(merge_df11, on='CITY')\n",
    "\n",
    "print(response24[['COUNTRY', 'CITY','klanten']].drop_duplicates().reset_index().drop('index', axis=1))"
   ]
  },
  {
   "cell_type": "markdown",
   "metadata": {},
   "source": [
    "## Pythonvertalingen van SUBSELECT en UNION met o.a. for-loops"
   ]
  },
  {
   "cell_type": "markdown",
   "metadata": {},
   "source": [
    "Geef een overzicht met daarin de voornaam en de achternaam van de medewerkers die nog nooit wat hebben verkocht (2 kolommen, 25 rijen) "
   ]
  },
  {
   "cell_type": "code",
   "execution_count": null,
   "metadata": {},
   "outputs": [],
   "source": [
    "staff_df = pd.read_sql(\"SELECT * FROM sales_staff\", conn)\n",
    "header_df = pd.read_sql(\"SELECT * FROM order_header\", conn)\n",
    "\n",
    "merge_df12 = staff_df.merge(header_df, on='SALES_STAFF_CODE', how='left')\n",
    "\n",
    "no_sales_df = merge_df12[merge_df12['ORDER_NUMBER'].isna()]\n",
    "\n",
    "print(no_sales_df[['FIRST_NAME','LAST_NAME']].drop_duplicates().reset_index().drop('index', axis=1))"
   ]
  },
  {
   "cell_type": "markdown",
   "metadata": {},
   "source": [
    "Geef een overzicht met daarin het aantal producten waarvan de marge lager is dan de gemiddelde marge van alle producten samen. Geef in het overzicht tevens aan wat de gemiddelde marge is van dit aantal producten waarvan de marge lager dan de gemiddelde marge van alle producten samen is. (1 kolom, 2 rijen) "
   ]
  },
  {
   "cell_type": "code",
   "execution_count": null,
   "metadata": {},
   "outputs": [],
   "source": [
    "product_df = pd.read_sql(\"SELECT * FROM product\", conn)\n",
    "\n",
    "gemMargin = product_df['MARGIN'].mean()\n",
    "\n",
    "belowAvgMargin = product_df[product_df['MARGIN'] < gemMargin]\n",
    "\n",
    "numProducts = belowAvgMargin.shape[0]\n",
    "avgMarginBelowAvg = belowAvgMargin['MARGIN'].mean()\n",
    "\n",
    "response25 = pd.DataFrame({'Aantal producten': [numProducts, avgMarginBelowAvg]})\n",
    "\n",
    "print(response25)"
   ]
  },
  {
   "cell_type": "markdown",
   "metadata": {},
   "source": [
    "Geef een overzicht met daarin de namen van de producten die voor meer dan 500 (verkoopprijs) zijn verkocht maar nooit zijn teruggebracht. (1 kolom, 13 rijen) "
   ]
  },
  {
   "cell_type": "code",
   "execution_count": null,
   "metadata": {},
   "outputs": [],
   "source": [
    "product_df = pd.read_sql(\"SELECT * FROM product\", conn)\n",
    "details_df = pd.read_sql(\"SELECT * FROM order_details\", conn)\n",
    "returned_item_df = pd.read_sql(\"SELECT * FROM returned_item\", conn)\n",
    "\n",
    "merge_df13 = product_df.merge(details_df, on='PRODUCT_NUMBER')\n",
    "merge_df13 = merge_df13.merge(returned_item_df, on='ORDER_DETAIL_CODE', how='left')\n",
    "\n",
    "response26 = merge_df13[(merge_df13['UNIT_SALE_PRICE'] > 500) & (merge_df13['RETURN_CODE'].isna())]\n",
    "\n",
    "print(response26['PRODUCT_NAME'].drop_duplicates().reset_index().drop('index', axis=1))"
   ]
  },
  {
   "cell_type": "markdown",
   "metadata": {},
   "source": [
    "Geef een overzicht met daarin per (achternaam van) medewerker of hij/zij manager is of niet, door deze informatie toe te voegen als extra 'Ja/Nee'-kolom.<br>\n",
    "Hint: gebruik een for-loop waarin je o.a. bepaalt of het woord 'Manager' in de functie (position_en) staat. (2 kolommen, 102 rijen)."
   ]
  },
  {
   "cell_type": "code",
   "execution_count": null,
   "metadata": {},
   "outputs": [],
   "source": [
    "staff_df = pd.read_sql(\"SELECT * FROM sales_staff\", conn)\n",
    "\n",
    "isManager = []\n",
    "for position in staff_df['POSITION_EN']:\n",
    "    if 'Manager' in position:\n",
    "        isManager.append(\"Ja\")\n",
    "    else:\n",
    "        isManager.append(\"Nee\")\n",
    "\n",
    "isManagerSeries = pd.Series(isManager, name='IS_MANAGER')\n",
    "\n",
    "response27 = pd.concat([staff_df,isManagerSeries], axis=1)\n",
    "\n",
    "print(response27[['LAST_NAME','IS_MANAGER']])"
   ]
  },
  {
   "cell_type": "markdown",
   "metadata": {},
   "source": [
    "Met de onderstaande code laat je Python het huidige jaar uitrekenen."
   ]
  },
  {
   "cell_type": "code",
   "execution_count": 14,
   "metadata": {
    "ExecuteTime": {
     "end_time": "2025-02-16T16:10:59.598610Z",
     "start_time": "2025-02-16T16:10:59.591992Z"
    }
   },
   "outputs": [
    {
     "data": {
      "text/plain": "2025"
     },
     "execution_count": 14,
     "metadata": {},
     "output_type": "execute_result"
    }
   ],
   "source": [
    "from datetime import date\n",
    "date.today().year"
   ]
  },
  {
   "cell_type": "markdown",
   "metadata": {},
   "source": [
    "Met de onderstaande code selecteer je op een bepaald jaartal uit een datum."
   ]
  },
  {
   "cell_type": "code",
   "execution_count": 15,
   "metadata": {
    "ExecuteTime": {
     "end_time": "2025-02-16T16:11:01.081924Z",
     "start_time": "2025-02-16T16:11:01.076137Z"
    }
   },
   "outputs": [
    {
     "data": {
      "text/plain": "2013"
     },
     "execution_count": 15,
     "metadata": {},
     "output_type": "execute_result"
    }
   ],
   "source": [
    "from datetime import datetime\n",
    "\n",
    "date_str = '16-8-2013'\n",
    "date_format = '%d-%m-%Y'\n",
    "date_obj = datetime.strptime(date_str, date_format)\n",
    "\n",
    "date_obj.year"
   ]
  },
  {
   "cell_type": "markdown",
   "metadata": {},
   "source": [
    "Geef met behulp van bovenstaande hulpcode een overzicht met daarin op basis van het aantal jaar dat iemand in dienst is of een medewerker ‘kort in dienst’ (minder dan 25 jaar in dienst) of een ‘lang in dienst’ (groter gelijk dan 12 jaar in dienst) is. Geef daarbij per medewerker in een aparte kolom zowel ‘kort in dienst’ als ‘lang in dienst’ aan. Gebruik (wederom) een for-loop.<br>\n",
    "(2 kolommen, 102 rijen) "
   ]
  },
  {
   "cell_type": "code",
   "execution_count": 17,
   "metadata": {
    "ExecuteTime": {
     "end_time": "2025-02-16T16:11:12.925901Z",
     "start_time": "2025-02-16T16:11:12.914774Z"
    }
   },
   "outputs": [
    {
     "name": "stdout",
     "output_type": "stream",
     "text": [
      "     LAST_NAME KORT_IN_DIENST LANG_IN_DIENST\n",
      "0         Pagé            Nee             Ja\n",
      "1       Michel            Nee             Ja\n",
      "2     Clermont            Nee             Ja\n",
      "3       Jauvin            Nee             Ja\n",
      "4    Wiesinger            Nee             Ja\n",
      "..         ...            ...            ...\n",
      "97    Laermans            Nee             Ja\n",
      "98     De Crée            Nee             Ja\n",
      "99     Lattrez            Nee             Ja\n",
      "100  Seefelder            Nee             Ja\n",
      "101     Grüner            Nee             Ja\n",
      "\n",
      "[102 rows x 3 columns]\n"
     ]
    }
   ],
   "source": [
    "# staff_df = pd.read_sql(\"SELECT * FROM sales_staff\", conn)\n",
    "# \n",
    "# isShort = []\n",
    "# isLong = []\n",
    "# \n",
    "# for start_date in staff_df['DATE_HIRED']:\n",
    "#     start_date = datetime.strptime(start_date, '%Y-%m-%d')\n",
    "#     years_in_service = date.today().year - start_date.year\n",
    "# \n",
    "#     if years_in_service < 25:\n",
    "#         isShort.append(\"Ja\")\n",
    "#     else:\n",
    "#         isShort.append(\"Nee\")\n",
    "# \n",
    "#     if years_in_service >= 12:\n",
    "#         isLong.append(\"Ja\")\n",
    "#     else:\n",
    "#         isLong.append(\"Nee\")\n",
    "# \n",
    "# isShortSeries = pd.Series(isShort, name='KORT_IN_DIENST')\n",
    "# isLongSeries = pd.Series(isLong, name='LANG_IN_DIENST')\n",
    "# \n",
    "# response28 = pd.concat([staff_df,isShortSeries,isLongSeries], axis=1)\n",
    "# \n",
    "# print(response28[['LAST_NAME','KORT_IN_DIENST','LANG_IN_DIENST']])"
   ]
  },
  {
   "cell_type": "markdown",
   "metadata": {},
   "source": [
    "## Van Jupyter Notebook naar Pythonproject"
   ]
  },
  {
   "cell_type": "markdown",
   "metadata": {},
   "source": [
    "1. Richt de map waarin jullie tot nu toe hebben gewerkt in volgens de mappenstructuur uit de slides.\n",
    "2. Maak van de ontstane mappenstructuur een Pythonproject dat uitvoerbaar is vanuit de terminal. Maak daarin een .py-bestand dat minstens 5 antwoorden uit dit notebook (in de vorm van een DataFrame) exporteert naar Excelbestanden. Alle notebooks mogen als notebook blijven bestaan.\n",
    "3. Zorg ervoor dat dit Pythonproject zijn eigen repo heeft op Github. Let op: je virtual environment moet <b><u>niet</u></b> meegaan naar Github.\n",
    "\n",
    "Je mag tijdens dit proces je uit stap 1 ontstane mappenstructuur aanpassen, zolang je bij het beoordelingsmoment kan verantwoorden wat de motivatie hierachter is. De slides verplichten je dus nergens toe."
   ]
  }
 ],
 "metadata": {
  "kernelspec": {
   "display_name": "python-in-deds-P4iSP_yI-py3.11",
   "language": "python",
   "name": "python3"
  },
  "language_info": {
   "codemirror_mode": {
    "name": "ipython",
    "version": 3
   },
   "file_extension": ".py",
   "mimetype": "text/x-python",
   "name": "python",
   "nbconvert_exporter": "python",
   "pygments_lexer": "ipython3",
   "version": "3.11.4"
  }
 },
 "nbformat": 4,
 "nbformat_minor": 2
}
