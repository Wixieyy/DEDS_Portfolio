{
 "cells": [
  {
   "cell_type": "markdown",
   "source": [
    "Imports and initial connection"
   ],
   "metadata": {
    "collapsed": false
   },
   "id": "a41ca8b26f077df8"
  },
  {
   "cell_type": "code",
   "execution_count": null,
   "id": "initial_id",
   "metadata": {
    "collapsed": true
   },
   "outputs": [],
   "source": [
    "from sqlalchemy import create_engine\n",
    "from sqlalchemy import text\n",
    "import pandas as pd\n",
    "import sqlite3\n",
    "\n",
    "engine = create_engine(\"mssql+pyodbc://LEGION\\\\SQLEXPRESS/sdm?driver=ODBC+Driver+17+for+SQL+Server&trusted_connection=yes\")\n"
   ]
  },
  {
   "cell_type": "markdown",
   "source": [
    "Create DataFrames from db"
   ],
   "metadata": {
    "collapsed": false
   },
   "id": "42d0375a7eaa1664"
  },
  {
   "cell_type": "code",
   "outputs": [],
   "source": [
    "age_group_df = pd.read_sql_query('SELECT * FROM age_group', engine)\n",
    "country_df = pd.read_sql_query('SELECT * FROM country', engine)\n",
    "course_df = pd.read_sql_query('SELECT * FROM course', engine)\n",
    "inventory_levels_df = pd.read_sql_query('SELECT * FROM inventory_levels', engine)\n",
    "order_details_df = pd.read_sql_query('SELECT * FROM order_details', engine)\n",
    "order_header_df = pd.read_sql_query('SELECT * FROM order_header', engine)\n",
    "order_method_df = pd.read_sql_query('SELECT * FROM order_method', engine)\n",
    "product_df = pd.read_sql_query('SELECT * FROM product', engine)\n",
    "product_forecast_df = pd.read_sql_query('SELECT * FROM product_forecast', engine)\n",
    "product_line_df = pd.read_sql_query('SELECT * FROM product_line', engine)\n",
    "product_type_df = pd.read_sql_query('SELECT * FROM product_type', engine)\n",
    "retailer_df = pd.read_sql_query('SELECT * FROM retailer', engine)\n",
    "retailer_headquarters_df = pd.read_sql_query('SELECT * FROM retailer_headquarters', engine)\n",
    "retailer_segment_df = pd.read_sql_query('SELECT * FROM retailer_segment', engine)\n",
    "retailer_site_df = pd.read_sql_query('SELECT * FROM retailer_site', engine)\n",
    "retailer_type_df = pd.read_sql_query('SELECT * FROM retailer_type', engine)\n",
    "return_reason_df = pd.read_sql_query('SELECT * FROM return_reason', engine)\n",
    "returned_item_df = pd.read_sql_query('SELECT * FROM returned_item', engine)\n",
    "sales_branch_df = pd.read_sql_query('SELECT * FROM sales_branch', engine)\n",
    "sales_staff_df = pd.read_sql_query('SELECT * FROM sales_staff', engine)\n",
    "sales_demographic_df = pd.read_sql_query('SELECT * FROM sales_demographic', engine)\n",
    "sales_territory_df = pd.read_sql_query('SELECT * FROM sales_territory', engine)\n",
    "satisfaction_df = pd.read_sql_query('SELECT * FROM satisfaction', engine)\n",
    "satisfaction_type_df = pd.read_sql_query('SELECT * FROM satisfaction_type', engine)\n",
    "training_df = pd.read_sql_query('SELECT * FROM training', engine)\n"
   ],
   "metadata": {
    "collapsed": false
   },
   "id": "85286cfbe567fdf2",
   "execution_count": null
  },
  {
   "cell_type": "markdown",
   "source": [
    "Loc for one-liner inserts into DataFrame & insert into SQL DB"
   ],
   "metadata": {
    "collapsed": false
   },
   "id": "43a970c668008232"
  },
  {
   "cell_type": "code",
   "outputs": [],
   "source": [
    "# course_df.loc[len(course_df)] = [2, 'course test info2']\n",
    "# training_df.loc[len(training_df)] = [2026, 7, 2]\n",
    "\n",
    "# course_df\n",
    "# course_df = course_df.drop(course_df[course_df['COURSE_CODE'] == 2].index)\n",
    "\n",
    "# course_df.to_sql('course', con=engine, if_exists='replace', index=False)\n",
    "# training_df.to_sql('training', con=engine, if_exists='append', index=False)\n",
    "\n",
    "\n",
    "new_data1 = pd.DataFrame({'COURSE_CODE' : [6],'COURSE_DESCRIPTION' : ['course test info6']})\n",
    "\n",
    "filtered_data1 = new_data1[~new_data1['COURSE_CODE'].isin(course_df['COURSE_CODE'])]\n",
    "\n",
    "filtered_data1.to_sql('course', con=engine, if_exists='append', index=False)"
   ],
   "metadata": {
    "collapsed": false
   },
   "id": "d6830a4c530381c4",
   "execution_count": null
  },
  {
   "cell_type": "markdown",
   "source": [
    "Insert where there are foreign keys test\n",
    "Start from outside (tables with no foreign keys required) and go within\n",
    "\n",
    "insert into sales_demographic required FK from age_group and retailer_headquarters, insert into retailer_headquarters requires FK from retailer_segment"
   ],
   "metadata": {
    "collapsed": false
   },
   "id": "b949476050bd6238"
  },
  {
   "cell_type": "markdown",
   "source": [
    "retailer_segment DF and DB insert"
   ],
   "metadata": {
    "collapsed": false
   },
   "id": "1d959a14a36c5cdd"
  },
  {
   "cell_type": "code",
   "outputs": [],
   "source": [
    "# retailer_segment_df.loc[len(retailer_segment_df)] = [2, 'english2', 'seg name test2', 'seg desc test2']\n",
    "# retailer_segment_df.to_sql('retailer_segment', con=engine, if_exists='replace', index=False)\n",
    "\n",
    "# retailer_segment_df = retailer_segment_df.drop(retailer_segment_df[retailer_segment_df['SEGMENT_CODE'] == 1].index)\n",
    "# retailer_segment_df\n",
    "\n",
    "new_data2 = pd.DataFrame({'SEGMENT_CODE': [3], 'SEGMENT_NAME': ['english3'], 'SEGMENT_DESC': ['seg name test3'], 'SEGMENT_DESC_NON_ENG': ['seg desc test3']})\n",
    "\n",
    "filtered_data2 = new_data2[~new_data2['SEGMENT_CODE'].isin(retailer_segment_df['SEGMENT_CODE'])]\n",
    "\n",
    "filtered_data2.to_sql('retailer_segment', con=engine, if_exists='append', index=False)"
   ],
   "metadata": {
    "collapsed": false
   },
   "id": "578c0049acbd135a",
   "execution_count": null
  },
  {
   "cell_type": "markdown",
   "source": [
    "territory_code DF and DB insert"
   ],
   "metadata": {
    "collapsed": false
   },
   "id": "1e46f423fcf7e47b"
  },
  {
   "cell_type": "code",
   "outputs": [],
   "source": [
    "# sales_territory_df.loc[len(sales_territory_df)] = [3, 'kingdom of the netherlands']\n",
    "# sales_territory_df.to_sql('sales_territory', con=engine, if_exists='append', index=False)\n",
    "\n",
    "new_data3 = pd.DataFrame({'SALES_TERRITORY_CODE': [4], 'TERRITORY_NAME_EN': ['kingdom of the netherlands']})\n",
    "\n",
    "filtered_data3 = new_data3[~new_data3['SALES_TERRITORY_CODE'].isin(sales_territory_df['SALES_TERRITORY_CODE'])]\n",
    "\n",
    "filtered_data3.to_sql('sales_territory', con=engine, if_exists='append', index=False)"
   ],
   "metadata": {
    "collapsed": false
   },
   "id": "ce33e3b2403449c6",
   "execution_count": null
  },
  {
   "cell_type": "markdown",
   "source": [
    "country DF and DB insert"
   ],
   "metadata": {
    "collapsed": false
   },
   "id": "1386071004037975"
  },
  {
   "cell_type": "code",
   "outputs": [],
   "source": [
    "# country_df.loc[len(country_df)] = [1, 'netherlands', 'dutch', 'euro', 'flag of the netherlands', 3]\n",
    "# country_df.to_sql('country', con=engine, if_exists='append', index=False)\n",
    "\n",
    "new_data4 = pd.DataFrame({'COUNTRY_CODE': [2], 'COUNTRY_EN': ['belgium'], 'LANGUAGE': ['french'], 'CURRENCY_NAME': ['euro'], 'FLAG_IMAGE': ['flag of belgium'], 'SALES_TERRITORY_CODE': [4]})\n",
    "\n",
    "filtered_data4 = new_data4[~new_data4['COUNTRY_CODE'].isin(country_df['COUNTRY_CODE'])]\n",
    "\n",
    "filtered_data4.to_sql('country', con=engine, if_exists='append', index=False)"
   ],
   "metadata": {
    "collapsed": false
   },
   "id": "678f10dfb1db4030",
   "execution_count": null
  },
  {
   "cell_type": "markdown",
   "source": [
    "retailer_headquarters DF and DB insert"
   ],
   "metadata": {
    "collapsed": false
   },
   "id": "a03629f488afc57a"
  },
  {
   "cell_type": "code",
   "outputs": [],
   "source": [
    "# retailer_headquarters_df.loc[len(retailer_headquarters_df)] = [8, 'google', 'address1test', 'address2test', 'amsterdam', 'north holland', 1, '1234567890', '1234567890', 1]\n",
    "# retailer_headquarters_df.to_sql('retailer_headquarters', con=engine, if_exists='append', index=False)\n",
    "\n",
    "new_data5 = pd.DataFrame({'RETAILER_CODEMR': [9], 'RETAILER_NAME': ['google'], 'ADDRESS1': ['address1test'], 'ADDRESS2': ['address2test'], 'CITY': ['amsterdam'], 'REGION': ['north holland'], 'COUNTRY_CODE': [2], 'PHONE': ['1234567890'], 'FAX': ['1234567890'], 'SEGMENT_CODE': [3]})\n",
    "\n",
    "filtered_data5 = new_data5[~new_data5['RETAILER_CODEMR'].isin(retailer_headquarters_df['RETAILER_CODEMR'])]\n",
    "\n",
    "filtered_data5.to_sql('retailer_headquarters', con=engine, if_exists='append', index=False)"
   ],
   "metadata": {
    "collapsed": false
   },
   "id": "417d3f3849825121",
   "execution_count": null
  },
  {
   "cell_type": "markdown",
   "source": [
    "age_group DF and DB insert"
   ],
   "metadata": {
    "collapsed": false
   },
   "id": "aaeb08dff27749ff"
  },
  {
   "cell_type": "code",
   "outputs": [],
   "source": [
    "# age_group_df.loc[len(age_group_df)] = [5, 66, 21]\n",
    "# age_group_df.to_sql('age_group', con=engine, if_exists='append', index=False)\n",
    "\n",
    "# age_group_df\n",
    "# age_group_df = age_group_df.drop(age_group_df[age_group_df['AGE_GROUP_CODE'] == 4].index)\n",
    "\n",
    "\n",
    "new_data6 = pd.DataFrame({'AGE_GROUP_CODE': [7], 'UPPER_AGE': [68], 'LOWER_AGE': [23]})\n",
    "\n",
    "filtered_data6 = new_data6[~new_data6['AGE_GROUP_CODE'].isin(age_group_df['AGE_GROUP_CODE'])]\n",
    "\n",
    "filtered_data6.to_sql('age_group', con=engine, if_exists='append', index=False)"
   ],
   "metadata": {
    "collapsed": false
   },
   "id": "537ccf838579ca68",
   "execution_count": null
  },
  {
   "cell_type": "markdown",
   "source": [
    "sales_demographic DF and DB insert"
   ],
   "metadata": {
    "collapsed": false
   },
   "id": "58198ccad50dea7f"
  },
  {
   "cell_type": "code",
   "outputs": [],
   "source": [
    "# sales_demographic_df.loc[len(sales_demographic_df)] = [12, 8, 4, 20]\n",
    "# sales_demographic_df.to_sql('sales_demographic', con=engine, if_exists='append', index=False)\n",
    "\n",
    "new_data7 = pd.DataFrame({'DEMOGRAPHIC_CODE': [13], 'RETAILER_CODEMR': [9], 'AGE_GROUP_CODE': [5], 'PERCENT': [20]})\n",
    "\n",
    "filtered_data7 = new_data7[~new_data7['DEMOGRAPHIC_CODE'].isin(sales_demographic_df['DEMOGRAPHIC_CODE'])]\n",
    "\n",
    "filtered_data7.to_sql('sales_demographic', con=engine, if_exists='append', index=False)"
   ],
   "metadata": {
    "collapsed": false
   },
   "id": "51946525c1399b12",
   "execution_count": null
  },
  {
   "cell_type": "markdown",
   "source": [
    "import read data from go_crm_train file"
   ],
   "metadata": {
    "collapsed": false
   },
   "id": "7a8010c94e4538da"
  },
  {
   "cell_type": "code",
   "outputs": [],
   "source": [
    "conn = sqlite3.connect('../data/raw/go_crm_train.sqlite')\n",
    "result = conn.cursor().execute('SELECT * from age_group').fetchall()\n",
    "\n",
    "result_df = pd.DataFrame(result, columns=['AGE_GROUP_ID', 'UPPER_AGE', 'LOWER_AGE'])\n",
    "result_df"
   ],
   "metadata": {
    "collapsed": false
   },
   "id": "695c70df5d188177",
   "execution_count": null
  },
  {
   "cell_type": "markdown",
   "source": [
    "delete all records from DB table"
   ],
   "metadata": {
    "collapsed": false
   },
   "id": "423bc5e2e2a4816a"
  },
  {
   "cell_type": "code",
   "outputs": [],
   "source": [
    "with engine.connect() as conn:\n",
    "    # conn.execute(text(\"DELETE FROM retailer_headquarters WHERE SEGMENT_CODE IS NOT NULL\"))\n",
    "    # conn.commit()\n",
    "\n",
    "    conn.execute(text(\"DELETE FROM sales_territory\"))\n",
    "    conn.commit()"
   ],
   "metadata": {
    "collapsed": false
   },
   "id": "241de90cc4e7aded",
   "execution_count": null
  },
  {
   "cell_type": "markdown",
   "source": [
    "make all connections"
   ],
   "metadata": {
    "collapsed": false
   },
   "id": "aa4b7946ff93c963"
  },
  {
   "cell_type": "code",
   "outputs": [],
   "source": [
    "prod_fore_csv = pd.read_csv('../data/raw/product_forecast_train.csv')\n",
    "prod_fore_df = pd.DataFrame(prod_fore_csv)\n",
    "\n",
    "inv_levels_csv = pd.read_csv('../data/raw/inventory_levels_train.csv')\n",
    "inv_levels_df = pd.DataFrame(inv_levels_csv)\n",
    "\n",
    "crm_train_conn = sqlite3.connect('../data/raw/go_crm_train.sqlite')\n",
    "sales_train_conn = sqlite3.connect('../data/raw/go_sales_train.sqlite')\n",
    "staff_train_conn = sqlite3.connect('../data/raw/go_staff_train.sqlite')"
   ],
   "metadata": {
    "collapsed": false,
    "ExecuteTime": {
     "end_time": "2025-02-28T18:23:23.667473Z",
     "start_time": "2025-02-28T18:23:23.657475Z"
    }
   },
   "id": "1edf04890f2c76cc",
   "execution_count": 195
  },
  {
   "cell_type": "markdown",
   "source": [],
   "metadata": {
    "collapsed": false
   },
   "id": "c18191b8bd69a234"
  },
  {
   "cell_type": "markdown",
   "source": [
    "insert product_line data into DB table"
   ],
   "metadata": {
    "collapsed": false
   },
   "id": "f32df42983b25e35"
  },
  {
   "cell_type": "code",
   "outputs": [],
   "source": [
    "product_line_fetch = sales_train_conn.cursor().execute('SELECT * from product_line').fetchall()\n",
    "product_line_fetch = pd.DataFrame(product_line_fetch, columns=['PRODUCT_LINE_CODE', 'PRODUCT_LINE_EN'])\n",
    "\n",
    "a = 0\n",
    "while a < len(product_line_fetch):\n",
    "    product_line_temp_df = pd.DataFrame({'PRODUCT_LINE_CODE': [product_line_fetch.iloc[a]['PRODUCT_LINE_CODE']], 'PRODUCT_LINE_EN': [product_line_fetch.iloc[a]['PRODUCT_LINE_EN']]})\n",
    "    \n",
    "    product_line_temp_df.to_sql('product_line', con=engine, if_exists='append', index=False)\n",
    "    a += 1\n"
   ],
   "metadata": {
    "collapsed": false
   },
   "id": "faa078f3505f6298",
   "execution_count": null
  },
  {
   "cell_type": "markdown",
   "source": [
    "insert product_type data into DB table"
   ],
   "metadata": {
    "collapsed": false
   },
   "id": "1ddfcf2cb2c7b30d"
  },
  {
   "cell_type": "code",
   "outputs": [],
   "source": [
    "product_type_fetch = sales_train_conn.cursor().execute('SELECT * FROM product_type').fetchall()\n",
    "product_type_fetch = pd.DataFrame(product_type_fetch, columns=['PRODUCT_TYPE_CODE', 'PRODUCT_LINE_CODE', 'PRODUCT_TYPE_EN'])\n",
    "\n",
    "b = 0\n",
    "while b < len(product_type_fetch):\n",
    "    product_type_temp_df = pd.DataFrame({'PRODUCT_TYPE_CODE': [product_type_fetch.iloc[b]['PRODUCT_TYPE_CODE']], 'PRODUCT_LINE_CODE': [product_type_fetch.iloc[b]['PRODUCT_LINE_CODE']], 'PRODUCT_TYPE_EN': [product_type_fetch.iloc[b]['PRODUCT_TYPE_EN']]})\n",
    "\n",
    "    product_type_temp_df.to_sql('product_type', con=engine, if_exists='append', index=False)\n",
    "    b += 1"
   ],
   "metadata": {
    "collapsed": false,
    "ExecuteTime": {
     "end_time": "2025-02-28T17:45:59.504645Z",
     "start_time": "2025-02-28T17:45:59.319129Z"
    }
   },
   "id": "f379c60f112a1adf",
   "execution_count": 178
  },
  {
   "cell_type": "markdown",
   "source": [
    "insert product data into DB table"
   ],
   "metadata": {
    "collapsed": false
   },
   "id": "2d19a5b8004a1b5"
  },
  {
   "cell_type": "code",
   "outputs": [],
   "source": [
    "product_fetch = sales_train_conn.cursor().execute('SELECT * FROM product').fetchall()\n",
    "product_fetch = pd.DataFrame(product_fetch, columns=['PRODUCT_NUMBER', 'INTRODUCTION_DATE', 'PRODUCT_TYPE_CODE', 'PRODUCTION_COST', 'MARGIN', 'PRODUCT_IMAGE', 'LANGUAGE', 'PRODUCT_NAME', 'DESCRIPTION'])\n",
    "\n",
    "c = 0\n",
    "while c < len(product_fetch):\n",
    "    product_temp_df = pd.DataFrame({'PRODUCT_NUMBER': [product_fetch.iloc[c]['PRODUCT_NUMBER']], 'INTRODUCTION_DATE': [product_fetch.iloc[c]['INTRODUCTION_DATE']], 'PRODUCT_TYPE_CODE': [product_fetch.iloc[c]['PRODUCT_TYPE_CODE']], 'PRODUCTION_COST': [product_fetch.iloc[c]['PRODUCTION_COST']], 'MARGIN': [product_fetch.iloc[c]['MARGIN']], 'PRODUCT_IMAGE': [product_fetch.iloc[c]['PRODUCT_IMAGE']], 'PRODUCT_NAME': [product_fetch.iloc[c]['PRODUCT_NAME']], 'DESCRIPTION': [product_fetch.iloc[c]['DESCRIPTION']]})\n",
    "\n",
    "    product_temp_df.to_sql('product', con=engine, if_exists='append', index=False)\n",
    "    c += 1"
   ],
   "metadata": {
    "collapsed": false,
    "ExecuteTime": {
     "end_time": "2025-02-28T18:08:37.431455Z",
     "start_time": "2025-02-28T18:08:36.716890Z"
    }
   },
   "id": "f0bee1ae4d9effd7",
   "execution_count": 183
  },
  {
   "cell_type": "markdown",
   "source": [
    "insert product_forecast data into DB"
   ],
   "metadata": {
    "collapsed": false
   },
   "id": "436cf4a3cef9c56e"
  },
  {
   "cell_type": "code",
   "outputs": [],
   "source": [
    "d = 0\n",
    "\n",
    "while d < len(prod_fore_csv):\n",
    "    prod_fore_new_df = pd.DataFrame({'PRODUCT_NUMBER': [prod_fore_df.iloc[d]['PRODUCT_NUMBER']], 'YEAR': [prod_fore_df.iloc[d]['YEAR']], 'MONTH':[prod_fore_df.iloc[d]['MONTH']], 'EXPECTED_VOLUME': [prod_fore_df.iloc[d]['EXPECTED_VOLUME']]})\n",
    "\n",
    "    prod_fore_new_df.to_sql('product_forecast', con=engine, if_exists='append', index=False)\n",
    "    d += 1"
   ],
   "metadata": {
    "collapsed": false,
    "ExecuteTime": {
     "end_time": "2025-02-28T18:13:24.600713Z",
     "start_time": "2025-02-28T18:13:13.448122Z"
    }
   },
   "id": "e11c177fdfdaaceb",
   "execution_count": 187
  },
  {
   "cell_type": "markdown",
   "source": [
    "insert inventory_levels data into DB"
   ],
   "metadata": {
    "collapsed": false
   },
   "id": "6038183956dc64cf"
  },
  {
   "cell_type": "code",
   "outputs": [],
   "source": [
    "e = 0\n",
    "\n",
    "while e < len(inv_levels_csv):\n",
    "    inv_levels_temp_df = pd.DataFrame({'INVENTORY_YEAR': [inv_levels_df.iloc[e]['INVENTORY_YEAR']], 'INVENTORY_MONTH': [inv_levels_df.iloc[e]['INVENTORY_MONTH']], 'PRODUCT_NUMBER': [inv_levels_df.iloc[e]['PRODUCT_NUMBER']], 'INVENTORY_COUNT': [inv_levels_df.iloc[e]['INVENTORY_COUNT']]})\n",
    "    \n",
    "    inv_levels_temp_df.to_sql('inventory_levels', con=engine, if_exists='append', index=False)\n",
    "    e += 1"
   ],
   "metadata": {
    "collapsed": false,
    "ExecuteTime": {
     "end_time": "2025-02-28T18:24:15.979248Z",
     "start_time": "2025-02-28T18:24:04.191220Z"
    }
   },
   "id": "33c66fc89e585ede",
   "execution_count": 199
  }
 ],
 "metadata": {
  "kernelspec": {
   "display_name": "Python 3",
   "language": "python",
   "name": "python3"
  },
  "language_info": {
   "codemirror_mode": {
    "name": "ipython",
    "version": 2
   },
   "file_extension": ".py",
   "mimetype": "text/x-python",
   "name": "python",
   "nbconvert_exporter": "python",
   "pygments_lexer": "ipython2",
   "version": "2.7.6"
  }
 },
 "nbformat": 4,
 "nbformat_minor": 5
}
