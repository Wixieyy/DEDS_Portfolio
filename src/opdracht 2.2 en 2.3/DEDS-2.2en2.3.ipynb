{
 "cells": [
  {
   "cell_type": "markdown",
   "source": [
    "Imports and initial connection"
   ],
   "metadata": {
    "collapsed": false
   },
   "id": "a41ca8b26f077df8"
  },
  {
   "cell_type": "code",
   "execution_count": 1,
   "id": "initial_id",
   "metadata": {
    "collapsed": true,
    "ExecuteTime": {
     "end_time": "2025-03-01T12:45:38.827388Z",
     "start_time": "2025-03-01T12:45:37.267252Z"
    }
   },
   "outputs": [],
   "source": [
    "from sqlalchemy import create_engine\n",
    "from sqlalchemy import text\n",
    "import pandas as pd\n",
    "import sqlite3\n",
    "\n",
    "engine = create_engine(\"mssql+pyodbc://LEGION\\\\SQLEXPRESS/sdm?driver=ODBC+Driver+17+for+SQL+Server&trusted_connection=yes\")\n"
   ]
  },
  {
   "cell_type": "markdown",
   "source": [
    "Create DataFrames from db"
   ],
   "metadata": {
    "collapsed": false
   },
   "id": "42d0375a7eaa1664"
  },
  {
   "cell_type": "code",
   "outputs": [],
   "source": [
    "age_group_df = pd.read_sql_query('SELECT * FROM age_group', engine)\n",
    "country_df = pd.read_sql_query('SELECT * FROM country', engine)\n",
    "course_df = pd.read_sql_query('SELECT * FROM course', engine)\n",
    "inventory_levels_df = pd.read_sql_query('SELECT * FROM inventory_levels', engine)\n",
    "order_details_df = pd.read_sql_query('SELECT * FROM order_details', engine)\n",
    "order_header_df = pd.read_sql_query('SELECT * FROM order_header', engine)\n",
    "order_method_df = pd.read_sql_query('SELECT * FROM order_method', engine)\n",
    "product_df = pd.read_sql_query('SELECT * FROM product', engine)\n",
    "product_forecast_df = pd.read_sql_query('SELECT * FROM product_forecast', engine)\n",
    "product_line_df = pd.read_sql_query('SELECT * FROM product_line', engine)\n",
    "product_type_df = pd.read_sql_query('SELECT * FROM product_type', engine)\n",
    "retailer_df = pd.read_sql_query('SELECT * FROM retailer', engine)\n",
    "retailer_headquarters_df = pd.read_sql_query('SELECT * FROM retailer_headquarters', engine)\n",
    "retailer_segment_df = pd.read_sql_query('SELECT * FROM retailer_segment', engine)\n",
    "retailer_site_df = pd.read_sql_query('SELECT * FROM retailer_site', engine)\n",
    "retailer_type_df = pd.read_sql_query('SELECT * FROM retailer_type', engine)\n",
    "return_reason_df = pd.read_sql_query('SELECT * FROM return_reason', engine)\n",
    "returned_item_df = pd.read_sql_query('SELECT * FROM returned_item', engine)\n",
    "sales_branch_df = pd.read_sql_query('SELECT * FROM sales_branch', engine)\n",
    "sales_staff_df = pd.read_sql_query('SELECT * FROM sales_staff', engine)\n",
    "sales_demographic_df = pd.read_sql_query('SELECT * FROM sales_demographic', engine)\n",
    "sales_territory_df = pd.read_sql_query('SELECT * FROM sales_territory', engine)\n",
    "satisfaction_df = pd.read_sql_query('SELECT * FROM satisfaction', engine)\n",
    "satisfaction_type_df = pd.read_sql_query('SELECT * FROM satisfaction_type', engine)\n",
    "training_df = pd.read_sql_query('SELECT * FROM training', engine)\n"
   ],
   "metadata": {
    "collapsed": false,
    "ExecuteTime": {
     "end_time": "2025-03-01T12:46:32.502826Z",
     "start_time": "2025-03-01T12:46:32.327963Z"
    }
   },
   "id": "85286cfbe567fdf2",
   "execution_count": 2
  },
  {
   "cell_type": "markdown",
   "source": [
    "Loc for one-liner inserts into DataFrame & insert into SQL DB"
   ],
   "metadata": {
    "collapsed": false
   },
   "id": "43a970c668008232"
  },
  {
   "cell_type": "code",
   "outputs": [],
   "source": [
    "# course_df.loc[len(course_df)] = [2, 'course test info2']\n",
    "# training_df.loc[len(training_df)] = [2026, 7, 2]\n",
    "\n",
    "# course_df\n",
    "# course_df = course_df.drop(course_df[course_df['COURSE_CODE'] == 2].index)\n",
    "\n",
    "# course_df.to_sql('course', con=engine, if_exists='replace', index=False)\n",
    "# training_df.to_sql('training', con=engine, if_exists='append', index=False)\n",
    "\n",
    "\n",
    "new_data1 = pd.DataFrame({'COURSE_CODE' : [6],'COURSE_DESCRIPTION' : ['course test info6']})\n",
    "\n",
    "filtered_data1 = new_data1[~new_data1['COURSE_CODE'].isin(course_df['COURSE_CODE'])]\n",
    "\n",
    "filtered_data1.to_sql('course', con=engine, if_exists='append', index=False)"
   ],
   "metadata": {
    "collapsed": false
   },
   "id": "d6830a4c530381c4",
   "execution_count": null
  },
  {
   "cell_type": "markdown",
   "source": [
    "Insert where there are foreign keys test\n",
    "Start from outside (tables with no foreign keys required) and go within\n",
    "\n",
    "insert into sales_demographic required FK from age_group and retailer_headquarters, insert into retailer_headquarters requires FK from retailer_segment"
   ],
   "metadata": {
    "collapsed": false
   },
   "id": "b949476050bd6238"
  },
  {
   "cell_type": "markdown",
   "source": [
    "retailer_segment DF and DB insert"
   ],
   "metadata": {
    "collapsed": false
   },
   "id": "1d959a14a36c5cdd"
  },
  {
   "cell_type": "code",
   "outputs": [],
   "source": [
    "# retailer_segment_df.loc[len(retailer_segment_df)] = [2, 'english2', 'seg name test2', 'seg desc test2']\n",
    "# retailer_segment_df.to_sql('retailer_segment', con=engine, if_exists='replace', index=False)\n",
    "\n",
    "# retailer_segment_df = retailer_segment_df.drop(retailer_segment_df[retailer_segment_df['SEGMENT_CODE'] == 1].index)\n",
    "# retailer_segment_df\n",
    "\n",
    "new_data2 = pd.DataFrame({'SEGMENT_CODE': [3], 'SEGMENT_NAME': ['english3'], 'SEGMENT_DESC': ['seg name test3'], 'SEGMENT_DESC_NON_ENG': ['seg desc test3']})\n",
    "\n",
    "filtered_data2 = new_data2[~new_data2['SEGMENT_CODE'].isin(retailer_segment_df['SEGMENT_CODE'])]\n",
    "\n",
    "filtered_data2.to_sql('retailer_segment', con=engine, if_exists='append', index=False)"
   ],
   "metadata": {
    "collapsed": false
   },
   "id": "578c0049acbd135a",
   "execution_count": null
  },
  {
   "cell_type": "markdown",
   "source": [
    "territory_code DF and DB insert"
   ],
   "metadata": {
    "collapsed": false
   },
   "id": "1e46f423fcf7e47b"
  },
  {
   "cell_type": "code",
   "outputs": [],
   "source": [
    "# sales_territory_df.loc[len(sales_territory_df)] = [3, 'kingdom of the netherlands']\n",
    "# sales_territory_df.to_sql('sales_territory', con=engine, if_exists='append', index=False)\n",
    "\n",
    "new_data3 = pd.DataFrame({'SALES_TERRITORY_CODE': [4], 'TERRITORY_NAME_EN': ['kingdom of the netherlands']})\n",
    "\n",
    "filtered_data3 = new_data3[~new_data3['SALES_TERRITORY_CODE'].isin(sales_territory_df['SALES_TERRITORY_CODE'])]\n",
    "\n",
    "filtered_data3.to_sql('sales_territory', con=engine, if_exists='append', index=False)"
   ],
   "metadata": {
    "collapsed": false
   },
   "id": "ce33e3b2403449c6",
   "execution_count": null
  },
  {
   "cell_type": "markdown",
   "source": [
    "country DF and DB insert"
   ],
   "metadata": {
    "collapsed": false
   },
   "id": "1386071004037975"
  },
  {
   "cell_type": "code",
   "outputs": [],
   "source": [
    "# country_df.loc[len(country_df)] = [1, 'netherlands', 'dutch', 'euro', 'flag of the netherlands', 3]\n",
    "# country_df.to_sql('country', con=engine, if_exists='append', index=False)\n",
    "\n",
    "new_data4 = pd.DataFrame({'COUNTRY_CODE': [2], 'COUNTRY_EN': ['belgium'], 'LANGUAGE': ['french'], 'CURRENCY_NAME': ['euro'], 'FLAG_IMAGE': ['flag of belgium'], 'SALES_TERRITORY_CODE': [4]})\n",
    "\n",
    "filtered_data4 = new_data4[~new_data4['COUNTRY_CODE'].isin(country_df['COUNTRY_CODE'])]\n",
    "\n",
    "filtered_data4.to_sql('country', con=engine, if_exists='append', index=False)"
   ],
   "metadata": {
    "collapsed": false
   },
   "id": "678f10dfb1db4030",
   "execution_count": null
  },
  {
   "cell_type": "markdown",
   "source": [
    "retailer_headquarters DF and DB insert"
   ],
   "metadata": {
    "collapsed": false
   },
   "id": "a03629f488afc57a"
  },
  {
   "cell_type": "code",
   "outputs": [],
   "source": [
    "# retailer_headquarters_df.loc[len(retailer_headquarters_df)] = [8, 'google', 'address1test', 'address2test', 'amsterdam', 'north holland', 1, '1234567890', '1234567890', 1]\n",
    "# retailer_headquarters_df.to_sql('retailer_headquarters', con=engine, if_exists='append', index=False)\n",
    "\n",
    "new_data5 = pd.DataFrame({'RETAILER_CODEMR': [9], 'RETAILER_NAME': ['google'], 'ADDRESS1': ['address1test'], 'ADDRESS2': ['address2test'], 'CITY': ['amsterdam'], 'REGION': ['north holland'], 'COUNTRY_CODE': [2], 'PHONE': ['1234567890'], 'FAX': ['1234567890'], 'SEGMENT_CODE': [3]})\n",
    "\n",
    "filtered_data5 = new_data5[~new_data5['RETAILER_CODEMR'].isin(retailer_headquarters_df['RETAILER_CODEMR'])]\n",
    "\n",
    "filtered_data5.to_sql('retailer_headquarters', con=engine, if_exists='append', index=False)"
   ],
   "metadata": {
    "collapsed": false
   },
   "id": "417d3f3849825121",
   "execution_count": null
  },
  {
   "cell_type": "markdown",
   "source": [
    "age_group DF and DB insert"
   ],
   "metadata": {
    "collapsed": false
   },
   "id": "aaeb08dff27749ff"
  },
  {
   "cell_type": "code",
   "outputs": [],
   "source": [
    "# age_group_df.loc[len(age_group_df)] = [5, 66, 21]\n",
    "# age_group_df.to_sql('age_group', con=engine, if_exists='append', index=False)\n",
    "\n",
    "# age_group_df\n",
    "# age_group_df = age_group_df.drop(age_group_df[age_group_df['AGE_GROUP_CODE'] == 4].index)\n",
    "\n",
    "\n",
    "new_data6 = pd.DataFrame({'AGE_GROUP_CODE': [7], 'UPPER_AGE': [68], 'LOWER_AGE': [23]})\n",
    "\n",
    "filtered_data6 = new_data6[~new_data6['AGE_GROUP_CODE'].isin(age_group_df['AGE_GROUP_CODE'])]\n",
    "\n",
    "filtered_data6.to_sql('age_group', con=engine, if_exists='append', index=False)"
   ],
   "metadata": {
    "collapsed": false
   },
   "id": "537ccf838579ca68",
   "execution_count": null
  },
  {
   "cell_type": "markdown",
   "source": [
    "sales_demographic DF and DB insert"
   ],
   "metadata": {
    "collapsed": false
   },
   "id": "58198ccad50dea7f"
  },
  {
   "cell_type": "code",
   "outputs": [],
   "source": [
    "# sales_demographic_df.loc[len(sales_demographic_df)] = [12, 8, 4, 20]\n",
    "# sales_demographic_df.to_sql('sales_demographic', con=engine, if_exists='append', index=False)\n",
    "\n",
    "new_data7 = pd.DataFrame({'DEMOGRAPHIC_CODE': [13], 'RETAILER_CODEMR': [9], 'AGE_GROUP_CODE': [5], 'PERCENT': [20]})\n",
    "\n",
    "filtered_data7 = new_data7[~new_data7['DEMOGRAPHIC_CODE'].isin(sales_demographic_df['DEMOGRAPHIC_CODE'])]\n",
    "\n",
    "filtered_data7.to_sql('sales_demographic', con=engine, if_exists='append', index=False)"
   ],
   "metadata": {
    "collapsed": false
   },
   "id": "51946525c1399b12",
   "execution_count": null
  },
  {
   "cell_type": "markdown",
   "source": [
    "import read data from go_crm_train file"
   ],
   "metadata": {
    "collapsed": false
   },
   "id": "7a8010c94e4538da"
  },
  {
   "cell_type": "code",
   "outputs": [],
   "source": [
    "conn = sqlite3.connect('../data/raw/go_crm_train.sqlite')\n",
    "result = conn.cursor().execute('SELECT * from age_group').fetchall()\n",
    "\n",
    "result_df = pd.DataFrame(result, columns=['AGE_GROUP_ID', 'UPPER_AGE', 'LOWER_AGE'])\n",
    "result_df"
   ],
   "metadata": {
    "collapsed": false
   },
   "id": "695c70df5d188177",
   "execution_count": null
  },
  {
   "cell_type": "markdown",
   "source": [
    "delete all records from DB table"
   ],
   "metadata": {
    "collapsed": false
   },
   "id": "423bc5e2e2a4816a"
  },
  {
   "cell_type": "code",
   "outputs": [],
   "source": [
    "with engine.connect() as conn:\n",
    "    # conn.execute(text(\"DELETE FROM retailer_headquarters WHERE SEGMENT_CODE IS NOT NULL\"))\n",
    "    # conn.commit()\n",
    "\n",
    "    conn.execute(text(\"DELETE FROM sales_territory\"))\n",
    "    conn.commit()"
   ],
   "metadata": {
    "collapsed": false
   },
   "id": "241de90cc4e7aded",
   "execution_count": null
  },
  {
   "cell_type": "markdown",
   "source": [
    "make all connections"
   ],
   "metadata": {
    "collapsed": false
   },
   "id": "aa4b7946ff93c963"
  },
  {
   "cell_type": "code",
   "outputs": [],
   "source": [
    "prod_fore_csv = pd.read_csv('../data/raw/product_forecast_train.csv')\n",
    "prod_fore_df = pd.DataFrame(prod_fore_csv)\n",
    "\n",
    "inv_levels_csv = pd.read_csv('../data/raw/inventory_levels_train.csv')\n",
    "inv_levels_df = pd.DataFrame(inv_levels_csv)\n",
    "\n",
    "crm_train_conn = sqlite3.connect('../data/raw/go_crm_train.sqlite')\n",
    "sales_train_conn = sqlite3.connect('../data/raw/go_sales_train.sqlite')\n",
    "staff_train_conn = sqlite3.connect('../data/raw/go_staff_train.sqlite')"
   ],
   "metadata": {
    "collapsed": false,
    "ExecuteTime": {
     "end_time": "2025-03-01T12:46:37.080970Z",
     "start_time": "2025-03-01T12:46:37.045998Z"
    }
   },
   "id": "1edf04890f2c76cc",
   "execution_count": 3
  },
  {
   "cell_type": "markdown",
   "source": [],
   "metadata": {
    "collapsed": false
   },
   "id": "c18191b8bd69a234"
  },
  {
   "cell_type": "markdown",
   "source": [
    "insert product_line data into DB table"
   ],
   "metadata": {
    "collapsed": false
   },
   "id": "f32df42983b25e35"
  },
  {
   "cell_type": "code",
   "outputs": [],
   "source": [
    "product_line_fetch = sales_train_conn.cursor().execute('SELECT * from product_line').fetchall()\n",
    "product_line_fetch = pd.DataFrame(product_line_fetch, columns=['PRODUCT_LINE_CODE', 'PRODUCT_LINE_EN'])\n",
    "\n",
    "a = 0\n",
    "while a < len(product_line_fetch):\n",
    "    product_line_temp_df = pd.DataFrame({'PRODUCT_LINE_CODE': [product_line_fetch.iloc[a]['PRODUCT_LINE_CODE']], 'PRODUCT_LINE_EN': [product_line_fetch.iloc[a]['PRODUCT_LINE_EN']]})\n",
    "    \n",
    "    product_line_temp_df.to_sql('product_line', con=engine, if_exists='append', index=False)\n",
    "    a += 1\n"
   ],
   "metadata": {
    "collapsed": false
   },
   "id": "faa078f3505f6298",
   "execution_count": null
  },
  {
   "cell_type": "markdown",
   "source": [
    "insert product_type data into DB table"
   ],
   "metadata": {
    "collapsed": false
   },
   "id": "1ddfcf2cb2c7b30d"
  },
  {
   "cell_type": "code",
   "outputs": [],
   "source": [
    "product_type_fetch = sales_train_conn.cursor().execute('SELECT * FROM product_type').fetchall()\n",
    "product_type_fetch = pd.DataFrame(product_type_fetch, columns=['PRODUCT_TYPE_CODE', 'PRODUCT_LINE_CODE', 'PRODUCT_TYPE_EN'])\n",
    "\n",
    "b = 0\n",
    "while b < len(product_type_fetch):\n",
    "    product_type_temp_df = pd.DataFrame({'PRODUCT_TYPE_CODE': [product_type_fetch.iloc[b]['PRODUCT_TYPE_CODE']], 'PRODUCT_LINE_CODE': [product_type_fetch.iloc[b]['PRODUCT_LINE_CODE']], 'PRODUCT_TYPE_EN': [product_type_fetch.iloc[b]['PRODUCT_TYPE_EN']]})\n",
    "\n",
    "    product_type_temp_df.to_sql('product_type', con=engine, if_exists='append', index=False)\n",
    "    b += 1"
   ],
   "metadata": {
    "collapsed": false
   },
   "id": "f379c60f112a1adf",
   "execution_count": null
  },
  {
   "cell_type": "markdown",
   "source": [
    "insert product data into DB table"
   ],
   "metadata": {
    "collapsed": false
   },
   "id": "2d19a5b8004a1b5"
  },
  {
   "cell_type": "code",
   "outputs": [],
   "source": [
    "product_fetch = sales_train_conn.cursor().execute('SELECT * FROM product').fetchall()\n",
    "product_fetch = pd.DataFrame(product_fetch, columns=['PRODUCT_NUMBER', 'INTRODUCTION_DATE', 'PRODUCT_TYPE_CODE', 'PRODUCTION_COST', 'MARGIN', 'PRODUCT_IMAGE', 'LANGUAGE', 'PRODUCT_NAME', 'DESCRIPTION'])\n",
    "\n",
    "c = 0\n",
    "while c < len(product_fetch):\n",
    "    product_temp_df = pd.DataFrame({'PRODUCT_NUMBER': [product_fetch.iloc[c]['PRODUCT_NUMBER']], 'INTRODUCTION_DATE': [product_fetch.iloc[c]['INTRODUCTION_DATE']], 'PRODUCT_TYPE_CODE': [product_fetch.iloc[c]['PRODUCT_TYPE_CODE']], 'PRODUCTION_COST': [product_fetch.iloc[c]['PRODUCTION_COST']], 'MARGIN': [product_fetch.iloc[c]['MARGIN']], 'PRODUCT_IMAGE': [product_fetch.iloc[c]['PRODUCT_IMAGE']], 'PRODUCT_NAME': [product_fetch.iloc[c]['PRODUCT_NAME']], 'DESCRIPTION': [product_fetch.iloc[c]['DESCRIPTION']]})\n",
    "\n",
    "    product_temp_df.to_sql('product', con=engine, if_exists='append', index=False)\n",
    "    c += 1"
   ],
   "metadata": {
    "collapsed": false
   },
   "id": "f0bee1ae4d9effd7",
   "execution_count": null
  },
  {
   "cell_type": "markdown",
   "source": [
    "insert product_forecast data into DB"
   ],
   "metadata": {
    "collapsed": false
   },
   "id": "436cf4a3cef9c56e"
  },
  {
   "cell_type": "code",
   "outputs": [],
   "source": [
    "d = 0\n",
    "\n",
    "while d < len(prod_fore_csv):\n",
    "    prod_fore_new_df = pd.DataFrame({'PRODUCT_NUMBER': [prod_fore_df.iloc[d]['PRODUCT_NUMBER']], 'YEAR': [prod_fore_df.iloc[d]['YEAR']], 'MONTH':[prod_fore_df.iloc[d]['MONTH']], 'EXPECTED_VOLUME': [prod_fore_df.iloc[d]['EXPECTED_VOLUME']]})\n",
    "\n",
    "    prod_fore_new_df.to_sql('product_forecast', con=engine, if_exists='append', index=False)\n",
    "    d += 1"
   ],
   "metadata": {
    "collapsed": false
   },
   "id": "e11c177fdfdaaceb",
   "execution_count": null
  },
  {
   "cell_type": "markdown",
   "source": [
    "insert inventory_levels data into DB"
   ],
   "metadata": {
    "collapsed": false
   },
   "id": "6038183956dc64cf"
  },
  {
   "cell_type": "code",
   "outputs": [],
   "source": [
    "e = 0\n",
    "\n",
    "while e < len(inv_levels_csv):\n",
    "    inv_levels_temp_df = pd.DataFrame({'INVENTORY_YEAR': [inv_levels_df.iloc[e]['INVENTORY_YEAR']], 'INVENTORY_MONTH': [inv_levels_df.iloc[e]['INVENTORY_MONTH']], 'PRODUCT_NUMBER': [inv_levels_df.iloc[e]['PRODUCT_NUMBER']], 'INVENTORY_COUNT': [inv_levels_df.iloc[e]['INVENTORY_COUNT']]})\n",
    "    \n",
    "    inv_levels_temp_df.to_sql('inventory_levels', con=engine, if_exists='append', index=False)\n",
    "    e += 1"
   ],
   "metadata": {
    "collapsed": false
   },
   "id": "33c66fc89e585ede",
   "execution_count": null
  },
  {
   "cell_type": "markdown",
   "source": [
    "insert return_reason data into DB"
   ],
   "metadata": {
    "collapsed": false
   },
   "id": "23b52afaad013db8"
  },
  {
   "cell_type": "code",
   "outputs": [],
   "source": [
    "return_reason_fetch = sales_train_conn.cursor().execute('SELECT * FROM return_reason').fetchall()\n",
    "return_reason_fetch = pd.DataFrame(return_reason_fetch, columns=['RETURN_REASON_CODE', 'RETURN_DESCRIPTION_EN'])\n",
    "\n",
    "f = 0\n",
    "while f < len(return_reason_fetch):\n",
    "    return_reason_temp_df = pd.DataFrame({'RETURN_REASON_CODE': [return_reason_fetch.iloc[f]['RETURN_REASON_CODE']], 'RETURN_DESCRIPTION_EN': [return_reason_fetch.iloc[f]['RETURN_DESCRIPTION_EN']]})\n",
    "    \n",
    "    return_reason_temp_df.to_sql('return_reason', con=engine, if_exists='append', index=False)\n",
    "    f += 1"
   ],
   "metadata": {
    "collapsed": false
   },
   "id": "15f197dada0374e2",
   "execution_count": null
  },
  {
   "cell_type": "markdown",
   "source": [
    "insert sales_territory data into DB"
   ],
   "metadata": {
    "collapsed": false
   },
   "id": "a4afbe7791c5e69f"
  },
  {
   "cell_type": "code",
   "outputs": [],
   "source": [
    "sales_territory_fetch = crm_train_conn.cursor().execute('SELECT * FROM sales_territory').fetchall()\n",
    "sales_territory_fetch = pd.DataFrame(sales_territory_fetch, columns=['SALES_TERRITORY_CODE', 'TERRITORY_NAME_EN'])\n",
    "\n",
    "g = 0\n",
    "while g < len(sales_territory_fetch):\n",
    "    sales_territory_temp_df = pd.DataFrame({'SALES_TERRITORY_CODE': [sales_territory_fetch.iloc[g]['SALES_TERRITORY_CODE']], 'TERRITORY_NAME_EN': [sales_territory_fetch.iloc[g]['TERRITORY_NAME_EN']]})\n",
    "    \n",
    "    sales_territory_temp_df.to_sql('sales_territory', con=engine, if_exists='append', index=False)\n",
    "    g += 1"
   ],
   "metadata": {
    "collapsed": false
   },
   "id": "d73cea5caa28cd16",
   "execution_count": null
  },
  {
   "cell_type": "markdown",
   "source": [
    "insert country data into DB"
   ],
   "metadata": {
    "collapsed": false
   },
   "id": "bdabaf11cf0fd5d3"
  },
  {
   "cell_type": "code",
   "outputs": [],
   "source": [
    "country_fetch_crm = pd.DataFrame(crm_train_conn.cursor().execute('SELECT * FROM country').fetchall(), columns=['COUNTRY_CODE', 'COUNTRY_EN', 'FLAG_IMAGE', 'SALES_TERRITORY_CODE'])\n",
    "country_fetch_sales = pd.DataFrame(sales_train_conn.cursor().execute('SELECT * FROM country').fetchall(), columns=['COUNTRY_CODE', 'COUNTRY_EN', 'LANGUAGE', 'CURRENCY_NAME'])\n",
    "merge_country_fetch = country_fetch_crm.merge(country_fetch_sales, on=['COUNTRY_CODE', 'COUNTRY_EN'], how='outer')\n",
    "\n",
    "h = 0\n",
    "while h < len(merge_country_fetch):\n",
    "    country_temp_df = pd.DataFrame({'COUNTRY_CODE': [merge_country_fetch.iloc[h]['COUNTRY_CODE']], 'COUNTRY_EN': [merge_country_fetch.iloc[h]['COUNTRY_EN']], 'FLAG_IMAGE': [merge_country_fetch.iloc[h]['FLAG_IMAGE']], 'SALES_TERRITORY_CODE': [merge_country_fetch.iloc[h]['SALES_TERRITORY_CODE']], 'LANGUAGE': [merge_country_fetch.iloc[h]['LANGUAGE']], 'CURRENCY_NAME': [merge_country_fetch.iloc[h]['CURRENCY_NAME']]})\n",
    "    \n",
    "    country_temp_df.to_sql('country', con=engine, if_exists='append', index=False)\n",
    "    h += 1"
   ],
   "metadata": {
    "collapsed": false
   },
   "id": "a0b453a88410bc7",
   "execution_count": null
  },
  {
   "cell_type": "markdown",
   "source": [
    "insert sales_branch data into DB"
   ],
   "metadata": {
    "collapsed": false
   },
   "id": "f44019051b7ee8"
  },
  {
   "cell_type": "code",
   "outputs": [],
   "source": [
    "sales_branch_fetch_sales = pd.DataFrame(sales_train_conn.cursor().execute('SELECT * FROM sales_branch').fetchall(), columns=['SALES_BRANCH_CODE', 'ADDRESS1', 'ADDRESS2', 'CITY', 'REGION', 'COUNTRY_CODE'])\n",
    "sales_branch_fetch_staff = pd.DataFrame(staff_train_conn.cursor().execute('SELECT * FROM sales_branch').fetchall(), columns=['SALES_BRANCH_CODE', 'ADDRESS1', 'ADDRESS2', 'CITY', 'REGION', 'COUNTRY_CODE'])\n",
    "\n",
    "merge_sales_branch = sales_branch_fetch_sales.merge(sales_branch_fetch_staff, on=['SALES_BRANCH_CODE', 'ADDRESS1', 'ADDRESS2', 'CITY', 'REGION', 'COUNTRY_CODE'], how='outer')\n",
    "\n",
    "i = 0\n",
    "while i < len(merge_sales_branch):\n",
    "    sales_branch_temp_df = pd.DataFrame({'SALES_BRANCH_CODE': [merge_sales_branch.iloc[i]['SALES_BRANCH_CODE']], 'ADDRESS1': [merge_sales_branch.iloc[i]['ADDRESS1']], 'ADDRESS2': [merge_sales_branch.iloc[i]['ADDRESS2']], 'CITY': [merge_sales_branch.iloc[i]['CITY']], 'REGION': [merge_sales_branch.iloc[i]['REGION']], 'COUNTRY_CODE': [merge_sales_branch.iloc[i]['COUNTRY_CODE']]})\n",
    "    \n",
    "    sales_branch_temp_df.to_sql('sales_branch', con=engine, if_exists='append', index=False)\n",
    "    i += 1"
   ],
   "metadata": {
    "collapsed": false
   },
   "id": "8487052f2783c1b1",
   "execution_count": null
  },
  {
   "cell_type": "markdown",
   "source": [
    "insert sales_staff data into DB"
   ],
   "metadata": {
    "collapsed": false
   },
   "id": "e24cb4b8091930aa"
  },
  {
   "cell_type": "code",
   "outputs": [],
   "source": [
    "sales_staff_fetch_sales = pd.DataFrame(sales_train_conn.cursor().execute('SELECT * FROM sales_staff').fetchall(), columns=['SALES_STAFF_CODE', 'FIRST_NAME', 'LAST_NAME', 'POSITION_EN', 'WORK_PHONE', 'EXTENSION', 'FAX', 'EMAIL', 'DATE_HIRED', 'SALES_BRANCH_CODE'])\n",
    "\n",
    "sales_staff_fetch_staff = pd.DataFrame(staff_train_conn.cursor().execute('SELECT * FROM sales_staff').fetchall(), columns=['SALES_STAFF_CODE', 'FIRST_NAME', 'LAST_NAME', 'POSITION_EN', 'WORK_PHONE', 'EXTENSION', 'FAX', 'EMAIL', 'DATE_HIRED', 'SALES_BRANCH_CODE', 'MANAGER_CODE'])\n",
    "\n",
    "merge_sales_staff = sales_staff_fetch_sales.merge(sales_staff_fetch_staff, on=['SALES_STAFF_CODE', 'FIRST_NAME', 'LAST_NAME', 'POSITION_EN', 'WORK_PHONE', 'EXTENSION', 'FAX', 'EMAIL', 'DATE_HIRED', 'SALES_BRANCH_CODE'], how='outer')\n",
    "\n",
    "j = 0\n",
    "while j < len(merge_sales_staff):\n",
    "    sales_staff_temp_df = pd.DataFrame({'SALES_STAFF_CODE': [merge_sales_staff.iloc[j]['SALES_STAFF_CODE']], 'FIRST_NAME': [merge_sales_staff.iloc[j]['FIRST_NAME']], 'LAST_NAME': [merge_sales_staff.iloc[j]['LAST_NAME']], 'POSITION_EN': [merge_sales_staff.iloc[j]['POSITION_EN']], 'WORK_PHONE': [merge_sales_staff.iloc[j]['WORK_PHONE']], 'EXTENSION': [merge_sales_staff.iloc[j]['EXTENSION']], 'FAX': [merge_sales_staff.iloc[j]['FAX']], 'EMAIL': [merge_sales_staff.iloc[j]['EMAIL']], 'DATE_HIRED': [merge_sales_staff.iloc[j]['DATE_HIRED']], 'SALES_BRANCH_CODE': [merge_sales_staff.iloc[j]['SALES_BRANCH_CODE']], 'MANAGER_CODE': [merge_sales_staff.iloc[j]['MANAGER_CODE']]})\n",
    "    \n",
    "    sales_staff_temp_df.to_sql('sales_staff', con=engine, if_exists='append', index=False)\n",
    "    j += 1"
   ],
   "metadata": {
    "collapsed": false
   },
   "id": "c3846cb49a99aaf",
   "execution_count": null
  },
  {
   "cell_type": "markdown",
   "source": [
    "insert satisfaction_type data into DB"
   ],
   "metadata": {
    "collapsed": false
   },
   "id": "8e6f4f114047a496"
  },
  {
   "cell_type": "code",
   "outputs": [],
   "source": [
    "satis_type_fetch = staff_train_conn.cursor().execute('SELECT * FROM satisfaction_type').fetchall()\n",
    "satis_type_fetch = pd.DataFrame(satis_type_fetch, columns=['SATISFACTION_TYPE_CODE', 'SATISFACTION_TYPE_DESCRIPTION'])\n",
    "\n",
    "k = 0\n",
    "while k < len(satis_type_fetch):\n",
    "    satis_type_temp_df = pd.DataFrame({'SATISFACTION_TYPE_CODE': [satis_type_fetch.iloc[k]['SATISFACTION_TYPE_CODE']], 'SATISFACTION_TYPE_DESCRIPTION': [satis_type_fetch.iloc[k]['SATISFACTION_TYPE_DESCRIPTION']]})\n",
    "    \n",
    "    satis_type_temp_df.to_sql('satisfaction_type', con=engine, if_exists='append', index=False)\n",
    "    k += 1"
   ],
   "metadata": {
    "collapsed": false
   },
   "id": "be6d545d73e099c1",
   "execution_count": null
  },
  {
   "cell_type": "markdown",
   "source": [
    "insert course data into DB"
   ],
   "metadata": {
    "collapsed": false
   },
   "id": "33ed538e052b27e3"
  },
  {
   "cell_type": "code",
   "outputs": [],
   "source": [
    "course_fetch = staff_train_conn.cursor().execute('SELECT * FROM course').fetchall()\n",
    "course_fetch = pd.DataFrame(course_fetch, columns=['COURSE_CODE', 'COURSE_DESCRIPTION'])\n",
    "\n",
    "l = 0\n",
    "while l < len(course_fetch):\n",
    "    course_temp_df = pd.DataFrame({'COURSE_CODE': [course_fetch.iloc[l]['COURSE_CODE']], 'COURSE_DESCRIPTION': [course_fetch.iloc[l]['COURSE_DESCRIPTION']]})\n",
    "    \n",
    "    course_temp_df.to_sql('course', con=engine, if_exists='append', index=False)\n",
    "    l += 1"
   ],
   "metadata": {
    "collapsed": false
   },
   "id": "5aaea02c7a44b41e",
   "execution_count": null
  },
  {
   "cell_type": "markdown",
   "source": [
    "insert satisfaction data into DB"
   ],
   "metadata": {
    "collapsed": false
   },
   "id": "c4c74777212d81cb"
  },
  {
   "cell_type": "code",
   "outputs": [],
   "source": [
    "satisfaction_fetch = staff_train_conn.cursor().execute('SELECT * FROM satisfaction').fetchall()\n",
    "satisfaction_fetch = pd.DataFrame(satisfaction_fetch, columns=['YEAR', 'SALES_STAFF_CODE', 'SATISFACTION_TYPE_CODE'])\n",
    "\n",
    "m = 0\n",
    "while m < len(satisfaction_fetch):\n",
    "    satisfaction_temp_df = pd.DataFrame({'YEAR': [satisfaction_fetch.iloc[m]['YEAR']], 'SALES_STAFF_CODE': [satisfaction_fetch.iloc[m]['SALES_STAFF_CODE']], 'SATISFACTION_TYPE_CODE': [satisfaction_fetch.iloc[m]['SATISFACTION_TYPE_CODE']]})\n",
    "    \n",
    "    satisfaction_temp_df.to_sql('satisfaction', con=engine, if_exists='append', index=False)\n",
    "    m += 1"
   ],
   "metadata": {
    "collapsed": false
   },
   "id": "3e403f1e843053fb",
   "execution_count": null
  },
  {
   "cell_type": "markdown",
   "source": [
    "insert training data into DB"
   ],
   "metadata": {
    "collapsed": false
   },
   "id": "a05e5bce7c5b0d92"
  },
  {
   "cell_type": "code",
   "outputs": [],
   "source": [
    "training_fetch = staff_train_conn.cursor().execute('SELECT * FROM training').fetchall()\n",
    "training_fetch = pd.DataFrame(training_fetch, columns=['YEAR', 'SALES_STAFF_CODE', 'COURSE_CODE'])\n",
    "\n",
    "o = 0\n",
    "while o < len(training_fetch):\n",
    "    training_temp_df = pd.DataFrame({'YEAR': [training_fetch.iloc[o]['YEAR']], 'SALES_STAFF_CODE': [training_fetch.iloc[o]['SALES_STAFF_CODE']], 'COURSE_CODE': [training_fetch.iloc[o]['COURSE_CODE']]})\n",
    "    \n",
    "    training_temp_df.to_sql('training', con=engine, if_exists='append', index=False)\n",
    "    o += 1"
   ],
   "metadata": {
    "collapsed": false
   },
   "id": "c6a8203567425e50",
   "execution_count": null
  },
  {
   "cell_type": "markdown",
   "source": [
    "insert order_method data into DB"
   ],
   "metadata": {
    "collapsed": false
   },
   "id": "dc14e02cf267d8c9"
  },
  {
   "cell_type": "code",
   "outputs": [],
   "source": [
    "order_method_fetch = sales_train_conn.cursor().execute('SELECT * FROM order_method').fetchall()\n",
    "order_method_fetch = pd.DataFrame(order_method_fetch, columns=['ORDER_METHOD_CODE', 'ORDER_METHOD_EN'])\n",
    "\n",
    "p = 0\n",
    "while p < len(order_method_fetch):\n",
    "    order_method_temp_df = pd.DataFrame({'ORDER_METHOD_CODE': [order_method_fetch.iloc[p]['ORDER_METHOD_CODE']], 'ORDER_METHOD_EN': [order_method_fetch.iloc[p]['ORDER_METHOD_EN']]})\n",
    "    \n",
    "    order_method_temp_df.to_sql('order_method', con=engine, if_exists='append', index=False)\n",
    "    p += 1"
   ],
   "metadata": {
    "collapsed": false
   },
   "id": "1dffa160ebb9acbb",
   "execution_count": null
  },
  {
   "cell_type": "markdown",
   "source": [
    "insert retailer_type data into DB"
   ],
   "metadata": {
    "collapsed": false
   },
   "id": "3b5bd7013381487f"
  },
  {
   "cell_type": "code",
   "outputs": [],
   "source": [
    "retailer_type_fetch = crm_train_conn.cursor().execute('SELECT * FROM retailer_type').fetchall()\n",
    "retailer_type_fetch = pd.DataFrame(retailer_type_fetch, columns=['RETAILER_TYPE_CODE', 'RETAILER_TYPE_EN'])\n",
    "\n",
    "q = 0\n",
    "while q < len(retailer_type_fetch):\n",
    "    retailer_type_temp_df = pd.DataFrame({'RETAILER_TYPE_CODE': [retailer_type_fetch.iloc[q]['RETAILER_TYPE_CODE']], 'RETAILER_TYPE_EN': [retailer_type_fetch.iloc[q]['RETAILER_TYPE_EN']]})\n",
    "    \n",
    "    retailer_type_temp_df.to_sql('retailer_type', con=engine, if_exists='append', index=False)\n",
    "    q += 1"
   ],
   "metadata": {
    "collapsed": false,
    "ExecuteTime": {
     "end_time": "2025-03-01T11:48:55.720648Z",
     "start_time": "2025-03-01T11:48:55.148279Z"
    }
   },
   "id": "7d23422967322d6e",
   "execution_count": 5
  },
  {
   "cell_type": "markdown",
   "source": [
    "insert retailer_segment data into DB"
   ],
   "metadata": {
    "collapsed": false
   },
   "id": "e7b5dd5d6967d44a"
  },
  {
   "cell_type": "code",
   "outputs": [],
   "source": [
    "retailer_segment_fetch = pd.DataFrame(crm_train_conn.cursor().execute('SELECT * FROM retailer_segment').fetchall(), columns=['SEGMENT_CODE', 'LANGUAGE', 'SEGMENT_NAME', 'SEGMENT_DESCRIPTION'])\n",
    "\n",
    "r = 0\n",
    "while r < len(retailer_segment_fetch):\n",
    "    retailer_segment_temp_df = pd.DataFrame({'SEGMENT_CODE': [retailer_segment_fetch.iloc[r]['SEGMENT_CODE']], 'LANGUAGE': [retailer_segment_fetch.iloc[r]['LANGUAGE']], 'SEGMENT_NAME': [retailer_segment_fetch.iloc[r]['SEGMENT_NAME']], 'SEGMENT_DESCRIPTION': [retailer_segment_fetch.iloc[r]['SEGMENT_DESCRIPTION']]})\n",
    "    \n",
    "    retailer_segment_temp_df.to_sql('retailer_segment', con=engine, if_exists='append', index=False)\n",
    "    r += 1"
   ],
   "metadata": {
    "collapsed": false,
    "ExecuteTime": {
     "end_time": "2025-03-01T11:53:53.068317Z",
     "start_time": "2025-03-01T11:53:52.968511Z"
    }
   },
   "id": "98955adedd716ff6",
   "execution_count": 7
  },
  {
   "cell_type": "markdown",
   "source": [
    "insert retailer_headquarters data into DB"
   ],
   "metadata": {
    "collapsed": false
   },
   "id": "3df4c303678eec"
  },
  {
   "cell_type": "code",
   "outputs": [],
   "source": [
    "retailer_headquarters_fetch = pd.DataFrame(crm_train_conn.cursor().execute('SELECT * FROM retailer_headquarters').fetchall(), columns=['RETAILER_CODEMR', 'RETAILER_NAME', 'ADDRESS1', 'ADDRESS2', 'CITY', 'REGION', 'COUNTRY_CODE', 'PHONE', 'FAX', 'SEGMENT_CODE'])\n",
    "\n",
    "s = 0\n",
    "while s < len(retailer_headquarters_fetch):\n",
    "    retailer_headquarters_temp_df = pd.DataFrame({'RETAILER_CODEMR': [retailer_headquarters_fetch.iloc[s]['RETAILER_CODEMR']], 'RETAILER_NAME': [retailer_headquarters_fetch.iloc[s]['RETAILER_NAME']], 'ADDRESS1': [retailer_headquarters_fetch.iloc[s]['ADDRESS1']], 'ADDRESS2': [retailer_headquarters_fetch.iloc[s]['ADDRESS2']], 'CITY': [retailer_headquarters_fetch.iloc[s]['CITY']], 'REGION': [retailer_headquarters_fetch.iloc[s]['REGION']], 'COUNTRY_CODE': [retailer_headquarters_fetch.iloc[s]['COUNTRY_CODE']], 'PHONE': [retailer_headquarters_fetch.iloc[s]['PHONE']], 'FAX': [retailer_headquarters_fetch.iloc[s]['FAX']], 'SEGMENT_CODE': [retailer_headquarters_fetch.iloc[s]['SEGMENT_CODE']]})\n",
    "    \n",
    "    retailer_headquarters_temp_df.to_sql('retailer_headquarters', con=engine, if_exists='append', index=False)\n",
    "    s += 1"
   ],
   "metadata": {
    "collapsed": false,
    "ExecuteTime": {
     "end_time": "2025-03-01T11:55:12.063359Z",
     "start_time": "2025-03-01T11:55:06.952684Z"
    }
   },
   "id": "e8aec2da7921d7cd",
   "execution_count": 8
  },
  {
   "cell_type": "markdown",
   "source": [
    "insert age_group data into DB"
   ],
   "metadata": {
    "collapsed": false
   },
   "id": "bcf124623b3faef"
  },
  {
   "cell_type": "code",
   "outputs": [],
   "source": [
    "age_group_fetch = pd.DataFrame(crm_train_conn.cursor().execute('SELECT * FROM age_group').fetchall(), columns=['AGE_GROUP_CODE', 'UPPER_AGE', 'LOWER_AGE'])\n",
    "\n",
    "t = 0\n",
    "while t < len(age_group_fetch):\n",
    "    age_group_temp_df = pd.DataFrame({'AGE_GROUP_CODE': [age_group_fetch.iloc[t]['AGE_GROUP_CODE']], 'UPPER_AGE': [age_group_fetch.iloc[t]['UPPER_AGE']], 'LOWER_AGE': [age_group_fetch.iloc[t]['LOWER_AGE']]})\n",
    "    \n",
    "    age_group_temp_df.to_sql('age_group', con=engine, if_exists='append', index=False)\n",
    "    t += 1"
   ],
   "metadata": {
    "collapsed": false,
    "ExecuteTime": {
     "end_time": "2025-03-01T12:49:36.376719Z",
     "start_time": "2025-03-01T12:49:36.305143Z"
    }
   },
   "id": "e93ea02d52db79bf",
   "execution_count": 4
  },
  {
   "cell_type": "markdown",
   "source": [
    "insert sales_demographic data into DB"
   ],
   "metadata": {
    "collapsed": false
   },
   "id": "b8a47259f448119a"
  },
  {
   "cell_type": "code",
   "outputs": [],
   "source": [
    "sales_demographic_fetch = pd.DataFrame(crm_train_conn.cursor().execute('SELECT * FROM sales_demographic').fetchall(), columns=['DEMOGRAPHIC_CODE', 'RETAILER_CODEMR', 'AGE_GROUP_CODE', 'PERCENT'])\n",
    "\n",
    "u = 0\n",
    "while u < len(sales_demographic_fetch):\n",
    "    sales_demographic_temp_df = pd.DataFrame({'DEMOGRAPHIC_CODE': [sales_demographic_fetch.iloc[u]['DEMOGRAPHIC_CODE']], 'RETAILER_CODEMR': [sales_demographic_fetch.iloc[u]['RETAILER_CODEMR']], 'AGE_GROUP_CODE': [sales_demographic_fetch.iloc[u]['AGE_GROUP_CODE']], 'PERCENT': [sales_demographic_fetch.iloc[u]['PERCENT']]})\n",
    "    \n",
    "    sales_demographic_temp_df.to_sql('sales_demographic', con=engine, if_exists='append', index=False)\n",
    "    u += 1"
   ],
   "metadata": {
    "collapsed": false,
    "ExecuteTime": {
     "end_time": "2025-03-01T12:53:15.387577Z",
     "start_time": "2025-03-01T12:53:07.995436Z"
    }
   },
   "id": "81aa06b77a97eba8",
   "execution_count": 5
  },
  {
   "cell_type": "markdown",
   "source": [
    "insert retailer data into DB"
   ],
   "metadata": {
    "collapsed": false
   },
   "id": "72cbe8bfc0d21103"
  },
  {
   "cell_type": "code",
   "outputs": [],
   "source": [
    "retailer_fetch = pd.DataFrame(crm_train_conn.cursor().execute('SELECT * FROM retailer').fetchall(), columns=['RETAILER_CODE', 'HEADQUARTERS_CODE', 'COMPANY_NAME', 'RETAILER_TYPE_CODE'])\n",
    "\n",
    "v = 0\n",
    "while v < len(retailer_fetch):\n",
    "    retailer_temp_df = pd.DataFrame({'RETAILER_CODE': [retailer_fetch.iloc[v]['RETAILER_CODE']], 'HEADQUARTERS_CODE': [retailer_fetch.iloc[v]['HEADQUARTERS_CODE']], 'COMPANY_NAME': [retailer_fetch.iloc[v]['COMPANY_NAME']], 'RETAILER_TYPE_CODE': [retailer_fetch.iloc[v]['RETAILER_TYPE_CODE']]})\n",
    "\n",
    "    retailer_temp_df.to_sql('retailer', con=engine, if_exists='append', index=False)\n",
    "    v += 1"
   ],
   "metadata": {
    "collapsed": false,
    "ExecuteTime": {
     "end_time": "2025-03-01T13:05:26.113937Z",
     "start_time": "2025-03-01T13:05:25.357149Z"
    }
   },
   "id": "59cb0be864b20423",
   "execution_count": 16
  },
  {
   "cell_type": "markdown",
   "source": [
    "insert retailer_site data into DB"
   ],
   "metadata": {
    "collapsed": false
   },
   "id": "36c4c764229f88e2"
  },
  {
   "cell_type": "code",
   "outputs": [],
   "source": [
    "retailer_site_fetch_crm = pd.DataFrame(crm_train_conn.cursor().execute('SELECT * FROM retailer_site').fetchall(), columns=['RETAILER_SITE_CODE', 'RETAILER_CODE', 'ADDRESS1', 'ADDRESS2', 'CITY', 'REGION', 'COUNTRY_CODE', 'ACTIVE_INDICATOR'])\n",
    "retailer_site_fetch_sales = pd.DataFrame(sales_train_conn.cursor().execute('SELECT * FROM retailer_site').fetchall(), columns=['RETAILER_SITE_CODE', 'RETAILER_CODE', 'ADDRESS1', 'ADDRESS2', 'CITY', 'REGION', 'COUNTRY_CODE', 'ACTIVE_INDICATOR'])\n",
    "\n",
    "merge_retailer_site = retailer_site_fetch_crm.merge(retailer_site_fetch_sales, on=['RETAILER_SITE_CODE', 'RETAILER_CODE', 'ADDRESS1', 'ADDRESS2', 'CITY', 'REGION', 'COUNTRY_CODE', 'ACTIVE_INDICATOR'], how='outer')\n",
    "\n",
    "w = 0\n",
    "while w < len(merge_retailer_site):\n",
    "    retailer_site_temp_df = pd.DataFrame({'RETAILER_SITE_CODE': [merge_retailer_site.iloc[w]['RETAILER_SITE_CODE']], 'RETAILER_CODE': [merge_retailer_site.iloc[w]['RETAILER_CODE']], 'ADDRESS1': [merge_retailer_site.iloc[w]['ADDRESS1']], 'ADDRESS2': [merge_retailer_site.iloc[w]['ADDRESS2']], 'CITY': [merge_retailer_site.iloc[w]['CITY']], 'REGION': [merge_retailer_site.iloc[w]['REGION']], 'COUNTRY_CODE': [merge_retailer_site.iloc[w]['COUNTRY_CODE']], 'ACTIVE_INDICATOR': [merge_retailer_site.iloc[w]['ACTIVE_INDICATOR']]})\n",
    "    \n",
    "    retailer_site_temp_df.to_sql('retailer_site', con=engine, if_exists='append', index=False)\n",
    "    w += 1"
   ],
   "metadata": {
    "collapsed": false,
    "ExecuteTime": {
     "end_time": "2025-03-01T13:10:25.928203Z",
     "start_time": "2025-03-01T13:10:23.340063Z"
    }
   },
   "id": "fb9b321a50e3d832",
   "execution_count": 20
  },
  {
   "cell_type": "markdown",
   "source": [
    "insert retailer_contact data into DB"
   ],
   "metadata": {
    "collapsed": false
   },
   "id": "224b06d57569ff73"
  },
  {
   "cell_type": "code",
   "outputs": [],
   "source": [
    "retailer_contact_fetch = pd.DataFrame(crm_train_conn.cursor().execute('SELECT * FROM retailer_contact').fetchall(), columns=['RETAILER_CONTACT_CODE', 'RETAILER_SITE_CODE', 'FIRST_NAME', 'LAST_NAME', 'JOB_POSITION_EN', 'EXTENSION', 'FAX', 'EMAIL', 'GENDER'])\n",
    "\n",
    "x = 0\n",
    "while x < len(retailer_contact_fetch):\n",
    "    retailer_contact_temp_df = pd.DataFrame({'RETAILER_CONTACT_CODE': [retailer_contact_fetch.iloc[x]['RETAILER_CONTACT_CODE']], 'RETAILER_SITE_CODE': [retailer_contact_fetch.iloc[x]['RETAILER_SITE_CODE']], 'FIRST_NAME': [retailer_contact_fetch.iloc[x]['FIRST_NAME']], 'LAST_NAME': [retailer_contact_fetch.iloc[x]['LAST_NAME']], 'JOB_POSITION_EN': [retailer_contact_fetch.iloc[x]['JOB_POSITION_EN']], 'EXTENSION': [retailer_contact_fetch.iloc[x]['EXTENSION']], 'FAX': [retailer_contact_fetch.iloc[x]['FAX']], 'EMAIL': [retailer_contact_fetch.iloc[x]['EMAIL']], 'GENDER': [retailer_contact_fetch.iloc[x]['GENDER']]})\n",
    "    \n",
    "    retailer_contact_temp_df.to_sql('retailer_contact', con=engine, if_exists='append', index=False)\n",
    "    x += 1"
   ],
   "metadata": {
    "collapsed": false,
    "ExecuteTime": {
     "end_time": "2025-03-01T13:23:52.524749Z",
     "start_time": "2025-03-01T13:23:50.541991Z"
    }
   },
   "id": "2f0a40ead1881ba0",
   "execution_count": 23
  },
  {
   "cell_type": "markdown",
   "source": [
    "insert order_header data into DB"
   ],
   "metadata": {
    "collapsed": false
   },
   "id": "c85c736032c5fecb"
  },
  {
   "cell_type": "code",
   "outputs": [],
   "source": [
    "order_header_fetch = pd.DataFrame(sales_train_conn.cursor().execute('SELECT * FROM order_header'), columns=['ORDER_NUMBER', 'RETAILER_NAME', 'RETAILER_SITE_CODE', 'RETAILER_CONTACT_CODE', 'SALES_STAFF_CODE', 'SALES_BRANCH_CODE', 'ORDER_DATE', 'ORDER_METHOD_CODE'])\n",
    "\n",
    "y = 0\n",
    "while y < len(order_header_fetch):\n",
    "    order_header_temp_df = pd.DataFrame({'ORDER_NUMBER': [order_header_fetch.iloc[y]['ORDER_NUMBER']], 'RETAILER_NAME': [order_header_fetch.iloc[y]['RETAILER_NAME']], 'RETAILER_SITE_CODE': [order_header_fetch.iloc[y]['RETAILER_SITE_CODE']], 'RETAILER_CONTACT_CODE': [order_header_fetch.iloc[y]['RETAILER_CONTACT_CODE']], 'SALES_STAFF_CODE': [order_header_fetch.iloc[y]['SALES_STAFF_CODE']], 'SALES_BRANCH_CODE': [order_header_fetch.iloc[y]['SALES_BRANCH_CODE']], 'ORDER_DATE': [order_header_fetch.iloc[y]['ORDER_DATE']], 'ORDER_METHOD_CODE': [order_header_fetch.iloc[y]['ORDER_METHOD_CODE']]})\n",
    "    \n",
    "    order_header_temp_df.to_sql('order_header', con=engine, if_exists='append', index=False)\n",
    "    y += 1"
   ],
   "metadata": {
    "collapsed": false,
    "ExecuteTime": {
     "end_time": "2025-03-01T13:38:09.245850Z",
     "start_time": "2025-03-01T13:37:48.972237Z"
    }
   },
   "id": "4bf63d33e47b5ffb",
   "execution_count": 24
  },
  {
   "cell_type": "markdown",
   "source": [
    "insert order_details data into DB"
   ],
   "metadata": {
    "collapsed": false
   },
   "id": "82ff65699d3e312d"
  },
  {
   "cell_type": "code",
   "outputs": [],
   "source": [
    "order_details_fetch = pd.DataFrame(sales_train_conn.cursor().execute('SELECT * FROM order_details').fetchall(), columns=['ORDER_DETAIL_CODE', 'ORDER_NUMBER', 'PRODUCT_NUMBER', 'QUANTITY', 'UNIT_COST', 'UNIT_PRICE', 'UNIT_SALE_PRICE'])\n",
    "\n",
    "z = 0\n",
    "while z < len(order_details_fetch):\n",
    "    order_details_temp_df = pd.DataFrame({'ORDER_DETAIL_CODE': [order_details_fetch.iloc[z]['ORDER_DETAIL_CODE']], 'ORDER_NUMBER': [order_details_fetch.iloc[z]['ORDER_NUMBER']], 'PRODUCT_NUMBER': [order_details_fetch.iloc[z]['PRODUCT_NUMBER']], 'QUANTITY': [order_details_fetch.iloc[z]['QUANTITY']], 'UNIT_COST': [order_details_fetch.iloc[z]['UNIT_COST']], 'UNIT_PRICE': [order_details_fetch.iloc[z]['UNIT_PRICE']], 'UNIT_SALE_PRICE': [order_details_fetch.iloc[z]['UNIT_SALE_PRICE']]})\n",
    "    \n",
    "    order_details_temp_df.to_sql('order_details', con=engine, if_exists='append', index=False)\n",
    "    z += 1"
   ],
   "metadata": {
    "collapsed": false,
    "ExecuteTime": {
     "end_time": "2025-03-01T13:44:37.492549Z",
     "start_time": "2025-03-01T13:42:18.518715Z"
    }
   },
   "id": "6911bf0ee23ea73d",
   "execution_count": 25
  },
  {
   "cell_type": "markdown",
   "source": [
    "insert returned_item data into DB"
   ],
   "metadata": {
    "collapsed": false
   },
   "id": "d248434da23b8495"
  },
  {
   "cell_type": "code",
   "outputs": [],
   "source": [
    "returned_item_fetch = sales_train_conn.cursor().execute('SELECT * FROM returned_item').fetchall()\n",
    "returned_item_fetch = pd.DataFrame(returned_item_fetch, columns=['RETURN_CODE', 'RETURN_DATE', 'ORDER_DETAIL_CODE', 'RETURN_REASON_CODE', 'RETURN_QUANTITY'])\n",
    "\n",
    "z1 = 0\n",
    "while z1 < len(returned_item_fetch):\n",
    "    returned_item_temp_df = pd.DataFrame({'RETURN_CODE': [returned_item_fetch.iloc[z1]['RETURN_CODE']], 'RETURN_DATE': [returned_item_fetch.iloc[z1]['RETURN_DATE']], 'ORDER_DETAIL_CODE': [returned_item_fetch.iloc[z1]['ORDER_DETAIL_CODE']], 'RETURN_REASON_CODE': [returned_item_fetch.iloc[z1]['RETURN_REASON_CODE']], 'RETURN_QUANTITY': [returned_item_fetch.iloc[z1]['RETURN_QUANTITY']]})\n",
    "\n",
    "    returned_item_temp_df.to_sql('returned_item', con=engine, if_exists='append', index=False)\n",
    "    z1 += 1"
   ],
   "metadata": {
    "collapsed": false,
    "ExecuteTime": {
     "end_time": "2025-03-01T13:45:03.419359Z",
     "start_time": "2025-03-01T13:45:01.732696Z"
    }
   },
   "id": "ece734fcf8cd5369",
   "execution_count": 26
  }
 ],
 "metadata": {
  "kernelspec": {
   "display_name": "Python 3",
   "language": "python",
   "name": "python3"
  },
  "language_info": {
   "codemirror_mode": {
    "name": "ipython",
    "version": 2
   },
   "file_extension": ".py",
   "mimetype": "text/x-python",
   "name": "python",
   "nbconvert_exporter": "python",
   "pygments_lexer": "ipython2",
   "version": "2.7.6"
  }
 },
 "nbformat": 4,
 "nbformat_minor": 5
}
