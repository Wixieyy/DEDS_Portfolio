{
 "cells": [
  {
   "cell_type": "markdown",
   "metadata": {},
   "source": [
    "# Werkcollege-opdrachten Week 1.2"
   ]
  },
  {
   "cell_type": "markdown",
   "metadata": {},
   "source": [
    "## Voorbereiding"
   ]
  },
  {
   "cell_type": "markdown",
   "metadata": {},
   "source": [
    "Importeer in het codeblok hieronder de packages die worden gebruikt om data in te lezen. Geef er ook de gebruikelijke aliassen aan.<br>\n",
    "N.B.: de 2 reeds geschreven coderegels zorgen ervoor dat eventuele warnings, die code-outputs lelijker maken, uitgezet worden."
   ]
  },
  {
   "cell_type": "code",
   "execution_count": null,
   "metadata": {},
   "outputs": [],
   "source": [
    "import pandas as pd\n",
    "import warnings\n",
    "warnings.simplefilter('ignore')"
   ]
  },
  {
   "cell_type": "markdown",
   "source": [
    "Zet de volgende bestanden in een makkelijk terug te vinden map:\n",
    "- go_sales_train.sqlite\n",
    "- go_crm_train.sqlite\n",
    "- go_staff_train.sqlite"
   ],
   "metadata": {}
  },
  {
   "cell_type": "markdown",
   "metadata": {},
   "source": [
    "Bestudeer de bovenste 3 bestanden in DB Browser (SQLite), <a href=\"https://sqlitebrowser.org/dl/\">hier</a> te downloaden. Wat valt je op qua datatypen?<br>"
   ]
  },
  {
   "cell_type": "code",
   "outputs": [],
   "source": [],
   "metadata": {
    "collapsed": false
   },
   "execution_count": null
  },
  {
   "cell_type": "markdown",
   "metadata": {},
   "source": [
    "## Databasetabel inlezen"
   ]
  },
  {
   "cell_type": "markdown",
   "metadata": {},
   "source": [
    "Creëer een databaseconnectie met het bestand go_sales_train.sqlite."
   ]
  },
  {
   "cell_type": "code",
   "execution_count": 2,
   "metadata": {
    "ExecuteTime": {
     "end_time": "2025-02-13T08:42:52.477743Z",
     "start_time": "2025-02-13T08:42:52.473117Z"
    }
   },
   "outputs": [],
   "source": [
    "import sqlite3 as sql\n",
    "conn = sql.connect('../data/raw/go_sales_train.sqlite')"
   ]
  },
  {
   "cell_type": "markdown",
   "metadata": {},
   "source": [
    "<b>Let goed op:</b><br>\n",
    "Als je per ongeluk een verkeerde bestandsnaam ingeeft, maakt Python zélf een leeg databasebestand aan! Er ontstaat dan dus een nieuwe .sqlite, en dat is nadrukkelijk <u>niet de bedoeling.</u>"
   ]
  },
  {
   "cell_type": "code",
   "outputs": [],
   "source": [],
   "metadata": {
    "collapsed": false
   },
   "execution_count": 0
  },
  {
   "cell_type": "markdown",
   "metadata": {},
   "source": [
    "Gebruik de onderstaande sql_query om te achterhalen welke databasetabellen in go_sales_train zitten."
   ]
  },
  {
   "cell_type": "code",
   "execution_count": 5,
   "metadata": {
    "ExecuteTime": {
     "end_time": "2025-02-13T09:04:23.296205Z",
     "start_time": "2025-02-13T09:04:23.292636Z"
    }
   },
   "outputs": [
    {
     "name": "stdout",
     "output_type": "stream",
     "text": [
      "[('country',), ('order_details',), ('order_header',), ('order_method',), ('product',), ('product_line',), ('product_type',), ('retailer_site',), ('return_reason',), ('returned_item',), ('sales_branch',), ('sales_staff',)]\n"
     ]
    }
   ],
   "source": [
    "sql_query = \"SELECT name FROM sqlite_master WHERE type='table';\"\n",
    "conn_cursor = conn.cursor()\n",
    "\n",
    "conn_cursor.execute(sql_query)\n",
    "\n",
    "output = conn_cursor.fetchall()\n",
    "\n",
    "print(output)"
   ]
  },
  {
   "cell_type": "markdown",
   "metadata": {},
   "source": [
    "Krijg je lege output? Dan heb je per ongeluk een leeg  databasebestand (.sqlite) aangemaakt.<br>\n",
    "Lees de informatie onder het kopje <u>Let goed op:</u> hierboven nog eens goed door."
   ]
  },
  {
   "cell_type": "markdown",
   "metadata": {},
   "source": [
    "Gebruik de gecreëerde databaseconnectie om de resultaten van de volgende query in een DataFrame te zetten:<br>\n",
    "*SELECT * FROM sales_staff* "
   ]
  },
  {
   "cell_type": "code",
   "execution_count": null,
   "metadata": {},
   "outputs": [],
   "source": [
    "sql_query = \"SELECT * FROM sales_staff;\"\n",
    "conn_cursor = conn.cursor()\n",
    "\n",
    "conn_cursor.execute(sql_query)\n",
    "\n",
    "output = conn_cursor.fetchall()\n",
    "\n",
    "salesStaffDf = pd.DataFrame(output)\n",
    "\n",
    "print(salesStaffDf)"
   ]
  },
  {
   "cell_type": "markdown",
   "metadata": {},
   "source": [
    "## Datumkolommen"
   ]
  },
  {
   "cell_type": "markdown",
   "metadata": {},
   "source": [
    "Zoals je misschien al hebt gezien in DB Browser, zijn datums als TEXT opgeslagen, en niet als DATE, DATETIME o.i.d. Hier moeten we dus nog even \"typische datumkolommen\" van maken. Dat doen we met de volgende code:"
   ]
  },
  {
   "cell_type": "code",
   "execution_count": null,
   "metadata": {},
   "outputs": [],
   "source": [
    "sales_staff['DATE_HIRED'] = pd.to_datetime(sales_staff['DATE_HIRED'])\n",
    "sales_staff.dtypes"
   ]
  },
  {
   "cell_type": "markdown",
   "metadata": {},
   "source": [
    "Als we hier het jaar uit willen halen, schrijven we:"
   ]
  },
  {
   "cell_type": "code",
   "execution_count": null,
   "metadata": {},
   "outputs": [],
   "source": [
    "pd.DatetimeIndex(sales_staff['DATE_HIRED']).quarter"
   ]
  },
  {
   "cell_type": "markdown",
   "metadata": {},
   "source": [
    "Deze zelfde syntax is te gebruiken voor het extraheren van kwartalen, maanden, weken en dagen. Probeer het maar eens!"
   ]
  },
  {
   "cell_type": "markdown",
   "metadata": {},
   "source": [
    "## DataFrames uitsplitsen en opbouwen met Series"
   ]
  },
  {
   "cell_type": "markdown",
   "metadata": {},
   "source": [
    "De volgende 5 kolommen hebben betrekking op de contactdetails van elke medewerker in dit DataFrame:\n",
    "- SALES_STAFF_CODE\n",
    "- WORK_PHONE\n",
    "- EXTENSION\n",
    "- FAX\n",
    "- EMAIL\n",
    "\n",
    "Maak van elk van deze 5 kolommen een serie."
   ]
  },
  {
   "cell_type": "code",
   "execution_count": null,
   "metadata": {},
   "outputs": [],
   "source": [
    "salesSerie = pd.Series(salesStaffDf.loc[:, 0])\n",
    "workSerie = pd.Series(salesStaffDf.loc[:, 1])\n",
    "extensionSerie = pd.Series(salesStaffDf.loc[:, 2])\n",
    "faxSerie = pd.Series(salesStaffDf.loc[:, 3])\n",
    "emailSerie = pd.Series(salesStaffDf.loc[:, 4])\n",
    "\n",
    "print(salesSerie)\n",
    "print(workSerie)\n",
    "print(extensionSerie)\n",
    "print(faxSerie)\n",
    "print(emailSerie)"
   ]
  },
  {
   "cell_type": "markdown",
   "metadata": {},
   "source": [
    "Zet allevijf gecreëerde series als kolommen naast elkaar in een DataFrame (*contact_details*). Gebruik pd.concat(...)<br>\n",
    "Hulpvraag: welke waarde geef je aan de axis-parameter?"
   ]
  },
  {
   "cell_type": "code",
   "execution_count": null,
   "metadata": {},
   "outputs": [],
   "source": [
    "contact_details = pd.concat([salesSerie, workSerie, extensionSerie, faxSerie, emailSerie], axis=1)\n",
    "\n",
    "print(contact_details)"
   ]
  },
  {
   "cell_type": "markdown",
   "metadata": {},
   "source": [
    "## Series en DataFrames maken vanuit lists en dictionaries"
   ]
  },
  {
   "cell_type": "markdown",
   "metadata": {},
   "source": [
    "Met .head(*getal*) kan je de bovenste *getal* rijen van een tabel selecteren.<br>\n",
    "Selecteer op deze manier de bovenste 5 rijen van *contact_details*.<br>\n",
    "Sla dit resultaat op in een nieuw DataFrame."
   ]
  },
  {
   "cell_type": "markdown",
   "source": [],
   "metadata": {
    "collapsed": false
   }
  },
  {
   "cell_type": "code",
   "execution_count": null,
   "metadata": {},
   "outputs": [],
   "source": [
    "newData = {0: [\"testcode\"], 1: [\"12345678\"], 2: [\"skhjdfkhs\"], 3: [\"1234\"], 4: [\"dhasdk@com\"]}\n",
    "newDf = pd.DataFrame(newData)\n",
    "\n",
    "test = pd.concat([contact_details, newDf], ignore_index=True)\n",
    "print(test.head(5))\n"
   ]
  },
  {
   "cell_type": "markdown",
   "metadata": {},
   "source": [
    "Aan deze 10 rijen met contactdetails willen we 3 kolommen toevoegen: 'FIRST_LANGUAGE', 'SECOND_LANGUAGE' & 'THIRD_LANGUAGE'.<br>\n",
    "Iedereens 'First Language' is Engels, afgekort 'EN'. Maak een lijst waarin 5x 'EN' staat.<br>\n",
    "Converteer deze lijst vervolgens naar een serie en voeg deze horizontaal samen met het resultaat van de vorige opdracht.<br>\n",
    "Vergeet niet een passende naam te geven aan de nieuw ontstane kolom."
   ]
  },
  {
   "cell_type": "code",
   "execution_count": null,
   "metadata": {},
   "outputs": [],
   "source": [
    "firstLanguageSeries = pd.Series([\"EN\", \"EN\", \"EN\", \"EN\", \"EN\"], name= \"FIRST_LANGUAGE\")\n",
    "\n",
    "test.insert(5, \"FIRST_LANGUAGE\", firstLanguageSeries)\n",
    "print(test.head(5))"
   ]
  },
  {
   "cell_type": "markdown",
   "metadata": {},
   "source": [
    "Maak nu de tweede kolom ('SECOND_LANGUAGE'). Maak daarvoor een dictionary, met daarin...\n",
    "- Als keys: alle indexen uit het resultaat van het vorige codeblok.\n",
    "- Als values: bij de eerste 3 elementen 'FR' (Frankrijk), bij de laatste 2 'DE' (Duitsland).\n",
    "\n",
    "Maak vervolgens ook hier weer een serie van en voeg ook deze weer horizontaal samen met het rsultaat van de vorige opdracht.<br>\n",
    "Vergeet niet een passende naam te geven aan de nieuw ontstane kolom."
   ]
  },
  {
   "cell_type": "code",
   "execution_count": null,
   "metadata": {},
   "outputs": [],
   "source": [
    "secondLanguageDictionary = {0: \"FR\", 1: \"FR\", 2: \"FR\", 3: \"DE\", 4: \"DE\"}\n",
    "\n",
    "secondLanuageSeries = pd.Series(secondLanguageDictionary, name=\"SECOND_LANGUAGE\")\n",
    "\n",
    "test.insert(6, \"SECOND_LANGUAGE\", secondLanuageSeries)\n",
    "print(test.head(5))"
   ]
  },
  {
   "cell_type": "markdown",
   "metadata": {},
   "source": [
    "Maak ten slotte de derde kolom ('THIRD_LANGUAGE') door een dictionary te maken met daarin...\n",
    "- Als key: de naam van de nieuwe kolom. Zie je het verschil qua keys met de vorige opdracht?\n",
    "- Als waarde: een lijst met daarin 'NL', 'NL', 'JPN', 'JPN', 'KOR'.\n",
    "\n",
    "Converteer deze dictionary nu naar een DataFrame en voeg deze horizontaal samen met het resultaat van de vorige opdracht.<br>\n",
    "Waarom hoef je hierna de nieuw ontstane kolom geen passende naam meer te geven?"
   ]
  },
  {
   "cell_type": "code",
   "execution_count": null,
   "metadata": {},
   "outputs": [],
   "source": [
    "thirdLanguageDictionary = {\n",
    "    \"THIRD_LANGUAGE\": [\"NL\", \"NL\", \"JPN\", \"JPN\", \"KOR\"]\n",
    "}\n",
    "\n",
    "thirdLanguageDataFrame = pd.DataFrame(thirdLanguageDictionary)\n",
    "\n",
    "test.insert(7, \"THIRD_LANGUAGE\", thirdLanguageDataFrame)\n",
    "print(test.head(5))"
   ]
  },
  {
   "cell_type": "markdown",
   "metadata": {},
   "source": [
    "## Data toevoegen"
   ]
  },
  {
   "cell_type": "markdown",
   "metadata": {},
   "source": [
    "### Rijen"
   ]
  },
  {
   "cell_type": "markdown",
   "metadata": {},
   "source": [
    "Gebruik de originele databasetabel *sales_staff*.<br>\n",
    "Voeg een extra rij toe met eigen invulling. Zorg ervoor dat de index netjes doorloopt.<br>\n",
    "Hulpvraag: welke waarde geef je nu aan axis?"
   ]
  },
  {
   "cell_type": "code",
   "execution_count": null,
   "metadata": {},
   "outputs": [],
   "source": [
    "cursor = conn.cursor()\n",
    "salesStaffQuery = \"SELECT * FROM sales_staff\"\n",
    "response = cursor.execute(salesStaffQuery).fetchall()\n",
    "\n",
    "column_names = [desc[0] for desc in cursor.description]\n",
    "\n",
    "salesStaffDf2 = pd.DataFrame(response, columns=column_names)\n",
    "\n",
    "newRow = {\n",
    "    \"SALES_STAFF_CODE\": 125,\n",
    "    \"FIRST_NAME\": \"testname\",\n",
    "    \"LAST_NAME\": \"testlastname\",\n",
    "    \"POSITION_EN\": \"Branch Manager\",\n",
    "    \"WORK_PHONE\": \"+31 06 49 32 64 78\",\n",
    "    \"EXTENSION\": \"3453\",\n",
    "    \"FAX\": \"+31 06 49 22 22 22\",\n",
    "    \"EMAIL\": \"testemail@gmail.com\",\n",
    "    \"DATE_HIRED\": \"01-01-2021\",\n",
    "    \"SALES_BRANCH_CODE\": 40\n",
    "}\n",
    "\n",
    "newSalesStaffDf = salesStaffDf2._append(newRow, ignore_index=True)\n",
    "\n",
    "print(newSalesStaffDf.head(5))\n"
   ]
  },
  {
   "cell_type": "markdown",
   "metadata": {},
   "source": [
    "### Kolommen"
   ]
  },
  {
   "cell_type": "markdown",
   "metadata": {},
   "source": [
    "Voeg een kolom *FULL_NAME* toe die de waarden van *FIRST_NAME* en *LAST_NAME* achter elkaar zet, gescheiden door een spatie."
   ]
  },
  {
   "cell_type": "code",
   "execution_count": null,
   "metadata": {},
   "outputs": [],
   "source": [
    "firstNameColumn = newSalesStaffDf.loc[:, 'FIRST_NAME']\n",
    "lastNameColumn = newSalesStaffDf.loc[:, 'LAST_NAME']\n",
    "\n",
    "fullNameColumn = firstNameColumn + \" \" + lastNameColumn\n",
    "\n",
    "# newSalesStaffDf.drop(columns=['FULL_NAME'], inplace=True)\n",
    "newSalesStaffDf.insert(10, \"FULL_NAME\", fullNameColumn)\n",
    "\n",
    "print(newSalesStaffDf.head(5))\n"
   ]
  },
  {
   "cell_type": "markdown",
   "metadata": {},
   "source": [
    "## Data wijzigen"
   ]
  },
  {
   "cell_type": "markdown",
   "metadata": {},
   "source": [
    "### Datatypen"
   ]
  },
  {
   "cell_type": "markdown",
   "metadata": {},
   "source": [
    "Door het attribuut .dtypes van een DataFrame op te vragen krijg je een serie die per kolom het datatype weergeeft. Doe dit bij de originele databasetabel *sales_staff*"
   ]
  },
  {
   "cell_type": "code",
   "execution_count": null,
   "metadata": {},
   "outputs": [],
   "source": [
    "print(salesStaffDf.dtypes)"
   ]
  },
  {
   "cell_type": "markdown",
   "metadata": {},
   "source": [
    "Hier valt op dat elke kolom het datatype 'object' heeft: Python leest dus alles als string. Wiskundige operaties zijn hierdoor niet mogelijk.<br>\n",
    "We kunnen proberen om kolommen met getallen, bijvoorbeeld de 'extension', te converteren naar een int. Zie onderstaande code."
   ]
  },
  {
   "cell_type": "code",
   "execution_count": null,
   "metadata": {},
   "outputs": [],
   "source": [
    "sales_staff['EXTENSION'] = sales_staff['EXTENSION'].astype(int)\n",
    "sales_staff.dtypes"
   ]
  },
  {
   "cell_type": "markdown",
   "metadata": {},
   "source": [
    "Dit lukt echter niet, omdat er in de kolom 'EXTENSION' lege waarden zitten die niet geconverteerd kunnen worden naar een int.<br>\n",
    "Wél kan je deze naar een float converteren, zie onderstaande code:"
   ]
  },
  {
   "cell_type": "code",
   "execution_count": null,
   "metadata": {},
   "outputs": [],
   "source": [
    "sales_staff['EXTENSION'] = sales_staff['EXTENSION'].astype(float)\n",
    "sales_staff.dtypes"
   ]
  },
  {
   "cell_type": "markdown",
   "metadata": {},
   "source": [
    "Als we in de rij van 'EXTENSION' kijken zien we dat de conversie van het datatype nu is gelukt.<br>\n",
    "Dit is <b>randvoorwaardelijk</b> voor het uitvoeren van wiskundige operaties.<br>"
   ]
  },
  {
   "cell_type": "markdown",
   "metadata": {},
   "source": [
    "### Rijen"
   ]
  },
  {
   "cell_type": "markdown",
   "metadata": {},
   "source": [
    "Zorg er nu voor dat bij alle extensions 1 wordt opgeteld."
   ]
  },
  {
   "cell_type": "code",
   "execution_count": null,
   "metadata": {},
   "outputs": [],
   "source": [
    "newSalesStaffDf['EXTENSION'] = newSalesStaffDf['EXTENSION'] + 1"
   ]
  },
  {
   "cell_type": "markdown",
   "metadata": {},
   "source": [
    "Elke 'Branch Manager' wordt nu 'General Manager'. Schrijf code zodat deze wijziging doorgevoerd wordt in het DataFrame."
   ]
  },
  {
   "cell_type": "code",
   "execution_count": 4,
   "metadata": {
    "ExecuteTime": {
     "end_time": "2025-02-13T08:59:14.706309Z",
     "start_time": "2025-02-13T08:59:14.681169Z"
    }
   },
   "outputs": [
    {
     "ename": "NameError",
     "evalue": "name 'newSalesStaffDf' is not defined",
     "output_type": "error",
     "traceback": [
      "\u001B[1;31m---------------------------------------------------------------------------\u001B[0m",
      "\u001B[1;31mNameError\u001B[0m                                 Traceback (most recent call last)",
      "Cell \u001B[1;32mIn[4], line 1\u001B[0m\n\u001B[1;32m----> 1\u001B[0m newSalesStaffDf[\u001B[38;5;124m'\u001B[39m\u001B[38;5;124mPOSITION_EN\u001B[39m\u001B[38;5;124m'\u001B[39m] \u001B[38;5;241m=\u001B[39m \u001B[43mnewSalesStaffDf\u001B[49m[\u001B[38;5;124m'\u001B[39m\u001B[38;5;124mPOSITION_EN\u001B[39m\u001B[38;5;124m'\u001B[39m]\u001B[38;5;241m.\u001B[39mreplace(\u001B[38;5;124m'\u001B[39m\u001B[38;5;124mBranch Manager\u001B[39m\u001B[38;5;124m'\u001B[39m, \u001B[38;5;124m'\u001B[39m\u001B[38;5;124mGeneral Manager\u001B[39m\u001B[38;5;124m'\u001B[39m)\n\u001B[0;32m      2\u001B[0m \u001B[38;5;28mprint\u001B[39m(newSalesStaffDf\u001B[38;5;241m.\u001B[39mhead(\u001B[38;5;241m5\u001B[39m))\n",
      "\u001B[1;31mNameError\u001B[0m: name 'newSalesStaffDf' is not defined"
     ]
    }
   ],
   "source": [
    "newSalesStaffDf['POSITION_EN'] = newSalesStaffDf['POSITION_EN'].replace('Branch Manager', 'General Manager')\n",
    "print(newSalesStaffDf.head(5))"
   ]
  },
  {
   "cell_type": "markdown",
   "metadata": {},
   "source": [
    "### Kolommen"
   ]
  },
  {
   "cell_type": "markdown",
   "metadata": {},
   "source": [
    "Verander de kolomnaam 'POSITION_EN' naar 'POSITION'."
   ]
  },
  {
   "cell_type": "code",
   "outputs": [],
   "source": [
    "column_names = [desc[0] for desc in cursor.description]\n",
    "newSalesStaffDf2 = pd.DataFrame(newSalesStaffDf, columns=column_names)\n",
    "\n",
    "\n",
    "newSalesStaffDf2.rename(columns={'POSITION_EN': 'POSITION'}, inplace=True)\n",
    "print(newSalesStaffDf2.head(5))"
   ],
   "metadata": {
    "collapsed": false
   },
   "execution_count": null
  },
  {
   "cell_type": "markdown",
   "metadata": {},
   "source": [
    "## Data verwijderen"
   ]
  },
  {
   "cell_type": "markdown",
   "metadata": {},
   "source": [
    "### Rijen"
   ]
  },
  {
   "cell_type": "markdown",
   "metadata": {},
   "source": [
    "De medewerkers op indexen 99, 100 en 101 hebben helaas ontslag genomen.<br>\n",
    "Verwijder de bijbehorende rijen uit het DataFrame. Gebruik slechts één keer de .drop()-methode."
   ]
  },
  {
   "cell_type": "code",
   "execution_count": null,
   "metadata": {},
   "outputs": [],
   "source": [
    "newSalesStaffDf2.drop([99, 100, 101], inplace=True)\n",
    "print(newSalesStaffDf2)"
   ]
  },
  {
   "cell_type": "markdown",
   "metadata": {},
   "source": [
    "### Kolommen"
   ]
  },
  {
   "cell_type": "markdown",
   "metadata": {},
   "source": [
    "Faxen zijn inmiddels ouderwets: niemand gebruikt zijn/haar faxnummer nog.<br>\n",
    "Verwijder de bijbehorende kolom uit het DataFrame."
   ]
  },
  {
   "cell_type": "code",
   "outputs": [],
   "source": [
    "newSalesStaffDf2.drop(columns={'FAX'}, inplace=True)\n",
    "print(newSalesStaffDf2)"
   ],
   "metadata": {
    "collapsed": false
   },
   "execution_count": null
  }
 ],
 "metadata": {
  "kernelspec": {
   "display_name": "python-in-deds-P4iSP_yI-py3.11",
   "language": "python",
   "name": "python3"
  },
  "language_info": {
   "codemirror_mode": {
    "name": "ipython",
    "version": 3
   },
   "file_extension": ".py",
   "mimetype": "text/x-python",
   "name": "python",
   "nbconvert_exporter": "python",
   "pygments_lexer": "ipython3",
   "version": "3.11.3"
  }
 },
 "nbformat": 4,
 "nbformat_minor": 2
}
