{
 "cells": [
  {
   "cell_type": "markdown",
   "metadata": {},
   "source": [
    "# Werkcollege-opdrachten Week 1.2"
   ]
  },
  {
   "cell_type": "markdown",
   "metadata": {},
   "source": [
    "## Voorbereiding"
   ]
  },
  {
   "cell_type": "markdown",
   "metadata": {},
   "source": [
    "Importeer in het codeblok hieronder de packages die worden gebruikt om data in te lezen. Geef er ook de gebruikelijke aliassen aan.<br>\n",
    "N.B.: de 2 reeds geschreven coderegels zorgen ervoor dat eventuele warnings, die code-outputs lelijker maken, uitgezet worden."
   ]
  },
  {
   "cell_type": "code",
   "execution_count": 16,
   "metadata": {},
   "outputs": [],
   "source": [
    "\n",
    "import warnings\n",
    "import pandas as pd\n",
    "warnings.simplefilter('ignore')"
   ]
  },
  {
   "cell_type": "markdown",
   "metadata": {},
   "source": [
    "Zet de volgende bestanden in een makkelijk terug te vinden map:\n",
    "- go_sales_train.sqlite\n",
    "- go_crm_train.sqlite\n",
    "- go_staff_train.sqlite"
   ]
  },
  {
   "cell_type": "markdown",
   "metadata": {},
   "source": [
    "Bestudeer de bovenste 3 bestanden in DB Browser (SQLite), <a href=\"https://sqlitebrowser.org/dl/\">hier</a> te downloaden. Wat valt je op qua datatypen?<br>"
   ]
  },
  {
   "cell_type": "markdown",
   "metadata": {},
   "source": [
    "in plaats van varchar is het text\n"
   ]
  },
  {
   "cell_type": "markdown",
   "metadata": {},
   "source": [
    "## Databasetabel inlezen"
   ]
  },
  {
   "cell_type": "markdown",
   "metadata": {},
   "source": [
    "Creëer een databaseconnectie met het bestand go_sales_train.sqlite."
   ]
  },
  {
   "cell_type": "code",
   "execution_count": null,
   "metadata": {},
   "outputs": [],
   "source": [
    "import sqlite3 as sql\n",
    "\n",
    "\n",
    "con = sql.connect(\"../../data/raw/go_sales_train.sqlite\")"
   ]
  },
  {
   "cell_type": "markdown",
   "metadata": {},
   "source": [
    "<b>Let goed op:</b><br>\n",
    "Als je per ongeluk een verkeerde bestandsnaam ingeeft, maakt Python zélf een leeg databasebestand aan! Er ontstaat dan dus een nieuwe .sqlite, en dat is nadrukkelijk <u>niet de bedoeling.</u>"
   ]
  },
  {
   "cell_type": "markdown",
   "metadata": {},
   "source": [
    "Gebruik de onderstaande sql_query om te achterhalen welke databasetabellen in go_sales_train zitten."
   ]
  },
  {
   "cell_type": "code",
   "execution_count": 15,
   "metadata": {},
   "outputs": [
    {
     "name": "stdout",
     "output_type": "stream",
     "text": [
      "('country',)\n",
      "('order_details',)\n",
      "('order_header',)\n",
      "('order_method',)\n",
      "('product',)\n",
      "('product_line',)\n",
      "('product_type',)\n",
      "('retailer_site',)\n",
      "('return_reason',)\n",
      "('returned_item',)\n",
      "('sales_branch',)\n",
      "('sales_staff',)\n"
     ]
    }
   ],
   "source": [
    "sql_query = \"SELECT name FROM sqlite_master WHERE type='table';\"\n",
    "#Vul dit codeblok verder in\n",
    "con_cursor = con.cursor()\n",
    "\n",
    "con_cursor.execute(sql_query)\n",
    "\n",
    "response = con_cursor.fetchall()\n",
    "\n",
    "for row in response:\n",
    "    print(row)"
   ]
  },
  {
   "cell_type": "markdown",
   "metadata": {},
   "source": [
    "Krijg je lege output? Dan heb je per ongeluk een leeg  databasebestand (.sqlite) aangemaakt.<br>\n",
    "Lees de informatie onder het kopje <u>Let goed op:</u> hierboven nog eens goed door."
   ]
  },
  {
   "cell_type": "markdown",
   "metadata": {},
   "source": [
    "Gebruik de gecreëerde databaseconnectie om de resultaten van de volgende query in een DataFrame te zetten:<br>\n",
    "*SELECT * FROM sales_staff* "
   ]
  },
  {
   "cell_type": "code",
   "execution_count": 86,
   "metadata": {},
   "outputs": [
    {
     "name": "stdout",
     "output_type": "stream",
     "text": [
      "       0          1          2                             3  \\\n",
      "0      4      Denis       Pagé                Branch Manager   \n",
      "1      5  Élizabeth     Michel  Level 3 Sales Representative   \n",
      "2      6      Émile   Clermont  Level 1 Sales Representative   \n",
      "3      7    Étienne     Jauvin  Level 2 Sales Representative   \n",
      "4     12    Elsbeth  Wiesinger  Level 2 Sales Representative   \n",
      "..   ...        ...        ...                           ...   \n",
      "97   120      Giele   Laermans  Level 1 Sales Representative   \n",
      "98   121   François    De Crée  Level 1 Sales Representative   \n",
      "99   122     Yvette    Lattrez  Level 3 Sales Representative   \n",
      "100  123      Willi  Seefelder  Level 2 Sales Representative   \n",
      "101  124     Sabine     Grüner  Level 3 Sales Representative   \n",
      "\n",
      "                     4       5                  6                       7  \\\n",
      "0    +33 1 68 94 52 20   325.0  +33 1 68 94 56 60       DPage@grtd123.com   \n",
      "1    +33 1 68 94 52 20   336.0  +33 1 68 94 56 60     EMichel@grtd123.com   \n",
      "2    +33 1 68 94 52 20   378.0  +33 1 68 94 56 60   EClermont@grtd123.com   \n",
      "3    +33 1 68 94 52 20   398.0  +33 1 68 94 56 60     EJauvin@grtd123.com   \n",
      "4    +(49) 40 663 1990  1818.0  +(49) 40 663 4571  EWiesinger@grtd123.com   \n",
      "..                 ...     ...                ...                     ...   \n",
      "97     +32 16 20.73.21  1340.0    +32 16 20.73.32   GLaermans@grtd123.com   \n",
      "98     +32 16 20.73.21  1642.0    +32 16 20.73.32     FDecree@grtd123.com   \n",
      "99     +32 16 20.73.21  1633.0    +32 16 20.73.32    YLattrez@grtd123.com   \n",
      "100  +(43) 13 79 56 32   325.0  +(43) 13 79 56 33  WSeefelder@grtd123.com   \n",
      "101  +(43) 13 79 56 32   348.0  +(43) 13 79 56 33     SGruner@grtd123.com   \n",
      "\n",
      "              8   9  \n",
      "0    1996-11-03   6  \n",
      "1    1995-06-08   6  \n",
      "2    1998-04-07   6  \n",
      "3    1997-08-16   6  \n",
      "4    1997-02-27  13  \n",
      "..          ...  ..  \n",
      "97   1999-11-15  38  \n",
      "98   1999-12-01  38  \n",
      "99   1999-12-09  38  \n",
      "100  1998-10-28  39  \n",
      "101  1998-02-18  39  \n",
      "\n",
      "[102 rows x 10 columns]\n"
     ]
    }
   ],
   "source": [
    "query = \"SELECT * FROM sales_staff;\"\n",
    "#Vul dit codeblok verder in\n",
    "con_cursor = con.cursor()\n",
    "\n",
    "con_cursor.execute(query)\n",
    "\n",
    "response = con_cursor.fetchall()\n",
    "\n",
    "salesStaffDf = pd.DataFrame(response)\n",
    "\n",
    "print(salesStaffDf)\n"
   ]
  },
  {
   "cell_type": "markdown",
   "metadata": {},
   "source": [
    "## Datumkolommen"
   ]
  },
  {
   "cell_type": "markdown",
   "metadata": {},
   "source": [
    "Zoals je misschien al hebt gezien in DB Browser, zijn datums als TEXT opgeslagen, en niet als DATE, DATETIME o.i.d. Hier moeten we dus nog even \"typische datumkolommen\" van maken. Dat doen we met de volgende code:"
   ]
  },
  {
   "cell_type": "code",
   "execution_count": null,
   "metadata": {},
   "outputs": [],
   "source": [
    "sales_staff['DATE_HIRED'] = pd.to_datetime(sales_staff['DATE_HIRED'])\n",
    "sales_staff.dtypes"
   ]
  },
  {
   "cell_type": "markdown",
   "metadata": {},
   "source": [
    "Als we hier het jaar uit willen halen, schrijven we:"
   ]
  },
  {
   "cell_type": "code",
   "execution_count": 21,
   "metadata": {},
   "outputs": [
    {
     "ename": "TypeError",
     "evalue": "string indices must be integers, not 'str'",
     "output_type": "error",
     "traceback": [
      "\u001b[1;31m---------------------------------------------------------------------------\u001b[0m",
      "\u001b[1;31mTypeError\u001b[0m                                 Traceback (most recent call last)",
      "Cell \u001b[1;32mIn[21], line 1\u001b[0m\n\u001b[1;32m----> 1\u001b[0m pd\u001b[38;5;241m.\u001b[39mDatetimeIndex(\u001b[43msales_staff\u001b[49m\u001b[43m[\u001b[49m\u001b[38;5;124;43m'\u001b[39;49m\u001b[38;5;124;43mDATE_HIRED\u001b[39;49m\u001b[38;5;124;43m'\u001b[39;49m\u001b[43m]\u001b[49m)\u001b[38;5;241m.\u001b[39mquarter\n",
      "\u001b[1;31mTypeError\u001b[0m: string indices must be integers, not 'str'"
     ]
    }
   ],
   "source": [
    "pd.DatetimeIndex(sales_staff['DATE_HIRED']).quarter"
   ]
  },
  {
   "cell_type": "markdown",
   "metadata": {},
   "source": [
    "Deze zelfde syntax is te gebruiken voor het extraheren van kwartalen, maanden, weken en dagen. Probeer het maar eens!"
   ]
  },
  {
   "cell_type": "markdown",
   "metadata": {},
   "source": [
    "## DataFrames uitsplitsen en opbouwen met Series"
   ]
  },
  {
   "cell_type": "markdown",
   "metadata": {},
   "source": [
    "De volgende 5 kolommen hebben betrekking op de contactdetails van elke medewerker in dit DataFrame:\n",
    "- SALES_STAFF_CODE\n",
    "- WORK_PHONE\n",
    "- EXTENSION\n",
    "- FAX\n",
    "- EMAIL\n",
    "\n",
    "Maak van elk van deze 5 kolommen een serie."
   ]
  },
  {
   "cell_type": "code",
   "execution_count": 76,
   "metadata": {},
   "outputs": [
    {
     "name": "stdout",
     "output_type": "stream",
     "text": [
      "0        4\n",
      "1        5\n",
      "2        6\n",
      "3        7\n",
      "4       12\n",
      "      ... \n",
      "97     120\n",
      "98     121\n",
      "99     122\n",
      "100    123\n",
      "101    124\n",
      "Name: 0, Length: 102, dtype: int64\n",
      "0          Denis\n",
      "1      Élizabeth\n",
      "2          Émile\n",
      "3        Étienne\n",
      "4        Elsbeth\n",
      "         ...    \n",
      "97         Giele\n",
      "98      François\n",
      "99        Yvette\n",
      "100        Willi\n",
      "101       Sabine\n",
      "Name: 1, Length: 102, dtype: object\n",
      "0           Pagé\n",
      "1         Michel\n",
      "2       Clermont\n",
      "3         Jauvin\n",
      "4      Wiesinger\n",
      "         ...    \n",
      "97      Laermans\n",
      "98       De Crée\n",
      "99       Lattrez\n",
      "100    Seefelder\n",
      "101       Grüner\n",
      "Name: 2, Length: 102, dtype: object\n",
      "0                    Branch Manager\n",
      "1      Level 3 Sales Representative\n",
      "2      Level 1 Sales Representative\n",
      "3      Level 2 Sales Representative\n",
      "4      Level 2 Sales Representative\n",
      "                   ...             \n",
      "97     Level 1 Sales Representative\n",
      "98     Level 1 Sales Representative\n",
      "99     Level 3 Sales Representative\n",
      "100    Level 2 Sales Representative\n",
      "101    Level 3 Sales Representative\n",
      "Name: 3, Length: 102, dtype: object\n",
      "0      +33 1 68 94 52 20\n",
      "1      +33 1 68 94 52 20\n",
      "2      +33 1 68 94 52 20\n",
      "3      +33 1 68 94 52 20\n",
      "4      +(49) 40 663 1990\n",
      "             ...        \n",
      "97       +32 16 20.73.21\n",
      "98       +32 16 20.73.21\n",
      "99       +32 16 20.73.21\n",
      "100    +(43) 13 79 56 32\n",
      "101    +(43) 13 79 56 32\n",
      "Name: 4, Length: 102, dtype: object\n"
     ]
    }
   ],
   "source": [
    "salesSerie = pd.Series(salesStaffDf.loc[:, 0])\n",
    "workSerie = pd.Series(salesStaffDf.loc[:, 1])\n",
    "extensionSerie = pd.Series(salesStaffDf.loc[:, 2])\n",
    "faxSerie = pd.Series(salesStaffDf.loc[:, 3])\n",
    "emailSerie = pd.Series(salesStaffDf.loc[:, 4])\n",
    "\n",
    "print(salesSerie)\n",
    "print(workSerie)\n",
    "print(extensionSerie)\n",
    "print(faxSerie)\n",
    "print(emailSerie)\n"
   ]
  },
  {
   "cell_type": "markdown",
   "metadata": {},
   "source": [
    "Zet allevijf gecreëerde series als kolommen naast elkaar in een DataFrame (*contact_details*). Gebruik pd.concat(...)<br>\n",
    "Hulpvraag: welke waarde geef je aan de axis-parameter?"
   ]
  },
  {
   "cell_type": "code",
   "execution_count": 88,
   "metadata": {},
   "outputs": [
    {
     "name": "stdout",
     "output_type": "stream",
     "text": [
      "       0          1          2                             3  \\\n",
      "0      4      Denis       Pagé                Branch Manager   \n",
      "1      5  Élizabeth     Michel  Level 3 Sales Representative   \n",
      "2      6      Émile   Clermont  Level 1 Sales Representative   \n",
      "3      7    Étienne     Jauvin  Level 2 Sales Representative   \n",
      "4     12    Elsbeth  Wiesinger  Level 2 Sales Representative   \n",
      "..   ...        ...        ...                           ...   \n",
      "97   120      Giele   Laermans  Level 1 Sales Representative   \n",
      "98   121   François    De Crée  Level 1 Sales Representative   \n",
      "99   122     Yvette    Lattrez  Level 3 Sales Representative   \n",
      "100  123      Willi  Seefelder  Level 2 Sales Representative   \n",
      "101  124     Sabine     Grüner  Level 3 Sales Representative   \n",
      "\n",
      "                     4  \n",
      "0    +33 1 68 94 52 20  \n",
      "1    +33 1 68 94 52 20  \n",
      "2    +33 1 68 94 52 20  \n",
      "3    +33 1 68 94 52 20  \n",
      "4    +(49) 40 663 1990  \n",
      "..                 ...  \n",
      "97     +32 16 20.73.21  \n",
      "98     +32 16 20.73.21  \n",
      "99     +32 16 20.73.21  \n",
      "100  +(43) 13 79 56 32  \n",
      "101  +(43) 13 79 56 32  \n",
      "\n",
      "[102 rows x 5 columns]\n"
     ]
    }
   ],
   "source": [
    "\n",
    "\n",
    "contact_details = pd.concat([salesSerie,workSerie, extensionSerie,faxSerie,emailSerie], axis = 1)\n",
    "\n",
    "print(contact_details)"
   ]
  },
  {
   "cell_type": "markdown",
   "metadata": {},
   "source": [
    "## Series en DataFrames maken vanuit lists en dictionaries"
   ]
  },
  {
   "cell_type": "markdown",
   "metadata": {},
   "source": [
    "Met .head(*getal*) kan je de bovenste *getal* rijen van een tabel selecteren.<br>\n",
    "Selecteer op deze manier de bovenste 5 rijen van *contact_details*.<br>\n",
    "Sla dit resultaat op in een nieuw DataFrame."
   ]
  },
  {
   "cell_type": "code",
   "execution_count": 90,
   "metadata": {},
   "outputs": [
    {
     "data": {
      "text/html": [
       "<div>\n",
       "<style scoped>\n",
       "    .dataframe tbody tr th:only-of-type {\n",
       "        vertical-align: middle;\n",
       "    }\n",
       "\n",
       "    .dataframe tbody tr th {\n",
       "        vertical-align: top;\n",
       "    }\n",
       "\n",
       "    .dataframe thead th {\n",
       "        text-align: right;\n",
       "    }\n",
       "</style>\n",
       "<table border=\"1\" class=\"dataframe\">\n",
       "  <thead>\n",
       "    <tr style=\"text-align: right;\">\n",
       "      <th></th>\n",
       "      <th>0</th>\n",
       "      <th>1</th>\n",
       "      <th>2</th>\n",
       "      <th>3</th>\n",
       "      <th>4</th>\n",
       "    </tr>\n",
       "  </thead>\n",
       "  <tbody>\n",
       "    <tr>\n",
       "      <th>0</th>\n",
       "      <td>4</td>\n",
       "      <td>Denis</td>\n",
       "      <td>Pagé</td>\n",
       "      <td>Branch Manager</td>\n",
       "      <td>+33 1 68 94 52 20</td>\n",
       "    </tr>\n",
       "    <tr>\n",
       "      <th>1</th>\n",
       "      <td>5</td>\n",
       "      <td>Élizabeth</td>\n",
       "      <td>Michel</td>\n",
       "      <td>Level 3 Sales Representative</td>\n",
       "      <td>+33 1 68 94 52 20</td>\n",
       "    </tr>\n",
       "    <tr>\n",
       "      <th>2</th>\n",
       "      <td>6</td>\n",
       "      <td>Émile</td>\n",
       "      <td>Clermont</td>\n",
       "      <td>Level 1 Sales Representative</td>\n",
       "      <td>+33 1 68 94 52 20</td>\n",
       "    </tr>\n",
       "    <tr>\n",
       "      <th>3</th>\n",
       "      <td>7</td>\n",
       "      <td>Étienne</td>\n",
       "      <td>Jauvin</td>\n",
       "      <td>Level 2 Sales Representative</td>\n",
       "      <td>+33 1 68 94 52 20</td>\n",
       "    </tr>\n",
       "    <tr>\n",
       "      <th>4</th>\n",
       "      <td>12</td>\n",
       "      <td>Elsbeth</td>\n",
       "      <td>Wiesinger</td>\n",
       "      <td>Level 2 Sales Representative</td>\n",
       "      <td>+(49) 40 663 1990</td>\n",
       "    </tr>\n",
       "  </tbody>\n",
       "</table>\n",
       "</div>"
      ],
      "text/plain": [
       "    0          1          2                             3                  4\n",
       "0   4      Denis       Pagé                Branch Manager  +33 1 68 94 52 20\n",
       "1   5  Élizabeth     Michel  Level 3 Sales Representative  +33 1 68 94 52 20\n",
       "2   6      Émile   Clermont  Level 1 Sales Representative  +33 1 68 94 52 20\n",
       "3   7    Étienne     Jauvin  Level 2 Sales Representative  +33 1 68 94 52 20\n",
       "4  12    Elsbeth  Wiesinger  Level 2 Sales Representative  +(49) 40 663 1990"
      ]
     },
     "execution_count": 90,
     "metadata": {},
     "output_type": "execute_result"
    }
   ],
   "source": [
    "\n",
    "newData = {0: [\"testcode\"], 1: [\"testphone\"], 2: [\"testextension\"], 3: [\"testfax\"], 4: [\"testmail\"]}\n",
    "newData = pd.DataFrame(newData)\n",
    "\n",
    "test = pd.concat([contact_details, newData], ignore_index=True)\n",
    "\n",
    "\n",
    "test.head(5)"
   ]
  },
  {
   "cell_type": "markdown",
   "metadata": {},
   "source": [
    "Aan deze 10 rijen met contactdetails willen we 3 kolommen toevoegen: 'FIRST_LANGUAGE', 'SECOND_LANGUAGE' & 'THIRD_LANGUAGE'.<br>\n",
    "Iedereens 'First Language' is Engels, afgekort 'EN'. Maak een lijst waarin 5x 'EN' staat.<br>\n",
    "Converteer deze lijst vervolgens naar een serie en voeg deze horizontaal samen met het resultaat van de vorige opdracht.<br>\n",
    "Vergeet niet een passende naam te geven aan de nieuw ontstane kolom."
   ]
  },
  {
   "cell_type": "code",
   "execution_count": null,
   "metadata": {},
   "outputs": [
    {
     "data": {
      "text/html": [
       "<div>\n",
       "<style scoped>\n",
       "    .dataframe tbody tr th:only-of-type {\n",
       "        vertical-align: middle;\n",
       "    }\n",
       "\n",
       "    .dataframe tbody tr th {\n",
       "        vertical-align: top;\n",
       "    }\n",
       "\n",
       "    .dataframe thead th {\n",
       "        text-align: right;\n",
       "    }\n",
       "</style>\n",
       "<table border=\"1\" class=\"dataframe\">\n",
       "  <thead>\n",
       "    <tr style=\"text-align: right;\">\n",
       "      <th></th>\n",
       "      <th>0</th>\n",
       "      <th>1</th>\n",
       "      <th>2</th>\n",
       "      <th>3</th>\n",
       "      <th>4</th>\n",
       "      <th>FIRST_LANGUAGE</th>\n",
       "    </tr>\n",
       "  </thead>\n",
       "  <tbody>\n",
       "    <tr>\n",
       "      <th>0</th>\n",
       "      <td>4</td>\n",
       "      <td>Denis</td>\n",
       "      <td>Pagé</td>\n",
       "      <td>Branch Manager</td>\n",
       "      <td>+33 1 68 94 52 20</td>\n",
       "      <td>EN</td>\n",
       "    </tr>\n",
       "    <tr>\n",
       "      <th>1</th>\n",
       "      <td>5</td>\n",
       "      <td>Élizabeth</td>\n",
       "      <td>Michel</td>\n",
       "      <td>Level 3 Sales Representative</td>\n",
       "      <td>+33 1 68 94 52 20</td>\n",
       "      <td>NaN</td>\n",
       "    </tr>\n",
       "    <tr>\n",
       "      <th>2</th>\n",
       "      <td>6</td>\n",
       "      <td>Émile</td>\n",
       "      <td>Clermont</td>\n",
       "      <td>Level 1 Sales Representative</td>\n",
       "      <td>+33 1 68 94 52 20</td>\n",
       "      <td>NaN</td>\n",
       "    </tr>\n",
       "    <tr>\n",
       "      <th>3</th>\n",
       "      <td>7</td>\n",
       "      <td>Étienne</td>\n",
       "      <td>Jauvin</td>\n",
       "      <td>Level 2 Sales Representative</td>\n",
       "      <td>+33 1 68 94 52 20</td>\n",
       "      <td>NaN</td>\n",
       "    </tr>\n",
       "    <tr>\n",
       "      <th>4</th>\n",
       "      <td>12</td>\n",
       "      <td>Elsbeth</td>\n",
       "      <td>Wiesinger</td>\n",
       "      <td>Level 2 Sales Representative</td>\n",
       "      <td>+(49) 40 663 1990</td>\n",
       "      <td>NaN</td>\n",
       "    </tr>\n",
       "  </tbody>\n",
       "</table>\n",
       "</div>"
      ],
      "text/plain": [
       "    0          1          2                             3                  4  \\\n",
       "0   4      Denis       Pagé                Branch Manager  +33 1 68 94 52 20   \n",
       "1   5  Élizabeth     Michel  Level 3 Sales Representative  +33 1 68 94 52 20   \n",
       "2   6      Émile   Clermont  Level 1 Sales Representative  +33 1 68 94 52 20   \n",
       "3   7    Étienne     Jauvin  Level 2 Sales Representative  +33 1 68 94 52 20   \n",
       "4  12    Elsbeth  Wiesinger  Level 2 Sales Representative  +(49) 40 663 1990   \n",
       "\n",
       "  FIRST_LANGUAGE  \n",
       "0             EN  \n",
       "1            NaN  \n",
       "2            NaN  \n",
       "3            NaN  \n",
       "4            NaN  "
      ]
     },
     "execution_count": 111,
     "metadata": {},
     "output_type": "execute_result"
    }
   ],
   "source": [
    "data = {\"firstLanguage\": ['EN', 'EN','EN', 'EN','EN']}\n",
    "\n",
    "firstLanSerie = pd.Series([\"EN\"], name = \"FIRST_LANGUAGE\", )\n",
    "\n",
    "test.insert(5,\"FIRST_LANGUAGE\", firstLanSerie )\n",
    "\n",
    "\n",
    "\n",
    "test.head(5)\n",
    "# df.head(-1)"
   ]
  },
  {
   "cell_type": "markdown",
   "metadata": {},
   "source": [
    "Maak nu de tweede kolom ('SECOND_LANGUAGE'). Maak daarvoor een dictionary, met daarin...\n",
    "- Als keys: alle indexen uit het resultaat van het vorige codeblok.\n",
    "- Als values: bij de eerste 3 elementen 'FR' (Frankrijk), bij de laatste 2 'DE' (Duitsland).\n",
    "\n",
    "Maak vervolgens ook hier weer een serie van en voeg ook deze weer horizontaal samen met het rsultaat van de vorige opdracht.<br>\n",
    "Vergeet niet een passende naam te geven aan de nieuw ontstane kolom."
   ]
  },
  {
   "cell_type": "code",
   "execution_count": null,
   "metadata": {},
   "outputs": [
    {
     "data": {
      "text/html": [
       "<div>\n",
       "<style scoped>\n",
       "    .dataframe tbody tr th:only-of-type {\n",
       "        vertical-align: middle;\n",
       "    }\n",
       "\n",
       "    .dataframe tbody tr th {\n",
       "        vertical-align: top;\n",
       "    }\n",
       "\n",
       "    .dataframe thead th {\n",
       "        text-align: right;\n",
       "    }\n",
       "</style>\n",
       "<table border=\"1\" class=\"dataframe\">\n",
       "  <thead>\n",
       "    <tr style=\"text-align: right;\">\n",
       "      <th></th>\n",
       "      <th>0</th>\n",
       "      <th>1</th>\n",
       "      <th>2</th>\n",
       "      <th>3</th>\n",
       "      <th>4</th>\n",
       "      <th>SECOND_LANGUAGE</th>\n",
       "      <th>FIRST_LANGUAGE</th>\n",
       "    </tr>\n",
       "  </thead>\n",
       "  <tbody>\n",
       "    <tr>\n",
       "      <th>0</th>\n",
       "      <td>4</td>\n",
       "      <td>Denis</td>\n",
       "      <td>Pagé</td>\n",
       "      <td>Branch Manager</td>\n",
       "      <td>+33 1 68 94 52 20</td>\n",
       "      <td>FR</td>\n",
       "      <td>EN</td>\n",
       "    </tr>\n",
       "    <tr>\n",
       "      <th>1</th>\n",
       "      <td>5</td>\n",
       "      <td>Élizabeth</td>\n",
       "      <td>Michel</td>\n",
       "      <td>Level 3 Sales Representative</td>\n",
       "      <td>+33 1 68 94 52 20</td>\n",
       "      <td>FR</td>\n",
       "      <td>NaN</td>\n",
       "    </tr>\n",
       "    <tr>\n",
       "      <th>2</th>\n",
       "      <td>6</td>\n",
       "      <td>Émile</td>\n",
       "      <td>Clermont</td>\n",
       "      <td>Level 1 Sales Representative</td>\n",
       "      <td>+33 1 68 94 52 20</td>\n",
       "      <td>FR</td>\n",
       "      <td>NaN</td>\n",
       "    </tr>\n",
       "    <tr>\n",
       "      <th>3</th>\n",
       "      <td>7</td>\n",
       "      <td>Étienne</td>\n",
       "      <td>Jauvin</td>\n",
       "      <td>Level 2 Sales Representative</td>\n",
       "      <td>+33 1 68 94 52 20</td>\n",
       "      <td>DE</td>\n",
       "      <td>NaN</td>\n",
       "    </tr>\n",
       "    <tr>\n",
       "      <th>4</th>\n",
       "      <td>12</td>\n",
       "      <td>Elsbeth</td>\n",
       "      <td>Wiesinger</td>\n",
       "      <td>Level 2 Sales Representative</td>\n",
       "      <td>+(49) 40 663 1990</td>\n",
       "      <td>DE</td>\n",
       "      <td>NaN</td>\n",
       "    </tr>\n",
       "  </tbody>\n",
       "</table>\n",
       "</div>"
      ],
      "text/plain": [
       "    0          1          2                             3                  4  \\\n",
       "0   4      Denis       Pagé                Branch Manager  +33 1 68 94 52 20   \n",
       "1   5  Élizabeth     Michel  Level 3 Sales Representative  +33 1 68 94 52 20   \n",
       "2   6      Émile   Clermont  Level 1 Sales Representative  +33 1 68 94 52 20   \n",
       "3   7    Étienne     Jauvin  Level 2 Sales Representative  +33 1 68 94 52 20   \n",
       "4  12    Elsbeth  Wiesinger  Level 2 Sales Representative  +(49) 40 663 1990   \n",
       "\n",
       "  SECOND_LANGUAGE FIRST_LANGUAGE  \n",
       "0              FR             EN  \n",
       "1              FR            NaN  \n",
       "2              FR            NaN  \n",
       "3              DE            NaN  \n",
       "4              DE            NaN  "
      ]
     },
     "execution_count": 112,
     "metadata": {},
     "output_type": "execute_result"
    }
   ],
   "source": [
    "\n",
    "\n",
    "secondlandict = {\n",
    "    0: \"FR\",\n",
    "    1: \"FR\",\n",
    "    2: \"FR\",\n",
    "    3: \"DE\",\n",
    "    4: \"DE\"\n",
    " \n",
    "}\n",
    "\n",
    "\n",
    "test.insert(5,\"SECOND_LANGUAGE\", dict )\n",
    "\n",
    "\n",
    "\n",
    "test.head(5)"
   ]
  },
  {
   "cell_type": "markdown",
   "metadata": {},
   "source": [
    "Maak ten slotte de derde kolom ('THIRD_LANGUAGE') door een dictionary te maken met daarin...\n",
    "- Als key: de naam van de nieuwe kolom. Zie je het verschil qua keys met de vorige opdracht?\n",
    "- Als waarde: een lijst met daarin 'NL', 'NL', 'JPN', 'JPN', 'KOR'.\n",
    "\n",
    "Converteer deze dictionary nu naar een DataFrame en voeg deze horizontaal samen met het resultaat van de vorige opdracht.<br>\n",
    "Waarom hoef je hierna de nieuw ontstane kolom geen passende naam meer te geven?"
   ]
  },
  {
   "cell_type": "code",
   "execution_count": null,
   "metadata": {},
   "outputs": [
    {
     "data": {
      "text/html": [
       "<div>\n",
       "<style scoped>\n",
       "    .dataframe tbody tr th:only-of-type {\n",
       "        vertical-align: middle;\n",
       "    }\n",
       "\n",
       "    .dataframe tbody tr th {\n",
       "        vertical-align: top;\n",
       "    }\n",
       "\n",
       "    .dataframe thead th {\n",
       "        text-align: right;\n",
       "    }\n",
       "</style>\n",
       "<table border=\"1\" class=\"dataframe\">\n",
       "  <thead>\n",
       "    <tr style=\"text-align: right;\">\n",
       "      <th></th>\n",
       "      <th>0</th>\n",
       "      <th>1</th>\n",
       "      <th>2</th>\n",
       "      <th>3</th>\n",
       "      <th>4</th>\n",
       "      <th>THIRD_LANGUAGE</th>\n",
       "      <th>SECOND_LANGUAGE</th>\n",
       "      <th>FIRST_LANGUAGE</th>\n",
       "    </tr>\n",
       "  </thead>\n",
       "  <tbody>\n",
       "    <tr>\n",
       "      <th>0</th>\n",
       "      <td>4</td>\n",
       "      <td>Denis</td>\n",
       "      <td>Pagé</td>\n",
       "      <td>Branch Manager</td>\n",
       "      <td>+33 1 68 94 52 20</td>\n",
       "      <td>NL</td>\n",
       "      <td>FR</td>\n",
       "      <td>EN</td>\n",
       "    </tr>\n",
       "    <tr>\n",
       "      <th>1</th>\n",
       "      <td>5</td>\n",
       "      <td>Élizabeth</td>\n",
       "      <td>Michel</td>\n",
       "      <td>Level 3 Sales Representative</td>\n",
       "      <td>+33 1 68 94 52 20</td>\n",
       "      <td>NL</td>\n",
       "      <td>FR</td>\n",
       "      <td>NaN</td>\n",
       "    </tr>\n",
       "    <tr>\n",
       "      <th>2</th>\n",
       "      <td>6</td>\n",
       "      <td>Émile</td>\n",
       "      <td>Clermont</td>\n",
       "      <td>Level 1 Sales Representative</td>\n",
       "      <td>+33 1 68 94 52 20</td>\n",
       "      <td>JPN</td>\n",
       "      <td>FR</td>\n",
       "      <td>NaN</td>\n",
       "    </tr>\n",
       "    <tr>\n",
       "      <th>3</th>\n",
       "      <td>7</td>\n",
       "      <td>Étienne</td>\n",
       "      <td>Jauvin</td>\n",
       "      <td>Level 2 Sales Representative</td>\n",
       "      <td>+33 1 68 94 52 20</td>\n",
       "      <td>JPN</td>\n",
       "      <td>DE</td>\n",
       "      <td>NaN</td>\n",
       "    </tr>\n",
       "    <tr>\n",
       "      <th>4</th>\n",
       "      <td>12</td>\n",
       "      <td>Elsbeth</td>\n",
       "      <td>Wiesinger</td>\n",
       "      <td>Level 2 Sales Representative</td>\n",
       "      <td>+(49) 40 663 1990</td>\n",
       "      <td>KOR</td>\n",
       "      <td>DE</td>\n",
       "      <td>NaN</td>\n",
       "    </tr>\n",
       "  </tbody>\n",
       "</table>\n",
       "</div>"
      ],
      "text/plain": [
       "    0          1          2                             3                  4  \\\n",
       "0   4      Denis       Pagé                Branch Manager  +33 1 68 94 52 20   \n",
       "1   5  Élizabeth     Michel  Level 3 Sales Representative  +33 1 68 94 52 20   \n",
       "2   6      Émile   Clermont  Level 1 Sales Representative  +33 1 68 94 52 20   \n",
       "3   7    Étienne     Jauvin  Level 2 Sales Representative  +33 1 68 94 52 20   \n",
       "4  12    Elsbeth  Wiesinger  Level 2 Sales Representative  +(49) 40 663 1990   \n",
       "\n",
       "  THIRD_LANGUAGE SECOND_LANGUAGE FIRST_LANGUAGE  \n",
       "0             NL              FR             EN  \n",
       "1             NL              FR            NaN  \n",
       "2            JPN              FR            NaN  \n",
       "3            JPN              DE            NaN  \n",
       "4            KOR              DE            NaN  "
      ]
     },
     "execution_count": 113,
     "metadata": {},
     "output_type": "execute_result"
    }
   ],
   "source": [
    "thridlandict = {\n",
    "    \"THIRD_LANGUAGE\": [\"NL\", \"NL\", \"JPN\", \"JPN\", \"KOR\"]\n",
    "}\n",
    "\n",
    "thirdDF = pd.DataFrame(dict)\n",
    "\n",
    "test.insert(5,\"THIRD_LANGUAGE\",thirdDF)\n",
    "\n",
    "test.head(5)"
   ]
  },
  {
   "cell_type": "markdown",
   "metadata": {},
   "source": [
    "## Data toevoegen"
   ]
  },
  {
   "cell_type": "markdown",
   "metadata": {},
   "source": [
    "### Rijen"
   ]
  },
  {
   "cell_type": "markdown",
   "metadata": {},
   "source": [
    "Gebruik de originele databasetabel *sales_staff*.<br>\n",
    "Voeg een extra rij toe met eigen invulling. Zorg ervoor dat de index netjes doorloopt.<br>\n",
    "Hulpvraag: welke waarde geef je nu aan axis?"
   ]
  },
  {
   "cell_type": "code",
   "execution_count": 117,
   "metadata": {},
   "outputs": [
    {
     "name": "stdout",
     "output_type": "stream",
     "text": [
      "         0          1          2                             3  \\\n",
      "0      4.0      Denis       Pagé                Branch Manager   \n",
      "1      5.0  Élizabeth     Michel  Level 3 Sales Representative   \n",
      "2      6.0      Émile   Clermont  Level 1 Sales Representative   \n",
      "3      7.0    Étienne     Jauvin  Level 2 Sales Representative   \n",
      "4     12.0    Elsbeth  Wiesinger  Level 2 Sales Representative   \n",
      "..     ...        ...        ...                           ...   \n",
      "98   121.0   François    De Crée  Level 1 Sales Representative   \n",
      "99   122.0     Yvette    Lattrez  Level 3 Sales Representative   \n",
      "100  123.0      Willi  Seefelder  Level 2 Sales Representative   \n",
      "101  124.0     Sabine     Grüner  Level 3 Sales Representative   \n",
      "102    NaN        NaN        NaN                           NaN   \n",
      "\n",
      "                     4       5                  6                       7  \\\n",
      "0    +33 1 68 94 52 20   325.0  +33 1 68 94 56 60       DPage@grtd123.com   \n",
      "1    +33 1 68 94 52 20   336.0  +33 1 68 94 56 60     EMichel@grtd123.com   \n",
      "2    +33 1 68 94 52 20   378.0  +33 1 68 94 56 60   EClermont@grtd123.com   \n",
      "3    +33 1 68 94 52 20   398.0  +33 1 68 94 56 60     EJauvin@grtd123.com   \n",
      "4    +(49) 40 663 1990  1818.0  +(49) 40 663 4571  EWiesinger@grtd123.com   \n",
      "..                 ...     ...                ...                     ...   \n",
      "98     +32 16 20.73.21  1642.0    +32 16 20.73.32     FDecree@grtd123.com   \n",
      "99     +32 16 20.73.21  1633.0    +32 16 20.73.32    YLattrez@grtd123.com   \n",
      "100  +(43) 13 79 56 32   325.0  +(43) 13 79 56 33  WSeefelder@grtd123.com   \n",
      "101  +(43) 13 79 56 32   348.0  +(43) 13 79 56 33     SGruner@grtd123.com   \n",
      "102                NaN     NaN                NaN                     NaN   \n",
      "\n",
      "              8     9  ...  FIRST_NAME LAST_NAME POSITION_EN     WORK_PHONE  \\\n",
      "0    1996-11-03   6.0  ...         NaN       NaN         NaN            NaN   \n",
      "1    1995-06-08   6.0  ...         NaN       NaN         NaN            NaN   \n",
      "2    1998-04-07   6.0  ...         NaN       NaN         NaN            NaN   \n",
      "3    1997-08-16   6.0  ...         NaN       NaN         NaN            NaN   \n",
      "4    1997-02-27  13.0  ...         NaN       NaN         NaN            NaN   \n",
      "..          ...   ...  ...         ...       ...         ...            ...   \n",
      "98   1999-12-01  38.0  ...         NaN       NaN         NaN            NaN   \n",
      "99   1999-12-09  38.0  ...         NaN       NaN         NaN            NaN   \n",
      "100  1998-10-28  39.0  ...         NaN       NaN         NaN            NaN   \n",
      "101  1998-02-18  39.0  ...         NaN       NaN         NaN            NaN   \n",
      "102         NaN   NaN  ...        Alex     Chang         CEO  +31 657885572   \n",
      "\n",
      "    EXTENSION     FAX            EMAIL  DATE_HIRED SALES_BRANCH_CODE  \\\n",
      "0         NaN     NaN              NaN         NaN               NaN   \n",
      "1         NaN     NaN              NaN         NaN               NaN   \n",
      "2         NaN     NaN              NaN         NaN               NaN   \n",
      "3         NaN     NaN              NaN         NaN               NaN   \n",
      "4         NaN     NaN              NaN         NaN               NaN   \n",
      "..        ...     ...              ...         ...               ...   \n",
      "98        NaN     NaN              NaN         NaN               NaN   \n",
      "99        NaN     NaN              NaN         NaN               NaN   \n",
      "100       NaN     NaN              NaN         NaN               NaN   \n",
      "101       NaN     NaN              NaN         NaN               NaN   \n",
      "102      BOSS  1234.0  THEBOSS@CEO.COM  01-01-2001              REKT   \n",
      "\n",
      "    MANAGER_CODE  \n",
      "0            NaN  \n",
      "1            NaN  \n",
      "2            NaN  \n",
      "3            NaN  \n",
      "4            NaN  \n",
      "..           ...  \n",
      "98           NaN  \n",
      "99           NaN  \n",
      "100          NaN  \n",
      "101          NaN  \n",
      "102         19.0  \n",
      "\n",
      "[103 rows x 21 columns]\n"
     ]
    }
   ],
   "source": [
    "newRow = {\n",
    "    \"SALES_STAFF_CODE\": 10,\n",
    "    \"FIRST_NAME\": \"Alex\",\n",
    "    \"LAST_NAME\": \"Chang\",\n",
    "    \"POSITION_EN\": \"CEO\",\n",
    "    \"WORK_PHONE\": \"+31 657885572\",\n",
    "    \"EXTENSION\": \"BOSS\",\n",
    "    \"FAX\": 1234,\n",
    "    \"EMAIL\": \"THEBOSS@CEO.COM\",\n",
    "    \"DATE_HIRED\": \"01-01-2001\",\n",
    "    \"SALES_BRANCH_CODE\": \"REKT\",\n",
    "    \"MANAGER_CODE\": 19\n",
    "}\n",
    "\n",
    "selectSalesStaff = \"SELECT * FROM sales_staff\"\n",
    "response = con.cursor().execute(selectSalesStaff).fetchall()\n",
    "\n",
    "salesStaffDf2 = pd.DataFrame(response)\n",
    "\n",
    "newSalesStaff = salesStaffDf2._append(newRow, ignore_index=True)\n",
    "\n",
    "print(newSalesStaff)"
   ]
  },
  {
   "cell_type": "markdown",
   "metadata": {},
   "source": [
    "### Kolommen"
   ]
  },
  {
   "cell_type": "markdown",
   "metadata": {},
   "source": [
    "Voeg een kolom *FULL_NAME* toe die de waarden van *FIRST_NAME* en *LAST_NAME* achter elkaar zet, gescheiden door een spatie."
   ]
  },
  {
   "cell_type": "code",
   "execution_count": 123,
   "metadata": {},
   "outputs": [
    {
     "name": "stdout",
     "output_type": "stream",
     "text": [
      "            0          1              2                             3  \\\n",
      "0           4      Denis           Pagé                Branch Manager   \n",
      "1           5  Élizabeth         Michel  Level 3 Sales Representative   \n",
      "2           6      Émile       Clermont  Level 1 Sales Representative   \n",
      "3           7    Étienne         Jauvin  Level 2 Sales Representative   \n",
      "4          12    Elsbeth      Wiesinger  Level 2 Sales Representative   \n",
      "..        ...        ...            ...                           ...   \n",
      "98        121   François        De Crée  Level 1 Sales Representative   \n",
      "99        122     Yvette        Lattrez  Level 3 Sales Representative   \n",
      "100       123      Willi      Seefelder  Level 2 Sales Representative   \n",
      "101       124     Sabine         Grüner  Level 3 Sales Representative   \n",
      "102  testcode  testphone  testextension                       testfax   \n",
      "\n",
      "                     4                 FULLNAME THIRD_LANGUAGE  \\\n",
      "0    +33 1 68 94 52 20               Denis Pagé             NL   \n",
      "1    +33 1 68 94 52 20         Élizabeth Michel             NL   \n",
      "2    +33 1 68 94 52 20           Émile Clermont            JPN   \n",
      "3    +33 1 68 94 52 20           Étienne Jauvin            JPN   \n",
      "4    +(49) 40 663 1990        Elsbeth Wiesinger            KOR   \n",
      "..                 ...                      ...            ...   \n",
      "98     +32 16 20.73.21         François De Crée            NaN   \n",
      "99     +32 16 20.73.21           Yvette Lattrez            NaN   \n",
      "100  +(43) 13 79 56 32          Willi Seefelder            NaN   \n",
      "101  +(43) 13 79 56 32            Sabine Grüner            NaN   \n",
      "102           testmail  testphone testextension            NaN   \n",
      "\n",
      "    SECOND_LANGUAGE FIRST_LANGUAGE  \n",
      "0                FR             EN  \n",
      "1                FR            NaN  \n",
      "2                FR            NaN  \n",
      "3                DE            NaN  \n",
      "4                DE            NaN  \n",
      "..              ...            ...  \n",
      "98              NaN            NaN  \n",
      "99              NaN            NaN  \n",
      "100             NaN            NaN  \n",
      "101             NaN            NaN  \n",
      "102             NaN            NaN  \n",
      "\n",
      "[103 rows x 9 columns]\n"
     ]
    }
   ],
   "source": [
    "\n",
    "firstnameColumn = test.loc[:,1]\n",
    "lastnameColumn = test.loc[:,2]\n",
    "\n",
    "\n",
    "# test.insert(5,\"FULLNAME\", firstnameColumn + \" \" + lastnameColumn)\n",
    "\n",
    "print(test)"
   ]
  },
  {
   "cell_type": "markdown",
   "metadata": {},
   "source": [
    "## Data wijzigen"
   ]
  },
  {
   "cell_type": "markdown",
   "metadata": {},
   "source": [
    "### Datatypen"
   ]
  },
  {
   "cell_type": "markdown",
   "metadata": {},
   "source": [
    "Door het attribuut .dtypes van een DataFrame op te vragen krijg je een serie die per kolom het datatype weergeeft. Doe dit bij de originele databasetabel *sales_staff*"
   ]
  },
  {
   "cell_type": "code",
   "execution_count": 126,
   "metadata": {},
   "outputs": [
    {
     "data": {
      "text/plain": [
       "0                  object\n",
       "1                  object\n",
       "2                  object\n",
       "3                  object\n",
       "4                  object\n",
       "FULLNAME           object\n",
       "THIRD_LANGUAGE     object\n",
       "SECOND_LANGUAGE    object\n",
       "FIRST_LANGUAGE     object\n",
       "dtype: object"
      ]
     },
     "execution_count": 126,
     "metadata": {},
     "output_type": "execute_result"
    }
   ],
   "source": [
    "df = pd.DataFrame(test)\n",
    "\n",
    "df.dtypes\n"
   ]
  },
  {
   "cell_type": "markdown",
   "metadata": {},
   "source": [
    "Hier valt op dat elke kolom het datatype 'object' heeft: Python leest dus alles als string. Wiskundige operaties zijn hierdoor niet mogelijk.<br>\n",
    "We kunnen proberen om kolommen met getallen, bijvoorbeeld de 'extension', te converteren naar een int. Zie onderstaande code."
   ]
  },
  {
   "cell_type": "code",
   "execution_count": 3,
   "metadata": {},
   "outputs": [
    {
     "ename": "NameError",
     "evalue": "name 'sales_staff' is not defined",
     "output_type": "error",
     "traceback": [
      "\u001b[1;31m---------------------------------------------------------------------------\u001b[0m",
      "\u001b[1;31mNameError\u001b[0m                                 Traceback (most recent call last)",
      "Cell \u001b[1;32mIn[3], line 1\u001b[0m\n\u001b[1;32m----> 1\u001b[0m sales_staff[\u001b[38;5;124m'\u001b[39m\u001b[38;5;124mEXTENSION\u001b[39m\u001b[38;5;124m'\u001b[39m] \u001b[38;5;241m=\u001b[39m \u001b[43msales_staff\u001b[49m[\u001b[38;5;124m'\u001b[39m\u001b[38;5;124mEXTENSION\u001b[39m\u001b[38;5;124m'\u001b[39m]\u001b[38;5;241m.\u001b[39mastype(\u001b[38;5;28mint\u001b[39m)\n\u001b[0;32m      2\u001b[0m sales_staff\u001b[38;5;241m.\u001b[39mdtypes\n",
      "\u001b[1;31mNameError\u001b[0m: name 'sales_staff' is not defined"
     ]
    }
   ],
   "source": [
    "sales_staff['EXTENSION'] = sales_staff['EXTENSION'].astype(int)\n",
    "sales_staff.dtypes"
   ]
  },
  {
   "cell_type": "markdown",
   "metadata": {},
   "source": [
    "Dit lukt echter niet, omdat er in de kolom 'EXTENSION' lege waarden zitten die niet geconverteerd kunnen worden naar een int.<br>\n",
    "Wél kan je deze naar een float converteren, zie onderstaande code:"
   ]
  },
  {
   "cell_type": "code",
   "execution_count": null,
   "metadata": {},
   "outputs": [],
   "source": [
    "sales_staff['EXTENSION'] = sales_staff['EXTENSION'].astype(float)\n",
    "sales_staff.dtypes"
   ]
  },
  {
   "cell_type": "markdown",
   "metadata": {},
   "source": [
    "Als we in de rij van 'EXTENSION' kijken zien we dat de conversie van het datatype nu is gelukt.<br>\n",
    "Dit is <b>randvoorwaardelijk</b> voor het uitvoeren van wiskundige operaties.<br>"
   ]
  },
  {
   "cell_type": "markdown",
   "metadata": {},
   "source": [
    "### Rijen"
   ]
  },
  {
   "cell_type": "markdown",
   "metadata": {},
   "source": [
    "Zorg er nu voor dat bij alle extensions 1 wordt opgeteld."
   ]
  },
  {
   "cell_type": "code",
   "execution_count": null,
   "metadata": {},
   "outputs": [],
   "source": [
    "newSalesStaff['EXTENSION'] = newSalesStaff['EXTENSION'].astype(float) + 1"
   ]
  },
  {
   "cell_type": "markdown",
   "metadata": {},
   "source": [
    "Elke 'Branch Manager' wordt nu 'General Manager'. Schrijf code zodat deze wijziging doorgevoerd wordt in het DataFrame."
   ]
  },
  {
   "cell_type": "code",
   "execution_count": 129,
   "metadata": {},
   "outputs": [
    {
     "name": "stdout",
     "output_type": "stream",
     "text": [
      "         0          1          2                             3  \\\n",
      "0      4.0      Denis       Pagé                Branch Manager   \n",
      "1      5.0  Élizabeth     Michel  Level 3 Sales Representative   \n",
      "2      6.0      Émile   Clermont  Level 1 Sales Representative   \n",
      "3      7.0    Étienne     Jauvin  Level 2 Sales Representative   \n",
      "4     12.0    Elsbeth  Wiesinger  Level 2 Sales Representative   \n",
      "..     ...        ...        ...                           ...   \n",
      "98   121.0   François    De Crée  Level 1 Sales Representative   \n",
      "99   122.0     Yvette    Lattrez  Level 3 Sales Representative   \n",
      "100  123.0      Willi  Seefelder  Level 2 Sales Representative   \n",
      "101  124.0     Sabine     Grüner  Level 3 Sales Representative   \n",
      "102    NaN        NaN        NaN                           NaN   \n",
      "\n",
      "                     4       5                  6                       7  \\\n",
      "0    +33 1 68 94 52 20   325.0  +33 1 68 94 56 60       DPage@grtd123.com   \n",
      "1    +33 1 68 94 52 20   336.0  +33 1 68 94 56 60     EMichel@grtd123.com   \n",
      "2    +33 1 68 94 52 20   378.0  +33 1 68 94 56 60   EClermont@grtd123.com   \n",
      "3    +33 1 68 94 52 20   398.0  +33 1 68 94 56 60     EJauvin@grtd123.com   \n",
      "4    +(49) 40 663 1990  1818.0  +(49) 40 663 4571  EWiesinger@grtd123.com   \n",
      "..                 ...     ...                ...                     ...   \n",
      "98     +32 16 20.73.21  1642.0    +32 16 20.73.32     FDecree@grtd123.com   \n",
      "99     +32 16 20.73.21  1633.0    +32 16 20.73.32    YLattrez@grtd123.com   \n",
      "100  +(43) 13 79 56 32   325.0  +(43) 13 79 56 33  WSeefelder@grtd123.com   \n",
      "101  +(43) 13 79 56 32   348.0  +(43) 13 79 56 33     SGruner@grtd123.com   \n",
      "102                NaN     NaN                NaN                     NaN   \n",
      "\n",
      "              8     9  ...  FIRST_NAME LAST_NAME POSITION_EN     WORK_PHONE  \\\n",
      "0    1996-11-03   6.0  ...         NaN       NaN         NaN            NaN   \n",
      "1    1995-06-08   6.0  ...         NaN       NaN         NaN            NaN   \n",
      "2    1998-04-07   6.0  ...         NaN       NaN         NaN            NaN   \n",
      "3    1997-08-16   6.0  ...         NaN       NaN         NaN            NaN   \n",
      "4    1997-02-27  13.0  ...         NaN       NaN         NaN            NaN   \n",
      "..          ...   ...  ...         ...       ...         ...            ...   \n",
      "98   1999-12-01  38.0  ...         NaN       NaN         NaN            NaN   \n",
      "99   1999-12-09  38.0  ...         NaN       NaN         NaN            NaN   \n",
      "100  1998-10-28  39.0  ...         NaN       NaN         NaN            NaN   \n",
      "101  1998-02-18  39.0  ...         NaN       NaN         NaN            NaN   \n",
      "102         NaN   NaN  ...        Alex     Chang         CEO  +31 657885572   \n",
      "\n",
      "    EXTENSION     FAX            EMAIL  DATE_HIRED SALES_BRANCH_CODE  \\\n",
      "0         NaN     NaN              NaN         NaN               NaN   \n",
      "1         NaN     NaN              NaN         NaN               NaN   \n",
      "2         NaN     NaN              NaN         NaN               NaN   \n",
      "3         NaN     NaN              NaN         NaN               NaN   \n",
      "4         NaN     NaN              NaN         NaN               NaN   \n",
      "..        ...     ...              ...         ...               ...   \n",
      "98        NaN     NaN              NaN         NaN               NaN   \n",
      "99        NaN     NaN              NaN         NaN               NaN   \n",
      "100       NaN     NaN              NaN         NaN               NaN   \n",
      "101       NaN     NaN              NaN         NaN               NaN   \n",
      "102      BOSS  1234.0  THEBOSS@CEO.COM  01-01-2001              REKT   \n",
      "\n",
      "    MANAGER_CODE  \n",
      "0            NaN  \n",
      "1            NaN  \n",
      "2            NaN  \n",
      "3            NaN  \n",
      "4            NaN  \n",
      "..           ...  \n",
      "98           NaN  \n",
      "99           NaN  \n",
      "100          NaN  \n",
      "101          NaN  \n",
      "102         19.0  \n",
      "\n",
      "[103 rows x 21 columns]\n"
     ]
    }
   ],
   "source": [
    "\n",
    "    \n",
    "newSalesStaff['POSITION_EN'] = newSalesStaff['POSITION_EN'].replace('Branch Manager', \"General Manager\")\n",
    "\n",
    "\n",
    "print(newSalesStaff)"
   ]
  },
  {
   "cell_type": "markdown",
   "metadata": {},
   "source": [
    "### Kolommen"
   ]
  },
  {
   "cell_type": "markdown",
   "metadata": {},
   "source": [
    "Verander de kolomnaam 'POSITION_EN' naar 'POSITION'."
   ]
  },
  {
   "cell_type": "code",
   "execution_count": 132,
   "metadata": {},
   "outputs": [
    {
     "data": {
      "text/html": [
       "<div>\n",
       "<style scoped>\n",
       "    .dataframe tbody tr th:only-of-type {\n",
       "        vertical-align: middle;\n",
       "    }\n",
       "\n",
       "    .dataframe tbody tr th {\n",
       "        vertical-align: top;\n",
       "    }\n",
       "\n",
       "    .dataframe thead th {\n",
       "        text-align: right;\n",
       "    }\n",
       "</style>\n",
       "<table border=\"1\" class=\"dataframe\">\n",
       "  <thead>\n",
       "    <tr style=\"text-align: right;\">\n",
       "      <th></th>\n",
       "      <th>0</th>\n",
       "      <th>1</th>\n",
       "      <th>2</th>\n",
       "      <th>POSITION</th>\n",
       "      <th>4</th>\n",
       "      <th>FULLNAME</th>\n",
       "      <th>THIRD_LANGUAGE</th>\n",
       "      <th>SECOND_LANGUAGE</th>\n",
       "      <th>FIRST_LANGUAGE</th>\n",
       "    </tr>\n",
       "  </thead>\n",
       "  <tbody>\n",
       "    <tr>\n",
       "      <th>0</th>\n",
       "      <td>4</td>\n",
       "      <td>Denis</td>\n",
       "      <td>Pagé</td>\n",
       "      <td>Branch Manager</td>\n",
       "      <td>+33 1 68 94 52 20</td>\n",
       "      <td>Denis Pagé</td>\n",
       "      <td>NL</td>\n",
       "      <td>FR</td>\n",
       "      <td>EN</td>\n",
       "    </tr>\n",
       "    <tr>\n",
       "      <th>1</th>\n",
       "      <td>5</td>\n",
       "      <td>Élizabeth</td>\n",
       "      <td>Michel</td>\n",
       "      <td>Level 3 Sales Representative</td>\n",
       "      <td>+33 1 68 94 52 20</td>\n",
       "      <td>Élizabeth Michel</td>\n",
       "      <td>NL</td>\n",
       "      <td>FR</td>\n",
       "      <td>NaN</td>\n",
       "    </tr>\n",
       "    <tr>\n",
       "      <th>2</th>\n",
       "      <td>6</td>\n",
       "      <td>Émile</td>\n",
       "      <td>Clermont</td>\n",
       "      <td>Level 1 Sales Representative</td>\n",
       "      <td>+33 1 68 94 52 20</td>\n",
       "      <td>Émile Clermont</td>\n",
       "      <td>JPN</td>\n",
       "      <td>FR</td>\n",
       "      <td>NaN</td>\n",
       "    </tr>\n",
       "    <tr>\n",
       "      <th>3</th>\n",
       "      <td>7</td>\n",
       "      <td>Étienne</td>\n",
       "      <td>Jauvin</td>\n",
       "      <td>Level 2 Sales Representative</td>\n",
       "      <td>+33 1 68 94 52 20</td>\n",
       "      <td>Étienne Jauvin</td>\n",
       "      <td>JPN</td>\n",
       "      <td>DE</td>\n",
       "      <td>NaN</td>\n",
       "    </tr>\n",
       "    <tr>\n",
       "      <th>4</th>\n",
       "      <td>12</td>\n",
       "      <td>Elsbeth</td>\n",
       "      <td>Wiesinger</td>\n",
       "      <td>Level 2 Sales Representative</td>\n",
       "      <td>+(49) 40 663 1990</td>\n",
       "      <td>Elsbeth Wiesinger</td>\n",
       "      <td>KOR</td>\n",
       "      <td>DE</td>\n",
       "      <td>NaN</td>\n",
       "    </tr>\n",
       "  </tbody>\n",
       "</table>\n",
       "</div>"
      ],
      "text/plain": [
       "    0          1          2                      POSITION                  4  \\\n",
       "0   4      Denis       Pagé                Branch Manager  +33 1 68 94 52 20   \n",
       "1   5  Élizabeth     Michel  Level 3 Sales Representative  +33 1 68 94 52 20   \n",
       "2   6      Émile   Clermont  Level 1 Sales Representative  +33 1 68 94 52 20   \n",
       "3   7    Étienne     Jauvin  Level 2 Sales Representative  +33 1 68 94 52 20   \n",
       "4  12    Elsbeth  Wiesinger  Level 2 Sales Representative  +(49) 40 663 1990   \n",
       "\n",
       "            FULLNAME THIRD_LANGUAGE SECOND_LANGUAGE FIRST_LANGUAGE  \n",
       "0         Denis Pagé             NL              FR             EN  \n",
       "1   Élizabeth Michel             NL              FR            NaN  \n",
       "2     Émile Clermont            JPN              FR            NaN  \n",
       "3     Étienne Jauvin            JPN              DE            NaN  \n",
       "4  Elsbeth Wiesinger            KOR              DE            NaN  "
      ]
     },
     "execution_count": 132,
     "metadata": {},
     "output_type": "execute_result"
    }
   ],
   "source": [
    "\n",
    "\n",
    "df.rename(columns={3: \"POSITION\"}, inplace=True )\n",
    "\n",
    "df.head(5)"
   ]
  },
  {
   "cell_type": "markdown",
   "metadata": {},
   "source": [
    "## Data verwijderen"
   ]
  },
  {
   "cell_type": "markdown",
   "metadata": {},
   "source": [
    "### Rijen"
   ]
  },
  {
   "cell_type": "markdown",
   "metadata": {},
   "source": [
    "De medewerkers op indexen 99, 100 en 101 hebben helaas ontslag genomen.<br>\n",
    "Verwijder de bijbehorende rijen uit het DataFrame. Gebruik slechts één keer de .drop()-methode."
   ]
  },
  {
   "cell_type": "code",
   "execution_count": 135,
   "metadata": {},
   "outputs": [
    {
     "name": "stdout",
     "output_type": "stream",
     "text": [
      "            0          1              2                      POSITION  \\\n",
      "0           4      Denis           Pagé                Branch Manager   \n",
      "1           5  Élizabeth         Michel  Level 3 Sales Representative   \n",
      "2           6      Émile       Clermont  Level 1 Sales Representative   \n",
      "3           7    Étienne         Jauvin  Level 2 Sales Representative   \n",
      "4          12    Elsbeth      Wiesinger  Level 2 Sales Representative   \n",
      "..        ...        ...            ...                           ...   \n",
      "95        118     Gianni      Vertemati  Level 1 Sales Representative   \n",
      "96        119      Gracy        Gellens                Branch Manager   \n",
      "97        120      Giele       Laermans  Level 1 Sales Representative   \n",
      "98        121   François        De Crée  Level 1 Sales Representative   \n",
      "102  testcode  testphone  testextension                       testfax   \n",
      "\n",
      "                     4                 FULLNAME THIRD_LANGUAGE  \\\n",
      "0    +33 1 68 94 52 20               Denis Pagé             NL   \n",
      "1    +33 1 68 94 52 20         Élizabeth Michel             NL   \n",
      "2    +33 1 68 94 52 20           Émile Clermont            JPN   \n",
      "3    +33 1 68 94 52 20           Étienne Jauvin            JPN   \n",
      "4    +(49) 40 663 1990        Elsbeth Wiesinger            KOR   \n",
      "..                 ...                      ...            ...   \n",
      "95   +(41) 17 12 13 14         Gianni Vertemati            NaN   \n",
      "96     +32 16 20.73.21            Gracy Gellens            NaN   \n",
      "97     +32 16 20.73.21           Giele Laermans            NaN   \n",
      "98     +32 16 20.73.21         François De Crée            NaN   \n",
      "102           testmail  testphone testextension            NaN   \n",
      "\n",
      "    SECOND_LANGUAGE FIRST_LANGUAGE  \n",
      "0                FR             EN  \n",
      "1                FR            NaN  \n",
      "2                FR            NaN  \n",
      "3                DE            NaN  \n",
      "4                DE            NaN  \n",
      "..              ...            ...  \n",
      "95              NaN            NaN  \n",
      "96              NaN            NaN  \n",
      "97              NaN            NaN  \n",
      "98              NaN            NaN  \n",
      "102             NaN            NaN  \n",
      "\n",
      "[100 rows x 9 columns]\n"
     ]
    }
   ],
   "source": [
    "df.drop([99,100,101] ,inplace=True )\n",
    "\n",
    "print(df)"
   ]
  },
  {
   "cell_type": "code",
   "execution_count": null,
   "metadata": {},
   "outputs": [],
   "source": []
  },
  {
   "cell_type": "markdown",
   "metadata": {},
   "source": [
    "### Kolommen"
   ]
  },
  {
   "cell_type": "markdown",
   "metadata": {},
   "source": [
    "Faxen zijn inmiddels ouderwets: niemand gebruikt zijn/haar faxnummer nog.<br>\n",
    "Verwijder de bijbehorende kolom uit het DataFrame."
   ]
  },
  {
   "cell_type": "code",
   "execution_count": 148,
   "metadata": {},
   "outputs": [
    {
     "name": "stdout",
     "output_type": "stream",
     "text": [
      "            0          1              2                      POSITION  \\\n",
      "0           4      Denis           Pagé                Branch Manager   \n",
      "1           5  Élizabeth         Michel  Level 3 Sales Representative   \n",
      "2           6      Émile       Clermont  Level 1 Sales Representative   \n",
      "3           7    Étienne         Jauvin  Level 2 Sales Representative   \n",
      "4          12    Elsbeth      Wiesinger  Level 2 Sales Representative   \n",
      "..        ...        ...            ...                           ...   \n",
      "95        118     Gianni      Vertemati  Level 1 Sales Representative   \n",
      "96        119      Gracy        Gellens                Branch Manager   \n",
      "97        120      Giele       Laermans  Level 1 Sales Representative   \n",
      "98        121   François        De Crée  Level 1 Sales Representative   \n",
      "102  testcode  testphone  testextension                       testfax   \n",
      "\n",
      "                    FULLNAME THIRD_LANGUAGE SECOND_LANGUAGE FIRST_LANGUAGE  \n",
      "0                 Denis Pagé             NL              FR             EN  \n",
      "1           Élizabeth Michel             NL              FR            NaN  \n",
      "2             Émile Clermont            JPN              FR            NaN  \n",
      "3             Étienne Jauvin            JPN              DE            NaN  \n",
      "4          Elsbeth Wiesinger            KOR              DE            NaN  \n",
      "..                       ...            ...             ...            ...  \n",
      "95          Gianni Vertemati            NaN             NaN            NaN  \n",
      "96             Gracy Gellens            NaN             NaN            NaN  \n",
      "97            Giele Laermans            NaN             NaN            NaN  \n",
      "98          François De Crée            NaN             NaN            NaN  \n",
      "102  testphone testextension            NaN             NaN            NaN  \n",
      "\n",
      "[100 rows x 8 columns]\n"
     ]
    }
   ],
   "source": [
    "\n",
    "\n",
    "df.drop(columns= [4], inplace=True, axis = 1)\n",
    "\n",
    "print(df)"
   ]
  }
 ],
 "metadata": {
  "kernelspec": {
   "display_name": ".venv",
   "language": "python",
   "name": "python3"
  },
  "language_info": {
   "codemirror_mode": {
    "name": "ipython",
    "version": 3
   },
   "file_extension": ".py",
   "mimetype": "text/x-python",
   "name": "python",
   "nbconvert_exporter": "python",
   "pygments_lexer": "ipython3",
   "version": "3.13.2"
  }
 },
 "nbformat": 4,
 "nbformat_minor": 2
}
