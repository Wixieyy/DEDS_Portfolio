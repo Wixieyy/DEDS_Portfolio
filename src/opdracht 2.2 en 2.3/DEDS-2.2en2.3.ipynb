{
 "cells": [
  {
   "cell_type": "markdown",
   "source": [
    "Imports and initial connection"
   ],
   "metadata": {
    "collapsed": false
   },
   "id": "a41ca8b26f077df8"
  },
  {
   "cell_type": "code",
   "execution_count": null,
   "id": "initial_id",
   "metadata": {
    "collapsed": true
   },
   "outputs": [],
   "source": [
    "from sqlalchemy import create_engine\n",
    "import pandas as pd\n",
    "\n",
    "engine = create_engine(\"mssql+pyodbc://LEGION\\\\SQLEXPRESS/sdm?driver=ODBC+Driver+17+for+SQL+Server&trusted_connection=yes\")\n"
   ]
  },
  {
   "cell_type": "markdown",
   "source": [
    "Create DataFrames from db"
   ],
   "metadata": {
    "collapsed": false
   },
   "id": "42d0375a7eaa1664"
  },
  {
   "cell_type": "code",
   "outputs": [],
   "source": [
    "age_group_df = pd.read_sql_query('SELECT * FROM age_group', engine)\n",
    "country_df = pd.read_sql_query('SELECT * FROM country', engine)\n",
    "course_df = pd.read_sql_query('SELECT * FROM course', engine)\n",
    "inventory_levels_df = pd.read_sql_query('SELECT * FROM inventory_levels', engine)\n",
    "order_details_df = pd.read_sql_query('SELECT * FROM order_details', engine)\n",
    "order_header_df = pd.read_sql_query('SELECT * FROM order_header', engine)\n",
    "order_method_df = pd.read_sql_query('SELECT * FROM order_method', engine)\n",
    "product_df = pd.read_sql_query('SELECT * FROM product', engine)\n",
    "product_forecast_df = pd.read_sql_query('SELECT * FROM product_forecast', engine)\n",
    "product_line_df = pd.read_sql_query('SELECT * FROM product_line', engine)\n",
    "product_type_df = pd.read_sql_query('SELECT * FROM product_type', engine)\n",
    "retailer_df = pd.read_sql_query('SELECT * FROM retailer', engine)\n",
    "retailer_headquarters_df = pd.read_sql_query('SELECT * FROM retailer_headquarters', engine)\n",
    "retailer_segment_df = pd.read_sql_query('SELECT * FROM retailer_segment', engine)\n",
    "retailer_site_df = pd.read_sql_query('SELECT * FROM retailer_site', engine)\n",
    "retailer_type_df = pd.read_sql_query('SELECT * FROM retailer_type', engine)\n",
    "return_reason_df = pd.read_sql_query('SELECT * FROM return_reason', engine)\n",
    "returned_item_df = pd.read_sql_query('SELECT * FROM returned_item', engine)\n",
    "sales_branch_df = pd.read_sql_query('SELECT * FROM sales_branch', engine)\n",
    "sales_staff_df = pd.read_sql_query('SELECT * FROM sales_staff', engine)\n",
    "sales_demographic_df = pd.read_sql_query('SELECT * FROM sales_demographic', engine)\n",
    "sales_territory_df = pd.read_sql_query('SELECT * FROM sales_territory', engine)\n",
    "satisfaction_df = pd.read_sql_query('SELECT * FROM satisfaction', engine)\n",
    "satisfaction_type_df = pd.read_sql_query('SELECT * FROM satisfaction_type', engine)\n",
    "training_df = pd.read_sql_query('SELECT * FROM training', engine)\n"
   ],
   "metadata": {
    "collapsed": false
   },
   "id": "85286cfbe567fdf2",
   "execution_count": null
  },
  {
   "cell_type": "markdown",
   "source": [
    "Loc for one-liner inserts into DataFrame & insert into SQL DB"
   ],
   "metadata": {
    "collapsed": false
   },
   "id": "43a970c668008232"
  },
  {
   "cell_type": "code",
   "outputs": [],
   "source": [
    "course_df.loc[len(course_df)] = [2, 'course test info2']\n",
    "training_df.loc[len(training_df)] = [2026, 7, 2]\n",
    "\n",
    "course_df.to_sql('course', con=engine, if_exists='append', index=False)\n",
    "training_df.to_sql('training', con=engine, if_exists='append', index=False)"
   ],
   "metadata": {
    "collapsed": false
   },
   "id": "d6830a4c530381c4",
   "execution_count": null
  },
  {
   "cell_type": "markdown",
   "source": [
    "Insert where there are foreign keys test\n",
    "Start from outside (tables with no foreign keys required) and go within\n",
    "\n",
    "insert into sales_demographic required FK from age_group and retailer_headquarters, insert into retailer_headquarters requires FK from retailer_segment"
   ],
   "metadata": {
    "collapsed": false
   },
   "id": "b949476050bd6238"
  },
  {
   "cell_type": "markdown",
   "source": [
    "retailer_segment DF and DB insert"
   ],
   "metadata": {
    "collapsed": false
   },
   "id": "1d959a14a36c5cdd"
  },
  {
   "cell_type": "code",
   "outputs": [],
   "source": [
    "retailer_segment_df.loc[len(retailer_segment_df)] = [1, 'english', 'seg name test', 'seg desc test']\n",
    "retailer_segment_df.to_sql('retailer_segment', con=engine, if_exists='append', index=False)"
   ],
   "metadata": {
    "collapsed": false
   },
   "id": "578c0049acbd135a",
   "execution_count": null
  },
  {
   "cell_type": "markdown",
   "source": [
    "territory_code DF and DB insert"
   ],
   "metadata": {
    "collapsed": false
   },
   "id": "1e46f423fcf7e47b"
  },
  {
   "cell_type": "code",
   "outputs": [],
   "source": [
    "sales_territory_df.loc[len(sales_territory_df)] = [3, 'kingdom of the netherlands']\n",
    "sales_territory_df.to_sql('sales_territory', con=engine, if_exists='append', index=False)"
   ],
   "metadata": {
    "collapsed": false
   },
   "id": "ce33e3b2403449c6",
   "execution_count": null
  },
  {
   "cell_type": "markdown",
   "source": [
    "country DF and DB insert"
   ],
   "metadata": {
    "collapsed": false
   },
   "id": "1386071004037975"
  },
  {
   "cell_type": "code",
   "outputs": [],
   "source": [
    "country_df.loc[len(country_df)] = [1, 'netherlands', 'dutch', 'euro', 'flag of the netherlands', 3]\n",
    "country_df.to_sql('country', con=engine, if_exists='append', index=False)"
   ],
   "metadata": {
    "collapsed": false
   },
   "id": "678f10dfb1db4030",
   "execution_count": null
  },
  {
   "cell_type": "markdown",
   "source": [
    "retailer_headquarters DF and DB insert"
   ],
   "metadata": {
    "collapsed": false
   },
   "id": "a03629f488afc57a"
  },
  {
   "cell_type": "code",
   "outputs": [],
   "source": [
    "retailer_headquarters_df.loc[len(retailer_headquarters_df)] = [8, 'google', 'address1test', 'address2test', 'amsterdam', 'north holland', 1, '1234567890', '1234567890', 1]\n",
    "retailer_headquarters_df.to_sql('retailer_headquarters', con=engine, if_exists='append', index=False)"
   ],
   "metadata": {
    "collapsed": false
   },
   "id": "417d3f3849825121",
   "execution_count": null
  },
  {
   "cell_type": "markdown",
   "source": [
    "age_group DF and DB insert"
   ],
   "metadata": {
    "collapsed": false
   },
   "id": "aaeb08dff27749ff"
  },
  {
   "cell_type": "code",
   "outputs": [],
   "source": [
    "age_group_df.loc[len(age_group_df)] = [4, 65, 20]\n",
    "age_group_df.to_sql('age_group', con=engine, if_exists='append', index=False)"
   ],
   "metadata": {
    "collapsed": false
   },
   "id": "537ccf838579ca68",
   "execution_count": null
  },
  {
   "cell_type": "markdown",
   "source": [
    "sales_demographic DF and DB insert"
   ],
   "metadata": {
    "collapsed": false
   },
   "id": "58198ccad50dea7f"
  },
  {
   "cell_type": "code",
   "outputs": [],
   "source": [
    "sales_demographic_df.loc[len(sales_demographic_df)] = [12, 8, 4, 20]\n",
    "sales_demographic_df.to_sql('sales_demographic', con=engine, if_exists='append', index=False)"
   ],
   "metadata": {
    "collapsed": false
   },
   "id": "51946525c1399b12",
   "execution_count": null
  },
  {
   "cell_type": "markdown",
   "source": [],
   "metadata": {
    "collapsed": false
   },
   "id": "7a8010c94e4538da"
  }
 ],
 "metadata": {
  "kernelspec": {
   "display_name": "Python 3",
   "language": "python",
   "name": "python3"
  },
  "language_info": {
   "codemirror_mode": {
    "name": "ipython",
    "version": 2
   },
   "file_extension": ".py",
   "mimetype": "text/x-python",
   "name": "python",
   "nbconvert_exporter": "python",
   "pygments_lexer": "ipython2",
   "version": "2.7.6"
  }
 },
 "nbformat": 4,
 "nbformat_minor": 5
}
