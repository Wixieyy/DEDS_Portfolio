{
 "cells": [
  {
   "cell_type": "markdown",
   "source": [
    "Imports and initial connection"
   ],
   "metadata": {
    "collapsed": false
   },
   "id": "a41ca8b26f077df8"
  },
  {
   "cell_type": "code",
   "execution_count": null,
   "id": "initial_id",
   "metadata": {
    "collapsed": true
   },
   "outputs": [],
   "source": [
    "from sqlalchemy import create_engine\n",
    "import pandas as pd\n",
    "\n",
    "engine = create_engine(\"mssql+pyodbc://LEGION\\\\SQLEXPRESS/sdm?driver=ODBC+Driver+17+for+SQL+Server&trusted_connection=yes\")\n"
   ]
  },
  {
   "cell_type": "markdown",
   "source": [
    "Read from db"
   ],
   "metadata": {
    "collapsed": false
   },
   "id": "42d0375a7eaa1664"
  },
  {
   "cell_type": "code",
   "outputs": [
    {
     "data": {
      "text/plain": "Empty DataFrame\nColumns: [COUNTRY_CODE, COUNTRY_EN, LANGUAGE, CURRENCY_NAME, FLAG_IMAGE, SALES_TERRITORY_CODE]\nIndex: []",
      "text/html": "<div>\n<style scoped>\n    .dataframe tbody tr th:only-of-type {\n        vertical-align: middle;\n    }\n\n    .dataframe tbody tr th {\n        vertical-align: top;\n    }\n\n    .dataframe thead th {\n        text-align: right;\n    }\n</style>\n<table border=\"1\" class=\"dataframe\">\n  <thead>\n    <tr style=\"text-align: right;\">\n      <th></th>\n      <th>COUNTRY_CODE</th>\n      <th>COUNTRY_EN</th>\n      <th>LANGUAGE</th>\n      <th>CURRENCY_NAME</th>\n      <th>FLAG_IMAGE</th>\n      <th>SALES_TERRITORY_CODE</th>\n    </tr>\n  </thead>\n  <tbody>\n  </tbody>\n</table>\n</div>"
     },
     "execution_count": 31,
     "metadata": {},
     "output_type": "execute_result"
    }
   ],
   "source": [
    "df = pd.read_sql_query('SELECT * FROM country', engine)\n",
    "\n",
    "df"
   ],
   "metadata": {
    "collapsed": false,
    "ExecuteTime": {
     "end_time": "2025-02-19T19:36:16.248750Z",
     "start_time": "2025-02-19T19:36:16.241490Z"
    }
   },
   "id": "85286cfbe567fdf2",
   "execution_count": 31
  }
 ],
 "metadata": {
  "kernelspec": {
   "display_name": "Python 3",
   "language": "python",
   "name": "python3"
  },
  "language_info": {
   "codemirror_mode": {
    "name": "ipython",
    "version": 2
   },
   "file_extension": ".py",
   "mimetype": "text/x-python",
   "name": "python",
   "nbconvert_exporter": "python",
   "pygments_lexer": "ipython2",
   "version": "2.7.6"
  }
 },
 "nbformat": 4,
 "nbformat_minor": 5
}
